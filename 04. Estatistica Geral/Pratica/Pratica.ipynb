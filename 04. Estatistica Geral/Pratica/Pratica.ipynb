{
 "cells": [
  {
   "cell_type": "markdown",
   "metadata": {},
   "source": [
    "### Praticando"
   ]
  },
  {
   "cell_type": "code",
   "execution_count": 11,
   "metadata": {
    "scrolled": true
   },
   "outputs": [
    {
     "data": {
      "text/html": [
       "<ol class=list-inline>\n",
       "\t<li>1.5634372038933</li>\n",
       "\t<li>-0.497376038967432</li>\n",
       "\t<li>1.49701203377944</li>\n",
       "\t<li>-0.858275897250215</li>\n",
       "\t<li>-0.28532633914965</li>\n",
       "</ol>\n"
      ],
      "text/latex": [
       "\\begin{enumerate*}\n",
       "\\item 1.5634372038933\n",
       "\\item -0.497376038967432\n",
       "\\item 1.49701203377944\n",
       "\\item -0.858275897250215\n",
       "\\item -0.28532633914965\n",
       "\\end{enumerate*}\n"
      ],
      "text/markdown": [
       "1. 1.5634372038933\n",
       "2. -0.497376038967432\n",
       "3. 1.49701203377944\n",
       "4. -0.858275897250215\n",
       "5. -0.28532633914965\n",
       "\n",
       "\n"
      ],
      "text/plain": [
       "[1]  1.5634372 -0.4973760  1.4970120 -0.8582759 -0.2853263"
      ]
     },
     "metadata": {},
     "output_type": "display_data"
    },
    {
     "name": "stdout",
     "output_type": "stream",
     "text": [
      "[1]  1.56 -0.50  1.50 -0.86 -0.29\n",
      "[1]  0.47  2.09 -1.18 -0.63  0.90\n"
     ]
    },
    {
     "data": {
      "text/html": [
       "<pre class=language-r><code>function (n, mean = 0, sd = 1) \n",
       "NULL</code></pre>"
      ],
      "text/latex": [
       "\\begin{minted}{r}\n",
       "function (n, mean = 0, sd = 1) \n",
       "NULL\n",
       "\\end{minted}"
      ],
      "text/markdown": [
       "```r\n",
       "function (n, mean = 0, sd = 1) \n",
       "NULL\n",
       "```"
      ],
      "text/plain": [
       "function (n, mean = 0, sd = 1) \n",
       "NULL"
      ]
     },
     "metadata": {},
     "output_type": "display_data"
    },
    {
     "data": {
      "image/png": "[encoded data removed]",
      "text/plain": [
       "plot without title"
      ]
     },
     "metadata": {},
     "output_type": "display_data"
    }
   ],
   "source": [
    "x <- rnorm(5)\n",
    "x\n",
    "print(x, digit = 2)\n",
    "\n",
    "y <- rnorm(x)\n",
    "print(y, digit = 2)\n",
    "\n",
    "args(rnorm)\n",
    "\n",
    "x <- sort(x)\n",
    "y <- y[order(x)]\n",
    "\n",
    "plot(x, y)"
   ]
  },
  {
   "cell_type": "code",
   "execution_count": 16,
   "metadata": {},
   "outputs": [
    {
     "data": {
      "text/html": [
       "<ol class=list-inline>\n",
       "\t<li>-0.497376038967432</li>\n",
       "\t<li>-0.28532633914965</li>\n",
       "\t<li>1.49701203377944</li>\n",
       "</ol>\n"
      ],
      "text/latex": [
       "\\begin{enumerate*}\n",
       "\\item -0.497376038967432\n",
       "\\item -0.28532633914965\n",
       "\\item 1.49701203377944\n",
       "\\end{enumerate*}\n"
      ],
      "text/markdown": [
       "1. -0.497376038967432\n",
       "2. -0.28532633914965\n",
       "3. 1.49701203377944\n",
       "\n",
       "\n"
      ],
      "text/plain": [
       "[1] -0.4973760 -0.2853263  1.4970120"
      ]
     },
     "metadata": {},
     "output_type": "display_data"
    },
    {
     "data": {
      "text/html": [
       "<ol class=list-inline>\n",
       "\t<li>-0.9</li>\n",
       "\t<li>-0.5</li>\n",
       "\t<li>-0.3</li>\n",
       "\t<li>1.5</li>\n",
       "\t<li>1.6</li>\n",
       "</ol>\n"
      ],
      "text/latex": [
       "\\begin{enumerate*}\n",
       "\\item -0.9\n",
       "\\item -0.5\n",
       "\\item -0.3\n",
       "\\item 1.5\n",
       "\\item 1.6\n",
       "\\end{enumerate*}\n"
      ],
      "text/markdown": [
       "1. -0.9\n",
       "2. -0.5\n",
       "3. -0.3\n",
       "4. 1.5\n",
       "5. 1.6\n",
       "\n",
       "\n"
      ],
      "text/plain": [
       "[1] -0.9 -0.5 -0.3  1.5  1.6"
      ]
     },
     "metadata": {},
     "output_type": "display_data"
    },
    {
     "data": {
      "text/html": [
       "<ol class=list-inline>\n",
       "\t<li>0</li>\n",
       "\t<li>0</li>\n",
       "\t<li>0</li>\n",
       "\t<li>2</li>\n",
       "\t<li>2</li>\n",
       "</ol>\n"
      ],
      "text/latex": [
       "\\begin{enumerate*}\n",
       "\\item 0\n",
       "\\item 0\n",
       "\\item 0\n",
       "\\item 2\n",
       "\\item 2\n",
       "\\end{enumerate*}\n"
      ],
      "text/markdown": [
       "1. 0\n",
       "2. 0\n",
       "3. 0\n",
       "4. 2\n",
       "5. 2\n",
       "\n",
       "\n"
      ],
      "text/plain": [
       "[1] 0 0 0 2 2"
      ]
     },
     "metadata": {},
     "output_type": "display_data"
    },
    {
     "data": {
      "text/html": [
       "<ol class=list-inline>\n",
       "\t<li>-1</li>\n",
       "\t<li>-1</li>\n",
       "\t<li>-1</li>\n",
       "\t<li>1</li>\n",
       "\t<li>1</li>\n",
       "</ol>\n"
      ],
      "text/latex": [
       "\\begin{enumerate*}\n",
       "\\item -1\n",
       "\\item -1\n",
       "\\item -1\n",
       "\\item 1\n",
       "\\item 1\n",
       "\\end{enumerate*}\n"
      ],
      "text/markdown": [
       "1. -1\n",
       "2. -1\n",
       "3. -1\n",
       "4. 1\n",
       "5. 1\n",
       "\n",
       "\n"
      ],
      "text/plain": [
       "[1] -1 -1 -1  1  1"
      ]
     },
     "metadata": {},
     "output_type": "display_data"
    }
   ],
   "source": [
    "x[2:4]\n",
    "round(x, dig = 1)\n",
    "ceiling(x)\n",
    "floor(x)"
   ]
  },
  {
   "cell_type": "code",
   "execution_count": 9,
   "metadata": {},
   "outputs": [
    {
     "data": {
      "text/html": [
       "<pre class=language-r><code>function (x, y = NULL, type = \"p\", xlim = NULL, ylim = NULL, \n",
       "<span style=white-space:pre-wrap>    log = \"\", main = NULL, sub = NULL, xlab = NULL, ylab = NULL, </span>\n",
       "<span style=white-space:pre-wrap>    ann = par(\"ann\"), axes = TRUE, frame.plot = axes, panel.first = NULL, </span>\n",
       "<span style=white-space:pre-wrap>    panel.last = NULL, asp = NA, ...) </span>\n",
       "NULL</code></pre>"
      ],
      "text/latex": [
       "\\begin{minted}{r}\n",
       "function (x, y = NULL, type = \"p\", xlim = NULL, ylim = NULL, \n",
       "    log = \"\", main = NULL, sub = NULL, xlab = NULL, ylab = NULL, \n",
       "    ann = par(\"ann\"), axes = TRUE, frame.plot = axes, panel.first = NULL, \n",
       "    panel.last = NULL, asp = NA, ...) \n",
       "NULL\n",
       "\\end{minted}"
      ],
      "text/markdown": [
       "```r\n",
       "function (x, y = NULL, type = \"p\", xlim = NULL, ylim = NULL, \n",
       "    log = \"\", main = NULL, sub = NULL, xlab = NULL, ylab = NULL, \n",
       "    ann = par(\"ann\"), axes = TRUE, frame.plot = axes, panel.first = NULL, \n",
       "    panel.last = NULL, asp = NA, ...) \n",
       "NULL\n",
       "```"
      ],
      "text/plain": [
       "function (x, y = NULL, type = \"p\", xlim = NULL, ylim = NULL, \n",
       "    log = \"\", main = NULL, sub = NULL, xlab = NULL, ylab = NULL, \n",
       "    ann = par(\"ann\"), axes = TRUE, frame.plot = axes, panel.first = NULL, \n",
       "    panel.last = NULL, asp = NA, ...) \n",
       "NULL"
      ]
     },
     "metadata": {},
     "output_type": "display_data"
    }
   ],
   "source": [
    "args(plot.default)"
   ]
  },
  {
   "cell_type": "code",
   "execution_count": null,
   "metadata": {},
   "outputs": [],
   "source": [
    "par(mfrow = c(4, 2), mar = c(2, 2, 0.3, 0.3), mgp = c(1.5, 0.6,+ 0))\n",
    "plot(x, y, type = \"l\")\n",
    " plot(x, y, type = \"p\")\n",
    "> plot(x, y, type = \"o\")\n",
    "> plot(x, y, type = \"b\")\n",
    "> plot(x, y, type = \"h\")\n",
    "> plot(x, y, type = \"S\")\n",
    "> plot(x, y, type = \"s\")\n",
    "> plot(x, y, type = \"n\")\n",
    "> par(mfrow = c(1, 1))"
   ]
  }
 ],
 "metadata": {
  "kernelspec": {
   "display_name": "R",
   "language": "R",
   "name": "ir"
  },
  "language_info": {
   "codemirror_mode": "r",
   "file_extension": ".r",
   "mimetype": "text/x-r-source",
   "name": "R",
   "pygments_lexer": "r",
   "version": "3.4.3"
  }
 },
 "nbformat": 4,
 "nbformat_minor": 2
}
