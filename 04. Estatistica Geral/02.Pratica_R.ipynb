{
 "cells": [
  {
   "cell_type": "markdown",
   "metadata": {},
   "source": [
    "### R \n",
    "\n",
    "É um software livre para análise de dados\n",
    "\n",
    "##### Vantagens\n",
    "\n",
    "- Linguagem amigável\n",
    "- Software gratuíto\n",
    "- Diversas bibliotecas estatísticas\n",
    "- Código aberto"
   ]
  },
  {
   "cell_type": "code",
   "execution_count": 2,
   "metadata": {},
   "outputs": [
    {
     "name": "stdout",
     "output_type": "stream",
     "text": [
      "package 'readxl' successfully unpacked and MD5 sums checked\n",
      "\n",
      "The downloaded binary packages are in\n",
      "\tC:\\Users\\clmo\\AppData\\Local\\Temp\\RtmpWifHy5\\downloaded_packages\n"
     ]
    },
    {
     "data": {
      "text/html": [
       "<table>\n",
       "<thead><tr><th scope=col>ID_aluno</th><th scope=col>Genero</th><th scope=col>Disciplina</th><th scope=col>Turno</th><th scope=col>Prova_1</th><th scope=col>Prova_2</th><th scope=col>Prova_3</th><th scope=col>Trabalho</th><th scope=col>Nota_Final</th><th scope=col>Conceito</th></tr></thead>\n",
       "<tbody>\n",
       "\t<tr><td> 1           </td><td>masculino    </td><td>Estatística 2</td><td>Noturno      </td><td> 8.5         </td><td> 2.5         </td><td>7.2          </td><td> 7.5         </td><td>6.425        </td><td>D            </td></tr>\n",
       "\t<tr><td> 2           </td><td>masculino    </td><td>Estatística 1</td><td>Vespertino   </td><td> 9.3         </td><td> 1.9         </td><td>2.4          </td><td> 7.2         </td><td>5.200        </td><td>E            </td></tr>\n",
       "\t<tr><td> 3           </td><td>feminino     </td><td>Estatística 1</td><td>Noturno      </td><td> 6.8         </td><td> 6.0         </td><td>1.5          </td><td> 5.6         </td><td>4.975        </td><td>E            </td></tr>\n",
       "\t<tr><td> 4           </td><td>feminino     </td><td>Estatística 1</td><td>Noturno      </td><td> 8.5         </td><td> 7.2         </td><td>5.6          </td><td> 7.6         </td><td>7.225        </td><td>C            </td></tr>\n",
       "\t<tr><td> 5           </td><td>masculino    </td><td>Estatística 1</td><td>Noturno      </td><td> 8.1         </td><td> 4.7         </td><td>7.7          </td><td> 6.6         </td><td>6.775        </td><td>D            </td></tr>\n",
       "\t<tr><td> 6           </td><td>masculino    </td><td>Estatística 1</td><td>Vespertino   </td><td> 6.7         </td><td> 4.0         </td><td>1.0          </td><td> 0.8         </td><td>3.125        </td><td>E            </td></tr>\n",
       "\t<tr><td> 7           </td><td>masculino    </td><td>Estatística 1</td><td>Noturno      </td><td> 8.0         </td><td> 4.0         </td><td>8.2          </td><td>10.0         </td><td>7.550        </td><td>C            </td></tr>\n",
       "\t<tr><td> 8           </td><td>feminino     </td><td>Estatística 1</td><td>Vespertino   </td><td> 7.7         </td><td> 6.5         </td><td>7.5          </td><td> 9.2         </td><td>7.725        </td><td>C            </td></tr>\n",
       "\t<tr><td> 9           </td><td>masculino    </td><td>Estatística 1</td><td>Vespertino   </td><td> 9.0         </td><td> 9.3         </td><td>7.6          </td><td> 8.8         </td><td>8.675        </td><td>B            </td></tr>\n",
       "\t<tr><td>10           </td><td>masculino    </td><td>Estatística 1</td><td>Noturno      </td><td> 8.5         </td><td> 4.3         </td><td>7.4          </td><td> 9.6         </td><td>7.450        </td><td>C            </td></tr>\n",
       "\t<tr><td>11           </td><td>feminino     </td><td>Estatística 1</td><td>Vespertino   </td><td> 7.3         </td><td> 5.0         </td><td>3.0          </td><td> 8.0         </td><td>5.825        </td><td>E            </td></tr>\n",
       "\t<tr><td>12           </td><td>masculino    </td><td>Estatística 1</td><td>Vespertino   </td><td> 7.1         </td><td> 4.0         </td><td>5.1          </td><td> 6.4         </td><td>5.650        </td><td>E            </td></tr>\n",
       "\t<tr><td>13           </td><td>feminino     </td><td>Estatística 2</td><td>Vespertino   </td><td> 8.1         </td><td> 4.5         </td><td>6.3          </td><td>10.0         </td><td>7.225        </td><td>C            </td></tr>\n",
       "\t<tr><td>14           </td><td>feminino     </td><td>Estatística 1</td><td>Noturno      </td><td> 6.5         </td><td> 5.3         </td><td>4.8          </td><td> 8.9         </td><td>6.375        </td><td>D            </td></tr>\n",
       "\t<tr><td>15           </td><td>masculino    </td><td>Estatística 2</td><td>Noturno      </td><td> 0.0         </td><td> 0.0         </td><td>0.0          </td><td> 0.0         </td><td>0.000        </td><td>E            </td></tr>\n",
       "\t<tr><td>16           </td><td>masculino    </td><td>Estatística 2</td><td>Vespertino   </td><td> 8.3         </td><td>10.0         </td><td>7.8          </td><td> 7.5         </td><td>8.400        </td><td>B            </td></tr>\n",
       "\t<tr><td>17           </td><td>masculino    </td><td>Estatística 1</td><td>Vespertino   </td><td> 9.0         </td><td> 6.0         </td><td>2.7          </td><td> 0.0         </td><td>4.425        </td><td>E            </td></tr>\n",
       "\t<tr><td>18           </td><td>masculino    </td><td>Estatística 2</td><td>Vespertino   </td><td> 8.2         </td><td> 0.5         </td><td>0.0          </td><td> 0.0         </td><td>2.175        </td><td>E            </td></tr>\n",
       "\t<tr><td>19           </td><td>feminino     </td><td>Estatística 1</td><td>Noturno      </td><td> 7.3         </td><td> 5.0         </td><td>5.0          </td><td> 9.6         </td><td>6.725        </td><td>D            </td></tr>\n",
       "\t<tr><td>20           </td><td>feminino     </td><td>Estatística 2</td><td>Noturno      </td><td>10.0         </td><td> 8.7         </td><td>9.0          </td><td> 9.0         </td><td>9.175        </td><td>A            </td></tr>\n",
       "\t<tr><td>21           </td><td>masculino    </td><td>Estatística 2</td><td>Vespertino   </td><td> 5.6         </td><td> 3.5         </td><td>4.8          </td><td> 7.5         </td><td>5.350        </td><td>E            </td></tr>\n",
       "\t<tr><td>22           </td><td>masculino    </td><td>Estatística 1</td><td>Vespertino   </td><td>10.0         </td><td> 4.5         </td><td>6.7          </td><td> 9.6         </td><td>7.700        </td><td>C            </td></tr>\n",
       "\t<tr><td>23           </td><td>masculino    </td><td>Estatística 1</td><td>Vespertino   </td><td> 8.3         </td><td> 4.5         </td><td>7.0          </td><td> 5.6         </td><td>6.350        </td><td>D            </td></tr>\n",
       "\t<tr><td>24           </td><td>feminino     </td><td>Estatística 2</td><td>Vespertino   </td><td>10.0         </td><td> 4.5         </td><td>6.4          </td><td>10.0         </td><td>7.725        </td><td>C            </td></tr>\n",
       "\t<tr><td>25           </td><td>masculino    </td><td>Estatística 2</td><td>Vespertino   </td><td> 7.5         </td><td> 3.5         </td><td> NA          </td><td>10.0         </td><td>7.000        </td><td>E            </td></tr>\n",
       "\t<tr><td>26           </td><td>masculino    </td><td>Estatística 2</td><td>Noturno      </td><td> 8.0         </td><td> 3.5         </td><td>7.8          </td><td> 7.5         </td><td>6.700        </td><td>D            </td></tr>\n",
       "\t<tr><td>27           </td><td>masculino    </td><td>Estatística 1</td><td>Noturno      </td><td> 9.5         </td><td> 6.5         </td><td>7.7          </td><td> 7.6         </td><td>7.825        </td><td>C            </td></tr>\n",
       "\t<tr><td>28           </td><td>masculino    </td><td>Estatística 1</td><td>Noturno      </td><td> 8.7         </td><td> 6.8         </td><td>8.6          </td><td> 6.6         </td><td>7.675        </td><td>C            </td></tr>\n",
       "\t<tr><td>29           </td><td>masculino    </td><td>Estatística 1</td><td>Noturno      </td><td>10.0         </td><td> 9.0         </td><td>7.7          </td><td> 6.2         </td><td>8.225        </td><td>B            </td></tr>\n",
       "\t<tr><td>30           </td><td>feminino     </td><td>Estatística 1</td><td>Vespertino   </td><td> 7.2         </td><td> 4.0         </td><td>3.9          </td><td> 9.2         </td><td>6.075        </td><td>D            </td></tr>\n",
       "\t<tr><td>...</td><td>...</td><td>...</td><td>...</td><td>...</td><td>...</td><td>...</td><td>...</td><td>...</td><td>...</td></tr>\n",
       "\t<tr><td>132          </td><td>feminino     </td><td>Estatística 1</td><td>Noturno      </td><td> 2.7         </td><td> 0.0         </td><td> NA          </td><td> 0.0         </td><td>0.900        </td><td>E            </td></tr>\n",
       "\t<tr><td>133          </td><td>feminino     </td><td>Estatística 1</td><td>Vespertino   </td><td> 8.0         </td><td> 4.3         </td><td>3.0          </td><td> 9.6         </td><td>6.225        </td><td>D            </td></tr>\n",
       "\t<tr><td>134          </td><td>feminino     </td><td>Estatística 1</td><td>Noturno      </td><td> 9.3         </td><td> 5.0         </td><td>3.5          </td><td> 1.3         </td><td>4.775        </td><td>E            </td></tr>\n",
       "\t<tr><td>135          </td><td>masculino    </td><td>Estatística 1</td><td>Vespertino   </td><td> 9.3         </td><td> 3.5         </td><td>2.3          </td><td> 7.2         </td><td>5.575        </td><td>E            </td></tr>\n",
       "\t<tr><td>136          </td><td>masculino    </td><td>Estatística 1</td><td>Noturno      </td><td> 8.3         </td><td> 5.8         </td><td>6.7          </td><td> 5.6         </td><td>6.600        </td><td>D            </td></tr>\n",
       "\t<tr><td>137          </td><td>masculino    </td><td>Estatística 2</td><td>Noturno      </td><td> 9.5         </td><td> 3.0         </td><td>8.4          </td><td> 9.0         </td><td>7.475        </td><td>C            </td></tr>\n",
       "\t<tr><td>138          </td><td>masculino    </td><td>Estatística 1</td><td>Noturno      </td><td> 9.5         </td><td> 2.5         </td><td>1.0          </td><td> 6.2         </td><td>4.800        </td><td>E            </td></tr>\n",
       "\t<tr><td>139          </td><td>feminino     </td><td>Estatística 1</td><td>Noturno      </td><td> 4.5         </td><td> 5.3         </td><td>2.8          </td><td> 8.2         </td><td>5.200        </td><td>E            </td></tr>\n",
       "\t<tr><td>140          </td><td>masculino    </td><td>Estatística 1</td><td>Vespertino   </td><td> 9.0         </td><td> 7.5         </td><td>6.0          </td><td> 6.8         </td><td>7.325        </td><td>C            </td></tr>\n",
       "\t<tr><td>141          </td><td>masculino    </td><td>Estatística 2</td><td>Vespertino   </td><td> 7.1         </td><td> 4.0         </td><td>5.0          </td><td>10.0         </td><td>6.525        </td><td>D            </td></tr>\n",
       "\t<tr><td>142          </td><td>masculino    </td><td>Estatística 1</td><td>Noturno      </td><td>10.0         </td><td> 9.3         </td><td>6.0          </td><td> 7.3         </td><td>8.150        </td><td>B            </td></tr>\n",
       "\t<tr><td>143          </td><td>masculino    </td><td>Estatística 1</td><td>Noturno      </td><td> 8.8         </td><td> 2.5         </td><td>1.0          </td><td> 6.6         </td><td>4.725        </td><td>E            </td></tr>\n",
       "\t<tr><td>144          </td><td>masculino    </td><td>Estatística 2</td><td>Vespertino   </td><td> 2.7         </td><td> 4.0         </td><td>5.5          </td><td>10.0         </td><td>5.550        </td><td>E            </td></tr>\n",
       "\t<tr><td>145          </td><td>masculino    </td><td>Estatística 1</td><td>Vespertino   </td><td> 7.6         </td><td> 1.8         </td><td>0.0          </td><td> 6.8         </td><td>4.050        </td><td>E            </td></tr>\n",
       "\t<tr><td>146          </td><td>feminino     </td><td>Estatística 1</td><td>Noturno      </td><td> 8.0         </td><td> 6.3         </td><td>0.5          </td><td> 6.9         </td><td>5.425        </td><td>E            </td></tr>\n",
       "\t<tr><td>147          </td><td>masculino    </td><td>Estatística 1</td><td>Vespertino   </td><td> 9.8         </td><td> 4.5         </td><td>4.9          </td><td> 7.2         </td><td>6.600        </td><td>D            </td></tr>\n",
       "\t<tr><td>148          </td><td>feminino     </td><td>Estatística 1</td><td>Vespertino   </td><td>10.0         </td><td> 4.0         </td><td>1.5          </td><td> 7.6         </td><td>5.775        </td><td>E            </td></tr>\n",
       "\t<tr><td>149          </td><td>feminino     </td><td>Estatística 2</td><td>Noturno      </td><td> 0.0         </td><td> 0.0         </td><td>0.0          </td><td> 0.0         </td><td>0.000        </td><td>E            </td></tr>\n",
       "\t<tr><td>150          </td><td>feminino     </td><td>Estatística 1</td><td>Vespertino   </td><td> 9.5         </td><td> 4.5         </td><td>8.0          </td><td> 6.8         </td><td>7.200        </td><td>C            </td></tr>\n",
       "\t<tr><td>151          </td><td>feminino     </td><td>Estatística 1</td><td>Vespertino   </td><td> 9.0         </td><td> 5.5         </td><td>8.4          </td><td> 7.6         </td><td>7.625        </td><td>C            </td></tr>\n",
       "\t<tr><td>152          </td><td>feminino     </td><td>Estatística 2</td><td>Vespertino   </td><td> 0.0         </td><td> 0.0         </td><td>0.0          </td><td> 0.0         </td><td>0.000        </td><td>E            </td></tr>\n",
       "\t<tr><td>153          </td><td>feminino     </td><td>Estatística 2</td><td>Noturno      </td><td> 0.0         </td><td> 8.6         </td><td>7.6          </td><td> 8.5         </td><td>6.175        </td><td>D            </td></tr>\n",
       "\t<tr><td>154          </td><td>masculino    </td><td>Estatística 1</td><td>Vespertino   </td><td>10.0         </td><td> 5.0         </td><td>7.9          </td><td> 7.2         </td><td>7.525        </td><td>C            </td></tr>\n",
       "\t<tr><td>155          </td><td>feminino     </td><td>Estatística 1</td><td>Vespertino   </td><td> 7.7         </td><td> 1.5         </td><td>0.5          </td><td> 0.0         </td><td>2.425        </td><td>E            </td></tr>\n",
       "\t<tr><td>156          </td><td>feminino     </td><td>Estatística 1</td><td>Vespertino   </td><td> 7.2         </td><td> 2.5         </td><td>5.2          </td><td> 8.8         </td><td>5.925        </td><td>E            </td></tr>\n",
       "\t<tr><td>157          </td><td>feminino     </td><td>Estatística 1</td><td>Vespertino   </td><td> 9.8         </td><td> 5.0         </td><td>1.0          </td><td> 7.2         </td><td>5.750        </td><td>E            </td></tr>\n",
       "\t<tr><td>158          </td><td>masculino    </td><td>Estatística 1</td><td>Noturno      </td><td> 9.1         </td><td> 9.1         </td><td>5.3          </td><td>10.0         </td><td>8.375        </td><td>B            </td></tr>\n",
       "\t<tr><td>159          </td><td>masculino    </td><td>Estatística 1</td><td>Vespertino   </td><td> 8.3         </td><td> 7.5         </td><td>5.3          </td><td> 7.6         </td><td>7.175        </td><td>C            </td></tr>\n",
       "\t<tr><td>160          </td><td>masculino    </td><td>Estatística 2</td><td>Vespertino   </td><td>10.0         </td><td>10.0         </td><td>8.7          </td><td>10.0         </td><td>9.675        </td><td>A            </td></tr>\n",
       "\t<tr><td>161          </td><td>feminino     </td><td>Estatística 2</td><td>Noturno      </td><td> 0.0         </td><td> 0.0         </td><td>0.0          </td><td> 0.0         </td><td>0.000        </td><td>E            </td></tr>\n",
       "</tbody>\n",
       "</table>\n"
      ],
      "text/latex": [
       "\\begin{tabular}{r|llllllllll}\n",
       " ID\\_aluno & Genero & Disciplina & Turno & Prova\\_1 & Prova\\_2 & Prova\\_3 & Trabalho & Nota\\_Final & Conceito\\\\\n",
       "\\hline\n",
       "\t  1            & masculino     & Estatística 2 & Noturno       &  8.5          &  2.5          & 7.2           &  7.5          & 6.425         & D            \\\\\n",
       "\t  2            & masculino     & Estatística 1 & Vespertino    &  9.3          &  1.9          & 2.4           &  7.2          & 5.200         & E            \\\\\n",
       "\t  3            & feminino      & Estatística 1 & Noturno       &  6.8          &  6.0          & 1.5           &  5.6          & 4.975         & E            \\\\\n",
       "\t  4            & feminino      & Estatística 1 & Noturno       &  8.5          &  7.2          & 5.6           &  7.6          & 7.225         & C            \\\\\n",
       "\t  5            & masculino     & Estatística 1 & Noturno       &  8.1          &  4.7          & 7.7           &  6.6          & 6.775         & D            \\\\\n",
       "\t  6            & masculino     & Estatística 1 & Vespertino    &  6.7          &  4.0          & 1.0           &  0.8          & 3.125         & E            \\\\\n",
       "\t  7            & masculino     & Estatística 1 & Noturno       &  8.0          &  4.0          & 8.2           & 10.0          & 7.550         & C            \\\\\n",
       "\t  8            & feminino      & Estatística 1 & Vespertino    &  7.7          &  6.5          & 7.5           &  9.2          & 7.725         & C            \\\\\n",
       "\t  9            & masculino     & Estatística 1 & Vespertino    &  9.0          &  9.3          & 7.6           &  8.8          & 8.675         & B            \\\\\n",
       "\t 10            & masculino     & Estatística 1 & Noturno       &  8.5          &  4.3          & 7.4           &  9.6          & 7.450         & C            \\\\\n",
       "\t 11            & feminino      & Estatística 1 & Vespertino    &  7.3          &  5.0          & 3.0           &  8.0          & 5.825         & E            \\\\\n",
       "\t 12            & masculino     & Estatística 1 & Vespertino    &  7.1          &  4.0          & 5.1           &  6.4          & 5.650         & E            \\\\\n",
       "\t 13            & feminino      & Estatística 2 & Vespertino    &  8.1          &  4.5          & 6.3           & 10.0          & 7.225         & C            \\\\\n",
       "\t 14            & feminino      & Estatística 1 & Noturno       &  6.5          &  5.3          & 4.8           &  8.9          & 6.375         & D            \\\\\n",
       "\t 15            & masculino     & Estatística 2 & Noturno       &  0.0          &  0.0          & 0.0           &  0.0          & 0.000         & E            \\\\\n",
       "\t 16            & masculino     & Estatística 2 & Vespertino    &  8.3          & 10.0          & 7.8           &  7.5          & 8.400         & B            \\\\\n",
       "\t 17            & masculino     & Estatística 1 & Vespertino    &  9.0          &  6.0          & 2.7           &  0.0          & 4.425         & E            \\\\\n",
       "\t 18            & masculino     & Estatística 2 & Vespertino    &  8.2          &  0.5          & 0.0           &  0.0          & 2.175         & E            \\\\\n",
       "\t 19            & feminino      & Estatística 1 & Noturno       &  7.3          &  5.0          & 5.0           &  9.6          & 6.725         & D            \\\\\n",
       "\t 20            & feminino      & Estatística 2 & Noturno       & 10.0          &  8.7          & 9.0           &  9.0          & 9.175         & A            \\\\\n",
       "\t 21            & masculino     & Estatística 2 & Vespertino    &  5.6          &  3.5          & 4.8           &  7.5          & 5.350         & E            \\\\\n",
       "\t 22            & masculino     & Estatística 1 & Vespertino    & 10.0          &  4.5          & 6.7           &  9.6          & 7.700         & C            \\\\\n",
       "\t 23            & masculino     & Estatística 1 & Vespertino    &  8.3          &  4.5          & 7.0           &  5.6          & 6.350         & D            \\\\\n",
       "\t 24            & feminino      & Estatística 2 & Vespertino    & 10.0          &  4.5          & 6.4           & 10.0          & 7.725         & C            \\\\\n",
       "\t 25            & masculino     & Estatística 2 & Vespertino    &  7.5          &  3.5          &  NA           & 10.0          & 7.000         & E            \\\\\n",
       "\t 26            & masculino     & Estatística 2 & Noturno       &  8.0          &  3.5          & 7.8           &  7.5          & 6.700         & D            \\\\\n",
       "\t 27            & masculino     & Estatística 1 & Noturno       &  9.5          &  6.5          & 7.7           &  7.6          & 7.825         & C            \\\\\n",
       "\t 28            & masculino     & Estatística 1 & Noturno       &  8.7          &  6.8          & 8.6           &  6.6          & 7.675         & C            \\\\\n",
       "\t 29            & masculino     & Estatística 1 & Noturno       & 10.0          &  9.0          & 7.7           &  6.2          & 8.225         & B            \\\\\n",
       "\t 30            & feminino      & Estatística 1 & Vespertino    &  7.2          &  4.0          & 3.9           &  9.2          & 6.075         & D            \\\\\n",
       "\t ... & ... & ... & ... & ... & ... & ... & ... & ... & ...\\\\\n",
       "\t 132           & feminino      & Estatística 1 & Noturno       &  2.7          &  0.0          &  NA           &  0.0          & 0.900         & E            \\\\\n",
       "\t 133           & feminino      & Estatística 1 & Vespertino    &  8.0          &  4.3          & 3.0           &  9.6          & 6.225         & D            \\\\\n",
       "\t 134           & feminino      & Estatística 1 & Noturno       &  9.3          &  5.0          & 3.5           &  1.3          & 4.775         & E            \\\\\n",
       "\t 135           & masculino     & Estatística 1 & Vespertino    &  9.3          &  3.5          & 2.3           &  7.2          & 5.575         & E            \\\\\n",
       "\t 136           & masculino     & Estatística 1 & Noturno       &  8.3          &  5.8          & 6.7           &  5.6          & 6.600         & D            \\\\\n",
       "\t 137           & masculino     & Estatística 2 & Noturno       &  9.5          &  3.0          & 8.4           &  9.0          & 7.475         & C            \\\\\n",
       "\t 138           & masculino     & Estatística 1 & Noturno       &  9.5          &  2.5          & 1.0           &  6.2          & 4.800         & E            \\\\\n",
       "\t 139           & feminino      & Estatística 1 & Noturno       &  4.5          &  5.3          & 2.8           &  8.2          & 5.200         & E            \\\\\n",
       "\t 140           & masculino     & Estatística 1 & Vespertino    &  9.0          &  7.5          & 6.0           &  6.8          & 7.325         & C            \\\\\n",
       "\t 141           & masculino     & Estatística 2 & Vespertino    &  7.1          &  4.0          & 5.0           & 10.0          & 6.525         & D            \\\\\n",
       "\t 142           & masculino     & Estatística 1 & Noturno       & 10.0          &  9.3          & 6.0           &  7.3          & 8.150         & B            \\\\\n",
       "\t 143           & masculino     & Estatística 1 & Noturno       &  8.8          &  2.5          & 1.0           &  6.6          & 4.725         & E            \\\\\n",
       "\t 144           & masculino     & Estatística 2 & Vespertino    &  2.7          &  4.0          & 5.5           & 10.0          & 5.550         & E            \\\\\n",
       "\t 145           & masculino     & Estatística 1 & Vespertino    &  7.6          &  1.8          & 0.0           &  6.8          & 4.050         & E            \\\\\n",
       "\t 146           & feminino      & Estatística 1 & Noturno       &  8.0          &  6.3          & 0.5           &  6.9          & 5.425         & E            \\\\\n",
       "\t 147           & masculino     & Estatística 1 & Vespertino    &  9.8          &  4.5          & 4.9           &  7.2          & 6.600         & D            \\\\\n",
       "\t 148           & feminino      & Estatística 1 & Vespertino    & 10.0          &  4.0          & 1.5           &  7.6          & 5.775         & E            \\\\\n",
       "\t 149           & feminino      & Estatística 2 & Noturno       &  0.0          &  0.0          & 0.0           &  0.0          & 0.000         & E            \\\\\n",
       "\t 150           & feminino      & Estatística 1 & Vespertino    &  9.5          &  4.5          & 8.0           &  6.8          & 7.200         & C            \\\\\n",
       "\t 151           & feminino      & Estatística 1 & Vespertino    &  9.0          &  5.5          & 8.4           &  7.6          & 7.625         & C            \\\\\n",
       "\t 152           & feminino      & Estatística 2 & Vespertino    &  0.0          &  0.0          & 0.0           &  0.0          & 0.000         & E            \\\\\n",
       "\t 153           & feminino      & Estatística 2 & Noturno       &  0.0          &  8.6          & 7.6           &  8.5          & 6.175         & D            \\\\\n",
       "\t 154           & masculino     & Estatística 1 & Vespertino    & 10.0          &  5.0          & 7.9           &  7.2          & 7.525         & C            \\\\\n",
       "\t 155           & feminino      & Estatística 1 & Vespertino    &  7.7          &  1.5          & 0.5           &  0.0          & 2.425         & E            \\\\\n",
       "\t 156           & feminino      & Estatística 1 & Vespertino    &  7.2          &  2.5          & 5.2           &  8.8          & 5.925         & E            \\\\\n",
       "\t 157           & feminino      & Estatística 1 & Vespertino    &  9.8          &  5.0          & 1.0           &  7.2          & 5.750         & E            \\\\\n",
       "\t 158           & masculino     & Estatística 1 & Noturno       &  9.1          &  9.1          & 5.3           & 10.0          & 8.375         & B            \\\\\n",
       "\t 159           & masculino     & Estatística 1 & Vespertino    &  8.3          &  7.5          & 5.3           &  7.6          & 7.175         & C            \\\\\n",
       "\t 160           & masculino     & Estatística 2 & Vespertino    & 10.0          & 10.0          & 8.7           & 10.0          & 9.675         & A            \\\\\n",
       "\t 161           & feminino      & Estatística 2 & Noturno       &  0.0          &  0.0          & 0.0           &  0.0          & 0.000         & E            \\\\\n",
       "\\end{tabular}\n"
      ],
      "text/markdown": [
       "\n",
       "ID_aluno | Genero | Disciplina | Turno | Prova_1 | Prova_2 | Prova_3 | Trabalho | Nota_Final | Conceito | \n",
       "|---|---|---|---|---|---|---|---|---|---|---|---|---|---|---|---|---|---|---|---|---|---|---|---|---|---|---|---|---|---|---|---|---|---|---|---|---|---|---|---|---|---|---|---|---|---|---|---|---|---|---|---|---|---|---|---|---|---|---|---|---|\n",
       "|  1            | masculino     | Estatística 2 | Noturno       |  8.5          |  2.5          | 7.2           |  7.5          | 6.425         | D             | \n",
       "|  2            | masculino     | Estatística 1 | Vespertino    |  9.3          |  1.9          | 2.4           |  7.2          | 5.200         | E             | \n",
       "|  3            | feminino      | Estatística 1 | Noturno       |  6.8          |  6.0          | 1.5           |  5.6          | 4.975         | E             | \n",
       "|  4            | feminino      | Estatística 1 | Noturno       |  8.5          |  7.2          | 5.6           |  7.6          | 7.225         | C             | \n",
       "|  5            | masculino     | Estatística 1 | Noturno       |  8.1          |  4.7          | 7.7           |  6.6          | 6.775         | D             | \n",
       "|  6            | masculino     | Estatística 1 | Vespertino    |  6.7          |  4.0          | 1.0           |  0.8          | 3.125         | E             | \n",
       "|  7            | masculino     | Estatística 1 | Noturno       |  8.0          |  4.0          | 8.2           | 10.0          | 7.550         | C             | \n",
       "|  8            | feminino      | Estatística 1 | Vespertino    |  7.7          |  6.5          | 7.5           |  9.2          | 7.725         | C             | \n",
       "|  9            | masculino     | Estatística 1 | Vespertino    |  9.0          |  9.3          | 7.6           |  8.8          | 8.675         | B             | \n",
       "| 10            | masculino     | Estatística 1 | Noturno       |  8.5          |  4.3          | 7.4           |  9.6          | 7.450         | C             | \n",
       "| 11            | feminino      | Estatística 1 | Vespertino    |  7.3          |  5.0          | 3.0           |  8.0          | 5.825         | E             | \n",
       "| 12            | masculino     | Estatística 1 | Vespertino    |  7.1          |  4.0          | 5.1           |  6.4          | 5.650         | E             | \n",
       "| 13            | feminino      | Estatística 2 | Vespertino    |  8.1          |  4.5          | 6.3           | 10.0          | 7.225         | C             | \n",
       "| 14            | feminino      | Estatística 1 | Noturno       |  6.5          |  5.3          | 4.8           |  8.9          | 6.375         | D             | \n",
       "| 15            | masculino     | Estatística 2 | Noturno       |  0.0          |  0.0          | 0.0           |  0.0          | 0.000         | E             | \n",
       "| 16            | masculino     | Estatística 2 | Vespertino    |  8.3          | 10.0          | 7.8           |  7.5          | 8.400         | B             | \n",
       "| 17            | masculino     | Estatística 1 | Vespertino    |  9.0          |  6.0          | 2.7           |  0.0          | 4.425         | E             | \n",
       "| 18            | masculino     | Estatística 2 | Vespertino    |  8.2          |  0.5          | 0.0           |  0.0          | 2.175         | E             | \n",
       "| 19            | feminino      | Estatística 1 | Noturno       |  7.3          |  5.0          | 5.0           |  9.6          | 6.725         | D             | \n",
       "| 20            | feminino      | Estatística 2 | Noturno       | 10.0          |  8.7          | 9.0           |  9.0          | 9.175         | A             | \n",
       "| 21            | masculino     | Estatística 2 | Vespertino    |  5.6          |  3.5          | 4.8           |  7.5          | 5.350         | E             | \n",
       "| 22            | masculino     | Estatística 1 | Vespertino    | 10.0          |  4.5          | 6.7           |  9.6          | 7.700         | C             | \n",
       "| 23            | masculino     | Estatística 1 | Vespertino    |  8.3          |  4.5          | 7.0           |  5.6          | 6.350         | D             | \n",
       "| 24            | feminino      | Estatística 2 | Vespertino    | 10.0          |  4.5          | 6.4           | 10.0          | 7.725         | C             | \n",
       "| 25            | masculino     | Estatística 2 | Vespertino    |  7.5          |  3.5          |  NA           | 10.0          | 7.000         | E             | \n",
       "| 26            | masculino     | Estatística 2 | Noturno       |  8.0          |  3.5          | 7.8           |  7.5          | 6.700         | D             | \n",
       "| 27            | masculino     | Estatística 1 | Noturno       |  9.5          |  6.5          | 7.7           |  7.6          | 7.825         | C             | \n",
       "| 28            | masculino     | Estatística 1 | Noturno       |  8.7          |  6.8          | 8.6           |  6.6          | 7.675         | C             | \n",
       "| 29            | masculino     | Estatística 1 | Noturno       | 10.0          |  9.0          | 7.7           |  6.2          | 8.225         | B             | \n",
       "| 30            | feminino      | Estatística 1 | Vespertino    |  7.2          |  4.0          | 3.9           |  9.2          | 6.075         | D             | \n",
       "| ... | ... | ... | ... | ... | ... | ... | ... | ... | ... | \n",
       "| 132           | feminino      | Estatística 1 | Noturno       |  2.7          |  0.0          |  NA           |  0.0          | 0.900         | E             | \n",
       "| 133           | feminino      | Estatística 1 | Vespertino    |  8.0          |  4.3          | 3.0           |  9.6          | 6.225         | D             | \n",
       "| 134           | feminino      | Estatística 1 | Noturno       |  9.3          |  5.0          | 3.5           |  1.3          | 4.775         | E             | \n",
       "| 135           | masculino     | Estatística 1 | Vespertino    |  9.3          |  3.5          | 2.3           |  7.2          | 5.575         | E             | \n",
       "| 136           | masculino     | Estatística 1 | Noturno       |  8.3          |  5.8          | 6.7           |  5.6          | 6.600         | D             | \n",
       "| 137           | masculino     | Estatística 2 | Noturno       |  9.5          |  3.0          | 8.4           |  9.0          | 7.475         | C             | \n",
       "| 138           | masculino     | Estatística 1 | Noturno       |  9.5          |  2.5          | 1.0           |  6.2          | 4.800         | E             | \n",
       "| 139           | feminino      | Estatística 1 | Noturno       |  4.5          |  5.3          | 2.8           |  8.2          | 5.200         | E             | \n",
       "| 140           | masculino     | Estatística 1 | Vespertino    |  9.0          |  7.5          | 6.0           |  6.8          | 7.325         | C             | \n",
       "| 141           | masculino     | Estatística 2 | Vespertino    |  7.1          |  4.0          | 5.0           | 10.0          | 6.525         | D             | \n",
       "| 142           | masculino     | Estatística 1 | Noturno       | 10.0          |  9.3          | 6.0           |  7.3          | 8.150         | B             | \n",
       "| 143           | masculino     | Estatística 1 | Noturno       |  8.8          |  2.5          | 1.0           |  6.6          | 4.725         | E             | \n",
       "| 144           | masculino     | Estatística 2 | Vespertino    |  2.7          |  4.0          | 5.5           | 10.0          | 5.550         | E             | \n",
       "| 145           | masculino     | Estatística 1 | Vespertino    |  7.6          |  1.8          | 0.0           |  6.8          | 4.050         | E             | \n",
       "| 146           | feminino      | Estatística 1 | Noturno       |  8.0          |  6.3          | 0.5           |  6.9          | 5.425         | E             | \n",
       "| 147           | masculino     | Estatística 1 | Vespertino    |  9.8          |  4.5          | 4.9           |  7.2          | 6.600         | D             | \n",
       "| 148           | feminino      | Estatística 1 | Vespertino    | 10.0          |  4.0          | 1.5           |  7.6          | 5.775         | E             | \n",
       "| 149           | feminino      | Estatística 2 | Noturno       |  0.0          |  0.0          | 0.0           |  0.0          | 0.000         | E             | \n",
       "| 150           | feminino      | Estatística 1 | Vespertino    |  9.5          |  4.5          | 8.0           |  6.8          | 7.200         | C             | \n",
       "| 151           | feminino      | Estatística 1 | Vespertino    |  9.0          |  5.5          | 8.4           |  7.6          | 7.625         | C             | \n",
       "| 152           | feminino      | Estatística 2 | Vespertino    |  0.0          |  0.0          | 0.0           |  0.0          | 0.000         | E             | \n",
       "| 153           | feminino      | Estatística 2 | Noturno       |  0.0          |  8.6          | 7.6           |  8.5          | 6.175         | D             | \n",
       "| 154           | masculino     | Estatística 1 | Vespertino    | 10.0          |  5.0          | 7.9           |  7.2          | 7.525         | C             | \n",
       "| 155           | feminino      | Estatística 1 | Vespertino    |  7.7          |  1.5          | 0.5           |  0.0          | 2.425         | E             | \n",
       "| 156           | feminino      | Estatística 1 | Vespertino    |  7.2          |  2.5          | 5.2           |  8.8          | 5.925         | E             | \n",
       "| 157           | feminino      | Estatística 1 | Vespertino    |  9.8          |  5.0          | 1.0           |  7.2          | 5.750         | E             | \n",
       "| 158           | masculino     | Estatística 1 | Noturno       |  9.1          |  9.1          | 5.3           | 10.0          | 8.375         | B             | \n",
       "| 159           | masculino     | Estatística 1 | Vespertino    |  8.3          |  7.5          | 5.3           |  7.6          | 7.175         | C             | \n",
       "| 160           | masculino     | Estatística 2 | Vespertino    | 10.0          | 10.0          | 8.7           | 10.0          | 9.675         | A             | \n",
       "| 161           | feminino      | Estatística 2 | Noturno       |  0.0          |  0.0          | 0.0           |  0.0          | 0.000         | E             | \n",
       "\n",
       "\n"
      ],
      "text/plain": [
       "    ID_aluno Genero    Disciplina    Turno      Prova_1 Prova_2 Prova_3\n",
       "1    1       masculino Estatística 2 Noturno     8.5     2.5    7.2    \n",
       "2    2       masculino Estatística 1 Vespertino  9.3     1.9    2.4    \n",
       "3    3       feminino  Estatística 1 Noturno     6.8     6.0    1.5    \n",
       "4    4       feminino  Estatística 1 Noturno     8.5     7.2    5.6    \n",
       "5    5       masculino Estatística 1 Noturno     8.1     4.7    7.7    \n",
       "6    6       masculino Estatística 1 Vespertino  6.7     4.0    1.0    \n",
       "7    7       masculino Estatística 1 Noturno     8.0     4.0    8.2    \n",
       "8    8       feminino  Estatística 1 Vespertino  7.7     6.5    7.5    \n",
       "9    9       masculino Estatística 1 Vespertino  9.0     9.3    7.6    \n",
       "10  10       masculino Estatística 1 Noturno     8.5     4.3    7.4    \n",
       "11  11       feminino  Estatística 1 Vespertino  7.3     5.0    3.0    \n",
       "12  12       masculino Estatística 1 Vespertino  7.1     4.0    5.1    \n",
       "13  13       feminino  Estatística 2 Vespertino  8.1     4.5    6.3    \n",
       "14  14       feminino  Estatística 1 Noturno     6.5     5.3    4.8    \n",
       "15  15       masculino Estatística 2 Noturno     0.0     0.0    0.0    \n",
       "16  16       masculino Estatística 2 Vespertino  8.3    10.0    7.8    \n",
       "17  17       masculino Estatística 1 Vespertino  9.0     6.0    2.7    \n",
       "18  18       masculino Estatística 2 Vespertino  8.2     0.5    0.0    \n",
       "19  19       feminino  Estatística 1 Noturno     7.3     5.0    5.0    \n",
       "20  20       feminino  Estatística 2 Noturno    10.0     8.7    9.0    \n",
       "21  21       masculino Estatística 2 Vespertino  5.6     3.5    4.8    \n",
       "22  22       masculino Estatística 1 Vespertino 10.0     4.5    6.7    \n",
       "23  23       masculino Estatística 1 Vespertino  8.3     4.5    7.0    \n",
       "24  24       feminino  Estatística 2 Vespertino 10.0     4.5    6.4    \n",
       "25  25       masculino Estatística 2 Vespertino  7.5     3.5     NA    \n",
       "26  26       masculino Estatística 2 Noturno     8.0     3.5    7.8    \n",
       "27  27       masculino Estatística 1 Noturno     9.5     6.5    7.7    \n",
       "28  28       masculino Estatística 1 Noturno     8.7     6.8    8.6    \n",
       "29  29       masculino Estatística 1 Noturno    10.0     9.0    7.7    \n",
       "30  30       feminino  Estatística 1 Vespertino  7.2     4.0    3.9    \n",
       "... ...      ...       ...           ...        ...     ...     ...    \n",
       "132 132      feminino  Estatística 1 Noturno     2.7     0.0     NA    \n",
       "133 133      feminino  Estatística 1 Vespertino  8.0     4.3    3.0    \n",
       "134 134      feminino  Estatística 1 Noturno     9.3     5.0    3.5    \n",
       "135 135      masculino Estatística 1 Vespertino  9.3     3.5    2.3    \n",
       "136 136      masculino Estatística 1 Noturno     8.3     5.8    6.7    \n",
       "137 137      masculino Estatística 2 Noturno     9.5     3.0    8.4    \n",
       "138 138      masculino Estatística 1 Noturno     9.5     2.5    1.0    \n",
       "139 139      feminino  Estatística 1 Noturno     4.5     5.3    2.8    \n",
       "140 140      masculino Estatística 1 Vespertino  9.0     7.5    6.0    \n",
       "141 141      masculino Estatística 2 Vespertino  7.1     4.0    5.0    \n",
       "142 142      masculino Estatística 1 Noturno    10.0     9.3    6.0    \n",
       "143 143      masculino Estatística 1 Noturno     8.8     2.5    1.0    \n",
       "144 144      masculino Estatística 2 Vespertino  2.7     4.0    5.5    \n",
       "145 145      masculino Estatística 1 Vespertino  7.6     1.8    0.0    \n",
       "146 146      feminino  Estatística 1 Noturno     8.0     6.3    0.5    \n",
       "147 147      masculino Estatística 1 Vespertino  9.8     4.5    4.9    \n",
       "148 148      feminino  Estatística 1 Vespertino 10.0     4.0    1.5    \n",
       "149 149      feminino  Estatística 2 Noturno     0.0     0.0    0.0    \n",
       "150 150      feminino  Estatística 1 Vespertino  9.5     4.5    8.0    \n",
       "151 151      feminino  Estatística 1 Vespertino  9.0     5.5    8.4    \n",
       "152 152      feminino  Estatística 2 Vespertino  0.0     0.0    0.0    \n",
       "153 153      feminino  Estatística 2 Noturno     0.0     8.6    7.6    \n",
       "154 154      masculino Estatística 1 Vespertino 10.0     5.0    7.9    \n",
       "155 155      feminino  Estatística 1 Vespertino  7.7     1.5    0.5    \n",
       "156 156      feminino  Estatística 1 Vespertino  7.2     2.5    5.2    \n",
       "157 157      feminino  Estatística 1 Vespertino  9.8     5.0    1.0    \n",
       "158 158      masculino Estatística 1 Noturno     9.1     9.1    5.3    \n",
       "159 159      masculino Estatística 1 Vespertino  8.3     7.5    5.3    \n",
       "160 160      masculino Estatística 2 Vespertino 10.0    10.0    8.7    \n",
       "161 161      feminino  Estatística 2 Noturno     0.0     0.0    0.0    \n",
       "    Trabalho Nota_Final Conceito\n",
       "1    7.5     6.425      D       \n",
       "2    7.2     5.200      E       \n",
       "3    5.6     4.975      E       \n",
       "4    7.6     7.225      C       \n",
       "5    6.6     6.775      D       \n",
       "6    0.8     3.125      E       \n",
       "7   10.0     7.550      C       \n",
       "8    9.2     7.725      C       \n",
       "9    8.8     8.675      B       \n",
       "10   9.6     7.450      C       \n",
       "11   8.0     5.825      E       \n",
       "12   6.4     5.650      E       \n",
       "13  10.0     7.225      C       \n",
       "14   8.9     6.375      D       \n",
       "15   0.0     0.000      E       \n",
       "16   7.5     8.400      B       \n",
       "17   0.0     4.425      E       \n",
       "18   0.0     2.175      E       \n",
       "19   9.6     6.725      D       \n",
       "20   9.0     9.175      A       \n",
       "21   7.5     5.350      E       \n",
       "22   9.6     7.700      C       \n",
       "23   5.6     6.350      D       \n",
       "24  10.0     7.725      C       \n",
       "25  10.0     7.000      E       \n",
       "26   7.5     6.700      D       \n",
       "27   7.6     7.825      C       \n",
       "28   6.6     7.675      C       \n",
       "29   6.2     8.225      B       \n",
       "30   9.2     6.075      D       \n",
       "... ...      ...        ...     \n",
       "132  0.0     0.900      E       \n",
       "133  9.6     6.225      D       \n",
       "134  1.3     4.775      E       \n",
       "135  7.2     5.575      E       \n",
       "136  5.6     6.600      D       \n",
       "137  9.0     7.475      C       \n",
       "138  6.2     4.800      E       \n",
       "139  8.2     5.200      E       \n",
       "140  6.8     7.325      C       \n",
       "141 10.0     6.525      D       \n",
       "142  7.3     8.150      B       \n",
       "143  6.6     4.725      E       \n",
       "144 10.0     5.550      E       \n",
       "145  6.8     4.050      E       \n",
       "146  6.9     5.425      E       \n",
       "147  7.2     6.600      D       \n",
       "148  7.6     5.775      E       \n",
       "149  0.0     0.000      E       \n",
       "150  6.8     7.200      C       \n",
       "151  7.6     7.625      C       \n",
       "152  0.0     0.000      E       \n",
       "153  8.5     6.175      D       \n",
       "154  7.2     7.525      C       \n",
       "155  0.0     2.425      E       \n",
       "156  8.8     5.925      E       \n",
       "157  7.2     5.750      E       \n",
       "158 10.0     8.375      B       \n",
       "159  7.6     7.175      C       \n",
       "160 10.0     9.675      A       \n",
       "161  0.0     0.000      E       "
      ]
     },
     "metadata": {},
     "output_type": "display_data"
    }
   ],
   "source": [
    "install.packages('readxl')\n",
    "library(readxl)\n",
    "Nota_Alunos <- read_excel(\"Pratica/Nota de Alunos - Parte 1.xlsx\")\n",
    "Nota_Alunos"
   ]
  },
  {
   "cell_type": "code",
   "execution_count": 1,
   "metadata": {},
   "outputs": [
    {
     "ename": "ERROR",
     "evalue": "Error in table(Nota_Alunos$Genero): objeto 'Nota_Alunos' não encontrado\n",
     "output_type": "error",
     "traceback": [
      "Error in table(Nota_Alunos$Genero): objeto 'Nota_Alunos' não encontrado\nTraceback:\n",
      "1. table(Nota_Alunos$Genero)"
     ]
    }
   ],
   "source": [
    "freq_genero <- table(Nota_Alunos$Genero) #Pega o total por rótulo selecionado\n",
    "freq_genero\n",
    "\n",
    "prop_genero <- prop.table(freq_genero) #Calcula proporção\n",
    "perc_genero <- round(prop_genero*100,digits = 2) #Arredondamento e cria variável\n",
    "coluna_freq <- c(freq_genero,sum(freq_genero)) #Soma os valores freq (combina duas varuáveis)\n",
    "#>> a função \"c\" está criando um dataset com uma coluna, combinando duas variáveis, no final com 3 elementos na coluna!\n",
    "coluna_perc <- c(perc_genero,sum(perc_genero)) #Soma os valores proporção\n",
    "names(coluna_freq)[length(coluna_freq)] <- \"Total\" # Nomeia nova coluna\n",
    "#No comando não será criada uma nova linha, apenas atribuido um nome para a coluna de totais (seu título).\n",
    "tabela_freq <- cbind(coluna_freq, coluna_perc) #Une as colunas\n",
    "tabela_freq"
   ]
  },
  {
   "cell_type": "code",
   "execution_count": 11,
   "metadata": {},
   "outputs": [
    {
     "data": {
      "text/html": [
       "<table>\n",
       "<thead><tr><th></th><th scope=col>coluna_freq</th><th scope=col>coluna_perc</th></tr></thead>\n",
       "<tbody>\n",
       "\t<tr><th scope=row>A</th><td>  8   </td><td>  4.97</td></tr>\n",
       "\t<tr><th scope=row>B</th><td> 17   </td><td> 10.56</td></tr>\n",
       "\t<tr><th scope=row>C</th><td> 33   </td><td> 20.50</td></tr>\n",
       "\t<tr><th scope=row>D</th><td> 35   </td><td> 21.74</td></tr>\n",
       "\t<tr><th scope=row>E</th><td> 68   </td><td> 42.24</td></tr>\n",
       "\t<tr><th scope=row>Total</th><td>161   </td><td>100.01</td></tr>\n",
       "</tbody>\n",
       "</table>\n"
      ],
      "text/latex": [
       "\\begin{tabular}{r|ll}\n",
       "  & coluna\\_freq & coluna\\_perc\\\\\n",
       "\\hline\n",
       "\tA &   8    &   4.97\\\\\n",
       "\tB &  17    &  10.56\\\\\n",
       "\tC &  33    &  20.50\\\\\n",
       "\tD &  35    &  21.74\\\\\n",
       "\tE &  68    &  42.24\\\\\n",
       "\tTotal & 161    & 100.01\\\\\n",
       "\\end{tabular}\n"
      ],
      "text/markdown": [
       "\n",
       "| <!--/--> | coluna_freq | coluna_perc | \n",
       "|---|---|---|---|---|---|\n",
       "| A |   8    |   4.97 | \n",
       "| B |  17    |  10.56 | \n",
       "| C |  33    |  20.50 | \n",
       "| D |  35    |  21.74 | \n",
       "| E |  68    |  42.24 | \n",
       "| Total | 161    | 100.01 | \n",
       "\n",
       "\n"
      ],
      "text/plain": [
       "      coluna_freq coluna_perc\n",
       "A       8           4.97     \n",
       "B      17          10.56     \n",
       "C      33          20.50     \n",
       "D      35          21.74     \n",
       "E      68          42.24     \n",
       "Total 161         100.01     "
      ]
     },
     "metadata": {},
     "output_type": "display_data"
    }
   ],
   "source": [
    "#-----Tabela de Frequência para Conceito----#\n",
    "freq_conceito <- table(Nota_Alunos$Conceito)\n",
    "#freq_conceito\n",
    "prop_conceito <- prop.table(freq_conceito)\n",
    "#prop_conceito\n",
    "perc_conceito <- round(prop_conceito*100,digits = 2)\n",
    "#perc_conceito\n",
    "coluna_freq <- c(freq_conceito,sum(freq_conceito))\n",
    "#coluna_freq\n",
    "coluna_perc <- c(perc_conceito,sum(perc_conceito))\n",
    "#coluna_perc\n",
    "names(coluna_freq)[length(coluna_freq)] <- \"Total\"\n",
    "tabela_freq <- cbind(coluna_freq,coluna_perc)\n",
    "tabela_freq"
   ]
  },
  {
   "cell_type": "code",
   "execution_count": 12,
   "metadata": {
    "scrolled": true
   },
   "outputs": [
    {
     "data": {
      "text/plain": [
       "intervalos\n",
       " [0,1)  [1,2)  [2,3)  [3,4)  [4,5)  [5,6)  [6,7)  [7,8)  [8,9) [9,10) \n",
       "    12      3      7      5      9     31     35     34     17      8 "
      ]
     },
     "metadata": {},
     "output_type": "display_data"
    },
    {
     "data": {
      "text/html": [
       "<table>\n",
       "<thead><tr><th></th><th scope=col>coluna_freq</th><th scope=col>coluna_perc</th></tr></thead>\n",
       "<tbody>\n",
       "\t<tr><th scope=row>[0,1)</th><td> 12   </td><td>  7.45</td></tr>\n",
       "\t<tr><th scope=row>[1,2)</th><td>  3   </td><td>  1.86</td></tr>\n",
       "\t<tr><th scope=row>[2,3)</th><td>  7   </td><td>  4.35</td></tr>\n",
       "\t<tr><th scope=row>[3,4)</th><td>  5   </td><td>  3.11</td></tr>\n",
       "\t<tr><th scope=row>[4,5)</th><td>  9   </td><td>  5.59</td></tr>\n",
       "\t<tr><th scope=row>[5,6)</th><td> 31   </td><td> 19.25</td></tr>\n",
       "\t<tr><th scope=row>[6,7)</th><td> 35   </td><td> 21.74</td></tr>\n",
       "\t<tr><th scope=row>[7,8)</th><td> 34   </td><td> 21.12</td></tr>\n",
       "\t<tr><th scope=row>[8,9)</th><td> 17   </td><td> 10.56</td></tr>\n",
       "\t<tr><th scope=row>[9,10)</th><td>  8   </td><td>  4.97</td></tr>\n",
       "\t<tr><th scope=row>Total</th><td>161   </td><td>100.00</td></tr>\n",
       "</tbody>\n",
       "</table>\n"
      ],
      "text/latex": [
       "\\begin{tabular}{r|ll}\n",
       "  & coluna\\_freq & coluna\\_perc\\\\\n",
       "\\hline\n",
       "\t{[}0,1) &  12    &   7.45\\\\\n",
       "\t{[}1,2) &   3    &   1.86\\\\\n",
       "\t{[}2,3) &   7    &   4.35\\\\\n",
       "\t{[}3,4) &   5    &   3.11\\\\\n",
       "\t{[}4,5) &   9    &   5.59\\\\\n",
       "\t{[}5,6) &  31    &  19.25\\\\\n",
       "\t{[}6,7) &  35    &  21.74\\\\\n",
       "\t{[}7,8) &  34    &  21.12\\\\\n",
       "\t{[}8,9) &  17    &  10.56\\\\\n",
       "\t{[}9,10) &   8    &   4.97\\\\\n",
       "\tTotal & 161    & 100.00\\\\\n",
       "\\end{tabular}\n"
      ],
      "text/markdown": [
       "\n",
       "| <!--/--> | coluna_freq | coluna_perc | \n",
       "|---|---|---|---|---|---|---|---|---|---|---|\n",
       "| [0,1) |  12    |   7.45 | \n",
       "| [1,2) |   3    |   1.86 | \n",
       "| [2,3) |   7    |   4.35 | \n",
       "| [3,4) |   5    |   3.11 | \n",
       "| [4,5) |   9    |   5.59 | \n",
       "| [5,6) |  31    |  19.25 | \n",
       "| [6,7) |  35    |  21.74 | \n",
       "| [7,8) |  34    |  21.12 | \n",
       "| [8,9) |  17    |  10.56 | \n",
       "| [9,10) |   8    |   4.97 | \n",
       "| Total | 161    | 100.00 | \n",
       "\n",
       "\n"
      ],
      "text/plain": [
       "       coluna_freq coluna_perc\n",
       "[0,1)   12           7.45     \n",
       "[1,2)    3           1.86     \n",
       "[2,3)    7           4.35     \n",
       "[3,4)    5           3.11     \n",
       "[4,5)    9           5.59     \n",
       "[5,6)   31          19.25     \n",
       "[6,7)   35          21.74     \n",
       "[7,8)   34          21.12     \n",
       "[8,9)   17          10.56     \n",
       "[9,10)   8           4.97     \n",
       "Total  161         100.00     "
      ]
     },
     "metadata": {},
     "output_type": "display_data"
    }
   ],
   "source": [
    "#-----Tabela de Frequência para Nota Final-----#\n",
    "intervalos <- cut(Nota_Alunos$Nota_Final,breaks=0:10,right = F) #Corta em intervalor (breaks), rigth (Valores a direita não \n",
    "#entra no intervalo ref. ao T)\n",
    "\n",
    "freq_notas <- table(intervalos)\n",
    "freq_notas\n",
    "prop_notas <- prop.table(freq_notas)\n",
    "perc_notas <- round(prop_notas*100, digits = 2)\n",
    "coluna_freq <- c(freq_notas,sum(freq_notas))\n",
    "coluna_perc <- c(perc_notas,sum(perc_notas))\n",
    "names(coluna_freq)[length(coluna_freq)] <- \"Total\"\n",
    "\n",
    "tabela_freq <- cbind(coluna_freq,coluna_perc)\n",
    "tabela_freq"
   ]
  },
  {
   "cell_type": "code",
   "execution_count": 23,
   "metadata": {},
   "outputs": [
    {
     "data": {
      "image/png": "[encoded data removed]",
      "text/plain": [
       "Plot with title \"Gráfico de Pizza: Gênero dos Alunos\""
      ]
     },
     "metadata": {},
     "output_type": "display_data"
    }
   ],
   "source": [
    "#-----Gráfico de Pizza-------#\n",
    "rotulos <- paste(perc_genero,\"%\",sep=\" \") # Criação dos rótulos dos setores/fatia da pizza\n",
    "\n",
    "pie(freq_genero,main=\"Gráfico de Pizza: Gênero dos Alunos\",\n",
    "\tlabels = rotulos,col = rainbow(7))   #monta o gráfico\n",
    "legend(1,1,names(freq_genero),col = rainbow(7),pch = 15)  #pch o tipo simbolo de rótulos neste caso é o quadrado"
   ]
  },
  {
   "cell_type": "code",
   "execution_count": 25,
   "metadata": {},
   "outputs": [
    {
     "data": {
      "image/png": "[encoded data removed]",
      "text/plain": [
       "plot without title"
      ]
     },
     "metadata": {},
     "output_type": "display_data"
    }
   ],
   "source": [
    "#-----Gráfico de Barras ou Colunas-----#\n",
    "barplot(freq_conceito)"
   ]
  },
  {
   "cell_type": "code",
   "execution_count": 26,
   "metadata": {},
   "outputs": [
    {
     "data": {
      "image/png": "[encoded data removed]",
      "text/plain": [
       "plot without title"
      ]
     },
     "metadata": {},
     "output_type": "display_data"
    }
   ],
   "source": [
    "barplot(freq_conceito,horiz = T) #horizontal"
   ]
  },
  {
   "cell_type": "code",
   "execution_count": 33,
   "metadata": {},
   "outputs": [
    {
     "data": {
      "image/png": "[encoded data removed]",
      "text/plain": [
       "Plot with title \"Conceito vs Gênero\""
      ]
     },
     "metadata": {},
     "output_type": "display_data"
    }
   ],
   "source": [
    "freq_cruzada <- table(Nota_Alunos$Genero,Nota_Alunos$Conceito) #Para apresentar freq. cruzada (x1,x2)\n",
    "#freq_cruzada\n",
    "barplot(freq_cruzada, beside = T, main = \"Conceito vs Gênero\",\n",
    "\tylab = \"Número de Aluno\",col = c(\"darkblue\",\"red\")) #TITULO E CORES\n",
    "legend(1,30,rownames(freq_cruzada),col = c(\"darkblue\",\"red\"), #legenda\n",
    "\tpch = 14)\n",
    "#beside = T mostra um do lado do outro\n",
    "#F mostra empilhado (um em cima do outro)"
   ]
  },
  {
   "cell_type": "code",
   "execution_count": 36,
   "metadata": {
    "scrolled": false
   },
   "outputs": [
    {
     "data": {
      "image/png": "[encoded data removed]",
      "text/plain": [
       "Plot with title \"Distribuição de Notas\""
      ]
     },
     "metadata": {},
     "output_type": "display_data"
    }
   ],
   "source": [
    "#-----Histograma para Nota Final----#\n",
    "hist(Nota_Alunos$Nota_Final, breaks=0:10, right = F, col = \"orange\",\n",
    "\txlab = \"Notas\", ylab = \"Frequência\", main = \"Distribuição de Notas\" )"
   ]
  },
  {
   "cell_type": "code",
   "execution_count": 43,
   "metadata": {
    "scrolled": false
   },
   "outputs": [
    {
     "data": {
      "image/png": "[encoded data removed]",
      "text/plain": [
       "plot without title"
      ]
     },
     "metadata": {},
     "output_type": "display_data"
    }
   ],
   "source": [
    "#----Gráfico de Séries------#\n",
    "plot(Nota_Alunos$Prova_1, type = 'l',xlab = \"ID Aluno\", ylab = \"Nota\")\n",
    "lines(Nota_Alunos$Prova_2,col = \"blue\")\n",
    "lines(Nota_Alunos$Prova_3,col = \"red\")"
   ]
  },
  {
   "cell_type": "code",
   "execution_count": 47,
   "metadata": {},
   "outputs": [
    {
     "data": {
      "image/png": "[encoded data removed]",
      "text/plain": [
       "Plot with title \"Nota Final por Disciplina\""
      ]
     },
     "metadata": {},
     "output_type": "display_data"
    }
   ],
   "source": [
    "#----Gráfico de Caixa------# (BoxSplot)\n",
    "boxplot(Nota_Alunos$Nota_Final ~ Nota_Alunos$Disciplina,\n",
    "\tmain = \"Nota Final por Disciplina\",\n",
    "    xlab = \"Disciplina\", col = c(\"orange\",\"green\"))\n",
    "\n",
    "#Nota_Alunos$Nota_Final ~ Nota_Alunos$Disciplina Representa a relação entre as duas colunas"
   ]
  }
 ],
 "metadata": {
  "kernelspec": {
   "display_name": "R",
   "language": "R",
   "name": "ir"
  },
  "language_info": {
   "codemirror_mode": "r",
   "file_extension": ".r",
   "mimetype": "text/x-r-source",
   "name": "R",
   "pygments_lexer": "r",
   "version": "3.6.0"
  }
 },
 "nbformat": 4,
 "nbformat_minor": 2
}
