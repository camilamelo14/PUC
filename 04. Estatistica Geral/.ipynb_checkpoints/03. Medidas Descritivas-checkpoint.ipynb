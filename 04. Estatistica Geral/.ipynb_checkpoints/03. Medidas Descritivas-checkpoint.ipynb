{
 "cells": [
  {
   "cell_type": "markdown",
   "metadata": {},
   "source": [
    "## Medidas Descritivas\n",
    "\n",
    "Elas são divididas em três grupos: \n",
    "- Medidas de tendência central: \n",
    "- Medidas de dispersão\n",
    "- Medidas separatrizes. \n",
    "\n",
    "Links:\n",
    "\n",
    "https://citoolkit.com/articles/normal-distribution/\n",
    "\n",
    "https://citoolkit.com/articles/probability-distributions-in-minitab/\n",
    "\n",
    "https://citoolkit.com/articles/descriptive-statistics-in-minitab/"
   ]
  },
  {
   "cell_type": "code",
   "execution_count": 2,
   "metadata": {},
   "outputs": [
    {
     "data": {
      "text/html": [
       "<table>\n",
       "<thead><tr><th scope=col>ID_aluno</th><th scope=col>Genero</th><th scope=col>Disciplina</th><th scope=col>Turno</th><th scope=col>Prova_1</th><th scope=col>Prova_2</th><th scope=col>Prova_3</th><th scope=col>Trabalho</th><th scope=col>Nota_Final</th><th scope=col>Conceito</th></tr></thead>\n",
       "<tbody>\n",
       "\t<tr><td> 1           </td><td>masculino    </td><td>Estatística 2</td><td>Noturno      </td><td> 8.5         </td><td> 2.5         </td><td>7.2          </td><td> 7.5         </td><td>6.425        </td><td>D            </td></tr>\n",
       "\t<tr><td> 2           </td><td>masculino    </td><td>Estatística 1</td><td>Vespertino   </td><td> 9.3         </td><td> 1.9         </td><td>2.4          </td><td> 7.2         </td><td>5.200        </td><td>E            </td></tr>\n",
       "\t<tr><td> 3           </td><td>feminino     </td><td>Estatística 1</td><td>Noturno      </td><td> 6.8         </td><td> 6.0         </td><td>1.5          </td><td> 5.6         </td><td>4.975        </td><td>E            </td></tr>\n",
       "\t<tr><td> 4           </td><td>feminino     </td><td>Estatística 1</td><td>Noturno      </td><td> 8.5         </td><td> 7.2         </td><td>5.6          </td><td> 7.6         </td><td>7.225        </td><td>C            </td></tr>\n",
       "\t<tr><td> 5           </td><td>masculino    </td><td>Estatística 1</td><td>Noturno      </td><td> 8.1         </td><td> 4.7         </td><td>7.7          </td><td> 6.6         </td><td>6.775        </td><td>D            </td></tr>\n",
       "\t<tr><td> 6           </td><td>masculino    </td><td>Estatística 1</td><td>Vespertino   </td><td> 6.7         </td><td> 4.0         </td><td>1.0          </td><td> 0.8         </td><td>3.125        </td><td>E            </td></tr>\n",
       "\t<tr><td> 7           </td><td>masculino    </td><td>Estatística 1</td><td>Noturno      </td><td> 8.0         </td><td> 4.0         </td><td>8.2          </td><td>10.0         </td><td>7.550        </td><td>C            </td></tr>\n",
       "\t<tr><td> 8           </td><td>feminino     </td><td>Estatística 1</td><td>Vespertino   </td><td> 7.7         </td><td> 6.5         </td><td>7.5          </td><td> 9.2         </td><td>7.725        </td><td>C            </td></tr>\n",
       "\t<tr><td> 9           </td><td>masculino    </td><td>Estatística 1</td><td>Vespertino   </td><td> 9.0         </td><td> 9.3         </td><td>7.6          </td><td> 8.8         </td><td>8.675        </td><td>B            </td></tr>\n",
       "\t<tr><td>10           </td><td>masculino    </td><td>Estatística 1</td><td>Noturno      </td><td> 8.5         </td><td> 4.3         </td><td>7.4          </td><td> 9.6         </td><td>7.450        </td><td>C            </td></tr>\n",
       "\t<tr><td>11           </td><td>feminino     </td><td>Estatística 1</td><td>Vespertino   </td><td> 7.3         </td><td> 5.0         </td><td>3.0          </td><td> 8.0         </td><td>5.825        </td><td>E            </td></tr>\n",
       "\t<tr><td>12           </td><td>masculino    </td><td>Estatística 1</td><td>Vespertino   </td><td> 7.1         </td><td> 4.0         </td><td>5.1          </td><td> 6.4         </td><td>5.650        </td><td>E            </td></tr>\n",
       "\t<tr><td>13           </td><td>feminino     </td><td>Estatística 2</td><td>Vespertino   </td><td> 8.1         </td><td> 4.5         </td><td>6.3          </td><td>10.0         </td><td>7.225        </td><td>C            </td></tr>\n",
       "\t<tr><td>14           </td><td>feminino     </td><td>Estatística 1</td><td>Noturno      </td><td> 6.5         </td><td> 5.3         </td><td>4.8          </td><td> 8.9         </td><td>6.375        </td><td>D            </td></tr>\n",
       "\t<tr><td>15           </td><td>masculino    </td><td>Estatística 2</td><td>Noturno      </td><td> 0.0         </td><td> 0.0         </td><td>0.0          </td><td> 0.0         </td><td>0.000        </td><td>E            </td></tr>\n",
       "\t<tr><td>16           </td><td>masculino    </td><td>Estatística 2</td><td>Vespertino   </td><td> 8.3         </td><td>10.0         </td><td>7.8          </td><td> 7.5         </td><td>8.400        </td><td>B            </td></tr>\n",
       "\t<tr><td>17           </td><td>masculino    </td><td>Estatística 1</td><td>Vespertino   </td><td> 9.0         </td><td> 6.0         </td><td>2.7          </td><td> 0.0         </td><td>4.425        </td><td>E            </td></tr>\n",
       "\t<tr><td>18           </td><td>masculino    </td><td>Estatística 2</td><td>Vespertino   </td><td> 8.2         </td><td> 0.5         </td><td>0.0          </td><td> 0.0         </td><td>2.175        </td><td>E            </td></tr>\n",
       "\t<tr><td>19           </td><td>feminino     </td><td>Estatística 1</td><td>Noturno      </td><td> 7.3         </td><td> 5.0         </td><td>5.0          </td><td> 9.6         </td><td>6.725        </td><td>D            </td></tr>\n",
       "\t<tr><td>20           </td><td>feminino     </td><td>Estatística 2</td><td>Noturno      </td><td>10.0         </td><td> 8.7         </td><td>9.0          </td><td> 9.0         </td><td>9.175        </td><td>A            </td></tr>\n",
       "\t<tr><td>21           </td><td>masculino    </td><td>Estatística 2</td><td>Vespertino   </td><td> 5.6         </td><td> 3.5         </td><td>4.8          </td><td> 7.5         </td><td>5.350        </td><td>E            </td></tr>\n",
       "\t<tr><td>22           </td><td>masculino    </td><td>Estatística 1</td><td>Vespertino   </td><td>10.0         </td><td> 4.5         </td><td>6.7          </td><td> 9.6         </td><td>7.700        </td><td>C            </td></tr>\n",
       "\t<tr><td>23           </td><td>masculino    </td><td>Estatística 1</td><td>Vespertino   </td><td> 8.3         </td><td> 4.5         </td><td>7.0          </td><td> 5.6         </td><td>6.350        </td><td>D            </td></tr>\n",
       "\t<tr><td>24           </td><td>feminino     </td><td>Estatística 2</td><td>Vespertino   </td><td>10.0         </td><td> 4.5         </td><td>6.4          </td><td>10.0         </td><td>7.725        </td><td>C            </td></tr>\n",
       "\t<tr><td>25           </td><td>masculino    </td><td>Estatística 2</td><td>Vespertino   </td><td> 7.5         </td><td> 3.5         </td><td> NA          </td><td>10.0         </td><td>7.000        </td><td>E            </td></tr>\n",
       "\t<tr><td>26           </td><td>masculino    </td><td>Estatística 2</td><td>Noturno      </td><td> 8.0         </td><td> 3.5         </td><td>7.8          </td><td> 7.5         </td><td>6.700        </td><td>D            </td></tr>\n",
       "\t<tr><td>27           </td><td>masculino    </td><td>Estatística 1</td><td>Noturno      </td><td> 9.5         </td><td> 6.5         </td><td>7.7          </td><td> 7.6         </td><td>7.825        </td><td>C            </td></tr>\n",
       "\t<tr><td>28           </td><td>masculino    </td><td>Estatística 1</td><td>Noturno      </td><td> 8.7         </td><td> 6.8         </td><td>8.6          </td><td> 6.6         </td><td>7.675        </td><td>C            </td></tr>\n",
       "\t<tr><td>29           </td><td>masculino    </td><td>Estatística 1</td><td>Noturno      </td><td>10.0         </td><td> 9.0         </td><td>7.7          </td><td> 6.2         </td><td>8.225        </td><td>B            </td></tr>\n",
       "\t<tr><td>30           </td><td>feminino     </td><td>Estatística 1</td><td>Vespertino   </td><td> 7.2         </td><td> 4.0         </td><td>3.9          </td><td> 9.2         </td><td>6.075        </td><td>D            </td></tr>\n",
       "\t<tr><td>...</td><td>...</td><td>...</td><td>...</td><td>...</td><td>...</td><td>...</td><td>...</td><td>...</td><td>...</td></tr>\n",
       "\t<tr><td>132          </td><td>feminino     </td><td>Estatística 1</td><td>Noturno      </td><td> 2.7         </td><td> 0.0         </td><td> NA          </td><td> 0.0         </td><td>0.900        </td><td>E            </td></tr>\n",
       "\t<tr><td>133          </td><td>feminino     </td><td>Estatística 1</td><td>Vespertino   </td><td> 8.0         </td><td> 4.3         </td><td>3.0          </td><td> 9.6         </td><td>6.225        </td><td>D            </td></tr>\n",
       "\t<tr><td>134          </td><td>feminino     </td><td>Estatística 1</td><td>Noturno      </td><td> 9.3         </td><td> 5.0         </td><td>3.5          </td><td> 1.3         </td><td>4.775        </td><td>E            </td></tr>\n",
       "\t<tr><td>135          </td><td>masculino    </td><td>Estatística 1</td><td>Vespertino   </td><td> 9.3         </td><td> 3.5         </td><td>2.3          </td><td> 7.2         </td><td>5.575        </td><td>E            </td></tr>\n",
       "\t<tr><td>136          </td><td>masculino    </td><td>Estatística 1</td><td>Noturno      </td><td> 8.3         </td><td> 5.8         </td><td>6.7          </td><td> 5.6         </td><td>6.600        </td><td>D            </td></tr>\n",
       "\t<tr><td>137          </td><td>masculino    </td><td>Estatística 2</td><td>Noturno      </td><td> 9.5         </td><td> 3.0         </td><td>8.4          </td><td> 9.0         </td><td>7.475        </td><td>C            </td></tr>\n",
       "\t<tr><td>138          </td><td>masculino    </td><td>Estatística 1</td><td>Noturno      </td><td> 9.5         </td><td> 2.5         </td><td>1.0          </td><td> 6.2         </td><td>4.800        </td><td>E            </td></tr>\n",
       "\t<tr><td>139          </td><td>feminino     </td><td>Estatística 1</td><td>Noturno      </td><td> 4.5         </td><td> 5.3         </td><td>2.8          </td><td> 8.2         </td><td>5.200        </td><td>E            </td></tr>\n",
       "\t<tr><td>140          </td><td>masculino    </td><td>Estatística 1</td><td>Vespertino   </td><td> 9.0         </td><td> 7.5         </td><td>6.0          </td><td> 6.8         </td><td>7.325        </td><td>C            </td></tr>\n",
       "\t<tr><td>141          </td><td>masculino    </td><td>Estatística 2</td><td>Vespertino   </td><td> 7.1         </td><td> 4.0         </td><td>5.0          </td><td>10.0         </td><td>6.525        </td><td>D            </td></tr>\n",
       "\t<tr><td>142          </td><td>masculino    </td><td>Estatística 1</td><td>Noturno      </td><td>10.0         </td><td> 9.3         </td><td>6.0          </td><td> 7.3         </td><td>8.150        </td><td>B            </td></tr>\n",
       "\t<tr><td>143          </td><td>masculino    </td><td>Estatística 1</td><td>Noturno      </td><td> 8.8         </td><td> 2.5         </td><td>1.0          </td><td> 6.6         </td><td>4.725        </td><td>E            </td></tr>\n",
       "\t<tr><td>144          </td><td>masculino    </td><td>Estatística 2</td><td>Vespertino   </td><td> 2.7         </td><td> 4.0         </td><td>5.5          </td><td>10.0         </td><td>5.550        </td><td>E            </td></tr>\n",
       "\t<tr><td>145          </td><td>masculino    </td><td>Estatística 1</td><td>Vespertino   </td><td> 7.6         </td><td> 1.8         </td><td>0.0          </td><td> 6.8         </td><td>4.050        </td><td>E            </td></tr>\n",
       "\t<tr><td>146          </td><td>feminino     </td><td>Estatística 1</td><td>Noturno      </td><td> 8.0         </td><td> 6.3         </td><td>0.5          </td><td> 6.9         </td><td>5.425        </td><td>E            </td></tr>\n",
       "\t<tr><td>147          </td><td>masculino    </td><td>Estatística 1</td><td>Vespertino   </td><td> 9.8         </td><td> 4.5         </td><td>4.9          </td><td> 7.2         </td><td>6.600        </td><td>D            </td></tr>\n",
       "\t<tr><td>148          </td><td>feminino     </td><td>Estatística 1</td><td>Vespertino   </td><td>10.0         </td><td> 4.0         </td><td>1.5          </td><td> 7.6         </td><td>5.775        </td><td>E            </td></tr>\n",
       "\t<tr><td>149          </td><td>feminino     </td><td>Estatística 2</td><td>Noturno      </td><td> 0.0         </td><td> 0.0         </td><td>0.0          </td><td> 0.0         </td><td>0.000        </td><td>E            </td></tr>\n",
       "\t<tr><td>150          </td><td>feminino     </td><td>Estatística 1</td><td>Vespertino   </td><td> 9.5         </td><td> 4.5         </td><td>8.0          </td><td> 6.8         </td><td>7.200        </td><td>C            </td></tr>\n",
       "\t<tr><td>151          </td><td>feminino     </td><td>Estatística 1</td><td>Vespertino   </td><td> 9.0         </td><td> 5.5         </td><td>8.4          </td><td> 7.6         </td><td>7.625        </td><td>C            </td></tr>\n",
       "\t<tr><td>152          </td><td>feminino     </td><td>Estatística 2</td><td>Vespertino   </td><td> 0.0         </td><td> 0.0         </td><td>0.0          </td><td> 0.0         </td><td>0.000        </td><td>E            </td></tr>\n",
       "\t<tr><td>153          </td><td>feminino     </td><td>Estatística 2</td><td>Noturno      </td><td> 0.0         </td><td> 8.6         </td><td>7.6          </td><td> 8.5         </td><td>6.175        </td><td>D            </td></tr>\n",
       "\t<tr><td>154          </td><td>masculino    </td><td>Estatística 1</td><td>Vespertino   </td><td>10.0         </td><td> 5.0         </td><td>7.9          </td><td> 7.2         </td><td>7.525        </td><td>C            </td></tr>\n",
       "\t<tr><td>155          </td><td>feminino     </td><td>Estatística 1</td><td>Vespertino   </td><td> 7.7         </td><td> 1.5         </td><td>0.5          </td><td> 0.0         </td><td>2.425        </td><td>E            </td></tr>\n",
       "\t<tr><td>156          </td><td>feminino     </td><td>Estatística 1</td><td>Vespertino   </td><td> 7.2         </td><td> 2.5         </td><td>5.2          </td><td> 8.8         </td><td>5.925        </td><td>E            </td></tr>\n",
       "\t<tr><td>157          </td><td>feminino     </td><td>Estatística 1</td><td>Vespertino   </td><td> 9.8         </td><td> 5.0         </td><td>1.0          </td><td> 7.2         </td><td>5.750        </td><td>E            </td></tr>\n",
       "\t<tr><td>158          </td><td>masculino    </td><td>Estatística 1</td><td>Noturno      </td><td> 9.1         </td><td> 9.1         </td><td>5.3          </td><td>10.0         </td><td>8.375        </td><td>B            </td></tr>\n",
       "\t<tr><td>159          </td><td>masculino    </td><td>Estatística 1</td><td>Vespertino   </td><td> 8.3         </td><td> 7.5         </td><td>5.3          </td><td> 7.6         </td><td>7.175        </td><td>C            </td></tr>\n",
       "\t<tr><td>160          </td><td>masculino    </td><td>Estatística 2</td><td>Vespertino   </td><td>10.0         </td><td>10.0         </td><td>8.7          </td><td>10.0         </td><td>9.675        </td><td>A            </td></tr>\n",
       "\t<tr><td>161          </td><td>feminino     </td><td>Estatística 2</td><td>Noturno      </td><td> 0.0         </td><td> 0.0         </td><td>0.0          </td><td> 0.0         </td><td>0.000        </td><td>E            </td></tr>\n",
       "</tbody>\n",
       "</table>\n"
      ],
      "text/latex": [
       "\\begin{tabular}{r|llllllllll}\n",
       " ID\\_aluno & Genero & Disciplina & Turno & Prova\\_1 & Prova\\_2 & Prova\\_3 & Trabalho & Nota\\_Final & Conceito\\\\\n",
       "\\hline\n",
       "\t  1            & masculino     & Estatística 2 & Noturno       &  8.5          &  2.5          & 7.2           &  7.5          & 6.425         & D            \\\\\n",
       "\t  2            & masculino     & Estatística 1 & Vespertino    &  9.3          &  1.9          & 2.4           &  7.2          & 5.200         & E            \\\\\n",
       "\t  3            & feminino      & Estatística 1 & Noturno       &  6.8          &  6.0          & 1.5           &  5.6          & 4.975         & E            \\\\\n",
       "\t  4            & feminino      & Estatística 1 & Noturno       &  8.5          &  7.2          & 5.6           &  7.6          & 7.225         & C            \\\\\n",
       "\t  5            & masculino     & Estatística 1 & Noturno       &  8.1          &  4.7          & 7.7           &  6.6          & 6.775         & D            \\\\\n",
       "\t  6            & masculino     & Estatística 1 & Vespertino    &  6.7          &  4.0          & 1.0           &  0.8          & 3.125         & E            \\\\\n",
       "\t  7            & masculino     & Estatística 1 & Noturno       &  8.0          &  4.0          & 8.2           & 10.0          & 7.550         & C            \\\\\n",
       "\t  8            & feminino      & Estatística 1 & Vespertino    &  7.7          &  6.5          & 7.5           &  9.2          & 7.725         & C            \\\\\n",
       "\t  9            & masculino     & Estatística 1 & Vespertino    &  9.0          &  9.3          & 7.6           &  8.8          & 8.675         & B            \\\\\n",
       "\t 10            & masculino     & Estatística 1 & Noturno       &  8.5          &  4.3          & 7.4           &  9.6          & 7.450         & C            \\\\\n",
       "\t 11            & feminino      & Estatística 1 & Vespertino    &  7.3          &  5.0          & 3.0           &  8.0          & 5.825         & E            \\\\\n",
       "\t 12            & masculino     & Estatística 1 & Vespertino    &  7.1          &  4.0          & 5.1           &  6.4          & 5.650         & E            \\\\\n",
       "\t 13            & feminino      & Estatística 2 & Vespertino    &  8.1          &  4.5          & 6.3           & 10.0          & 7.225         & C            \\\\\n",
       "\t 14            & feminino      & Estatística 1 & Noturno       &  6.5          &  5.3          & 4.8           &  8.9          & 6.375         & D            \\\\\n",
       "\t 15            & masculino     & Estatística 2 & Noturno       &  0.0          &  0.0          & 0.0           &  0.0          & 0.000         & E            \\\\\n",
       "\t 16            & masculino     & Estatística 2 & Vespertino    &  8.3          & 10.0          & 7.8           &  7.5          & 8.400         & B            \\\\\n",
       "\t 17            & masculino     & Estatística 1 & Vespertino    &  9.0          &  6.0          & 2.7           &  0.0          & 4.425         & E            \\\\\n",
       "\t 18            & masculino     & Estatística 2 & Vespertino    &  8.2          &  0.5          & 0.0           &  0.0          & 2.175         & E            \\\\\n",
       "\t 19            & feminino      & Estatística 1 & Noturno       &  7.3          &  5.0          & 5.0           &  9.6          & 6.725         & D            \\\\\n",
       "\t 20            & feminino      & Estatística 2 & Noturno       & 10.0          &  8.7          & 9.0           &  9.0          & 9.175         & A            \\\\\n",
       "\t 21            & masculino     & Estatística 2 & Vespertino    &  5.6          &  3.5          & 4.8           &  7.5          & 5.350         & E            \\\\\n",
       "\t 22            & masculino     & Estatística 1 & Vespertino    & 10.0          &  4.5          & 6.7           &  9.6          & 7.700         & C            \\\\\n",
       "\t 23            & masculino     & Estatística 1 & Vespertino    &  8.3          &  4.5          & 7.0           &  5.6          & 6.350         & D            \\\\\n",
       "\t 24            & feminino      & Estatística 2 & Vespertino    & 10.0          &  4.5          & 6.4           & 10.0          & 7.725         & C            \\\\\n",
       "\t 25            & masculino     & Estatística 2 & Vespertino    &  7.5          &  3.5          &  NA           & 10.0          & 7.000         & E            \\\\\n",
       "\t 26            & masculino     & Estatística 2 & Noturno       &  8.0          &  3.5          & 7.8           &  7.5          & 6.700         & D            \\\\\n",
       "\t 27            & masculino     & Estatística 1 & Noturno       &  9.5          &  6.5          & 7.7           &  7.6          & 7.825         & C            \\\\\n",
       "\t 28            & masculino     & Estatística 1 & Noturno       &  8.7          &  6.8          & 8.6           &  6.6          & 7.675         & C            \\\\\n",
       "\t 29            & masculino     & Estatística 1 & Noturno       & 10.0          &  9.0          & 7.7           &  6.2          & 8.225         & B            \\\\\n",
       "\t 30            & feminino      & Estatística 1 & Vespertino    &  7.2          &  4.0          & 3.9           &  9.2          & 6.075         & D            \\\\\n",
       "\t ... & ... & ... & ... & ... & ... & ... & ... & ... & ...\\\\\n",
       "\t 132           & feminino      & Estatística 1 & Noturno       &  2.7          &  0.0          &  NA           &  0.0          & 0.900         & E            \\\\\n",
       "\t 133           & feminino      & Estatística 1 & Vespertino    &  8.0          &  4.3          & 3.0           &  9.6          & 6.225         & D            \\\\\n",
       "\t 134           & feminino      & Estatística 1 & Noturno       &  9.3          &  5.0          & 3.5           &  1.3          & 4.775         & E            \\\\\n",
       "\t 135           & masculino     & Estatística 1 & Vespertino    &  9.3          &  3.5          & 2.3           &  7.2          & 5.575         & E            \\\\\n",
       "\t 136           & masculino     & Estatística 1 & Noturno       &  8.3          &  5.8          & 6.7           &  5.6          & 6.600         & D            \\\\\n",
       "\t 137           & masculino     & Estatística 2 & Noturno       &  9.5          &  3.0          & 8.4           &  9.0          & 7.475         & C            \\\\\n",
       "\t 138           & masculino     & Estatística 1 & Noturno       &  9.5          &  2.5          & 1.0           &  6.2          & 4.800         & E            \\\\\n",
       "\t 139           & feminino      & Estatística 1 & Noturno       &  4.5          &  5.3          & 2.8           &  8.2          & 5.200         & E            \\\\\n",
       "\t 140           & masculino     & Estatística 1 & Vespertino    &  9.0          &  7.5          & 6.0           &  6.8          & 7.325         & C            \\\\\n",
       "\t 141           & masculino     & Estatística 2 & Vespertino    &  7.1          &  4.0          & 5.0           & 10.0          & 6.525         & D            \\\\\n",
       "\t 142           & masculino     & Estatística 1 & Noturno       & 10.0          &  9.3          & 6.0           &  7.3          & 8.150         & B            \\\\\n",
       "\t 143           & masculino     & Estatística 1 & Noturno       &  8.8          &  2.5          & 1.0           &  6.6          & 4.725         & E            \\\\\n",
       "\t 144           & masculino     & Estatística 2 & Vespertino    &  2.7          &  4.0          & 5.5           & 10.0          & 5.550         & E            \\\\\n",
       "\t 145           & masculino     & Estatística 1 & Vespertino    &  7.6          &  1.8          & 0.0           &  6.8          & 4.050         & E            \\\\\n",
       "\t 146           & feminino      & Estatística 1 & Noturno       &  8.0          &  6.3          & 0.5           &  6.9          & 5.425         & E            \\\\\n",
       "\t 147           & masculino     & Estatística 1 & Vespertino    &  9.8          &  4.5          & 4.9           &  7.2          & 6.600         & D            \\\\\n",
       "\t 148           & feminino      & Estatística 1 & Vespertino    & 10.0          &  4.0          & 1.5           &  7.6          & 5.775         & E            \\\\\n",
       "\t 149           & feminino      & Estatística 2 & Noturno       &  0.0          &  0.0          & 0.0           &  0.0          & 0.000         & E            \\\\\n",
       "\t 150           & feminino      & Estatística 1 & Vespertino    &  9.5          &  4.5          & 8.0           &  6.8          & 7.200         & C            \\\\\n",
       "\t 151           & feminino      & Estatística 1 & Vespertino    &  9.0          &  5.5          & 8.4           &  7.6          & 7.625         & C            \\\\\n",
       "\t 152           & feminino      & Estatística 2 & Vespertino    &  0.0          &  0.0          & 0.0           &  0.0          & 0.000         & E            \\\\\n",
       "\t 153           & feminino      & Estatística 2 & Noturno       &  0.0          &  8.6          & 7.6           &  8.5          & 6.175         & D            \\\\\n",
       "\t 154           & masculino     & Estatística 1 & Vespertino    & 10.0          &  5.0          & 7.9           &  7.2          & 7.525         & C            \\\\\n",
       "\t 155           & feminino      & Estatística 1 & Vespertino    &  7.7          &  1.5          & 0.5           &  0.0          & 2.425         & E            \\\\\n",
       "\t 156           & feminino      & Estatística 1 & Vespertino    &  7.2          &  2.5          & 5.2           &  8.8          & 5.925         & E            \\\\\n",
       "\t 157           & feminino      & Estatística 1 & Vespertino    &  9.8          &  5.0          & 1.0           &  7.2          & 5.750         & E            \\\\\n",
       "\t 158           & masculino     & Estatística 1 & Noturno       &  9.1          &  9.1          & 5.3           & 10.0          & 8.375         & B            \\\\\n",
       "\t 159           & masculino     & Estatística 1 & Vespertino    &  8.3          &  7.5          & 5.3           &  7.6          & 7.175         & C            \\\\\n",
       "\t 160           & masculino     & Estatística 2 & Vespertino    & 10.0          & 10.0          & 8.7           & 10.0          & 9.675         & A            \\\\\n",
       "\t 161           & feminino      & Estatística 2 & Noturno       &  0.0          &  0.0          & 0.0           &  0.0          & 0.000         & E            \\\\\n",
       "\\end{tabular}\n"
      ],
      "text/markdown": [
       "\n",
       "ID_aluno | Genero | Disciplina | Turno | Prova_1 | Prova_2 | Prova_3 | Trabalho | Nota_Final | Conceito | \n",
       "|---|---|---|---|---|---|---|---|---|---|---|---|---|---|---|---|---|---|---|---|---|---|---|---|---|---|---|---|---|---|---|---|---|---|---|---|---|---|---|---|---|---|---|---|---|---|---|---|---|---|---|---|---|---|---|---|---|---|---|---|---|\n",
       "|  1            | masculino     | Estatística 2 | Noturno       |  8.5          |  2.5          | 7.2           |  7.5          | 6.425         | D             | \n",
       "|  2            | masculino     | Estatística 1 | Vespertino    |  9.3          |  1.9          | 2.4           |  7.2          | 5.200         | E             | \n",
       "|  3            | feminino      | Estatística 1 | Noturno       |  6.8          |  6.0          | 1.5           |  5.6          | 4.975         | E             | \n",
       "|  4            | feminino      | Estatística 1 | Noturno       |  8.5          |  7.2          | 5.6           |  7.6          | 7.225         | C             | \n",
       "|  5            | masculino     | Estatística 1 | Noturno       |  8.1          |  4.7          | 7.7           |  6.6          | 6.775         | D             | \n",
       "|  6            | masculino     | Estatística 1 | Vespertino    |  6.7          |  4.0          | 1.0           |  0.8          | 3.125         | E             | \n",
       "|  7            | masculino     | Estatística 1 | Noturno       |  8.0          |  4.0          | 8.2           | 10.0          | 7.550         | C             | \n",
       "|  8            | feminino      | Estatística 1 | Vespertino    |  7.7          |  6.5          | 7.5           |  9.2          | 7.725         | C             | \n",
       "|  9            | masculino     | Estatística 1 | Vespertino    |  9.0          |  9.3          | 7.6           |  8.8          | 8.675         | B             | \n",
       "| 10            | masculino     | Estatística 1 | Noturno       |  8.5          |  4.3          | 7.4           |  9.6          | 7.450         | C             | \n",
       "| 11            | feminino      | Estatística 1 | Vespertino    |  7.3          |  5.0          | 3.0           |  8.0          | 5.825         | E             | \n",
       "| 12            | masculino     | Estatística 1 | Vespertino    |  7.1          |  4.0          | 5.1           |  6.4          | 5.650         | E             | \n",
       "| 13            | feminino      | Estatística 2 | Vespertino    |  8.1          |  4.5          | 6.3           | 10.0          | 7.225         | C             | \n",
       "| 14            | feminino      | Estatística 1 | Noturno       |  6.5          |  5.3          | 4.8           |  8.9          | 6.375         | D             | \n",
       "| 15            | masculino     | Estatística 2 | Noturno       |  0.0          |  0.0          | 0.0           |  0.0          | 0.000         | E             | \n",
       "| 16            | masculino     | Estatística 2 | Vespertino    |  8.3          | 10.0          | 7.8           |  7.5          | 8.400         | B             | \n",
       "| 17            | masculino     | Estatística 1 | Vespertino    |  9.0          |  6.0          | 2.7           |  0.0          | 4.425         | E             | \n",
       "| 18            | masculino     | Estatística 2 | Vespertino    |  8.2          |  0.5          | 0.0           |  0.0          | 2.175         | E             | \n",
       "| 19            | feminino      | Estatística 1 | Noturno       |  7.3          |  5.0          | 5.0           |  9.6          | 6.725         | D             | \n",
       "| 20            | feminino      | Estatística 2 | Noturno       | 10.0          |  8.7          | 9.0           |  9.0          | 9.175         | A             | \n",
       "| 21            | masculino     | Estatística 2 | Vespertino    |  5.6          |  3.5          | 4.8           |  7.5          | 5.350         | E             | \n",
       "| 22            | masculino     | Estatística 1 | Vespertino    | 10.0          |  4.5          | 6.7           |  9.6          | 7.700         | C             | \n",
       "| 23            | masculino     | Estatística 1 | Vespertino    |  8.3          |  4.5          | 7.0           |  5.6          | 6.350         | D             | \n",
       "| 24            | feminino      | Estatística 2 | Vespertino    | 10.0          |  4.5          | 6.4           | 10.0          | 7.725         | C             | \n",
       "| 25            | masculino     | Estatística 2 | Vespertino    |  7.5          |  3.5          |  NA           | 10.0          | 7.000         | E             | \n",
       "| 26            | masculino     | Estatística 2 | Noturno       |  8.0          |  3.5          | 7.8           |  7.5          | 6.700         | D             | \n",
       "| 27            | masculino     | Estatística 1 | Noturno       |  9.5          |  6.5          | 7.7           |  7.6          | 7.825         | C             | \n",
       "| 28            | masculino     | Estatística 1 | Noturno       |  8.7          |  6.8          | 8.6           |  6.6          | 7.675         | C             | \n",
       "| 29            | masculino     | Estatística 1 | Noturno       | 10.0          |  9.0          | 7.7           |  6.2          | 8.225         | B             | \n",
       "| 30            | feminino      | Estatística 1 | Vespertino    |  7.2          |  4.0          | 3.9           |  9.2          | 6.075         | D             | \n",
       "| ... | ... | ... | ... | ... | ... | ... | ... | ... | ... | \n",
       "| 132           | feminino      | Estatística 1 | Noturno       |  2.7          |  0.0          |  NA           |  0.0          | 0.900         | E             | \n",
       "| 133           | feminino      | Estatística 1 | Vespertino    |  8.0          |  4.3          | 3.0           |  9.6          | 6.225         | D             | \n",
       "| 134           | feminino      | Estatística 1 | Noturno       |  9.3          |  5.0          | 3.5           |  1.3          | 4.775         | E             | \n",
       "| 135           | masculino     | Estatística 1 | Vespertino    |  9.3          |  3.5          | 2.3           |  7.2          | 5.575         | E             | \n",
       "| 136           | masculino     | Estatística 1 | Noturno       |  8.3          |  5.8          | 6.7           |  5.6          | 6.600         | D             | \n",
       "| 137           | masculino     | Estatística 2 | Noturno       |  9.5          |  3.0          | 8.4           |  9.0          | 7.475         | C             | \n",
       "| 138           | masculino     | Estatística 1 | Noturno       |  9.5          |  2.5          | 1.0           |  6.2          | 4.800         | E             | \n",
       "| 139           | feminino      | Estatística 1 | Noturno       |  4.5          |  5.3          | 2.8           |  8.2          | 5.200         | E             | \n",
       "| 140           | masculino     | Estatística 1 | Vespertino    |  9.0          |  7.5          | 6.0           |  6.8          | 7.325         | C             | \n",
       "| 141           | masculino     | Estatística 2 | Vespertino    |  7.1          |  4.0          | 5.0           | 10.0          | 6.525         | D             | \n",
       "| 142           | masculino     | Estatística 1 | Noturno       | 10.0          |  9.3          | 6.0           |  7.3          | 8.150         | B             | \n",
       "| 143           | masculino     | Estatística 1 | Noturno       |  8.8          |  2.5          | 1.0           |  6.6          | 4.725         | E             | \n",
       "| 144           | masculino     | Estatística 2 | Vespertino    |  2.7          |  4.0          | 5.5           | 10.0          | 5.550         | E             | \n",
       "| 145           | masculino     | Estatística 1 | Vespertino    |  7.6          |  1.8          | 0.0           |  6.8          | 4.050         | E             | \n",
       "| 146           | feminino      | Estatística 1 | Noturno       |  8.0          |  6.3          | 0.5           |  6.9          | 5.425         | E             | \n",
       "| 147           | masculino     | Estatística 1 | Vespertino    |  9.8          |  4.5          | 4.9           |  7.2          | 6.600         | D             | \n",
       "| 148           | feminino      | Estatística 1 | Vespertino    | 10.0          |  4.0          | 1.5           |  7.6          | 5.775         | E             | \n",
       "| 149           | feminino      | Estatística 2 | Noturno       |  0.0          |  0.0          | 0.0           |  0.0          | 0.000         | E             | \n",
       "| 150           | feminino      | Estatística 1 | Vespertino    |  9.5          |  4.5          | 8.0           |  6.8          | 7.200         | C             | \n",
       "| 151           | feminino      | Estatística 1 | Vespertino    |  9.0          |  5.5          | 8.4           |  7.6          | 7.625         | C             | \n",
       "| 152           | feminino      | Estatística 2 | Vespertino    |  0.0          |  0.0          | 0.0           |  0.0          | 0.000         | E             | \n",
       "| 153           | feminino      | Estatística 2 | Noturno       |  0.0          |  8.6          | 7.6           |  8.5          | 6.175         | D             | \n",
       "| 154           | masculino     | Estatística 1 | Vespertino    | 10.0          |  5.0          | 7.9           |  7.2          | 7.525         | C             | \n",
       "| 155           | feminino      | Estatística 1 | Vespertino    |  7.7          |  1.5          | 0.5           |  0.0          | 2.425         | E             | \n",
       "| 156           | feminino      | Estatística 1 | Vespertino    |  7.2          |  2.5          | 5.2           |  8.8          | 5.925         | E             | \n",
       "| 157           | feminino      | Estatística 1 | Vespertino    |  9.8          |  5.0          | 1.0           |  7.2          | 5.750         | E             | \n",
       "| 158           | masculino     | Estatística 1 | Noturno       |  9.1          |  9.1          | 5.3           | 10.0          | 8.375         | B             | \n",
       "| 159           | masculino     | Estatística 1 | Vespertino    |  8.3          |  7.5          | 5.3           |  7.6          | 7.175         | C             | \n",
       "| 160           | masculino     | Estatística 2 | Vespertino    | 10.0          | 10.0          | 8.7           | 10.0          | 9.675         | A             | \n",
       "| 161           | feminino      | Estatística 2 | Noturno       |  0.0          |  0.0          | 0.0           |  0.0          | 0.000         | E             | \n",
       "\n",
       "\n"
      ],
      "text/plain": [
       "    ID_aluno Genero    Disciplina    Turno      Prova_1 Prova_2 Prova_3\n",
       "1    1       masculino Estatística 2 Noturno     8.5     2.5    7.2    \n",
       "2    2       masculino Estatística 1 Vespertino  9.3     1.9    2.4    \n",
       "3    3       feminino  Estatística 1 Noturno     6.8     6.0    1.5    \n",
       "4    4       feminino  Estatística 1 Noturno     8.5     7.2    5.6    \n",
       "5    5       masculino Estatística 1 Noturno     8.1     4.7    7.7    \n",
       "6    6       masculino Estatística 1 Vespertino  6.7     4.0    1.0    \n",
       "7    7       masculino Estatística 1 Noturno     8.0     4.0    8.2    \n",
       "8    8       feminino  Estatística 1 Vespertino  7.7     6.5    7.5    \n",
       "9    9       masculino Estatística 1 Vespertino  9.0     9.3    7.6    \n",
       "10  10       masculino Estatística 1 Noturno     8.5     4.3    7.4    \n",
       "11  11       feminino  Estatística 1 Vespertino  7.3     5.0    3.0    \n",
       "12  12       masculino Estatística 1 Vespertino  7.1     4.0    5.1    \n",
       "13  13       feminino  Estatística 2 Vespertino  8.1     4.5    6.3    \n",
       "14  14       feminino  Estatística 1 Noturno     6.5     5.3    4.8    \n",
       "15  15       masculino Estatística 2 Noturno     0.0     0.0    0.0    \n",
       "16  16       masculino Estatística 2 Vespertino  8.3    10.0    7.8    \n",
       "17  17       masculino Estatística 1 Vespertino  9.0     6.0    2.7    \n",
       "18  18       masculino Estatística 2 Vespertino  8.2     0.5    0.0    \n",
       "19  19       feminino  Estatística 1 Noturno     7.3     5.0    5.0    \n",
       "20  20       feminino  Estatística 2 Noturno    10.0     8.7    9.0    \n",
       "21  21       masculino Estatística 2 Vespertino  5.6     3.5    4.8    \n",
       "22  22       masculino Estatística 1 Vespertino 10.0     4.5    6.7    \n",
       "23  23       masculino Estatística 1 Vespertino  8.3     4.5    7.0    \n",
       "24  24       feminino  Estatística 2 Vespertino 10.0     4.5    6.4    \n",
       "25  25       masculino Estatística 2 Vespertino  7.5     3.5     NA    \n",
       "26  26       masculino Estatística 2 Noturno     8.0     3.5    7.8    \n",
       "27  27       masculino Estatística 1 Noturno     9.5     6.5    7.7    \n",
       "28  28       masculino Estatística 1 Noturno     8.7     6.8    8.6    \n",
       "29  29       masculino Estatística 1 Noturno    10.0     9.0    7.7    \n",
       "30  30       feminino  Estatística 1 Vespertino  7.2     4.0    3.9    \n",
       "... ...      ...       ...           ...        ...     ...     ...    \n",
       "132 132      feminino  Estatística 1 Noturno     2.7     0.0     NA    \n",
       "133 133      feminino  Estatística 1 Vespertino  8.0     4.3    3.0    \n",
       "134 134      feminino  Estatística 1 Noturno     9.3     5.0    3.5    \n",
       "135 135      masculino Estatística 1 Vespertino  9.3     3.5    2.3    \n",
       "136 136      masculino Estatística 1 Noturno     8.3     5.8    6.7    \n",
       "137 137      masculino Estatística 2 Noturno     9.5     3.0    8.4    \n",
       "138 138      masculino Estatística 1 Noturno     9.5     2.5    1.0    \n",
       "139 139      feminino  Estatística 1 Noturno     4.5     5.3    2.8    \n",
       "140 140      masculino Estatística 1 Vespertino  9.0     7.5    6.0    \n",
       "141 141      masculino Estatística 2 Vespertino  7.1     4.0    5.0    \n",
       "142 142      masculino Estatística 1 Noturno    10.0     9.3    6.0    \n",
       "143 143      masculino Estatística 1 Noturno     8.8     2.5    1.0    \n",
       "144 144      masculino Estatística 2 Vespertino  2.7     4.0    5.5    \n",
       "145 145      masculino Estatística 1 Vespertino  7.6     1.8    0.0    \n",
       "146 146      feminino  Estatística 1 Noturno     8.0     6.3    0.5    \n",
       "147 147      masculino Estatística 1 Vespertino  9.8     4.5    4.9    \n",
       "148 148      feminino  Estatística 1 Vespertino 10.0     4.0    1.5    \n",
       "149 149      feminino  Estatística 2 Noturno     0.0     0.0    0.0    \n",
       "150 150      feminino  Estatística 1 Vespertino  9.5     4.5    8.0    \n",
       "151 151      feminino  Estatística 1 Vespertino  9.0     5.5    8.4    \n",
       "152 152      feminino  Estatística 2 Vespertino  0.0     0.0    0.0    \n",
       "153 153      feminino  Estatística 2 Noturno     0.0     8.6    7.6    \n",
       "154 154      masculino Estatística 1 Vespertino 10.0     5.0    7.9    \n",
       "155 155      feminino  Estatística 1 Vespertino  7.7     1.5    0.5    \n",
       "156 156      feminino  Estatística 1 Vespertino  7.2     2.5    5.2    \n",
       "157 157      feminino  Estatística 1 Vespertino  9.8     5.0    1.0    \n",
       "158 158      masculino Estatística 1 Noturno     9.1     9.1    5.3    \n",
       "159 159      masculino Estatística 1 Vespertino  8.3     7.5    5.3    \n",
       "160 160      masculino Estatística 2 Vespertino 10.0    10.0    8.7    \n",
       "161 161      feminino  Estatística 2 Noturno     0.0     0.0    0.0    \n",
       "    Trabalho Nota_Final Conceito\n",
       "1    7.5     6.425      D       \n",
       "2    7.2     5.200      E       \n",
       "3    5.6     4.975      E       \n",
       "4    7.6     7.225      C       \n",
       "5    6.6     6.775      D       \n",
       "6    0.8     3.125      E       \n",
       "7   10.0     7.550      C       \n",
       "8    9.2     7.725      C       \n",
       "9    8.8     8.675      B       \n",
       "10   9.6     7.450      C       \n",
       "11   8.0     5.825      E       \n",
       "12   6.4     5.650      E       \n",
       "13  10.0     7.225      C       \n",
       "14   8.9     6.375      D       \n",
       "15   0.0     0.000      E       \n",
       "16   7.5     8.400      B       \n",
       "17   0.0     4.425      E       \n",
       "18   0.0     2.175      E       \n",
       "19   9.6     6.725      D       \n",
       "20   9.0     9.175      A       \n",
       "21   7.5     5.350      E       \n",
       "22   9.6     7.700      C       \n",
       "23   5.6     6.350      D       \n",
       "24  10.0     7.725      C       \n",
       "25  10.0     7.000      E       \n",
       "26   7.5     6.700      D       \n",
       "27   7.6     7.825      C       \n",
       "28   6.6     7.675      C       \n",
       "29   6.2     8.225      B       \n",
       "30   9.2     6.075      D       \n",
       "... ...      ...        ...     \n",
       "132  0.0     0.900      E       \n",
       "133  9.6     6.225      D       \n",
       "134  1.3     4.775      E       \n",
       "135  7.2     5.575      E       \n",
       "136  5.6     6.600      D       \n",
       "137  9.0     7.475      C       \n",
       "138  6.2     4.800      E       \n",
       "139  8.2     5.200      E       \n",
       "140  6.8     7.325      C       \n",
       "141 10.0     6.525      D       \n",
       "142  7.3     8.150      B       \n",
       "143  6.6     4.725      E       \n",
       "144 10.0     5.550      E       \n",
       "145  6.8     4.050      E       \n",
       "146  6.9     5.425      E       \n",
       "147  7.2     6.600      D       \n",
       "148  7.6     5.775      E       \n",
       "149  0.0     0.000      E       \n",
       "150  6.8     7.200      C       \n",
       "151  7.6     7.625      C       \n",
       "152  0.0     0.000      E       \n",
       "153  8.5     6.175      D       \n",
       "154  7.2     7.525      C       \n",
       "155  0.0     2.425      E       \n",
       "156  8.8     5.925      E       \n",
       "157  7.2     5.750      E       \n",
       "158 10.0     8.375      B       \n",
       "159  7.6     7.175      C       \n",
       "160 10.0     9.675      A       \n",
       "161  0.0     0.000      E       "
      ]
     },
     "metadata": {},
     "output_type": "display_data"
    }
   ],
   "source": [
    "library(readxl)\n",
    "Nota_Alunos <- read_excel(\"Pratica/Nota de Alunos - Parte 1.xlsx\")\n",
    "Nota_Alunos"
   ]
  },
  {
   "cell_type": "markdown",
   "metadata": {},
   "source": [
    "### Medidas de tendência central:"
   ]
  },
  {
   "cell_type": "markdown",
   "metadata": {},
   "source": [
    "#### Média aritimética\n",
    "\n",
    "- Frequentemente utilizada\n",
    "- Todos os dados tem o mesmo peso de importancia\n",
    "- Formula:\n",
    "\n",
    "$$x = \\frac{\\sum_{i=1}^n x_i}{n}$$"
   ]
  },
  {
   "cell_type": "code",
   "execution_count": 3,
   "metadata": {},
   "outputs": [
    {
     "data": {
      "text/html": [
       "7.6"
      ],
      "text/latex": [
       "7.6"
      ],
      "text/markdown": [
       "7.6"
      ],
      "text/plain": [
       "[1] 7.6"
      ]
     },
     "metadata": {},
     "output_type": "display_data"
    }
   ],
   "source": [
    "#Média no R\n",
    "round(mean(Nota_Alunos$Prova_1), digits = 1)"
   ]
  },
  {
   "cell_type": "markdown",
   "metadata": {},
   "source": [
    "#### Mediana\n",
    "\n",
    "- Obtém o valor central da amostra, com os valores ordenados de maneira crescente\n",
    "- Não é afetado por dados externos\n",
    "- Utilizado em conjunto com a média para avaliar a distribuição da amostra"
   ]
  },
  {
   "cell_type": "code",
   "execution_count": 4,
   "metadata": {
    "scrolled": true
   },
   "outputs": [
    {
     "data": {
      "text/html": [
       "8.5"
      ],
      "text/latex": [
       "8.5"
      ],
      "text/markdown": [
       "8.5"
      ],
      "text/plain": [
       "[1] 8.5"
      ]
     },
     "metadata": {},
     "output_type": "display_data"
    }
   ],
   "source": [
    "#Mediana\n",
    "median(Nota_Alunos$Prova_1)"
   ]
  },
  {
   "cell_type": "markdown",
   "metadata": {},
   "source": [
    "#### Moda\n",
    "\n",
    "- Valor mais frequente\n",
    "- Mais fraca e deve ser aplicada com cautê-la (Pq professor?)\n",
    "- Pode ser bimodal ou ter mais Modas\n",
    "- Utilizado na validação da amostra, valida de se há um valor muito excessivo na mesma"
   ]
  },
  {
   "cell_type": "code",
   "execution_count": 5,
   "metadata": {},
   "outputs": [
    {
     "data": {
      "text/html": [
       "<strong>10:</strong> 27"
      ],
      "text/latex": [
       "\\textbf{10:} 27"
      ],
      "text/markdown": [
       "**10:** 27"
      ],
      "text/plain": [
       "10 \n",
       "27 "
      ]
     },
     "metadata": {},
     "output_type": "display_data"
    }
   ],
   "source": [
    "tabela_freq <- table(Nota_Alunos$Prova_1)\n",
    "subset(tabela_freq, tabela_freq == max (tabela_freq))\n",
    "\n",
    "#Nota 10 repitiu 27 vezes"
   ]
  },
  {
   "attachments": {
    "image.png": {
     "image/png": "[encoded data removed]"
    }
   },
   "cell_type": "markdown",
   "metadata": {},
   "source": [
    "#### Média Ponderada\n",
    "\n",
    "- Cada elemento da amostra possui um peso específico\n",
    "- $x_i$ Valor observado\n",
    "- $w_i$ Peso do valor observado\n",
    "- Prova de concurso por exemplo, pode ter peso por questão e neste caso necessário realizar a média ponderada\n",
    "- Realiza o balanceamento adequado da média\n",
    "\n",
    "![image.png](attachment:image.png)\n",
    "\n",
    "Média x peso e divide pela soma dos pesos"
   ]
  },
  {
   "cell_type": "code",
   "execution_count": 6,
   "metadata": {},
   "outputs": [
    {
     "data": {
      "text/html": [
       "3.325"
      ],
      "text/latex": [
       "3.325"
      ],
      "text/markdown": [
       "3.325"
      ],
      "text/plain": [
       "[1] 3.325"
      ]
     },
     "metadata": {},
     "output_type": "display_data"
    },
    {
     "data": {
      "text/html": [
       "3.45333333333333"
      ],
      "text/latex": [
       "3.45333333333333"
      ],
      "text/markdown": [
       "3.45333333333333"
      ],
      "text/plain": [
       "[1] 3.453333"
      ]
     },
     "metadata": {},
     "output_type": "display_data"
    }
   ],
   "source": [
    "wt <- c(5, 5, 4, 1) #Pesos\n",
    "x <- c(3.7,3.3,3.5,2.8) #NOtas\n",
    "xm <- weighted.mean(x, wt) #Média ponderada\n",
    "m <- mean(x) #Média simples\n",
    "m \n",
    "xm"
   ]
  },
  {
   "attachments": {
    "image.png": {
     "image/png": "[encoded data removed]"
    }
   },
   "cell_type": "markdown",
   "metadata": {},
   "source": [
    "### Medidas Separatrizes:\n",
    "\n",
    "#### Amplitude\n",
    "\n",
    "Dividem o conjunto de dados ordenados em partes\n",
    "\n",
    "- Percentil: Divide a amostra em 100 partes\n",
    "- Decil: Divide a amostra em 10 partes\n",
    "- Quartil: Divide a amostra em 4 partes\n",
    "\n",
    "![image.png](attachment:image.png)"
   ]
  },
  {
   "cell_type": "code",
   "execution_count": 7,
   "metadata": {},
   "outputs": [
    {
     "data": {
      "text/html": [
       "<strong>35%:</strong> 7.7"
      ],
      "text/latex": [
       "\\textbf{35\\textbackslash{}\\%:} 7.7"
      ],
      "text/markdown": [
       "**35%:** 7.7"
      ],
      "text/plain": [
       "35% \n",
       "7.7 "
      ]
     },
     "metadata": {},
     "output_type": "display_data"
    },
    {
     "data": {
      "text/html": [
       "<strong>20%:</strong> 6.8"
      ],
      "text/latex": [
       "\\textbf{20\\textbackslash{}\\%:} 6.8"
      ],
      "text/markdown": [
       "**20%:** 6.8"
      ],
      "text/plain": [
       "20% \n",
       "6.8 "
      ]
     },
     "metadata": {},
     "output_type": "display_data"
    },
    {
     "data": {
      "text/html": [
       "<strong>75%:</strong> 9.5"
      ],
      "text/latex": [
       "\\textbf{75\\textbackslash{}\\%:} 9.5"
      ],
      "text/markdown": [
       "**75%:** 9.5"
      ],
      "text/plain": [
       "75% \n",
       "9.5 "
      ]
     },
     "metadata": {},
     "output_type": "display_data"
    }
   ],
   "source": [
    "#---Percentil 35---# Pedir melhor eplicação do professor\n",
    "quantile(Nota_Alunos$Prova_1,.35)\n",
    "\n",
    "#---Decil 2---#\n",
    "quantile(Nota_Alunos$Prova_1,.20)\n",
    "\n",
    "#---Quartil 3---#\n",
    "quantile(Nota_Alunos$Prova_1,.75)"
   ]
  },
  {
   "cell_type": "code",
   "execution_count": 8,
   "metadata": {},
   "outputs": [
    {
     "data": {
      "text/html": [
       "<strong>35%:</strong> 7.7"
      ],
      "text/latex": [
       "\\textbf{35\\textbackslash{}\\%:} 7.7"
      ],
      "text/markdown": [
       "**35%:** 7.7"
      ],
      "text/plain": [
       "35% \n",
       "7.7 "
      ]
     },
     "metadata": {},
     "output_type": "display_data"
    },
    {
     "data": {
      "text/html": [
       "<strong>50%:</strong> 8.5"
      ],
      "text/latex": [
       "\\textbf{50\\textbackslash{}\\%:} 8.5"
      ],
      "text/markdown": [
       "**50%:** 8.5"
      ],
      "text/plain": [
       "50% \n",
       "8.5 "
      ]
     },
     "metadata": {},
     "output_type": "display_data"
    },
    {
     "data": {
      "text/html": [
       "<strong>75%:</strong> 9.5"
      ],
      "text/latex": [
       "\\textbf{75\\textbackslash{}\\%:} 9.5"
      ],
      "text/markdown": [
       "**75%:** 9.5"
      ],
      "text/plain": [
       "75% \n",
       "9.5 "
      ]
     },
     "metadata": {},
     "output_type": "display_data"
    }
   ],
   "source": [
    "#---Percentil 35---# Pedir melhor eplicação do professor\n",
    "quantile(Nota_Alunos$Prova_1,.35)\n",
    "\n",
    "#---Decil 2---#\n",
    "quantile(Nota_Alunos$Prova_1,.50)\n",
    "\n",
    "#---Quartil 3---#\n",
    "quantile(Nota_Alunos$Prova_1,.75)"
   ]
  },
  {
   "cell_type": "markdown",
   "metadata": {},
   "source": [
    "#### Medidas de dispersao\n",
    "\n",
    "- Diferença entre o MAIOR valor observado e o mínimo da amostra\n",
    "- Utiliza no cálculo os valores das extremidades\n",
    "$A = X_Ma - X_Min$"
   ]
  },
  {
   "cell_type": "code",
   "execution_count": 9,
   "metadata": {},
   "outputs": [
    {
     "data": {
      "text/html": [
       "10"
      ],
      "text/latex": [
       "10"
      ],
      "text/markdown": [
       "10"
      ],
      "text/plain": [
       "[1] 10"
      ]
     },
     "metadata": {},
     "output_type": "display_data"
    }
   ],
   "source": [
    "diff(range(Nota_Alunos$Prova_1))"
   ]
  },
  {
   "cell_type": "markdown",
   "metadata": {},
   "source": [
    "#### Variância e Desvio Padrão\n",
    "\n",
    "- Variação dos valores em torno da média amostral\n",
    "- Média de variabilidade mais usada\n",
    "- Leva em consideração todos os dados da amostra\n",
    "- A diferença grande nesses valores ($\\sigma$ e $S$) pode ocorrer em amostrar pequenas (< 50)\n",
    "- Ideal que o $\\sigma$ não seja muito grande que mostra que os valores são consistentes\n",
    "\n",
    "População: contém todos os valores da população\n",
    "\n",
    "Amostra: Uma parte da população\n",
    "\n",
    "\n",
    "### Variância Populacional\n",
    "$$\\sigma^2 = \\frac{1}{N}\\sum_{i=1}^N (X_i - \\mu)^2$$\n",
    "\n",
    "##### Código R:\n",
    "n <- length(Nota_Alunos$Prova_1)\n",
    "\n",
    "((n-1)/n)*var(Nota_Alunos$Prova_1)\n",
    "\n",
    "### Variância Amostral\n",
    "$$S^2 = \\frac{1}{n-1}\\sum_{i=1}^N (x_1 - \\overline{x})^2$$\n",
    "\n",
    "##### Código R:\n",
    "var(Nota_Alunos$Prova_1) \n",
    "\n",
    "### Desvio padrão Populacional\n",
    "$$\\sigma = \\sqrt{\\frac{1}{N} \\sum_{i=1}^N (X_i - \\mu)^2}$$\n",
    "\n",
    "##### Código R:  \n",
    "n <- length(Nota_Alunos$Prova_1)\n",
    "\n",
    "sqrt((n-1)/n)*var(Nota_Alunos$Prova_1)\n",
    "\n",
    "### Desvio padrão Amostral\n",
    "$$s = \\sqrt{\\frac{1}{N-1} \\sum_{i=1}^N (x_i - \\overline{x})^2}$$\n",
    "\n",
    "##### Código R: \n",
    "sd(Nota_Alunos$Prova_1)\n",
    "\n"
   ]
  },
  {
   "cell_type": "code",
   "execution_count": 16,
   "metadata": {},
   "outputs": [
    {
     "data": {
      "text/html": [
       "7.34358618012422"
      ],
      "text/latex": [
       "7.34358618012422"
      ],
      "text/markdown": [
       "7.34358618012422"
      ],
      "text/plain": [
       "[1] 7.343586"
      ]
     },
     "metadata": {},
     "output_type": "display_data"
    },
    {
     "data": {
      "text/html": [
       "2.7099051976267"
      ],
      "text/latex": [
       "2.7099051976267"
      ],
      "text/markdown": [
       "2.7099051976267"
      ],
      "text/plain": [
       "[1] 2.709905"
      ]
     },
     "metadata": {},
     "output_type": "display_data"
    },
    {
     "data": {
      "text/html": [
       "7.29797384360171"
      ],
      "text/latex": [
       "7.29797384360171"
      ],
      "text/markdown": [
       "7.29797384360171"
      ],
      "text/plain": [
       "[1] 7.297974"
      ]
     },
     "metadata": {},
     "output_type": "display_data"
    },
    {
     "data": {
      "text/html": [
       "2.70147623413602"
      ],
      "text/latex": [
       "2.70147623413602"
      ],
      "text/markdown": [
       "2.70147623413602"
      ],
      "text/plain": [
       "[1] 2.701476"
      ]
     },
     "metadata": {},
     "output_type": "display_data"
    }
   ],
   "source": [
    "var(Nota_Alunos$Prova_1) #Variância amostral\n",
    "sd(Nota_Alunos$Prova_1) #desvio padrão amostral\n",
    "\n",
    "n <- length(Nota_Alunos$Prova_1)\n",
    "\n",
    "((n-1)/n)*var(Nota_Alunos$Prova_1) #Variância Populacional\n",
    "sqrt(((n-1)/n)*var(Nota_Alunos$Prova_1)) #Desvio Padrão Populacional"
   ]
  },
  {
   "cell_type": "markdown",
   "metadata": {},
   "source": [
    "#### Coeficiente de Variação\n",
    "\n",
    "Apenas do Desvio Padrão ser mais utilizado, este mede a dispersão em termos absolutos\n",
    "\n",
    "O Coeficiente de Variação (C.V) mede a dispersão em termos relativos\n",
    "\n",
    "Relação do Desvio Padrão sobre a média $\\overline{x}$\n",
    "\n",
    "- CV Populacional\n",
    "$$CV = (\\frac{\\sigma}{\\mu}) 100\\% $$\n",
    "\n",
    "- CV Amostra\n",
    "$$CV = (\\frac{S}{x}) 100\\% $$\n",
    "\n",
    "- Espera-se que este CV fique em até 25% - 50% pela média\n",
    "\n",
    "    - Até 25%: Boa consistência\n",
    "    - Menor que 50%: Falta de consistência\n",
    "    - Maior que 50%: Dados inconsistentes ref. a variação ou dispersão"
   ]
  },
  {
   "cell_type": "code",
   "execution_count": 17,
   "metadata": {},
   "outputs": [
    {
     "data": {
      "text/html": [
       "35.6275303623958"
      ],
      "text/latex": [
       "35.6275303623958"
      ],
      "text/markdown": [
       "35.6275303623958"
      ],
      "text/plain": [
       "[1] 35.62753"
      ]
     },
     "metadata": {},
     "output_type": "display_data"
    }
   ],
   "source": [
    "x <- mean(Nota_Alunos$Prova_1)\n",
    "s <- sd(Nota_Alunos$Prova_1)\n",
    "CV <- s*100/x\n",
    "CV"
   ]
  },
  {
   "cell_type": "markdown",
   "metadata": {},
   "source": [
    "#### Sumarização no R\n",
    "\n",
    "Função que traz as principais medidas estatisticas de um conjunto de dado ou dataSet"
   ]
  },
  {
   "cell_type": "code",
   "execution_count": 20,
   "metadata": {},
   "outputs": [
    {
     "data": {
      "text/plain": [
       "   Min. 1st Qu.  Median    Mean 3rd Qu.    Max. \n",
       "  0.000   7.200   8.500   7.606   9.500  10.000 "
      ]
     },
     "metadata": {},
     "output_type": "display_data"
    }
   ],
   "source": [
    "summary(Nota_Alunos$Prova_1)"
   ]
  },
  {
   "cell_type": "code",
   "execution_count": 21,
   "metadata": {},
   "outputs": [
    {
     "data": {
      "text/plain": [
       "    ID_aluno      Genero           Disciplina           Turno          \n",
       " Min.   :  1   Length:161         Length:161         Length:161        \n",
       " 1st Qu.: 41   Class :character   Class :character   Class :character  \n",
       " Median : 81   Mode  :character   Mode  :character   Mode  :character  \n",
       " Mean   : 81                                                           \n",
       " 3rd Qu.:121                                                           \n",
       " Max.   :161                                                           \n",
       "                                                                       \n",
       "    Prova_1          Prova_2          Prova_3          Trabalho     \n",
       " Min.   : 0.000   Min.   : 0.000   Min.   : 0.000   Min.   : 0.000  \n",
       " 1st Qu.: 7.200   1st Qu.: 2.500   1st Qu.: 2.975   1st Qu.: 6.400  \n",
       " Median : 8.500   Median : 4.500   Median : 5.550   Median : 7.600  \n",
       " Mean   : 7.606   Mean   : 4.603   Mean   : 5.135   Mean   : 6.601  \n",
       " 3rd Qu.: 9.500   3rd Qu.: 6.500   3rd Qu.: 7.600   3rd Qu.: 8.800  \n",
       " Max.   :10.000   Max.   :10.000   Max.   :10.000   Max.   :10.000  \n",
       "                                   NA's   :13                       \n",
       "   Nota_Final      Conceito        \n",
       " Min.   :0.000   Length:161        \n",
       " 1st Qu.:5.350   Class :character  \n",
       " Median :6.375   Mode  :character  \n",
       " Mean   :5.929                     \n",
       " 3rd Qu.:7.475                     \n",
       " Max.   :9.675                     \n",
       "                                   "
      ]
     },
     "metadata": {},
     "output_type": "display_data"
    }
   ],
   "source": [
    "summary(Nota_Alunos) #Avaliação de todo DataFrame"
   ]
  },
  {
   "cell_type": "code",
   "execution_count": 25,
   "metadata": {},
   "outputs": [
    {
     "data": {
      "text/html": [
       "1.03254769921437"
      ],
      "text/latex": [
       "1.03254769921437"
      ],
      "text/markdown": [
       "1.03254769921437"
      ],
      "text/plain": [
       "[1] 1.032548"
      ]
     },
     "metadata": {},
     "output_type": "display_data"
    },
    {
     "data": {
      "text/html": [
       "3.04761904761905"
      ],
      "text/latex": [
       "3.04761904761905"
      ],
      "text/markdown": [
       "3.04761904761905"
      ],
      "text/plain": [
       "[1] 3.047619"
      ]
     },
     "metadata": {},
     "output_type": "display_data"
    }
   ],
   "source": [
    "x_1 <- 891\n",
    "s_1 <- 9.2\n",
    "CV <- s_1*100/x_1\n",
    "CV\n",
    "\n",
    "x_2 <- 105\n",
    "s_2 <- 3.2\n",
    "CV <- s_2*100/x_2\n",
    "CV"
   ]
  },
  {
   "cell_type": "code",
   "execution_count": 35,
   "metadata": {},
   "outputs": [
    {
     "data": {
      "image/png": "[encoded data removed]",
      "text/plain": [
       "Plot with title \"Conceito vs Gênero\""
      ]
     },
     "metadata": {},
     "output_type": "display_data"
    }
   ],
   "source": [
    "freq_cruzada_2 <- table(Nota_Alunos$Conceito,Nota_Alunos$Genero)\n",
    "\n",
    "prop_cruzada_2 <- round(100*prop.table(freq_cruzada_2,2),2)\n",
    "\n",
    "barplot(prop_cruzada_2, ylab = \"% de Alunos\", col = rainbow(8), ylim = c(0,120))\n",
    "\n",
    "legend(1, 120, rownames(prop_cruzada_2), col = rainbow(8), pch = 15, horiz = T)\n",
    "\n",
    "title(\"Conceito vs Gênero\")"
   ]
  },
  {
   "cell_type": "code",
   "execution_count": 29,
   "metadata": {
    "scrolled": true
   },
   "outputs": [
    {
     "data": {
      "image/png": "[encoded data removed]",
      "text/plain": [
       "Plot with title \"Conceito vs Gênero\""
      ]
     },
     "metadata": {},
     "output_type": "display_data"
    }
   ],
   "source": [
    "freq_cruzada_2 <- table(Nota_Alunos$Conceito,Nota_Alunos$Genero)\n",
    "\n",
    "prop_cruzada_2 <- round(100*prop.table(freq_cruzada_2,2),2)\n",
    "\n",
    "barplot(prop_cruzada_2, ylab = \"% de Alunos\", col = rainbow(8), ylim = c(0,120))\n",
    "\n",
    "legend(1, 120, rownames(prop_cruzada_2), col = rainbow(8), pch = 15, horiz = T)\n",
    "\n",
    "title(\"Conceito vs Gênero\")"
   ]
  },
  {
   "cell_type": "code",
   "execution_count": 34,
   "metadata": {},
   "outputs": [
    {
     "data": {
      "text/html": [
       "<table>\n",
       "<thead><tr><th></th><th scope=col>Descritivas</th></tr></thead>\n",
       "<tbody>\n",
       "\t<tr><th scope=row>Média</th><td> 5.93</td></tr>\n",
       "\t<tr><th scope=row>Mediana</th><td> 6.38</td></tr>\n",
       "\t<tr><th scope=row>Amplitude</th><td> 9.68</td></tr>\n",
       "\t<tr><th scope=row>Desvio-Padrão</th><td> 2.36</td></tr>\n",
       "\t<tr><th scope=row>CV</th><td>39.82</td></tr>\n",
       "</tbody>\n",
       "</table>\n"
      ],
      "text/latex": [
       "\\begin{tabular}{r|l}\n",
       "  & Descritivas\\\\\n",
       "\\hline\n",
       "\tMédia &  5.93\\\\\n",
       "\tMediana &  6.38\\\\\n",
       "\tAmplitude &  9.68\\\\\n",
       "\tDesvio-Padrão &  2.36\\\\\n",
       "\tCV & 39.82\\\\\n",
       "\\end{tabular}\n"
      ],
      "text/markdown": [
       "\n",
       "| <!--/--> | Descritivas | \n",
       "|---|---|---|---|---|\n",
       "| Média |  5.93 | \n",
       "| Mediana |  6.38 | \n",
       "| Amplitude |  9.68 | \n",
       "| Desvio-Padrão |  2.36 | \n",
       "| CV | 39.82 | \n",
       "\n",
       "\n"
      ],
      "text/plain": [
       "              Descritivas\n",
       "Média          5.93      \n",
       "Mediana        6.38      \n",
       "Amplitude      9.68      \n",
       "Desvio-Padrão  2.36      \n",
       "CV            39.82      "
      ]
     },
     "metadata": {},
     "output_type": "display_data"
    }
   ],
   "source": [
    "Rotulos_Desc <- c(\"Média\", \"Mediana\", \"Amplitude\", \"Desvio-Padrão\", \"CV\")\n",
    "\n",
    "xbarra <- mean(Nota_Alunos$Nota_Final)\n",
    "\n",
    "xtil <- median(Nota_Alunos$Nota_Final)\n",
    "\n",
    "Amp <- diff(range(Nota_Alunos$Nota_Final))\n",
    "\n",
    "Desvio <- sd(Nota_Alunos$Nota_Final)\n",
    "\n",
    "CV <- 100*Desvio/xbarra\n",
    "\n",
    "Descritivas <- c(xbarra, xtil, Amp, Desvio, CV)\n",
    "\n",
    "Descritivas <- round(cbind(Descritivas),digits = 2)\n",
    "\n",
    "Valores_Desc <- as.data.frame(Descritivas, row.names = Rotulos_Desc,\n",
    "\n",
    "                              col.names = names(Descritivas))\n",
    "\n",
    "Valores_Desc"
   ]
  }
 ],
 "metadata": {
  "kernelspec": {
   "display_name": "R",
   "language": "R",
   "name": "ir"
  },
  "language_info": {
   "codemirror_mode": "r",
   "file_extension": ".r",
   "mimetype": "text/x-r-source",
   "name": "R",
   "pygments_lexer": "r",
   "version": "3.4.3"
  }
 },
 "nbformat": 4,
 "nbformat_minor": 2
}
