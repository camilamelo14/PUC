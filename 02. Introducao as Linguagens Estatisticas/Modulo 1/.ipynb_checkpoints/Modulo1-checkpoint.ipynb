{
 "cells": [
  {
   "cell_type": "markdown",
   "metadata": {},
   "source": [
    "### Modulo 1 - Fundamentos dos Python"
   ]
  },
  {
   "cell_type": "markdown",
   "metadata": {},
   "source": [
    "#### Variáveis"
   ]
  },
  {
   "cell_type": "code",
   "execution_count": 7,
   "metadata": {},
   "outputs": [
    {
     "name": "stdout",
     "output_type": "stream",
     "text": [
      "<class 'int'> 10\n",
      "<class 'float'> 0.5\n",
      "<class 'str'> Texto\n",
      "<class 'str'> Recebem o mesmo valor   Recebem o mesmo valor   Recebem o mesmo valor\n"
     ]
    }
   ],
   "source": [
    "#Variáveis exemplo de declarações\n",
    "a,b,c = 10, 0.5, \"Texto\"\n",
    "d=f=g= \"Recebem o mesmo valor\"\n",
    "\n",
    "print(type(a), a)\n",
    "print(type(b), b)\n",
    "print(type(c), c)\n",
    "\n",
    "print(type(d), d,\" \",f,\" \",g)"
   ]
  },
  {
   "cell_type": "markdown",
   "metadata": {},
   "source": [
    "Os tipos são dinâmicos e não precisam ser declarados, isso é muito bom, pois podemos reutilizar a variável para varios tipos de dados que ela possa receber"
   ]
  },
  {
   "cell_type": "code",
   "execution_count": 12,
   "metadata": {},
   "outputs": [
    {
     "name": "stdout",
     "output_type": "stream",
     "text": [
      "<class 'str'> <class 'int'> Valores: A: Teste  B 1\n"
     ]
    }
   ],
   "source": [
    "#exemplo\n",
    "a=b= 'Teste'\n",
    "\n",
    "#caso b passe a receber um inteiro não irá gerar nenhum problema\n",
    "b = 1\n",
    "\n",
    "print(type(a),type(b),'Valores: A:',a,' B',b)"
   ]
  },
  {
   "cell_type": "markdown",
   "metadata": {},
   "source": [
    "Para validar se um valor é do tipo esperado, você pode utilizar a função isinstance(var,tipo)\n",
    "    \n",
    "Tipos\n",
    "\n",
    "- float:     Ponto Flutuante\n",
    "- int:       Inteiro\n",
    "- bool:      Booleano\n",
    "- str:       String\n",
    "    "
   ]
  },
  {
   "cell_type": "markdown",
   "metadata": {},
   "source": [
    "#### Conversão de tipo"
   ]
  },
  {
   "cell_type": "code",
   "execution_count": 17,
   "metadata": {},
   "outputs": [
    {
     "name": "stdout",
     "output_type": "stream",
     "text": [
      "<class 'int'> 5\n",
      "<class 'int'> 27\n",
      "<class 'int'> 14\n"
     ]
    }
   ],
   "source": [
    "# convertendo float para inteiro\n",
    "float_to_int = int(5.3)\n",
    "\n",
    "# convertendo str na base 2 (binário) para inteiro\n",
    "str2_to_int = int(\"011011\", 2)\n",
    "\n",
    "# convertendo str na base 16 (hexadecimal) para inteiro\n",
    "str16_to_int = int(\"E\", 16)\n",
    "\n",
    "print(type(float_to_int), float_to_int)\n",
    "print(type(str2_to_int), str2_to_int)\n",
    "print(type(str16_to_int), str16_to_int)\n",
    "\n",
    "# convertendo str para booleano - Sempre True quando diferente de vazio ou None\n",
    "str_to_true = bool(\"true\")\n",
    "str_to_false = bool(\"false\")"
   ]
  },
  {
   "cell_type": "code",
   "execution_count": 26,
   "metadata": {},
   "outputs": [],
   "source": [
    "#Palavras reservadas do python:\n",
    "\n",
    "#and       def       exec      if        not       return \n",
    "#assert    del       finally   import    or        try\n",
    "#break     elif      for       in        pass      while\n",
    "#class     else      from      is        print     yield\n",
    "#continue  except    global    lambda    raise"
   ]
  },
  {
   "cell_type": "markdown",
   "metadata": {},
   "source": [
    "Nomenclaturas de variáveis incorretas"
   ]
  },
  {
   "cell_type": "code",
   "execution_count": 2,
   "metadata": {},
   "outputs": [],
   "source": [
    "# identificador iniciada por dígitos não é permitido\n",
    "# 1variavel = 1\n",
    "\n",
    "# é proíbido utilizar palavras-chave como identificador\n",
    "# for = 1\n",
    "\n",
    "# caractéres especiais não são permitidos\n",
    "# var! = 10"
   ]
  },
  {
   "cell_type": "markdown",
   "metadata": {},
   "source": [
    "#### Entradas e Saídas"
   ]
  },
  {
   "cell_type": "code",
   "execution_count": 4,
   "metadata": {},
   "outputs": [
    {
     "name": "stdout",
     "output_type": "stream",
     "text": [
      "Entre com o valor x:10\n"
     ]
    }
   ],
   "source": [
    "x = input('Entre com o valor x:')"
   ]
  },
  {
   "cell_type": "code",
   "execution_count": 5,
   "metadata": {},
   "outputs": [
    {
     "name": "stdout",
     "output_type": "stream",
     "text": [
      "10\n"
     ]
    }
   ],
   "source": [
    "#saida\n",
    "print(x)"
   ]
  }
 ],
 "metadata": {
  "kernelspec": {
   "display_name": "Python 3",
   "language": "python",
   "name": "python3"
  },
  "language_info": {
   "codemirror_mode": {
    "name": "ipython",
    "version": 3
   },
   "file_extension": ".py",
   "mimetype": "text/x-python",
   "name": "python",
   "nbconvert_exporter": "python",
   "pygments_lexer": "ipython3",
   "version": "3.6.4"
  }
 },
 "nbformat": 4,
 "nbformat_minor": 2
}
