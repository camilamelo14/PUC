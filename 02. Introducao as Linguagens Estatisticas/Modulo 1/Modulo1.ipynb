{
 "cells": [
  {
   "cell_type": "markdown",
   "metadata": {},
   "source": [
    "### Modulo 1 - Fundamentos dos Python"
   ]
  },
  {
   "cell_type": "markdown",
   "metadata": {},
   "source": [
    "#### Variáveis"
   ]
  },
  {
   "cell_type": "code",
   "execution_count": 7,
   "metadata": {},
   "outputs": [
    {
     "name": "stdout",
     "output_type": "stream",
     "text": [
      "<class 'int'> 10\n",
      "<class 'float'> 0.5\n",
      "<class 'str'> Texto\n",
      "<class 'str'> Recebem o mesmo valor   Recebem o mesmo valor   Recebem o mesmo valor\n"
     ]
    }
   ],
   "source": [
    "#Variáveis exemplo de declarações\n",
    "a,b,c = 10, 0.5, \"Texto\"\n",
    "d=f=g= \"Recebem o mesmo valor\"\n",
    "\n",
    "print(type(a), a)\n",
    "print(type(b), b)\n",
    "print(type(c), c)\n",
    "\n",
    "print(type(d), d,\" \",f,\" \",g)"
   ]
  },
  {
   "cell_type": "markdown",
   "metadata": {},
   "source": [
    "Os tipos são dinâmicos e não precisam ser declarados, isso é muito bom, pois podemos reutilizar a variável para varios tipos de dados que ela possa receber"
   ]
  },
  {
   "cell_type": "code",
   "execution_count": 12,
   "metadata": {},
   "outputs": [
    {
     "name": "stdout",
     "output_type": "stream",
     "text": [
      "<class 'str'> <class 'int'> Valores: A: Teste  B 1\n"
     ]
    }
   ],
   "source": [
    "#exemplo\n",
    "a=b= 'Teste'\n",
    "\n",
    "#caso b passe a receber um inteiro não irá gerar nenhum problema\n",
    "b = 1\n",
    "\n",
    "print(type(a),type(b),'Valores: A:',a,' B',b)"
   ]
  },
  {
   "cell_type": "markdown",
   "metadata": {},
   "source": [
    "Para validar se um valor é do tipo esperado, você pode utilizar a função isinstance(var,tipo)\n",
    "    \n",
    "Tipos\n",
    "\n",
    "- float:     Ponto Flutuante\n",
    "- int:       Inteiro\n",
    "- bool:      Booleano\n",
    "- str:       String\n",
    "    "
   ]
  },
  {
   "cell_type": "markdown",
   "metadata": {},
   "source": [
    "#### Conversão de tipo"
   ]
  },
  {
   "cell_type": "code",
   "execution_count": 17,
   "metadata": {},
   "outputs": [
    {
     "name": "stdout",
     "output_type": "stream",
     "text": [
      "<class 'int'> 5\n",
      "<class 'int'> 27\n",
      "<class 'int'> 14\n"
     ]
    }
   ],
   "source": [
    "# convertendo float para inteiro\n",
    "float_to_int = int(5.3)\n",
    "\n",
    "# convertendo str na base 2 (binário) para inteiro\n",
    "str2_to_int = int(\"011011\", 2)\n",
    "\n",
    "# convertendo str na base 16 (hexadecimal) para inteiro\n",
    "str16_to_int = int(\"E\", 16)\n",
    "\n",
    "print(type(float_to_int), float_to_int)\n",
    "print(type(str2_to_int), str2_to_int)\n",
    "print(type(str16_to_int), str16_to_int)\n",
    "\n",
    "# convertendo str para booleano - Sempre True quando diferente de vazio ou None\n",
    "str_to_true = bool(\"true\")\n",
    "str_to_false = bool(\"false\")"
   ]
  },
  {
   "cell_type": "code",
   "execution_count": 26,
   "metadata": {},
   "outputs": [],
   "source": [
    "#Palavras reservadas do python:\n",
    "\n",
    "#and       def       exec      if        not       return \n",
    "#assert    del       finally   import    or        try\n",
    "#break     elif      for       in        pass      while\n",
    "#class     else      from      is        print     yield\n",
    "#continue  except    global    lambda    raise"
   ]
  },
  {
   "cell_type": "markdown",
   "metadata": {},
   "source": [
    "Nomenclaturas de variáveis incorretas"
   ]
  },
  {
   "cell_type": "code",
   "execution_count": 2,
   "metadata": {},
   "outputs": [],
   "source": [
    "# identificador iniciada por dígitos não é permitido\n",
    "# 1variavel = 1\n",
    "\n",
    "# é proíbido utilizar palavras-chave como identificador\n",
    "# for = 1\n",
    "\n",
    "# caractéres especiais não são permitidos\n",
    "# var! = 10"
   ]
  },
  {
   "cell_type": "markdown",
   "metadata": {},
   "source": [
    "#### Entradas e Saídas"
   ]
  },
  {
   "cell_type": "code",
   "execution_count": 4,
   "metadata": {},
   "outputs": [
    {
     "name": "stdout",
     "output_type": "stream",
     "text": [
      "Entre com o valor x:10\n"
     ]
    }
   ],
   "source": [
    "x = input('Entre com o valor x:')"
   ]
  },
  {
   "cell_type": "code",
   "execution_count": 6,
   "metadata": {},
   "outputs": [
    {
     "name": "stdout",
     "output_type": "stream",
     "text": [
      "10\n"
     ]
    }
   ],
   "source": [
    "#saida\n",
    "print(x)"
   ]
  },
  {
   "cell_type": "markdown",
   "metadata": {},
   "source": [
    "### Operadores e Controle"
   ]
  },
  {
   "cell_type": "code",
   "execution_count": 12,
   "metadata": {},
   "outputs": [
    {
     "name": "stdout",
     "output_type": "stream",
     "text": [
      "100\n",
      "1\n"
     ]
    }
   ],
   "source": [
    "#Exponenciação\n",
    "y = 10**2\n",
    "print(y);\n",
    "\n",
    "#Modulo\n",
    "m = 10%3\n",
    "print(m)"
   ]
  },
  {
   "cell_type": "code",
   "execution_count": 16,
   "metadata": {},
   "outputs": [
    {
     "name": "stdout",
     "output_type": "stream",
     "text": [
      "| x | y | x and y | \n",
      "------------------- \n",
      "| T | T |    T    |\n",
      "| T | F |    F    |\n",
      "| F | T |    F    |\n",
      "| F | F |    F    |\n",
      "| x | y | x or y | \n",
      "------------------ \n",
      "| T | T |    T   |\n",
      "| T | F |    T   |\n",
      "| F | T |    T   |\n",
      "| F | F |    F   |\n",
      "| x | y | x xor y | \n",
      "------------------- \n",
      "| T | T |    F    |\n",
      "| T | F |    T    |\n",
      "| F | T |    T    |\n",
      "| F | F |    F    |\n",
      "\n",
      "| x | !x |\n",
      "----------\n",
      "| T | F  |\n",
      "| F | T  |\n"
     ]
    }
   ],
   "source": [
    "#Operadores lógicos\n",
    "a = 10==10 and 10==9\n",
    "b = 10==10 or 10==9\n",
    "c = 10==10 ^ 9==10\n",
    "d = 10==10 ^ 10==10\n",
    "e = not 9==9\n",
    "\n",
    "# tabela verdade do and\n",
    "print('| x | y | x and y | ')\n",
    "print('------------------- ')\n",
    "print('| T | T |   ', str(True and True)[0],  '   |')\n",
    "print('| T | F |   ', str(True and False)[0], '   |')\n",
    "print('| F | T |   ', str(False and True)[0], '   |')\n",
    "print('| F | F |   ', str(False and False)[0],'   |')\n",
    "\n",
    "# tabela verdade do or\n",
    "print('| x | y | x or y | ')\n",
    "print('------------------ ')\n",
    "print('| T | T |   ', str(True or True)[0],  '  |')\n",
    "print('| T | F |   ', str(True or False)[0], '  |')\n",
    "print('| F | T |   ', str(False or True)[0], '  |')\n",
    "print('| F | F |   ', str(False or False)[0],'  |')\n",
    "\n",
    "# tabela verdade do xor\n",
    "print('| x | y | x xor y | ')\n",
    "print('------------------- ')\n",
    "print('| T | T |   ', str(True ^ True)[0],  '   |')\n",
    "print('| T | F |   ', str(True ^ False)[0], '   |')\n",
    "print('| F | T |   ', str(False ^ True)[0], '   |')\n",
    "print('| F | F |   ', str(False ^ False)[0],'   |')\n",
    "print(\"\")\n",
    "# tabela verdade do not\n",
    "print('| x | !x |')\n",
    "print('----------')\n",
    "print('| T |', str(not True)[0], ' |')\n",
    "print('| F |', str(not False)[0],' |')"
   ]
  },
  {
   "cell_type": "markdown",
   "metadata": {},
   "source": [
    "<b>Operadores Bitwise<b>"
   ]
  },
  {
   "cell_type": "markdown",
   "metadata": {},
   "source": [
    "https://www.youtube.com/watch?v=Sq5te6EsPeg"
   ]
  },
  {
   "cell_type": "code",
   "execution_count": 6,
   "metadata": {},
   "outputs": [
    {
     "name": "stdout",
     "output_type": "stream",
     "text": [
      "Resultado 12 Binario 0b1100\n",
      "Resultado 61 Binario 0b111101\n",
      "Resultado 13312 Binario 0b11010000000000\n",
      "Resultado 1 Binario 0b1\n"
     ]
    }
   ],
   "source": [
    "#Operador &\n",
    "\n",
    "x = 60 #00111100\n",
    "y = 13 #00001101\n",
    "\n",
    "operadorE = x & y\n",
    "operadorOR = x | y\n",
    "operadorDeslocarDireira = x << 2 # 11110000\n",
    "operadorDeslocarEsquerda = x >> 2 #00001111\n",
    "\n",
    "operadorDeslocarDireira = y << 10  #00001101 -> 2 00110100 3 -> 001101000 -> 5 00110100000 -> 10 11010000000000\n",
    "operadorDeslocarEsquerda = y >> 3 #00001101 -> 2 00000011 -> 3 00000001\n",
    "\n",
    "print('Resultado',operadorE,'Binario',bin(operadorE))\n",
    "print('Resultado',operadorOR,'Binario',bin(operadorOR))\n",
    "print('Resultado',operadorDeslocarDireira,'Binario',bin(operadorDeslocarDireira))\n",
    "print('Resultado',operadorDeslocarEsquerda,'Binario',bin(operadorDeslocarEsquerda))"
   ]
  },
  {
   "cell_type": "markdown",
   "metadata": {},
   "source": [
    "Exemplo do professor"
   ]
  },
  {
   "cell_type": "code",
   "execution_count": 7,
   "metadata": {},
   "outputs": [
    {
     "name": "stdout",
     "output_type": "stream",
     "text": [
      "entre com um valor de x : 20\n",
      "entre com um valor de y : 45\n",
      "20 em binário é 010100\n",
      "45 em binário é 101101\n",
      "\n",
      "010100\n",
      "101101 &\n",
      "--------\n",
      "000100\n"
     ]
    }
   ],
   "source": [
    "x = int(input(\"entre com um valor de x : \"))\n",
    "y = int(input(\"entre com um valor de y : \"))\n",
    "\n",
    "# para visualizar a forma binária do número\n",
    "x_bin = \"{0:b}\".format(x)\n",
    "y_bin = \"{0:b}\".format(y)\n",
    "\n",
    "# executando a operação de bitwise and\n",
    "resultado = \"{0:b}\".format(x & y)\n",
    "\n",
    "# apenas deixando os valores binário com mesmo tamanho\n",
    "# para facilitar a visualização das mesmas\n",
    "m = max(len(x_bin), len(y_bin), len(resultado))\n",
    "x_bin = \"0\" * (m - len(x_bin))  + x_bin\n",
    "y_bin = \"0\" * (m - len(y_bin))  + y_bin\n",
    "resultado = \"0\" * (m - len(resultado))  + resultado\n",
    "\n",
    "# imprimindo os resultados\n",
    "print(\"{x} em binário é {x_bin}\".format(x=x, x_bin=x_bin))\n",
    "print(\"{y} em binário é {y_bin}\".format(y=y, y_bin=y_bin))\n",
    "print()\n",
    "print(x_bin)\n",
    "print(y_bin, '&')\n",
    "print('-' * (m + 2))\n",
    "print(resultado)"
   ]
  },
  {
   "cell_type": "code",
   "execution_count": 8,
   "metadata": {},
   "outputs": [
    {
     "name": "stdout",
     "output_type": "stream",
     "text": [
      "entre com um valor de x : 20\n",
      "entre com um valor de y : 14\n",
      "20 em binário é 10100\n",
      "14 em binário é 01110\n",
      "\n",
      "10100\n",
      "01110 &\n",
      "-------\n",
      "11110\n"
     ]
    }
   ],
   "source": [
    "x = int(input(\"entre com um valor de x : \"))\n",
    "y = int(input(\"entre com um valor de y : \"))\n",
    "\n",
    "# para visualizar a forma binária do número\n",
    "x_bin = \"{0:b}\".format(x)\n",
    "y_bin = \"{0:b}\".format(y)\n",
    "\n",
    "# executando a operação de bitwise or\n",
    "resultado = \"{0:b}\".format(x | y)\n",
    "\n",
    "# apenas deixando os valores binário com mesmo tamanho\n",
    "# para facilitar a visualização das mesmas\n",
    "m = max(len(x_bin), len(y_bin), len(resultado))\n",
    "x_bin = \"0\" * (m - len(x_bin))  + x_bin\n",
    "y_bin = \"0\" * (m - len(y_bin))  + y_bin\n",
    "resultado = \"0\" * (m - len(resultado))  + resultado\n",
    "\n",
    "# imprimindo os resultados\n",
    "print(\"{x} em binário é {x_bin}\".format(x=x, x_bin=x_bin))\n",
    "print(\"{y} em binário é {y_bin}\".format(y=y, y_bin=y_bin))\n",
    "print()\n",
    "print(x_bin)\n",
    "print(y_bin, '&')\n",
    "print('-' * (m + 2))\n",
    "print(resultado)"
   ]
  },
  {
   "cell_type": "code",
   "execution_count": 10,
   "metadata": {},
   "outputs": [
    {
     "name": "stdout",
     "output_type": "stream",
     "text": [
      "entre com um valor de x : 10\n",
      "entre com um valor de y : 10\n",
      "10 em binário é 1010\n",
      "10 em binário é 1010\n",
      "\n",
      "1010\n",
      "1010 &\n",
      "------\n",
      "0000\n"
     ]
    }
   ],
   "source": [
    "x = int(input(\"entre com um valor de x : \"))\n",
    "y = int(input(\"entre com um valor de y : \"))\n",
    "\n",
    "# para visualizar a forma binária do número\n",
    "x_bin = \"{0:b}\".format(x)\n",
    "y_bin = \"{0:b}\".format(y)\n",
    "\n",
    "# executando a operação de bitwise xor\n",
    "resultado = \"{0:b}\".format(x ^ y)\n",
    "\n",
    "# apenas deixando os valores binário com mesmo tamanho\n",
    "# para facilitar a visualização das mesmas\n",
    "m = max(len(x_bin), len(y_bin), len(resultado))\n",
    "x_bin = \"0\" * (m - len(x_bin))  + x_bin\n",
    "y_bin = \"0\" * (m - len(y_bin))  + y_bin\n",
    "resultado = \"0\" * (m - len(resultado))  + resultado\n",
    "\n",
    "# imprimindo os resultados\n",
    "print(\"{x} em binário é {x_bin}\".format(x=x, x_bin=x_bin))\n",
    "print(\"{y} em binário é {y_bin}\".format(y=y, y_bin=y_bin))\n",
    "print()\n",
    "print(x_bin)\n",
    "print(y_bin, '&')\n",
    "print('-' * (m + 2))\n",
    "print(resultado)"
   ]
  },
  {
   "cell_type": "code",
   "execution_count": 12,
   "metadata": {},
   "outputs": [
    {
     "name": "stdout",
     "output_type": "stream",
     "text": [
      "entre com um valor de x : 10\n",
      "entre com um valor de y : 1\n",
      "10 em binário é 1010\n",
      "\n",
      "10 >> 1 = 1010 >> 1 = 0101 = 5\n"
     ]
    }
   ],
   "source": [
    "x = int(input(\"entre com um valor de x : \"))\n",
    "y = int(input(\"entre com um valor de y : \"))\n",
    "\n",
    "# para visualizar a forma binária do número\n",
    "x_bin = \"{0:b}\".format(x)\n",
    "\n",
    "# executando a operação de bitwise descolamento para direita\n",
    "resultado = \"{0:b}\".format(x >> y)\n",
    "\n",
    "# apenas deixando os valores binário com mesmo tamanho\n",
    "# para facilitar a visualização das mesmas\n",
    "m = max(len(x_bin), len(resultado))\n",
    "x_bin = \"0\" * (m - len(x_bin))  + x_bin\n",
    "resultado = \"0\" * (m - len(resultado))  + resultado\n",
    "\n",
    "# imprimindo os resultados\n",
    "print(\"{x} em binário é {x_bin}\".format(x=x, x_bin=x_bin))\n",
    "print()\n",
    "print(\"{x} >> {y} = {x_bin} >> {y} = {resultado} = {r}\".\n",
    "        format(x=x, y=y, x_bin=x_bin,\n",
    "                resultado=resultado, r=x >> y))"
   ]
  },
  {
   "cell_type": "code",
   "execution_count": 14,
   "metadata": {},
   "outputs": [
    {
     "name": "stdout",
     "output_type": "stream",
     "text": [
      "entre com um valor de x : 10\n",
      "entre com um valor de y : 10\n",
      "10 em binário é 00000000001010\n",
      "\n",
      "10 << 10 = 00000000001010 << 10 = 10100000000000 = 10240\n"
     ]
    }
   ],
   "source": [
    "x = int(input(\"entre com um valor de x : \"))\n",
    "y = int(input(\"entre com um valor de y : \"))\n",
    "\n",
    "# para visualizar a forma binária do número\n",
    "x_bin = \"{0:b}\".format(x)\n",
    "\n",
    "# executando a operação de bitwise descolamento para esquerda\n",
    "resultado = \"{0:b}\".format(x << y)\n",
    "\n",
    "# apenas deixando os valores binário com mesmo tamanho\n",
    "# para facilitar a visualização das mesmas\n",
    "m = max(len(x_bin), len(resultado))\n",
    "x_bin = \"0\" * (m - len(x_bin))  + x_bin\n",
    "resultado = \"0\" * (m - len(resultado))  + resultado\n",
    "\n",
    "# imprimindo os resultados\n",
    "print(\"{x} em binário é {x_bin}\".format(x=x, x_bin=x_bin))\n",
    "print()\n",
    "print(\"{x} << {y} = {x_bin} << {y} = {resultado} = {r}\".\n",
    "        format(x=x, y=y, x_bin=x_bin,\n",
    "                resultado=resultado, r=x << y))"
   ]
  },
  {
   "cell_type": "markdown",
   "metadata": {},
   "source": [
    "<b>Controle de Fluxo</b>"
   ]
  },
  {
   "cell_type": "code",
   "execution_count": 28,
   "metadata": {},
   "outputs": [
    {
     "name": "stdout",
     "output_type": "stream",
     "text": [
      "Informe o numero10\n",
      "Par\n"
     ]
    }
   ],
   "source": [
    "#if e else\n",
    "\n",
    "x = int(input(\"Informe o numero\"))\n",
    " \n",
    "if x%2 == 0:\n",
    "    print(\"Par\")\n",
    "else:\n",
    "    print(\"Impar\")\n",
    "    \n",
    "#Mais condições\n",
    "'''\n",
    "if <condicao>:\n",
    "    <acao>\n",
    "elif <c>:\n",
    "    <acao>\n",
    "elif <c2>:\n",
    "    <acao>\n",
    "else:\n",
    "    <acao>\n",
    "'''"
   ]
  },
  {
   "cell_type": "code",
   "execution_count": 31,
   "metadata": {},
   "outputs": [
    {
     "name": "stdout",
     "output_type": "stream",
     "text": [
      "Nº Impar: -3\n",
      "Nº Par: -2\n",
      "Nº Impar: -1\n",
      "Nº Par: 0\n",
      "Nº Impar: 1\n",
      "Nº Par: 2\n",
      "Nº Impar: 3\n",
      "Nº Par: 4\n"
     ]
    }
   ],
   "source": [
    "#for\n",
    "\"\"\"\n",
    "Esse programa imprime todos números inteiros \n",
    "entre zero e o valor informado `num`.\n",
    "\"\"\"\n",
    "num = 5\n",
    "    \n",
    "# range também permite alterar os passos da\n",
    "# sequência. por exemplo, nesse exemplo a\n",
    "# sequência vai de -10 até o número estabelecido\n",
    "# de 2 em 2.\n",
    "sequencia = list(range(-3, num, 1))\n",
    "for val in sequencia:\n",
    "    if val % 2 == 0:\n",
    "        print(\"Nº Par:\",val)\n",
    "    else:\n",
    "        print(\"Nº Impar:\", val)\n",
    "del sequencia, val"
   ]
  },
  {
   "cell_type": "code",
   "execution_count": 34,
   "metadata": {},
   "outputs": [
    {
     "name": "stdout",
     "output_type": "stream",
     "text": [
      "0\n",
      "1\n",
      "2\n",
      "fim...\n"
     ]
    }
   ],
   "source": [
    "\"\"\"\n",
    "Esse programa imprime todos números inteiros \n",
    "entre zero e o valor informado `num`.\n",
    "\"\"\"\n",
    "num = 3\n",
    "i = 0\n",
    "\n",
    "expressao = i < num\n",
    "while expressao:\n",
    "    print(i)\n",
    "    i += 1\n",
    "    expressao = i < num\n",
    "    #break -> Sair do laço\n",
    "    #continue -> Volta ao inicio sem executar a iteração atá o final\n",
    "\n",
    "print('fim...')"
   ]
  },
  {
   "cell_type": "markdown",
   "metadata": {},
   "source": [
    "<b> Funções </b>"
   ]
  },
  {
   "cell_type": "code",
   "execution_count": 1,
   "metadata": {},
   "outputs": [
    {
     "name": "stdout",
     "output_type": "stream",
     "text": [
      "Olá Raphael!!!\n",
      "retorno da função é :  None\n",
      " \n",
      "    Imprime uma saudação dado um nome.\n",
      "    \n",
      "    :param nome: str.\n",
      "        nome de alguém\n",
      "    \n"
     ]
    }
   ],
   "source": [
    "# definindo uma função simples\n",
    "# que omite a claúsula `return`\n",
    "def saudacoes(nome):\n",
    "    \"\"\" \n",
    "    Imprime uma saudação dado um nome.\n",
    "    \n",
    "    :param nome: str.\n",
    "        nome de alguém\n",
    "    \"\"\"\n",
    "    print(\"Olá {}!!!\".format(nome))\n",
    "    \n",
    "\n",
    "# chamando a função\n",
    "retorno = saudacoes(\"Raphael\")\n",
    "\n",
    "# verificando o que a função returna\n",
    "print(\"retorno da função é : \", retorno)\n",
    "\n",
    "print(saudacoes.__doc__)"
   ]
  }
 ],
 "metadata": {
  "kernelspec": {
   "display_name": "Python 2",
   "language": "python",
   "name": "python2"
  },
  "language_info": {
   "codemirror_mode": {
    "name": "ipython",
    "version": 2
   },
   "file_extension": ".py",
   "mimetype": "text/x-python",
   "name": "python",
   "nbconvert_exporter": "python",
   "pygments_lexer": "ipython2",
   "version": "2.7.16"
  }
 },
 "nbformat": 4,
 "nbformat_minor": 2
}
