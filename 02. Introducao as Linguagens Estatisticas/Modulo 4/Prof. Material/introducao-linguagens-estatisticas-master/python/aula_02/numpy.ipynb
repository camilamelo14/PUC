{
 "cells": [
  {
   "cell_type": "markdown",
   "metadata": {},
   "source": [
    "# Numpy\n",
    "\n",
    "Numpy é uma biblioteca (pacote python) que prove varias funções numéricas para trabalhamos eficientemente com array multidimensionais homogeneos. Esse array é uma tabela de elementes (geralmente de numeros), todos no mesmo tipo, indexados por uma tupla de inteiros positivos. No NumPy dimensões são chamadas de eixos (axes).\n",
    "\n",
    "Um exemplo de array multimensional de pontos flutuante.\n",
    "\n",
    "```python\n",
    "[[ 1., 0., 0.],\n",
    " [ 0., 1., 2.]]\n",
    "``` \n",
    "\n",
    "Tipo do array do numpy é chamdo de ndarray. Os atributos mais importantes de um objeto do tipo ndarray são:\n",
    "\n",
    "- **ndrray.ndim**\n",
    "\n",
    "    número de dimensões (eixos) que o array possui\n",
    "    \n",
    "    \n",
    "- **ndarray.shape**\n",
    "\n",
    "    os valores das dimensões (eixos) do array. Por exemplo, uma matrix com n linhas e m colunas terá o shape = (n, m).\n",
    "\n",
    "\n",
    "- **ndarray.size**\n",
    "\n",
    "    Total de elementos no array. É equivalente ao produto dos elementos do shape.\n",
    "\n",
    "\n",
    "- **ndarray.dtype**\n",
    "\n",
    "    O tipo dos elementos armazenados no array.\n",
    "\n",
    "\n",
    "- **ndrray.itemsize**\n",
    "\n",
    "    Tamanho em bytes de cada elemento no array.\n",
    "\n",
    "\n",
    "- **ndarray.data**\n",
    "\n",
    "    Um buffer contendo realmente os elementos do array. Geralemente, não precisamos acessá-lo diretamente, pois utilizaremos o mecanismo de indexição que veremos a seguir.\n",
    "\n",
    "\n",
    "### Exemplo"
   ]
  },
  {
   "cell_type": "code",
   "execution_count": 1,
   "metadata": {},
   "outputs": [
    {
     "name": "stdout",
     "output_type": "stream",
     "text": [
      "a : \n",
      "b : \n",
      "int64\n",
      "float64\n",
      "<class 'numpy.ndarray'>\n"
     ]
    }
   ],
   "source": [
    "import numpy as np\n",
    "\n",
    "# criando um ndarray a partir de uma lista\n",
    "a = np.array([1, 2, 3, 4, 5, 6])\n",
    "\n",
    "# cria um array 2D com 15 elementos de 0 a 14\n",
    "# com 3 linhas e 5 colunas\n",
    "b = np.arange(15).reshape(3, 5)\n",
    "\n",
    "print(\"a : \"), (a), (\"dims: \"), (a.ndim)\n",
    "\n",
    "print(\"b : \"), (b), (\"dims: \"), (b.ndim)\n",
    "\n",
    "# tipo dos elementos no array\n",
    "print(a.dtype)\n",
    "\n",
    "# convertendo para float\n",
    "print(b.astype(float).dtype)\n",
    "\n",
    "print(type(a))"
   ]
  },
  {
   "cell_type": "markdown",
   "metadata": {},
   "source": [
    "### Criando array\n",
    "\n",
    "Há varias formas de criar um ndarray.\n",
    "\n",
    "Por exemplo, você pode criar a partir de uma lista ou tupla Python com a função ```array```.\n",
    "O tipo dos elementos será inferido a partir do elementos na lista."
   ]
  },
  {
   "cell_type": "code",
   "execution_count": 2,
   "metadata": {},
   "outputs": [
    {
     "name": "stdout",
     "output_type": "stream",
     "text": [
      "[2.  3.4 4. ] float64\n",
      "[2 3 4] int64\n"
     ]
    }
   ],
   "source": [
    "import numpy as np\n",
    "\n",
    "a = np.array([2, 3.4, 4])\n",
    "\n",
    "print(a, a.dtype)\n",
    "\n",
    "a = np.array([2, 3, 4])\n",
    "\n",
    "print(a, a.dtype)"
   ]
  },
  {
   "cell_type": "markdown",
   "metadata": {},
   "source": [
    "Um erro frequente é chamar a função ```array``` com múltiplos argumentos, ao invés de passar apenas uma única lista de elementos.   "
   ]
  },
  {
   "cell_type": "code",
   "execution_count": 3,
   "metadata": {},
   "outputs": [],
   "source": [
    "# descomente para testar\n",
    "# a = np.array(1,2,3,4) # errado\n",
    "a = np.array([1,2,3,4]) # certo"
   ]
  },
  {
   "cell_type": "markdown",
   "metadata": {},
   "source": [
    "A função array transforma sequencia de sequência em arrays multidimensioanis."
   ]
  },
  {
   "cell_type": "code",
   "execution_count": 4,
   "metadata": {},
   "outputs": [
    {
     "data": {
      "text/plain": [
       "array([[1., 0., 0.],\n",
       "       [0., 1., 2.]])"
      ]
     },
     "execution_count": 4,
     "metadata": {},
     "output_type": "execute_result"
    }
   ],
   "source": [
    "a = [(1., 0., 0),\n",
    "     (0., 1., 2.)]\n",
    "b = np.array(a)\n",
    "b"
   ]
  },
  {
   "cell_type": "code",
   "execution_count": 5,
   "metadata": {},
   "outputs": [
    {
     "data": {
      "text/plain": [
       "array([[1.+0.j, 0.+0.j, 0.+0.j],\n",
       "       [0.+0.j, 1.+0.j, 2.+0.j]])"
      ]
     },
     "execution_count": 5,
     "metadata": {},
     "output_type": "execute_result"
    }
   ],
   "source": [
    "a = [(1., 0., 0),\n",
    "     (0., 1., 2.)]\n",
    "# explicitamente falando qual é o tipo dos elementos\n",
    "b = np.array(a, dtype=complex)\n",
    "b"
   ]
  },
  {
   "cell_type": "markdown",
   "metadata": {},
   "source": [
    "Geralmente, nós sabemos as dimensões do array, porém não sabemos seu valor. O Numpy nos ofere funções para criar arrays pre-preenchidos com valores padrões. "
   ]
  },
  {
   "cell_type": "code",
   "execution_count": 6,
   "metadata": {},
   "outputs": [
    {
     "name": "stdout",
     "output_type": "stream",
     "text": [
      "[[0. 0. 0. 0.]\n",
      " [0. 0. 0. 0.]\n",
      " [0. 0. 0. 0.]]\n",
      "[1. 1. 1.]\n",
      "[[[6.90555598e-310 1.84672648e-316 6.90550907e-310 6.90554811e-310\n",
      "   6.90550944e-310 6.90554978e-310 6.90555311e-310 6.90555617e-310\n",
      "   6.90555617e-310 6.90555617e-310]\n",
      "  [6.90555617e-310 6.90555617e-310 6.90555287e-310 6.90550892e-310\n",
      "   6.90550890e-310 6.90550890e-310 6.90550890e-310 6.90550890e-310\n",
      "   6.90550890e-310 6.90550890e-310]]]\n"
     ]
    }
   ],
   "source": [
    "# array apenas com zeros\n",
    "# recebe como parametro o shape\n",
    "# shape sempre é uma tupla\n",
    "print(np.zeros((3, 4)))\n",
    "\n",
    "# array apenas de uns\n",
    "print(np.ones((3)))\n",
    "\n",
    "# array não inicializado \n",
    "# (apenas lixos, valores podem sofre alteraco)\n",
    "print(np.empty((1,2,10)))"
   ]
  },
  {
   "cell_type": "markdown",
   "metadata": {},
   "source": [
    "### Criando sequências de números (arange)\n",
    "\n",
    "A função ```arange``` sequências numéricas assim como a ``` range``` do Python."
   ]
  },
  {
   "cell_type": "code",
   "execution_count": 7,
   "metadata": {},
   "outputs": [
    {
     "name": "stdout",
     "output_type": "stream",
     "text": [
      "[10 15 20 25]\n",
      "[0.  0.5 1.  1.5 2.  2.5 3.  3.5 4.  4.5 5.  5.5 6.  6.5 7.  7.5 8.  8.5\n",
      " 9.  9.5]\n"
     ]
    }
   ],
   "source": [
    "print(np.arange(10, 30, 5))\n",
    "\n",
    "# também aceita float\n",
    "print(np.arange(0, 10, 0.5))"
   ]
  },
  {
   "cell_type": "markdown",
   "metadata": {},
   "source": [
    "Quando utilizamos ```arange``` com float, muitas vezes é impossível saber quantos elementos a sequência vai ter. Portanto, é preferível utiliar a função linspace, com a qual nós passamos o número de elementos ao invés do passo:"
   ]
  },
  {
   "cell_type": "code",
   "execution_count": 8,
   "metadata": {},
   "outputs": [
    {
     "data": {
      "text/plain": [
       "array([0. , 0.5, 1. , 1.5, 2. , 2.5, 3. , 3.5, 4. , 4.5, 5. , 5.5, 6. ,\n",
       "       6.5, 7. , 7.5, 8. , 8.5, 9. , 9.5])"
      ]
     },
     "execution_count": 8,
     "metadata": {},
     "output_type": "execute_result"
    }
   ],
   "source": [
    "np.linspace(0, 9.5, 20)"
   ]
  },
  {
   "cell_type": "markdown",
   "metadata": {},
   "source": [
    "## Criando números aleatórios\n",
    "\n",
    "Numpy também nos provê meios de criar arrays com números aleatórios. Para isso vamos utilizar o subpacote ```random```."
   ]
  },
  {
   "cell_type": "code",
   "execution_count": 9,
   "metadata": {
    "scrolled": true
   },
   "outputs": [
    {
     "name": "stdout",
     "output_type": "stream",
     "text": [
      "[0.38105501 0.80583574 0.14380095 0.29663641 0.28152494 0.45616514\n",
      " 0.8703724  0.22833616 0.48595072 0.17402179]\n",
      "[8 7 9 9 7 8 9 7 8 2]\n",
      "[[0.67991126 0.02631074 0.06782325 0.64745662 0.52986122]\n",
      " [0.82823619 0.12885454 0.10615917 0.68742113 0.27912875]]\n"
     ]
    }
   ],
   "source": [
    "# criando 10 valores entre 0 - 1\n",
    "print(np.random.uniform(0, 1, 10))\n",
    "\n",
    "# criando 10 valores entre 0 - 10\n",
    "print(np.random.randint(0, 10, 10))\n",
    "\n",
    "# criando uma matrix 2x5 com valores aleatórios (entre 0 - 1)\n",
    "print(np.random.rand(2, 5))"
   ]
  },
  {
   "cell_type": "markdown",
   "metadata": {},
   "source": [
    "## Operações basicas\n",
    "\n",
    "As operações aritiméticas são aplicadas elemento a elemento. Como resultado um novo arry é criado preenchido com os valores resultantes."
   ]
  },
  {
   "cell_type": "code",
   "execution_count": 10,
   "metadata": {},
   "outputs": [
    {
     "name": "stdout",
     "output_type": "stream",
     "text": [
      "[ 80 160 200]\n",
      "[24 44 54]\n",
      "[-16 -36 -46]\n",
      "[200  80 250]\n",
      "[30 42 55]\n",
      "[10 38 45]\n",
      "[2.30258509 0.69314718 1.60943791]\n",
      "[3.16227766 1.41421356 2.23606798]\n"
     ]
    }
   ],
   "source": [
    "# array\n",
    "a = np.array([20, 40, 50])\n",
    "\n",
    "# escalar\n",
    "b = 4\n",
    "\n",
    "print(b * a)\n",
    "print(b + a)\n",
    "print(b - a)\n",
    "\n",
    "c = np.array([10, 2, 5])\n",
    "\n",
    "print(a * c)\n",
    "print(a + c)\n",
    "print(a - c)\n",
    "\n",
    "print(np.log(c))\n",
    "print(np.sqrt(c))"
   ]
  },
  {
   "cell_type": "markdown",
   "metadata": {},
   "source": [
    "O operador \\* no numpy faz o produto elemento a elemento de uma matrix. Para fazer a multiplicação de matrix é utilizado a função ```dot```."
   ]
  },
  {
   "cell_type": "code",
   "execution_count": 11,
   "metadata": {},
   "outputs": [
    {
     "name": "stdout",
     "output_type": "stream",
     "text": [
      "[[2 0]\n",
      " [0 4]]\n",
      "[[5 4]\n",
      " [3 4]]\n",
      "[[5 4]\n",
      " [3 4]]\n"
     ]
    }
   ],
   "source": [
    "A = np.array([[1, 1], [0,1]])\n",
    "B = np.array([[2, 0], [3,4]])\n",
    "\n",
    "print(A * B)\n",
    "\n",
    "print(A.dot(B))\n",
    "\n",
    "print(np.dot(A, B))"
   ]
  },
  {
   "cell_type": "markdown",
   "metadata": {},
   "source": [
    "## Vetorizando laços\n",
    "\n",
    "Laço em Python são custosos. Isso fica evidente, sobretudo, quando estamos mexendo com muitos dados.\n",
    "Numpy, implementa eficientemente, várias funções matemáticas que são operadas sobre listas (arrays).\n",
    "\n",
    "#### Outras funções matemáticas\n",
    "\n",
    "all, any, apply_along_axis, argmax, argmin, argsort, average, bincount, ceil, clip, conj, corrcoef, cov, cross, cumprod, cumsum, diff, dot, floor, inner, inv, lexsort, max, maximum, mean, median, min, minimum, nonzero, outer, prod, re, round, sort, std, sum, trace, transpose, var, vdot, vectorize, where\n",
    "\n",
    "Vamos vetorizar a função somatório utilizando a função numpy sum e comprar uma implementação iterativa escrita puramente em python."
   ]
  },
  {
   "cell_type": "code",
   "execution_count": 12,
   "metadata": {},
   "outputs": [
    {
     "ename": "NameError",
     "evalue": "name 'reduce' is not defined",
     "output_type": "error",
     "traceback": [
      "\u001b[0;31m---------------------------------------------------------------------------\u001b[0m",
      "\u001b[0;31mNameError\u001b[0m                                 Traceback (most recent call last)",
      "\u001b[0;32m<ipython-input-12-df6cc0413d16>\u001b[0m in \u001b[0;36m<module>\u001b[0;34m()\u001b[0m\n\u001b[1;32m      8\u001b[0m     \u001b[0;32mreturn\u001b[0m \u001b[0msoma\u001b[0m\u001b[0;34m\u001b[0m\u001b[0m\n\u001b[1;32m      9\u001b[0m \u001b[0;34m\u001b[0m\u001b[0m\n\u001b[0;32m---> 10\u001b[0;31m \u001b[0mget_ipython\u001b[0m\u001b[0;34m(\u001b[0m\u001b[0;34m)\u001b[0m\u001b[0;34m.\u001b[0m\u001b[0mrun_line_magic\u001b[0m\u001b[0;34m(\u001b[0m\u001b[0;34m'timeit'\u001b[0m\u001b[0;34m,\u001b[0m \u001b[0;34m'reduce(lambda a, b: a + b, arr)'\u001b[0m\u001b[0;34m)\u001b[0m\u001b[0;34m\u001b[0m\u001b[0m\n\u001b[0m\u001b[1;32m     11\u001b[0m \u001b[0mget_ipython\u001b[0m\u001b[0;34m(\u001b[0m\u001b[0;34m)\u001b[0m\u001b[0;34m.\u001b[0m\u001b[0mrun_line_magic\u001b[0m\u001b[0;34m(\u001b[0m\u001b[0;34m'timeit'\u001b[0m\u001b[0;34m,\u001b[0m \u001b[0;34m'isum(arr)'\u001b[0m\u001b[0;34m)\u001b[0m\u001b[0;34m\u001b[0m\u001b[0m\n\u001b[1;32m     12\u001b[0m \u001b[0mget_ipython\u001b[0m\u001b[0;34m(\u001b[0m\u001b[0;34m)\u001b[0m\u001b[0;34m.\u001b[0m\u001b[0mrun_line_magic\u001b[0m\u001b[0;34m(\u001b[0m\u001b[0;34m'timeit'\u001b[0m\u001b[0;34m,\u001b[0m \u001b[0;34m'np.sum(arr)'\u001b[0m\u001b[0;34m)\u001b[0m\u001b[0;34m\u001b[0m\u001b[0m\n",
      "\u001b[0;32m~/Documents/puc/introducao-linguagens-estatisticas/.venv/lib/python3.5/site-packages/IPython/core/interactiveshell.py\u001b[0m in \u001b[0;36mrun_line_magic\u001b[0;34m(self, magic_name, line, _stack_depth)\u001b[0m\n\u001b[1;32m   2093\u001b[0m                 \u001b[0mkwargs\u001b[0m\u001b[0;34m[\u001b[0m\u001b[0;34m'local_ns'\u001b[0m\u001b[0;34m]\u001b[0m \u001b[0;34m=\u001b[0m \u001b[0msys\u001b[0m\u001b[0;34m.\u001b[0m\u001b[0m_getframe\u001b[0m\u001b[0;34m(\u001b[0m\u001b[0mstack_depth\u001b[0m\u001b[0;34m)\u001b[0m\u001b[0;34m.\u001b[0m\u001b[0mf_locals\u001b[0m\u001b[0;34m\u001b[0m\u001b[0m\n\u001b[1;32m   2094\u001b[0m             \u001b[0;32mwith\u001b[0m \u001b[0mself\u001b[0m\u001b[0;34m.\u001b[0m\u001b[0mbuiltin_trap\u001b[0m\u001b[0;34m:\u001b[0m\u001b[0;34m\u001b[0m\u001b[0m\n\u001b[0;32m-> 2095\u001b[0;31m                 \u001b[0mresult\u001b[0m \u001b[0;34m=\u001b[0m \u001b[0mfn\u001b[0m\u001b[0;34m(\u001b[0m\u001b[0;34m*\u001b[0m\u001b[0margs\u001b[0m\u001b[0;34m,\u001b[0m\u001b[0;34m**\u001b[0m\u001b[0mkwargs\u001b[0m\u001b[0;34m)\u001b[0m\u001b[0;34m\u001b[0m\u001b[0m\n\u001b[0m\u001b[1;32m   2096\u001b[0m             \u001b[0;32mreturn\u001b[0m \u001b[0mresult\u001b[0m\u001b[0;34m\u001b[0m\u001b[0m\n\u001b[1;32m   2097\u001b[0m \u001b[0;34m\u001b[0m\u001b[0m\n",
      "\u001b[0;32m<decorator-gen-61>\u001b[0m in \u001b[0;36mtimeit\u001b[0;34m(self, line, cell, local_ns)\u001b[0m\n",
      "\u001b[0;32m~/Documents/puc/introducao-linguagens-estatisticas/.venv/lib/python3.5/site-packages/IPython/core/magic.py\u001b[0m in \u001b[0;36m<lambda>\u001b[0;34m(f, *a, **k)\u001b[0m\n\u001b[1;32m    185\u001b[0m     \u001b[0;31m# but it's overkill for just that one bit of state.\u001b[0m\u001b[0;34m\u001b[0m\u001b[0;34m\u001b[0m\u001b[0m\n\u001b[1;32m    186\u001b[0m     \u001b[0;32mdef\u001b[0m \u001b[0mmagic_deco\u001b[0m\u001b[0;34m(\u001b[0m\u001b[0marg\u001b[0m\u001b[0;34m)\u001b[0m\u001b[0;34m:\u001b[0m\u001b[0;34m\u001b[0m\u001b[0m\n\u001b[0;32m--> 187\u001b[0;31m         \u001b[0mcall\u001b[0m \u001b[0;34m=\u001b[0m \u001b[0;32mlambda\u001b[0m \u001b[0mf\u001b[0m\u001b[0;34m,\u001b[0m \u001b[0;34m*\u001b[0m\u001b[0ma\u001b[0m\u001b[0;34m,\u001b[0m \u001b[0;34m**\u001b[0m\u001b[0mk\u001b[0m\u001b[0;34m:\u001b[0m \u001b[0mf\u001b[0m\u001b[0;34m(\u001b[0m\u001b[0;34m*\u001b[0m\u001b[0ma\u001b[0m\u001b[0;34m,\u001b[0m \u001b[0;34m**\u001b[0m\u001b[0mk\u001b[0m\u001b[0;34m)\u001b[0m\u001b[0;34m\u001b[0m\u001b[0m\n\u001b[0m\u001b[1;32m    188\u001b[0m \u001b[0;34m\u001b[0m\u001b[0m\n\u001b[1;32m    189\u001b[0m         \u001b[0;32mif\u001b[0m \u001b[0mcallable\u001b[0m\u001b[0;34m(\u001b[0m\u001b[0marg\u001b[0m\u001b[0;34m)\u001b[0m\u001b[0;34m:\u001b[0m\u001b[0;34m\u001b[0m\u001b[0m\n",
      "\u001b[0;32m~/Documents/puc/introducao-linguagens-estatisticas/.venv/lib/python3.5/site-packages/IPython/core/magics/execution.py\u001b[0m in \u001b[0;36mtimeit\u001b[0;34m(self, line, cell, local_ns)\u001b[0m\n\u001b[1;32m   1096\u001b[0m             \u001b[0;32mfor\u001b[0m \u001b[0mindex\u001b[0m \u001b[0;32min\u001b[0m \u001b[0mrange\u001b[0m\u001b[0;34m(\u001b[0m\u001b[0;36m0\u001b[0m\u001b[0;34m,\u001b[0m \u001b[0;36m10\u001b[0m\u001b[0;34m)\u001b[0m\u001b[0;34m:\u001b[0m\u001b[0;34m\u001b[0m\u001b[0m\n\u001b[1;32m   1097\u001b[0m                 \u001b[0mnumber\u001b[0m \u001b[0;34m=\u001b[0m \u001b[0;36m10\u001b[0m \u001b[0;34m**\u001b[0m \u001b[0mindex\u001b[0m\u001b[0;34m\u001b[0m\u001b[0m\n\u001b[0;32m-> 1098\u001b[0;31m                 \u001b[0mtime_number\u001b[0m \u001b[0;34m=\u001b[0m \u001b[0mtimer\u001b[0m\u001b[0;34m.\u001b[0m\u001b[0mtimeit\u001b[0m\u001b[0;34m(\u001b[0m\u001b[0mnumber\u001b[0m\u001b[0;34m)\u001b[0m\u001b[0;34m\u001b[0m\u001b[0m\n\u001b[0m\u001b[1;32m   1099\u001b[0m                 \u001b[0;32mif\u001b[0m \u001b[0mtime_number\u001b[0m \u001b[0;34m>=\u001b[0m \u001b[0;36m0.2\u001b[0m\u001b[0;34m:\u001b[0m\u001b[0;34m\u001b[0m\u001b[0m\n\u001b[1;32m   1100\u001b[0m                     \u001b[0;32mbreak\u001b[0m\u001b[0;34m\u001b[0m\u001b[0m\n",
      "\u001b[0;32m~/Documents/puc/introducao-linguagens-estatisticas/.venv/lib/python3.5/site-packages/IPython/core/magics/execution.py\u001b[0m in \u001b[0;36mtimeit\u001b[0;34m(self, number)\u001b[0m\n\u001b[1;32m    158\u001b[0m         \u001b[0mgc\u001b[0m\u001b[0;34m.\u001b[0m\u001b[0mdisable\u001b[0m\u001b[0;34m(\u001b[0m\u001b[0;34m)\u001b[0m\u001b[0;34m\u001b[0m\u001b[0m\n\u001b[1;32m    159\u001b[0m         \u001b[0;32mtry\u001b[0m\u001b[0;34m:\u001b[0m\u001b[0;34m\u001b[0m\u001b[0m\n\u001b[0;32m--> 160\u001b[0;31m             \u001b[0mtiming\u001b[0m \u001b[0;34m=\u001b[0m \u001b[0mself\u001b[0m\u001b[0;34m.\u001b[0m\u001b[0minner\u001b[0m\u001b[0;34m(\u001b[0m\u001b[0mit\u001b[0m\u001b[0;34m,\u001b[0m \u001b[0mself\u001b[0m\u001b[0;34m.\u001b[0m\u001b[0mtimer\u001b[0m\u001b[0;34m)\u001b[0m\u001b[0;34m\u001b[0m\u001b[0m\n\u001b[0m\u001b[1;32m    161\u001b[0m         \u001b[0;32mfinally\u001b[0m\u001b[0;34m:\u001b[0m\u001b[0;34m\u001b[0m\u001b[0m\n\u001b[1;32m    162\u001b[0m             \u001b[0;32mif\u001b[0m \u001b[0mgcold\u001b[0m\u001b[0;34m:\u001b[0m\u001b[0;34m\u001b[0m\u001b[0m\n",
      "\u001b[0;32m<magic-timeit>\u001b[0m in \u001b[0;36minner\u001b[0;34m(_it, _timer)\u001b[0m\n",
      "\u001b[0;31mNameError\u001b[0m: name 'reduce' is not defined"
     ]
    }
   ],
   "source": [
    "# dez milhão de elementos\n",
    "arr = np.arange(10000000) + 1\n",
    "\n",
    "def isum(arr):\n",
    "    soma = 0\n",
    "    for elem in arr:\n",
    "        soma += elem\n",
    "    return soma\n",
    "\n",
    "%timeit reduce(lambda a, b: a + b, arr)\n",
    "%timeit isum(arr)\n",
    "%timeit np.sum(arr)"
   ]
  },
  {
   "cell_type": "markdown",
   "metadata": {},
   "source": [
    "A função ```sum``` do ```numpy``` é ~150x mais rápida do que o ```reduce``` do python ou a implementação equivalente usando laço ```for```. Por isso, é muito importante utilizar a versão vetorizada das operações.\n",
    "\n",
    "### Exercício\n",
    "\n",
    "Para praticarmos a vetorização de laço, peço que implemente a versão vetorizada do RMSLE implementado anteriormente."
   ]
  },
  {
   "cell_type": "code",
   "execution_count": null,
   "metadata": {},
   "outputs": [],
   "source": [
    "import math\n",
    "\n",
    "def RMSLE(y_true, y_pred):\n",
    "    \"\"\" Root Mean Squared Logarithmic Error \n",
    "    Parâmetros\n",
    "    ----------\n",
    "    y_true : 1d array\n",
    "        Rótulos.\n",
    "    y_pred : 1d array\n",
    "        Predições, retornadas pelo modelo.\n",
    "    \"\"\"\n",
    "    n = len(y_true)\n",
    "    soma = 0\n",
    "    for i in range(n):\n",
    "        soma += (math.log(y_pred[i]) - math.log(y_true[i]))**2\n",
    "    return math.sqrt(soma / n)\n",
    "\n",
    "\n",
    "def vRMSLE(y_true, y_pred):\n",
    "    \"\"\"vectorized Root Mean Squared Logarithmic Error \n",
    "    Parâmetros\n",
    "    ----------\n",
    "    y_true : 1d array\n",
    "        Rótulos.\n",
    "    y_pred : 1d array\n",
    "        Predições, retornadas pelo modelo.\n",
    "    \"\"\"\n",
    "    # TODO: versão vetorizada do RMSLE\n",
    "    pass\n",
    "    \n",
    "    \n",
    "    \n",
    "y_true =  np.arange(1000000) + 1\n",
    "y_pred = y_true - np.random.normal(0, 1, y_true.shape[0])\n",
    "\n",
    "print(RMSLE(y_true, y_pred))\n",
    "print(vRMSLE(y_true, y_pred))\n",
    "\n",
    "# %timeit RMSLE(y_true, y_pred)\n",
    "%timeit vRMSLE(y_true, y_pred)"
   ]
  },
  {
   "cell_type": "markdown",
   "metadata": {},
   "source": [
    "# Indexação, Slicing e Iteração\n",
    "\n",
    "Array uni-dimensional podem ser idenxados, repartidos e iterados muito similarmente a lista e outras sequências do Python."
   ]
  },
  {
   "cell_type": "code",
   "execution_count": null,
   "metadata": {
    "scrolled": false
   },
   "outputs": [],
   "source": [
    "a = np.arange(10)**2\n",
    "\n",
    "print(a)\n",
    "\n",
    "print(a[4])\n",
    "\n",
    "print(a[5:])\n",
    "\n",
    "print(a[::2]) # de 2 em dois\n",
    "\n",
    "print(a[::-1]) # invertendo"
   ]
  },
  {
   "cell_type": "markdown",
   "metadata": {},
   "source": [
    "Array multidimensional tem um indice por eixo."
   ]
  },
  {
   "cell_type": "code",
   "execution_count": null,
   "metadata": {},
   "outputs": [],
   "source": [
    "a = (np.arange(16)**2).reshape((4, 4))\n",
    "\n",
    "print(a)\n",
    "\n",
    "# elemento da linha 0 e coluna 1\n",
    "print(a[0, 1])\n",
    "\n",
    "print(a[:3, 0]) # elementos da linha 0 a 2 da coluna 0\n",
    "\n",
    "print(a[:, 0]) # todos elementos da coluna 0\n",
    "\n",
    "print(a[-1]) # equivalente a a[-1, :]"
   ]
  },
  {
   "cell_type": "code",
   "execution_count": null,
   "metadata": {},
   "outputs": [],
   "source": [
    "for linha in a:\n",
    "    print(linha)"
   ]
  },
  {
   "cell_type": "markdown",
   "metadata": {},
   "source": [
    "## Manipulação do Shape"
   ]
  },
  {
   "cell_type": "code",
   "execution_count": null,
   "metadata": {},
   "outputs": [],
   "source": [
    "a = (np.arange(16)**2).reshape((4, 4))\n",
    "\n",
    "print(a)\n",
    "\n",
    "# flattened array\n",
    "print(a.ravel())\n",
    "\n",
    "# retorna array com novo formato\n",
    "print(a.reshape(8,2))\n",
    "\n",
    "# transposta\n",
    "print(a.T)"
   ]
  },
  {
   "cell_type": "markdown",
   "metadata": {},
   "source": [
    "## Empilhando arrays"
   ]
  },
  {
   "cell_type": "code",
   "execution_count": null,
   "metadata": {},
   "outputs": [],
   "source": [
    "a = np.floor(10*np.random.random((2,2)))\n",
    "\n",
    "print(a)\n",
    "\n",
    "b = np.floor(10*np.random.random((2,2)))\n",
    "\n",
    "print(b)\n",
    "\n",
    "print(np.vstack((a, b)))\n",
    "\n",
    "print(np.hstack((a, b)))"
   ]
  },
  {
   "cell_type": "code",
   "execution_count": null,
   "metadata": {},
   "outputs": [],
   "source": [
    "# equivale ao np.vstack((a, b))\n",
    "print(np.concatenate((a,b), axis=0))\n",
    "\n",
    "# equivale ao np.hstack((a, b))\n",
    "print(np.concatenate((a,b), axis=1))"
   ]
  },
  {
   "cell_type": "markdown",
   "metadata": {},
   "source": [
    "## Cópias\n",
    "\n",
    "Nunca é criado uma cópia do array implicitamente."
   ]
  },
  {
   "cell_type": "code",
   "execution_count": null,
   "metadata": {},
   "outputs": [],
   "source": [
    "a = np.arange(12)\n",
    "\n",
    "b = a\n",
    "\n",
    "print(b is a, id(b), id(a)) # a e b são o mesmo objeto\n",
    "\n",
    "b.shape = 3,4 # muda a\n",
    "a.shape"
   ]
  },
  {
   "cell_type": "markdown",
   "metadata": {},
   "source": [
    "Python passa objetos mutaveis como referência, portanto a chamada de uma função não faz cópia."
   ]
  },
  {
   "cell_type": "code",
   "execution_count": null,
   "metadata": {},
   "outputs": [],
   "source": [
    "def f(x):\n",
    "    print(id(x))\n",
    "    \n",
    "print(id(a))\n",
    "f(a)"
   ]
  },
  {
   "cell_type": "markdown",
   "metadata": {},
   "source": [
    "Sclicing retorna uma view do array. Views são novos objetos do tipo ndarray que apontam para o mesmo dado."
   ]
  },
  {
   "cell_type": "code",
   "execution_count": null,
   "metadata": {},
   "outputs": [],
   "source": [
    "s = a[:, 1:3]    \n",
    "s[:] = 10      \n",
    "a"
   ]
  },
  {
   "cell_type": "markdown",
   "metadata": {},
   "source": [
    "Portanto, é necessário fazer cópias explicitamente (quando desejado) através do métod ```copy```."
   ]
  },
  {
   "cell_type": "code",
   "execution_count": null,
   "metadata": {},
   "outputs": [],
   "source": [
    "d = a.copy()       # um novo objeto com um novo data é criado\n",
    "print(d is a)\n",
    "print(d.base is a) # não compartilha nada com a\n",
    "d[0,0] = 9999\n",
    "a"
   ]
  },
  {
   "cell_type": "markdown",
   "metadata": {},
   "source": [
    "## Truques de Indexação\n",
    "\n",
    "NumPy oferece mais opções de indexação do que Python. Além da indexação por inteiros e slices, como vimos anteriormente, arrays podem ser indexados por outros arrays de inteiros e booleanos."
   ]
  },
  {
   "cell_type": "code",
   "execution_count": null,
   "metadata": {},
   "outputs": [],
   "source": [
    "a = np.arange(12)**2                      \n",
    "indices = np.array([1, 1, 6, 3, 5])\n",
    "\n",
    "print(a[indices])\n",
    "\n",
    "bidim_indices = np.array([[1, 6], [3, 5]])\n",
    "\n",
    "print(a[bidim_indices])"
   ]
  },
  {
   "cell_type": "markdown",
   "metadata": {},
   "source": [
    "Quando estamos indexando um array multimensional, um único array de indices refere-se a primeira dimensão de **a**."
   ]
  },
  {
   "cell_type": "code",
   "execution_count": null,
   "metadata": {},
   "outputs": [],
   "source": [
    "a = (np.arange(21)**2).reshape((7, 3))\n",
    "\n",
    "print(a)\n",
    "\n",
    "bidim_indices = np.array([[1, 0], [2, 6]])\n",
    "\n",
    "a[bidim_indices] "
   ]
  },
  {
   "cell_type": "code",
   "execution_count": null,
   "metadata": {},
   "outputs": [],
   "source": [
    "# tem de ter o mesmo tamanho\n",
    "id_linhas = np.array([0, 1, 5])\n",
    "id_colunas = np.array([2, 1, 1])\n",
    "\n",
    "print(a[id_linhas, id_colunas])\n",
    "\n",
    "print(a[:, [0,2]])"
   ]
  },
  {
   "cell_type": "markdown",
   "metadata": {},
   "source": [
    "### Indexando com booleanos"
   ]
  },
  {
   "cell_type": "code",
   "execution_count": null,
   "metadata": {},
   "outputs": [],
   "source": [
    "b = a > 200\n",
    "\n",
    "print(b)\n",
    "\n",
    "a[b]"
   ]
  },
  {
   "cell_type": "code",
   "execution_count": null,
   "metadata": {},
   "outputs": [],
   "source": [
    "# pode ser util para atribuição de valores\n",
    "a[b] = 0\n",
    "a"
   ]
  },
  {
   "cell_type": "markdown",
   "metadata": {},
   "source": [
    "## Linear algebra\n",
    "\n",
    "Numpy provê um subpacote com implementações de várias funções de algebra linear. Alguns exemplos básicos a seguir."
   ]
  },
  {
   "cell_type": "code",
   "execution_count": null,
   "metadata": {},
   "outputs": [],
   "source": [
    "a = np.array([[1.0, 2.0], [3.0, 4.0]])\n",
    "\n",
    "a.transpose()"
   ]
  },
  {
   "cell_type": "code",
   "execution_count": null,
   "metadata": {},
   "outputs": [],
   "source": [
    "# matriz inversa\n",
    "np.linalg.inv(a)"
   ]
  },
  {
   "cell_type": "code",
   "execution_count": null,
   "metadata": {},
   "outputs": [],
   "source": [
    "# matriz identidade nxn\n",
    "n = 2\n",
    "np.eye(n)"
   ]
  },
  {
   "cell_type": "code",
   "execution_count": null,
   "metadata": {},
   "outputs": [],
   "source": [
    "# multiplicaco de matriz\n",
    "np.dot(a, np.linalg.inv(a)) # ~I"
   ]
  },
  {
   "cell_type": "code",
   "execution_count": null,
   "metadata": {},
   "outputs": [],
   "source": [
    "# autovalores e autovetores, respectivamente\n",
    "np.linalg.eig(a)"
   ]
  },
  {
   "cell_type": "markdown",
   "metadata": {},
   "source": [
    "## Exercício\n",
    "\n",
    "Agora que demos uma boa pincelada sobre o numpy, vou propor um desafio para você.\n",
    "\n",
    "Vamos supor que estamos querendo predizer o valor do aluguel de um imóveis e temos 1 atributo do mesmo (i.e., área construída). Utilizando as funções do numpy faça uma função que encontre os coeficientes da reta que melhor se ajuste aos dados, isso nada mais é do que a regressão linear. Um método clássico utilzado para isso é o **método dos mínimos quadrados**, esse método possui uma fórmula analítica para encontrar o coeficiente da reta, e que é definida do seguinte modo:\n",
    "\n",
    "$w = (X^TX)^{-1}X^Ty$\n",
    "\n",
    "onde:\n",
    "\n",
    "- $X$ é a matriz que representa nosso conjuntos de pontos (cada linha é um vetor multidimensional que representa um ponto no espaço n-D)\n",
    "- $y$ é o valor desse ponto\n",
    "\n",
    "Portanto, o objetivo é implementar uma função que retorne o vetor de coefientes $w$."
   ]
  },
  {
   "cell_type": "code",
   "execution_count": null,
   "metadata": {},
   "outputs": [],
   "source": [
    "X = np.abs(np.random.normal(60, 500, 100))[:, np.newaxis]\n",
    "w = 2000\n",
    "y = X * (w - np.random.normal(0, 100, X.shape[0]))[:, np.newaxis]"
   ]
  },
  {
   "cell_type": "code",
   "execution_count": null,
   "metadata": {},
   "outputs": [],
   "source": [
    "def ajustar(X, y):\n",
    "    # TODO: seu código\n",
    "    pass\n",
    "    "
   ]
  }
 ],
 "metadata": {
  "kernelspec": {
   "display_name": "Python 3",
   "language": "python",
   "name": "python3"
  },
  "language_info": {
   "codemirror_mode": {
    "name": "ipython",
    "version": 3
   },
   "file_extension": ".py",
   "mimetype": "text/x-python",
   "name": "python",
   "nbconvert_exporter": "python",
   "pygments_lexer": "ipython3",
   "version": "3.5.2"
  }
 },
 "nbformat": 4,
 "nbformat_minor": 2
}
