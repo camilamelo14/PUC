{
 "cells": [
  {
   "cell_type": "markdown",
   "metadata": {},
   "source": [
    "## Indentificadores\n",
    "\n",
    "* Identificadores podem ser uma combinação de letras maiúscula (A - Z) ou minúsculas (a - z) ou digitos (0 a 9) ou underscore (\\_). Exemplos validos são: variable1, meuContatodor, dia\\_da\\_semana\\_.\n",
    "\n",
    "* Um identificador não pode começar com dígitos. No campo abaixo crie um identificador iniciando com digito, aperte crtl + enter e veja o que ocorre."
   ]
  },
  {
   "cell_type": "code",
   "execution_count": 1,
   "metadata": {},
   "outputs": [
    {
     "ename": "SyntaxError",
     "evalue": "invalid syntax (<ipython-input-1-7f723766bc5c>, line 1)",
     "output_type": "error",
     "traceback": [
      "\u001b[0;36m  File \u001b[0;32m\"<ipython-input-1-7f723766bc5c>\"\u001b[0;36m, line \u001b[0;32m1\u001b[0m\n\u001b[0;31m    1variavel\u001b[0m\n\u001b[0m            ^\u001b[0m\n\u001b[0;31mSyntaxError\u001b[0m\u001b[0;31m:\u001b[0m invalid syntax\n"
     ]
    }
   ],
   "source": [
    "1variavel"
   ]
  },
  {
   "cell_type": "markdown",
   "metadata": {},
   "source": [
    "* Palavras-chave não podem ser usadas como identificadores."
   ]
  },
  {
   "cell_type": "code",
   "execution_count": 2,
   "metadata": {},
   "outputs": [
    {
     "ename": "SyntaxError",
     "evalue": "invalid syntax (<ipython-input-2-c8a8281ee30d>, line 1)",
     "output_type": "error",
     "traceback": [
      "\u001b[0;36m  File \u001b[0;32m\"<ipython-input-2-c8a8281ee30d>\"\u001b[0;36m, line \u001b[0;32m1\u001b[0m\n\u001b[0;31m    for = 1\u001b[0m\n\u001b[0m        ^\u001b[0m\n\u001b[0;31mSyntaxError\u001b[0m\u001b[0;31m:\u001b[0m invalid syntax\n"
     ]
    }
   ],
   "source": [
    "for = 1"
   ]
  },
  {
   "cell_type": "markdown",
   "metadata": {},
   "source": [
    "* Caracteres especiais, como !, @, \\$,% etc, não são permitidos no identificador."
   ]
  },
  {
   "cell_type": "code",
   "execution_count": 3,
   "metadata": {},
   "outputs": [
    {
     "ename": "SyntaxError",
     "evalue": "invalid syntax (<ipython-input-3-bc97b1085464>, line 1)",
     "output_type": "error",
     "traceback": [
      "\u001b[0;36m  File \u001b[0;32m\"<ipython-input-3-bc97b1085464>\"\u001b[0;36m, line \u001b[0;32m1\u001b[0m\n\u001b[0;31m    var!\u001b[0m\n\u001b[0m       ^\u001b[0m\n\u001b[0;31mSyntaxError\u001b[0m\u001b[0;31m:\u001b[0m invalid syntax\n"
     ]
    }
   ],
   "source": [
    "var!"
   ]
  },
  {
   "cell_type": "markdown",
   "metadata": {},
   "source": [
    "* Podem ser de qualquer tamanho\n",
    "\n",
    "Brique um pouco com os identificadores."
   ]
  },
  {
   "cell_type": "markdown",
   "metadata": {},
   "source": [
    "## Considerações Importantes\n",
    "\n",
    "* Python é **case-sensitive**\n",
    "* Sempre crie identificadores com nomes que façam sentido\n",
    "\n",
    "\n",
    "## Instruções\n",
    "\n",
    "Em python, o fim de uma instrução é marcada por um caracter de quebra de linha (i.e., \\n). Porém, uma instrução pode ser estendida a multiplas linhas com o caracter (\\). Por exemplo:"
   ]
  },
  {
   "cell_type": "code",
   "execution_count": 4,
   "metadata": {},
   "outputs": [
    {
     "data": {
      "text/plain": [
       "45"
      ]
     },
     "execution_count": 4,
     "metadata": {},
     "output_type": "execute_result"
    }
   ],
   "source": [
    "a = 9 + 8 + 7 + \\\n",
    "    6 + 5 + 4 + \\\n",
    "    3 + 2 + 1\n",
    "a"
   ]
  },
  {
   "cell_type": "markdown",
   "metadata": {},
   "source": [
    "Também é possível estender as linhas de um comando quando o caracter de quebra de linha está enclausurado por parenteses, chaves ou colchetes."
   ]
  },
  {
   "cell_type": "code",
   "execution_count": 5,
   "metadata": {},
   "outputs": [
    {
     "data": {
      "text/plain": [
       "45"
      ]
     },
     "execution_count": 5,
     "metadata": {},
     "output_type": "execute_result"
    }
   ],
   "source": [
    "a = (9 + 8 + 7 +\n",
    "    6 + 5 + 4 +\n",
    "    3 + 2 + 1)\n",
    "a"
   ]
  },
  {
   "cell_type": "markdown",
   "metadata": {},
   "source": [
    "Também é possível colocar mais de uma instrução em uma mesma linha usando ponto e vírgula como separador."
   ]
  },
  {
   "cell_type": "code",
   "execution_count": 6,
   "metadata": {
    "collapsed": true
   },
   "outputs": [],
   "source": [
    "a = 1; b = 2; c = 3"
   ]
  },
  {
   "cell_type": "markdown",
   "metadata": {},
   "source": [
    "## Indentação\n",
    "\n",
    "Em python, indentação é obrigatória para definir blocos de código. Forçando o programador a boa prática de indentar, por consequência deixando o código mais legível:\n",
    "\n",
    "O trecho de código abaixo precisa ser identado para que funcione. Favor, consertá-lo e executá-lo:"
   ]
  },
  {
   "cell_type": "code",
   "execution_count": 7,
   "metadata": {},
   "outputs": [
    {
     "ename": "IndentationError",
     "evalue": "expected an indented block (<ipython-input-7-903739fa8238>, line 2)",
     "output_type": "error",
     "traceback": [
      "\u001b[0;36m  File \u001b[0;32m\"<ipython-input-7-903739fa8238>\"\u001b[0;36m, line \u001b[0;32m2\u001b[0m\n\u001b[0;31m    print(\"Indentado!!!\")\u001b[0m\n\u001b[0m        ^\u001b[0m\n\u001b[0;31mIndentationError\u001b[0m\u001b[0;31m:\u001b[0m expected an indented block\n"
     ]
    }
   ],
   "source": [
    "if True:\n",
    "print(\"Indentado!!!\")"
   ]
  },
  {
   "cell_type": "markdown",
   "metadata": {},
   "source": [
    "## Comentários\n",
    "\n",
    "Comentários são muito importantes enquanto escrevemos programas. Descrevem o que está acontecendo no programa de modo que fique fácil o entendimento do código por um terceiro. Além disso, te ajuda a relembrar o funciomento do algoritmo que você escreveu há um bom tempo.\n",
    "\n",
    "Em python, nós utilizamos o simbolo cerquilha (a.k.a., jogo da velhar, sustenido, #) para demarcar a linha como sendo um comentário, vide o exemplo:"
   ]
  },
  {
   "cell_type": "code",
   "execution_count": null,
   "metadata": {
    "collapsed": true
   },
   "outputs": [],
   "source": [
    "# Isso é um comentário de uma linha\n",
    "print(\"Oi\")"
   ]
  },
  {
   "cell_type": "markdown",
   "metadata": {},
   "source": [
    "Todo comentário é ignorado pelo interpretador do python. Comentar seu código é uma boa prática de programação.\n",
    "\n",
    "Podemos também comentar mais de uma linha por vez, como nos exemplos a seguir.\n",
    "\n",
    "### Comentários em mais de uma linha"
   ]
  },
  {
   "cell_type": "code",
   "execution_count": null,
   "metadata": {
    "collapsed": true
   },
   "outputs": [],
   "source": [
    "# Isso é um comentário\n",
    "# mais longo que o\n",
    "# anterior\n",
    "\n",
    "\n",
    "\"\"\"Isso é um comentário\n",
    "mais longo que o\n",
    "anterior\"\"\""
   ]
  },
  {
   "cell_type": "markdown",
   "metadata": {},
   "source": [
    "# Variáveis e Tipos de Dados\n",
    "\n",
    "## Variáveis\n",
    "\n",
    "Uma variável é espaço de memória usado para armazenar algum dado (valor).\n",
    "\n",
    "Os nomes de variáveis seguem o mesmo padrão dos identificadores.\n",
    "\n",
    "Como python é uma liguagem de tipagem dinamica, não é preciso declara a variavel antes de usá-la, nem mesmo seu tipo. É claro que é preciso atribuir um valor para variável antes!\n",
    "\n",
    "### Atribuíção de valor"
   ]
  },
  {
   "cell_type": "code",
   "execution_count": null,
   "metadata": {
    "collapsed": true
   },
   "outputs": [],
   "source": [
    "a = 10\n",
    "b = 0.5\n",
    "c = \"Legal!\""
   ]
  },
  {
   "cell_type": "markdown",
   "metadata": {},
   "source": [
    "Temos três atribuições distintas, sendo que cada uma das variáveis vão ter um tipo diferente. Por exemplo, *a* será um inteiro, *b* floating e *c* uma *string* (sequência de caracteres).\n",
    "\n",
    "#### Multiplas atribuições"
   ]
  },
  {
   "cell_type": "code",
   "execution_count": null,
   "metadata": {
    "collapsed": true
   },
   "outputs": [],
   "source": [
    "a, b, c = 10,  0.5, \"Legal!\"\n",
    "\n",
    "a = b = c = \"Mesmo Valor\""
   ]
  },
  {
   "cell_type": "markdown",
   "metadata": {},
   "source": [
    "## Tipos\n",
    "\n",
    "### Numerais\n",
    "\n",
    "Python suporta inteiros, ponto flutuante e números complexos. Eles são definidos como ```int```, ```float``` e ```complex``` em Python.\n",
    "\n",
    "Nós podemos verificar a qual classe um valor pertence utilizando ```type``` ou então com o ```isinstance```. Veja o exemplo a seguir:"
   ]
  },
  {
   "cell_type": "code",
   "execution_count": null,
   "metadata": {
    "collapsed": true
   },
   "outputs": [],
   "source": [
    "valor = 5\n",
    "print(type(valor), isinstance(valor, int))\n",
    "\n",
    "valor = 5555555555555555555555555555555555555555555\n",
    "print(type(valor), isinstance(valor, long))\n",
    "\n",
    "valor = 5.0\n",
    "print(type(valor), isinstance(valor, float))\n",
    "\n",
    "valor  = 5.0 + 4j\n",
    "print(type(5.0 + 4j), isinstance(valor, float))"
   ]
  },
  {
   "cell_type": "markdown",
   "metadata": {},
   "source": [
    "Podemos converter valores para outros tipos. Por exemplo:"
   ]
  },
  {
   "cell_type": "code",
   "execution_count": null,
   "metadata": {
    "collapsed": true
   },
   "outputs": [],
   "source": [
    "valor = 5\n",
    "print(type(valor), type(float(valor)), type(long(valor)))"
   ]
  },
  {
   "cell_type": "code",
   "execution_count": null,
   "metadata": {
    "collapsed": true
   },
   "outputs": [],
   "source": [
    "valor = 5555555555555555555555555555555555555555555555555555555555555\n",
    "print(type(valor), type(float(valor)), type(int(valor)))"
   ]
  },
  {
   "cell_type": "markdown",
   "metadata": {},
   "source": [
    "Note que acima não conseguimos forçar o tipo desse inteiro enorme a ser int. Algumas conversões não são possíveis!"
   ]
  }
 ],
 "metadata": {
  "kernelspec": {
   "display_name": "Python 3",
   "language": "python",
   "name": "python3"
  },
  "language_info": {
   "codemirror_mode": {
    "name": "ipython",
    "version": 2
   },
   "file_extension": ".py",
   "mimetype": "text/x-python",
   "name": "python",
   "nbconvert_exporter": "python",
   "pygments_lexer": "ipython2",
   "version": "2.7.12"
  }
 },
 "nbformat": 4,
 "nbformat_minor": 1
}
