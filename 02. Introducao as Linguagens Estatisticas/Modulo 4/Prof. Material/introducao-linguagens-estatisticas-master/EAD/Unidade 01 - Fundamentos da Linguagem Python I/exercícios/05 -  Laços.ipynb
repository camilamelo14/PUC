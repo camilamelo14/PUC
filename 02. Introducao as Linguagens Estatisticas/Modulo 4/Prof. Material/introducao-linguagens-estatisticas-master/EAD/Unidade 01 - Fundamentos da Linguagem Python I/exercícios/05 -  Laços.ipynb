{
 "cells": [
  {
   "cell_type": "markdown",
   "metadata": {},
   "source": [
    "# Laços\n",
    "\n",
    "## Tarefa\n",
    "\n",
    "Leia um intiero $N$. Para todo inteiro não negativo $i < N$, imprima $i^2$. Veja o exemplo para detalhes.\n",
    "\n",
    "### Formato de Entrada\n",
    "\n",
    "The first and only line contains the integer, .\n",
    "\n",
    "### Restrições\n",
    "\n",
    "### Formato de Saída\n",
    "\n",
    "Imprima $N$ linhas, cada uma das quais correspondendo a cada $i$.\n",
    "\n",
    "### Exemplo de Entrada 0\n",
    "\n",
    "```\n",
    "5\n",
    "```\n",
    "\n",
    "### Exemplo de Saída 0\n",
    "\n",
    "```\n",
    "0\n",
    "1\n",
    "4\n",
    "9\n",
    "16\n",
    "```\n",
    "\n",
    "## Submissão do Código\n",
    "\n",
    "Para submissão e codificação da tarefa utilizar o link a seguir: https://www.hackerrank.com/contests/ead-fundamentos-python-i/challenges/python-loops. Essa paǵina é apenas a tradução das instruções do link anterior."
   ]
  }
 ],
 "metadata": {
  "kernelspec": {
   "display_name": "Python 3",
   "language": "python",
   "name": "python3"
  },
  "language_info": {
   "codemirror_mode": {
    "name": "ipython",
    "version": 3
   },
   "file_extension": ".py",
   "mimetype": "text/x-python",
   "name": "python",
   "nbconvert_exporter": "python",
   "pygments_lexer": "ipython3",
   "version": "3.5.2"
  }
 },
 "nbformat": 4,
 "nbformat_minor": 2
}
