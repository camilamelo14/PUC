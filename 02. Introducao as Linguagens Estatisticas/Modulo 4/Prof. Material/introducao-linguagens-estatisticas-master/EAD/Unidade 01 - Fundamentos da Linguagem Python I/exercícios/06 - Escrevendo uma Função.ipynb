{
 "cells": [
  {
   "cell_type": "markdown",
   "metadata": {},
   "source": [
    "# Escrevendo uma Função\n",
    "\n",
    "## Anos Bissextos\n",
    "\n",
    "Nós adicionamos o dia 29 de Fevereiro, quase sempre em quatro em quatro anos (anos bissextos). É um dia extra que nós precisamos adicioná-lo no menor mês do ano, Fevereiro.\n",
    "\n",
    "No calendário Gregoriano, existem três critérios que deve ser levados em conta para identificar um ano bissesto:\n",
    "\n",
    "    Todo ano divisível por 4 é bissesto, a menos que:\n",
    "        O ano seja divisível por 100, ele não é um ano bissesto, a menos que:\n",
    "            O ano também seja divisível por 400. Então, ele é bissesto.\n",
    "\n",
    "Isso significa que no calendário Greoriano, os anos de 2000 e 2400 são anos bissextos, enquanto 1800, 1900, 2100, 2200, 2300 e 2500 não são.\n",
    "\n",
    "## Tarefa\n",
    "\n",
    "Dado um ano qualquer, você deve escreve umafunção que verifica se o ano é bissexto ou não.\n",
    "\n",
    "Note que você deve completar função e deixar o restante do código como foi dado.\n",
    "\n",
    "### Formato de Entrada\n",
    "\n",
    "Leia $y$, o ano que precisa ser verificado.\n",
    "\n",
    "### Restrições\n",
    "\n",
    "### Formato de Saída\n",
    "\n",
    "A saída é de responsabilidade do template. Sua função deve retornar um valor booleano (True/False)\n",
    "\n",
    "### Exemplo de Entrada 0\n",
    "\n",
    "```python\n",
    "1990\n",
    "```\n",
    "\n",
    "### Exemplo de Saída 0\n",
    "\n",
    "```python\n",
    "False\n",
    "```\n",
    "\n",
    "### Explicação 0\n",
    "\n",
    "1990 não é mutltiplo de 4, portanto, não é bissexto.\n",
    "\n",
    "## Submissão do Código\n",
    "\n",
    "Para submissão e codificação da tarefa utilizar o link a seguir:https://www.hackerrank.com/contests/ead-fundamentos-python-i/challenges/write-a-function. Essa paǵina é apenas a tradução das instruções do link anterior."
   ]
  }
 ],
 "metadata": {
  "kernelspec": {
   "display_name": "Python 3",
   "language": "python",
   "name": "python3"
  },
  "language_info": {
   "codemirror_mode": {
    "name": "ipython",
    "version": 3
   },
   "file_extension": ".py",
   "mimetype": "text/x-python",
   "name": "python",
   "nbconvert_exporter": "python",
   "pygments_lexer": "ipython3",
   "version": "3.5.2"
  }
 },
 "nbformat": 4,
 "nbformat_minor": 2
}
