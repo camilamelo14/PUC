{
 "cells": [
  {
   "cell_type": "markdown",
   "metadata": {},
   "source": [
    "# Diga \"Hello, World!\" com Python\n",
    "\n",
    "Segue um exemplo de linha de código que pode ser executado em Python: \n",
    "\n",
    "```python\n",
    "print(\"Hello, World!\")\n",
    "```\n",
    "\n",
    "Você pode facilmente armazenar um string como juma variável, e então imprimi-la no tela:\n",
    "\n",
    "```python\n",
    "my_string = \"Hello, World!\"\n",
    "print(my_string)\n",
    "```\n",
    "\n",
    "O código acima irá imprimir ```Hello, World!```. Faça você mesmo no link a seguir: https://www.hackerrank.com/contests/ead-fundamentos-python-i/challenges/py-hello-world\n",
    "\n",
    "### Formato de Entrada\n",
    "\n",
    "Você não precisa ler nada da entrada nesse desafio.\n",
    "\n",
    "### Formato de Saída\n",
    "\n",
    "Imprima ```Hello, World!```.\n",
    "\n",
    "### Exemplo de Saída 0\n",
    "\n",
    "```\n",
    "Hello, World!\n",
    "```\n",
    "\n",
    "## Submissão do Código\n",
    "\n",
    "Para submissão e codificação da tarefa utilizar o link a seguir: https://www.hackerrank.com/contests/ead-fundamentos-python-i/challenges/py-hello-world . Essa paǵina é apenas a tradução das instruções do link anterior."
   ]
  }
 ],
 "metadata": {
  "kernelspec": {
   "display_name": "Python 3",
   "language": "python",
   "name": "python3"
  },
  "language_info": {
   "codemirror_mode": {
    "name": "ipython",
    "version": 3
   },
   "file_extension": ".py",
   "mimetype": "text/x-python",
   "name": "python",
   "nbconvert_exporter": "python",
   "pygments_lexer": "ipython3",
   "version": "3.5.2"
  }
 },
 "nbformat": 4,
 "nbformat_minor": 2
}
