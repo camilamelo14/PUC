{
 "cells": [
  {
   "cell_type": "markdown",
   "metadata": {},
   "source": [
    "# Python If-Else\n",
    "\n",
    "## Tarefa\n",
    "\n",
    "Dado um inteiro $n$, execute as seguintes condições:\n",
    "\n",
    "- Se for ímpar, imprima ```Weird```\n",
    "- Se for par e $2 \\leq n \\leq 5$ , imprima ```Not Weird```\n",
    "- Se for par e $6 \\leq n \\leq 20$, imprima ```Weird```\n",
    "- Se for par e $n > 20$, imprima ```Not Weird```\n",
    "\n",
    "### Formato de Entrada\n",
    "\n",
    "Uma única linha contendo um inteiro positivo.\n",
    "\n",
    "### Restrições\n",
    "\n",
    "$1 \\leq n \\leq 100$\n",
    "\n",
    "### Formato de Entrada\n",
    "\n",
    "Imprima ```Weird``` caslo o número seja estranho (de acordo com as condições); caso contrário, imprima ```Not Weird```.\n",
    "\n",
    "### Exemplo de Entrada 0\n",
    "\n",
    "```\n",
    "3\n",
    "```\n",
    "\n",
    "### Exemplo de Saída 0\n",
    "\n",
    "```\n",
    "Weird\n",
    "```\n",
    "\n",
    "### Explicação 0\n",
    "\n",
    "É ímpar e os números ímpares são estranhos, portanto imprima ```Weird```.\n",
    "\n",
    "### Exemplo de Entrada 1\n",
    "\n",
    "```\n",
    "24\n",
    "```\n",
    "\n",
    "### Exemplode Saída 1\n",
    "\n",
    "```\n",
    "Not Weird\n",
    "```\n",
    "\n",
    "### Explicação 1\n",
    "\n",
    "É par, portanto não é estranh. Assim, nós imprimimos ```Not Weird```.\n",
    "\n",
    "## Submissão\n",
    "\n",
    "Para submissão e codificação da tarefa utilizar o link a seguir: https://www.hackerrank.com/contests/ead-fundamentos-python-i/challenges/py-if-else . Essa paǵina é apenas a tradução das instruções do link anterior."
   ]
  }
 ],
 "metadata": {
  "kernelspec": {
   "display_name": "Python 3",
   "language": "python",
   "name": "python3"
  },
  "language_info": {
   "codemirror_mode": {
    "name": "ipython",
    "version": 3
   },
   "file_extension": ".py",
   "mimetype": "text/x-python",
   "name": "python",
   "nbconvert_exporter": "python",
   "pygments_lexer": "ipython3",
   "version": "3.5.2"
  }
 },
 "nbformat": 4,
 "nbformat_minor": 2
}
