{
 "cells": [
  {
   "cell_type": "markdown",
   "metadata": {},
   "source": [
    "# Divisão em Python\n",
    "\n",
    "## Tarefa\n",
    "\n",
    "Leia dois inteiros e imprima duas linhas. A primeira linha deve conter a divisão inteira , usnado o operador ```//``` . A segunda deve conter a divisão de ponto flutuante, usando o operador ```/```.\n",
    "\n",
    "Você não precisa se preocupar com arredondamento.\n",
    "\n",
    "### Formato de Entrada\n",
    "\n",
    "Primeira linha contém o primeiro inteiro. A segunda linha contém o segundo inteiro.\n",
    "\n",
    "### Formato de Saída\n",
    "\n",
    "Imprime as duas linhas descritas anteriormente.\n",
    "\n",
    "### Exemplo de Entrada 0\n",
    "\n",
    "```\n",
    "4\n",
    "3\n",
    "```\n",
    "\n",
    "### Exemplo de Saída 0\n",
    "\n",
    "```\n",
    "1\n",
    "1.33333333333\n",
    "```\n",
    "\n",
    "## Submissão do Código\n",
    "\n",
    "Para submissão e codificação da tarefa utilizar o link a seguir: https://www.hackerrank.com/contests/ead-fundamentos-python-i/challenges/python-division . Essa paǵina é apenas a tradução das instruções do link anterior."
   ]
  }
 ],
 "metadata": {
  "kernelspec": {
   "display_name": "Python 3",
   "language": "python",
   "name": "python3"
  },
  "language_info": {
   "codemirror_mode": {
    "name": "ipython",
    "version": 3
   },
   "file_extension": ".py",
   "mimetype": "text/x-python",
   "name": "python",
   "nbconvert_exporter": "python",
   "pygments_lexer": "ipython3",
   "version": "3.5.2"
  }
 },
 "nbformat": 4,
 "nbformat_minor": 2
}
