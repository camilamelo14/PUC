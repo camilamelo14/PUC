{
 "cells": [
  {
   "cell_type": "markdown",
   "metadata": {},
   "source": [
    "# Função Print\n",
    "\n",
    "## Tarefa\n",
    "Leia um número $N$.\n",
    "\n",
    "Sem utilizar nenhum método de string, tente imprimir o seguinte:\n",
    "\n",
    "$123...N$\n",
    "\n",
    "Note que \"...\" representa os valores no meio.\n",
    "\n",
    "#### Dica\n",
    "\n",
    "Por padrão, a função **print** termina a impressão com uma quebra de linha \"\\n\". Como pode ser visto em sua declaração:\n",
    "```print(*objects, sep=' ', end='\\n', file=sys.stdout, flush=False)```\n",
    "\n",
    "Troque os valores dos argumentos *sep* e *end*, respectivamente, para fazer o que se pede."
   ]
  },
  {
   "cell_type": "markdown",
   "metadata": {},
   "source": [
    "### Formato de Entrada\n",
    "\n",
    "A primeira linha contém um inteiro.\n",
    "\n",
    "### Formato de Saída\n",
    "\n",
    "Imprima a resposta como explicado na tarefa.\n",
    "\n",
    "### Exemplo de Entrada 0\n",
    "\n",
    "```\n",
    "3\n",
    "```\n",
    "\n",
    "### Exemplo de Saída 0\n",
    "\n",
    "```\n",
    "123\n",
    "```\n",
    "\n",
    "\n",
    "## Submissão do Código\n",
    "\n",
    "Para submissão e codificação da tarefa utilizar o link a seguir: https://www.hackerrank.com/contests/ead-fundamentos-python-i/challenges/python-print. Essa paǵina é apenas a tradução das instruções do link anterior."
   ]
  }
 ],
 "metadata": {
  "kernelspec": {
   "display_name": "Python 3",
   "language": "python",
   "name": "python3"
  },
  "language_info": {
   "codemirror_mode": {
    "name": "ipython",
    "version": 2
   },
   "file_extension": ".py",
   "mimetype": "text/x-python",
   "name": "python",
   "nbconvert_exporter": "python",
   "pygments_lexer": "ipython2",
   "version": "2.7.12"
  }
 },
 "nbformat": 4,
 "nbformat_minor": 2
}
