{
 "cells": [
  {
   "cell_type": "markdown",
   "metadata": {},
   "source": [
    "# Operadores Aritméticos\n",
    "\n",
    "## Tarefa\n",
    "\n",
    "Leia dois inteiros da entrada e imprima três linhas, onde:\n",
    "- A primeira linha contém a soma de dois números.\n",
    "- A segunda linha contém a diferença entre dois números (primeiro - secundo).\n",
    "- A terceira linha contém o produto entre dois números.\n",
    "\n",
    "## Formato de Entrada\n",
    "\n",
    "Primeira linha contém um inteiro. \n",
    "Segunda linha contém o segundo inteiro\n",
    "\n",
    "\n",
    "## Formato de Saída\n",
    "\n",
    "Imprime três linhas como explicado anteriormente.\n",
    "\n",
    "### Exemplo de Entrada 0\n",
    "\n",
    "``` \n",
    "3\n",
    "2\n",
    "```\n",
    "\n",
    "### Exemplo de Saída 0\n",
    "\n",
    "```\n",
    "5\n",
    "1\n",
    "6\n",
    "```\n",
    "\n",
    "### Explicação 0\n",
    "\n",
    "```\n",
    "3 + 2 = 5\n",
    "3 - 2 = 1\n",
    "3 * 2 = 6\n",
    "```\n",
    "\n",
    "## Submissão do Código\n",
    "\n",
    "Para submissão e codificação da tarefa utilizar o link a seguir: https://www.hackerrank.com/contests/ead-fundamentos-python-i/challenges/python-arithmetic-operators . Essa paǵina é apenas a tradução das instruções do link anterior."
   ]
  }
 ],
 "metadata": {
  "kernelspec": {
   "display_name": "Python 3",
   "language": "python",
   "name": "python3"
  },
  "language_info": {
   "codemirror_mode": {
    "name": "ipython",
    "version": 3
   },
   "file_extension": ".py",
   "mimetype": "text/x-python",
   "name": "python",
   "nbconvert_exporter": "python",
   "pygments_lexer": "ipython3",
   "version": "3.5.2"
  }
 },
 "nbformat": 4,
 "nbformat_minor": 2
}
