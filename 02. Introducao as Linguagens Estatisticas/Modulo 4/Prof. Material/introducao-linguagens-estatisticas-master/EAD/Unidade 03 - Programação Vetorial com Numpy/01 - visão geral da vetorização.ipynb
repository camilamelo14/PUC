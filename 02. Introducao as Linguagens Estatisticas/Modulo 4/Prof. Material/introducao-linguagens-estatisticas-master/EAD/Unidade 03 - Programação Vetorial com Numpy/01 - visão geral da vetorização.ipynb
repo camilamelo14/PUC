{
 "cells": [
  {
   "cell_type": "markdown",
   "metadata": {},
   "source": [
    "# Vetorização\n",
    "\n",
    "\n",
    "Muitas vezes em computação cientifíca, aprendizado de máquinas e análise de dados, nós temos de executar operações em listas, vetores ou matrizes.\n",
    "\n",
    "Por exemplo o somatório a seguir:\n",
    "\n",
    "$\\sum_{i=1}^N x_i$ "
   ]
  },
  {
   "cell_type": "code",
   "execution_count": 6,
   "metadata": {
    "collapsed": true
   },
   "outputs": [],
   "source": [
    "X = [1, 4, 6]"
   ]
  },
  {
   "cell_type": "code",
   "execution_count": 16,
   "metadata": {
    "collapsed": true
   },
   "outputs": [],
   "source": [
    "# TODO: Fazer a versão iterative (não vetorizada)"
   ]
  },
  {
   "cell_type": "code",
   "execution_count": 17,
   "metadata": {
    "collapsed": true
   },
   "outputs": [],
   "source": [
    "# TODO: versão vetorizada utilizando função sum do python"
   ]
  },
  {
   "cell_type": "code",
   "execution_count": 18,
   "metadata": {
    "collapsed": true
   },
   "outputs": [],
   "source": [
    "# TODO: versão vetorizada com numpy"
   ]
  },
  {
   "cell_type": "code",
   "execution_count": 15,
   "metadata": {
    "collapsed": true
   },
   "outputs": [],
   "source": [
    "X = np.random.randint(0, 1000, 10000000)\n",
    "\n",
    "# TODO: Exibir o tempo de execução"
   ]
  },
  {
   "cell_type": "markdown",
   "metadata": {},
   "source": [
    "Além do somatório, nós poderíamos querer elevar todos o números ao quadrado ou tirar o log deles.\n",
    "Na simbologia matemática seria assim, supondo que $X = \\{x_1, ..., x_N\\}$ seja um vetor com $N$ elementos.\n",
    "Queremos que $X^2 = \\{x_1^2, x_2^2, x_3^2, ..., x_N^2\\}$ e $\\log(X) = \\{\\log(x_1), \\log(x_2), \\log(x_3), ..., \\log(x_N)\\}$. \n",
    "\n",
    "Vamos ver como ficaria vetorizado."
   ]
  },
  {
   "cell_type": "code",
   "execution_count": 19,
   "metadata": {
    "collapsed": true
   },
   "outputs": [],
   "source": [
    "X = [1, 4, 6]"
   ]
  },
  {
   "cell_type": "code",
   "execution_count": null,
   "metadata": {
    "collapsed": true
   },
   "outputs": [],
   "source": [
    "# TODO: Fazer a versão iterative (não vetorizada)"
   ]
  },
  {
   "cell_type": "code",
   "execution_count": null,
   "metadata": {
    "collapsed": true
   },
   "outputs": [],
   "source": [
    "# TODO: versão vetorizada com numpy"
   ]
  }
 ],
 "metadata": {
  "kernelspec": {
   "display_name": "Python 3",
   "language": "python",
   "name": "python3"
  },
  "language_info": {
   "codemirror_mode": {
    "name": "ipython",
    "version": 2
   },
   "file_extension": ".py",
   "mimetype": "text/x-python",
   "name": "python",
   "nbconvert_exporter": "python",
   "pygments_lexer": "ipython2",
   "version": "2.7.12"
  }
 },
 "nbformat": 4,
 "nbformat_minor": 1
}
