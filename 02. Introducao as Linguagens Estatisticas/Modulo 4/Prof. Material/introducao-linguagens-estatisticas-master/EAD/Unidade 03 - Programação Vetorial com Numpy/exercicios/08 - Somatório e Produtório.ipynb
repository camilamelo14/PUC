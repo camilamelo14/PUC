{
 "cells": [
  {
   "cell_type": "markdown",
   "metadata": {},
   "source": [
    "# Sum e Prod\n",
    "\n",
    "## Sum\n",
    "\n",
    "O método [```sum```](http://docs.scipy.org/doc/numpy/reference/generated/numpy.sum.html) retorna a soma dos elementos do array dado um eixo."
   ]
  },
  {
   "cell_type": "code",
   "execution_count": 1,
   "metadata": {},
   "outputs": [
    {
     "name": "stdout",
     "output_type": "stream",
     "text": [
      "[4 6]\n",
      "[3 7]\n",
      "10\n",
      "10\n"
     ]
    }
   ],
   "source": [
    "import numpy\n",
    "\n",
    "my_array = numpy.array([ [1, 2], [3, 4] ])\n",
    "\n",
    "print numpy.sum(my_array, axis = 0)         #Output : [4 6]\n",
    "print numpy.sum(my_array, axis = 1)         #Output : [3 7]\n",
    "print numpy.sum(my_array, axis = None)      #Output : 10\n",
    "print numpy.sum(my_array)                   #Output : 10                  #Output : 0"
   ]
  },
  {
   "cell_type": "markdown",
   "metadata": {},
   "source": [
    "Por padrão, o eixo é None. Portanto, ele computa a soma levando em conta todas as dimensões.\n",
    "\n",
    "## Prod\n",
    "\n",
    "O método [```prod```](http://docs.scipy.org/doc/numpy/reference/generated/numpy.prod.html) retorna o produto (multiplicação) dos elementos do array dado um eixo."
   ]
  },
  {
   "cell_type": "code",
   "execution_count": 2,
   "metadata": {},
   "outputs": [
    {
     "name": "stdout",
     "output_type": "stream",
     "text": [
      "[4 7]\n",
      "[5 7 3 4]\n",
      "7\n",
      "7\n"
     ]
    }
   ],
   "source": [
    "import numpy\n",
    "\n",
    "my_array = numpy.array([[2, 5], \n",
    "                        [3, 7],\n",
    "                        [1, 3],\n",
    "                        [4, 0]])\n",
    "\n",
    "print(numpy.max(my_array, axis = 0))         #Output : [4 7]\n",
    "print(numpy.max(my_array, axis = 1))         #Output : [5 7 3 4]\n",
    "print(numpy.max(my_array, axis = None))      #Output : 7\n",
    "print(numpy.max(my_array))                   #Output : 7"
   ]
  },
  {
   "cell_type": "markdown",
   "metadata": {},
   "source": [
    "Por padrão, o eixo é None. Portanto, ele computa o produto levando em conta todas as dimensões."
   ]
  },
  {
   "cell_type": "markdown",
   "metadata": {},
   "source": [
    "## Tarefas\n",
    "\n",
    "A você será dado um array 2-D com dimensões $NxM$. Sua tarefa é executar o método ```sum``` no eixo 0 e, então, encontrar o produto do array resultante.\n",
    "\n",
    "### Formato de Entrada\n",
    "\n",
    "Uma linha contendo inteiros, N e M, separados por espaço.\n",
    "As próximas $N$ linhas contém $M$ inteiros separados por espaço.\n",
    "\n",
    "### Formado de Saída\n",
    "\n",
    "Compute  ```sum``` no eixo 0 e, então, encontre o produto do array resultante.\n",
    "\n",
    "### Exemplo de Entrada\n",
    "\n",
    "```\n",
    "2 2\n",
    "1 2\n",
    "3 4\n",
    "```\n",
    "\n",
    "### Exemplo de Saída\n",
    "\n",
    "```\n",
    "24\n",
    "```\n",
    "\n",
    "### Explicação\n",
    "\n",
    "A primeira linha, $2$ $2$, representa as dimensões do array, ou seja, N = 2 e M = 2.\n",
    "\n",
    "A soma no eixo 0 é : [4, 6].\n",
    "\n",
    "O produto de [4, 6] é 24\n",
    "\n",
    "## Submissão do Código\n",
    "\n",
    "Para submissão e codificação da tarefa utilizar o link a seguir: https://www.hackerrank.com/contests/ead-vetorizacao-com-numpy/challenges/np-sum-and-prod. Essa paǵina é apenas a tradução das instruções do link anterior."
   ]
  }
 ],
 "metadata": {
  "kernelspec": {
   "display_name": "Python 3",
   "language": "python",
   "name": "python3"
  },
  "language_info": {
   "codemirror_mode": {
    "name": "ipython",
    "version": 2
   },
   "file_extension": ".py",
   "mimetype": "text/x-python",
   "name": "python",
   "nbconvert_exporter": "python",
   "pygments_lexer": "ipython2",
   "version": "2.7.12"
  }
 },
 "nbformat": 4,
 "nbformat_minor": 2
}
