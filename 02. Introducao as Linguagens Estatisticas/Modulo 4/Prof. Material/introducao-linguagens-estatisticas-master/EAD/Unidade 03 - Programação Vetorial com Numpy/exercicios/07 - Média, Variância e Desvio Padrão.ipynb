{
 "cells": [
  {
   "cell_type": "markdown",
   "metadata": {},
   "source": [
    "# Mean, Var e Std\n",
    "\n",
    "## Mean\n",
    "\n",
    "O método [```mean```](http://docs.scipy.org/doc/numpy/reference/generated/numpy.mean.html) retorna a média aritimética elementos do array dado um eixo."
   ]
  },
  {
   "cell_type": "code",
   "execution_count": 1,
   "metadata": {},
   "outputs": [
    {
     "name": "stdout",
     "output_type": "stream",
     "text": [
      "[ 2.  3.]\n",
      "[ 1.5  3.5]\n",
      "2.5\n",
      "2.5\n"
     ]
    }
   ],
   "source": [
    "import numpy\n",
    "\n",
    "my_array = numpy.array([ [1, 2], [3, 4] ])\n",
    "\n",
    "print numpy.mean(my_array, axis = 0)        #Output : [ 2.  3.]\n",
    "print numpy.mean(my_array, axis = 1)        #Output : [ 1.5  3.5]\n",
    "print numpy.mean(my_array, axis = None)     #Output : 2.5\n",
    "print numpy.mean(my_array)                  #Output : 2.5"
   ]
  },
  {
   "cell_type": "markdown",
   "metadata": {},
   "source": [
    "Por padrão, o eixo é None. Portanto, ele computa a média levando em conta todas as dimensões.\n",
    "\n",
    "## Var\n",
    "\n",
    "O método [```var```](http://docs.scipy.org/doc/numpy/reference/generated/numpy.var.html) retorna a variância dado um eixo."
   ]
  },
  {
   "cell_type": "code",
   "execution_count": 2,
   "metadata": {},
   "outputs": [
    {
     "name": "stdout",
     "output_type": "stream",
     "text": [
      "[ 1.  1.]\n",
      "[ 0.25  0.25]\n",
      "1.25\n",
      "1.25\n"
     ]
    }
   ],
   "source": [
    "import numpy\n",
    "\n",
    "my_array = numpy.array([ [1, 2], [3, 4] ])\n",
    "\n",
    "print numpy.var(my_array, axis = 0)         #Output : [ 1.  1.]\n",
    "print numpy.var(my_array, axis = 1)         #Output : [ 0.25  0.25]\n",
    "print numpy.var(my_array, axis = None)      #Output : 1.25\n",
    "print numpy.var(my_array)                   #Output : 1.25"
   ]
  },
  {
   "cell_type": "markdown",
   "metadata": {},
   "source": [
    "Por padrão, o eixo é None. Portanto, ele computa a variância levando em conta todas as dimensões.\n",
    "\n",
    "## Std\n",
    "\n",
    "O método [```std```](http://docs.scipy.org/doc/numpy/reference/generated/numpy.std.html) retorna o desvio padrão dado um eixo."
   ]
  },
  {
   "cell_type": "code",
   "execution_count": 3,
   "metadata": {},
   "outputs": [
    {
     "name": "stdout",
     "output_type": "stream",
     "text": [
      "[ 1.  1.]\n",
      "[ 0.5  0.5]\n",
      "1.11803398875\n",
      "1.11803398875\n"
     ]
    }
   ],
   "source": [
    "import numpy\n",
    "\n",
    "my_array = numpy.array([ [1, 2], [3, 4] ])\n",
    "\n",
    "print numpy.std(my_array, axis = 0)         #Output : [ 1.  1.]\n",
    "print numpy.std(my_array, axis = 1)         #Output : [ 0.5  0.5]\n",
    "print numpy.std(my_array, axis = None)      #Output : 1.11803398875\n",
    "print numpy.std(my_array)                   #Output : 1.11803398875"
   ]
  },
  {
   "cell_type": "markdown",
   "metadata": {},
   "source": [
    "Por padrão, o eixo é None. Portanto, ele computa o descio padrão levando em conta todas as dimensões."
   ]
  },
  {
   "cell_type": "markdown",
   "metadata": {},
   "source": [
    "## Tarefas\n",
    "\n",
    "A você será dado um array 2-D com dimensões $NxM$. Sua tarefa é encontrar:\n",
    "\n",
    "1. A média no eixo 1\n",
    "2. A variância no eixo 0\n",
    "3. O desvio padrão no eixo None\n",
    "\n",
    "### Formato de Entrada\n",
    "\n",
    "Uma linha contendo inteiros, N e M, separados por espaço.\n",
    "As próximas $N$ linhas contém $M$ inteiros separados por espaço.\n",
    "\n",
    "### Formado de Saída\n",
    "\n",
    "Primeiro, imprima a média.\n",
    "Segundo, imprima a variância/\n",
    "Por fim, imprima o desvio padrão.\n",
    "\n",
    "### Exemplo de Entrada\n",
    "\n",
    "```\n",
    "2 2\n",
    "1 2\n",
    "3 4\n",
    "```\n",
    "\n",
    "### Exemplo de Saída\n",
    "\n",
    "```\n",
    "[ 1.5  3.5]\n",
    "[ 1.  1.]\n",
    "1.11803398875\n",
    "```\n",
    "\n",
    "## Submissão do Código\n",
    "\n",
    "Para submissão e codificação da tarefa utilizar o link a seguir: https://www.hackerrank.com/contests/ead-vetorizacao-com-numpy/challenges/np-mean-var-and-std. Essa paǵina é apenas a tradução das instruções do link anterior."
   ]
  }
 ],
 "metadata": {
  "kernelspec": {
   "display_name": "Python 3",
   "language": "python",
   "name": "python3"
  },
  "language_info": {
   "codemirror_mode": {
    "name": "ipython",
    "version": 2
   },
   "file_extension": ".py",
   "mimetype": "text/x-python",
   "name": "python",
   "nbconvert_exporter": "python",
   "pygments_lexer": "ipython2",
   "version": "2.7.12"
  }
 },
 "nbformat": 4,
 "nbformat_minor": 2
}
