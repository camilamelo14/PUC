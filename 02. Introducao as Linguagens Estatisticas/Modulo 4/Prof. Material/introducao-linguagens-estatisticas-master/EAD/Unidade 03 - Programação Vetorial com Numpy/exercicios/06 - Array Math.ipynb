{
 "cells": [
  {
   "cell_type": "markdown",
   "metadata": {},
   "source": [
    "# Array Mathematics\n",
    "\n",
    "Operações matemáticas básicas são funcionam elemento a elemento em ndarrays. Elas estão disponíveis tanto com operadores sobrecarregados quanto como funções."
   ]
  },
  {
   "cell_type": "code",
   "execution_count": 1,
   "metadata": {},
   "outputs": [
    {
     "name": "stdout",
     "output_type": "stream",
     "text": [
      "[  6.   8.  10.  12.]\n",
      "[  6.   8.  10.  12.]\n",
      "[-4. -4. -4. -4.]\n",
      "[-4. -4. -4. -4.]\n",
      "[  5.  12.  21.  32.]\n",
      "[  5.  12.  21.  32.]\n",
      "[ 0.2         0.33333333  0.42857143  0.5       ]\n",
      "[ 0.2         0.33333333  0.42857143  0.5       ]\n",
      "[ 1.  2.  3.  4.]\n",
      "[ 1.  2.  3.  4.]\n",
      "[  1.00000000e+00   6.40000000e+01   2.18700000e+03   6.55360000e+04]\n",
      "[  1.00000000e+00   6.40000000e+01   2.18700000e+03   6.55360000e+04]\n"
     ]
    }
   ],
   "source": [
    "import numpy\n",
    "\n",
    "a = numpy.array([1,2,3,4], float)\n",
    "b = numpy.array([5,6,7,8], float)\n",
    "\n",
    "print a + b                     #[  6.   8.  10.  12.]\n",
    "print numpy.add(a, b)           #[  6.   8.  10.  12.]\n",
    "\n",
    "print a - b                     #[-4. -4. -4. -4.]\n",
    "print numpy.subtract(a, b)      #[-4. -4. -4. -4.]\n",
    "\n",
    "print a * b                     #[  5.  12.  21.  32.]\n",
    "print numpy.multiply(a, b)      #[  5.  12.  21.  32.]\n",
    "\n",
    "print a / b                     #[ 0.2         0.33333333  0.42857143  0.5       ]\n",
    "print numpy.divide(a, b)        #[ 0.2         0.33333333  0.42857143  0.5       ]\n",
    "\n",
    "print a % b                     #[ 1.  2.  3.  4.]\n",
    "print numpy.mod(a, b)           #[ 1.  2.  3.  4.]\n",
    "\n",
    "print a**b                      #[  1.00000000e+00   6.40000000e+01   2.18700000e+03   6.55360000e+04]\n",
    "print numpy.power(a, b)         #[  1.00000000e+00   6.40000000e+01   2.18700000e+03   6.55360000e+04]"
   ]
  },
  {
   "cell_type": "markdown",
   "metadata": {},
   "source": [
    "## Tarefa\n",
    "\n",
    "A você é dado dois arrays ($A$ e $B$) de mesma dimensões ($NxM$)\n",
    "\n",
    "1. A + B\n",
    "2. A - B\n",
    "3. A * B\n",
    "4. A // B\n",
    "5. A % B\n",
    "6. A \\*\\* B\n",
    "\n",
    "### Formato de Entrada\n",
    "\n",
    "A primeira linha contém os inteiros N e M separados por espaço. As próximas N linhas contém M elementos separados por espaço do array A. Após as N linhas, haverá mais N linhas cada uma das quais contendo M elementos separados por espaço do array B.\n",
    "\n",
    "### Formato de Saída\n",
    "\n",
    "Imprima o resultado das operações na ordem estabelecida na tarefa.\n",
    "\n",
    "### Exemplo de Entrada\n",
    "```\n",
    "1 4\n",
    "1 2 3 4\n",
    "5 6 7 8\n",
    "``` \n",
    "\n",
    "### Exemplo de Saída\n",
    "\n",
    "```\n",
    "[[ 6  8 10 12]]\n",
    "[[-4 -4 -4 -4]]\n",
    "[[ 5 12 21 32]]\n",
    "[[0 0 0 0]]\n",
    "[[1 2 3 4]]\n",
    "[[    1    64  2187 65536]] \n",
    "```\n",
    " \n",
    "Use **//** para divisão em Python 3.\n",
    "\n",
    "## Submissão do Código\n",
    "\n",
    "Para submissão e codificação da tarefa utilizar o link a seguir: https://www.hackerrank.com/contests/ead-vetorizacao-com-numpy/challenges/np-array-mathematics. Essa paǵina é apenas a tradução das instruções do link anterior."
   ]
  }
 ],
 "metadata": {
  "kernelspec": {
   "display_name": "Python 3",
   "language": "python",
   "name": "python3"
  },
  "language_info": {
   "codemirror_mode": {
    "name": "ipython",
    "version": 2
   },
   "file_extension": ".py",
   "mimetype": "text/x-python",
   "name": "python",
   "nbconvert_exporter": "python",
   "pygments_lexer": "ipython2",
   "version": "2.7.12"
  }
 },
 "nbformat": 4,
 "nbformat_minor": 2
}
