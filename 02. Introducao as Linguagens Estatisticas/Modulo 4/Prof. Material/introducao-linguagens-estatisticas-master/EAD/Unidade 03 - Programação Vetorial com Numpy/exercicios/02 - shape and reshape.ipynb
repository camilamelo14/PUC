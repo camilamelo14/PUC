{
 "cells": [
  {
   "cell_type": "markdown",
   "metadata": {},
   "source": [
    "# Shape and Reshape\n",
    "\n",
    "\n",
    "## shape\n",
    "\n",
    "O atributo [*shape*](https://docs.scipy.org/doc/numpy/reference/generated/numpy.ndarray.shape.html#numpy-ndarray-shape) é uma tupla representando as dimensões do ndarray e pode ser utilizado para redimensioná-lo\n",
    "\n",
    "\n",
    "### Usando shape para obter as dimensões do array"
   ]
  },
  {
   "cell_type": "code",
   "execution_count": 6,
   "metadata": {},
   "outputs": [
    {
     "name": "stdout",
     "output_type": "stream",
     "text": [
      "(5,)\n",
      "(3, 2)\n"
     ]
    }
   ],
   "source": [
    "import numpy\n",
    "\n",
    "my_1D_array = numpy.array([1, 2, 3, 4, 5])\n",
    "print(my_1D_array.shape)    #(5,) -> 5 linhas e 0 colunas\n",
    "\n",
    "my_2D_array = numpy.array([[1, 2],[3, 4],[6,5]])\n",
    "print(my_2D_array.shape)     #(3, 2) -> 3 linhas e 2 colunas "
   ]
  },
  {
   "cell_type": "markdown",
   "metadata": {},
   "source": [
    "### Usando *shape* para redimensionar um array"
   ]
  },
  {
   "cell_type": "code",
   "execution_count": 5,
   "metadata": {},
   "outputs": [
    {
     "data": {
      "text/plain": [
       "array([[1, 2],\n",
       "       [3, 4],\n",
       "       [5, 6]])"
      ]
     },
     "execution_count": 5,
     "metadata": {},
     "output_type": "execute_result"
    }
   ],
   "source": [
    "import numpy\n",
    "\n",
    "change_array = numpy.array([1,2,3,4,5,6])\n",
    "change_array.shape = (3, 2)\n",
    "change_array"
   ]
  },
  {
   "cell_type": "markdown",
   "metadata": {},
   "source": [
    "## reshape\n",
    "\n",
    "O método *reshape* dá um novo formato (*shape*) ao array sem modificar seus dados. Ele cria um novo array e não modifica o original. "
   ]
  },
  {
   "cell_type": "code",
   "execution_count": 19,
   "metadata": {},
   "outputs": [
    {
     "name": "stdout",
     "output_type": "stream",
     "text": [
      "reshape: \n",
      "[[1 2]\n",
      " [3 4]\n",
      " [5 6]]\n",
      "-------\n",
      "[[1 2]\n",
      " [3 4]\n",
      " [5 6]]\n",
      "\n",
      "Array original: \n",
      "[1 2 3 4 5 6]\n"
     ]
    }
   ],
   "source": [
    "import numpy\n",
    "\n",
    "my_array = numpy.array([1,2,3,4,5,6])\n",
    "print(\"reshape: \")\n",
    "print(numpy.reshape(my_array,(3,2)))\n",
    "print('-------')\n",
    "print(my_array.reshape(3,2))\n",
    "print('')\n",
    "print(\"Array original: \")\n",
    "print(my_array)"
   ]
  },
  {
   "cell_type": "markdown",
   "metadata": {},
   "source": [
    "## Tarefa\n",
    "\n",
    "A você será dado uma sequência de inteiros separados por espaço. Sua tarefa é converter essa sequência em um NumPy array 3x3.\n",
    "\n",
    "### Formato de Entrada\n",
    "\n",
    "Uma única linha com uma sequência de inteiros separados por espaço\n",
    "\n",
    "### Formato de Saída\n",
    "\n",
    "Imprima um NumPy array 3x3.\n",
    "\n",
    "### Exemplo de Entrada 0\n",
    "\n",
    "```\n",
    "1 2 3 4 5 6 7 8 9\n",
    "```\n",
    "\n",
    "### Exemplo de Saída 0\n",
    "\n",
    "```\n",
    "[[1 2 3]\n",
    " [4 5 6]\n",
    " [7 8 9]]\n",
    "```\n",
    "\n",
    "## Submissão do Código\n",
    "\n",
    "Para submissão e codificação da tarefa utilizar o link a seguir: https://www.hackerrank.com/contests/ead-vetorizacao-com-numpy/challenges/np-shape-reshape. Essa paǵina é apenas a tradução das instruções do link anterior."
   ]
  }
 ],
 "metadata": {
  "kernelspec": {
   "display_name": "Python 3",
   "language": "python",
   "name": "python3"
  },
  "language_info": {
   "codemirror_mode": {
    "name": "ipython",
    "version": 2
   },
   "file_extension": ".py",
   "mimetype": "text/x-python",
   "name": "python",
   "nbconvert_exporter": "python",
   "pygments_lexer": "ipython2",
   "version": "2.7.12"
  }
 },
 "nbformat": 4,
 "nbformat_minor": 2
}
