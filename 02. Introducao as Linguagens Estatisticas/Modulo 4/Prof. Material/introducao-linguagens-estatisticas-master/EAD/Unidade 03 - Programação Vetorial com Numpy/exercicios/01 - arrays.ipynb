{
 "cells": [
  {
   "cell_type": "markdown",
   "metadata": {},
   "source": [
    "# Arrays\n",
    "\n",
    "O pacote *NumPy* (Numeric Python) nos ajuda a manipular grandes arrays e matrizes de dados númericos.\n",
    "\n",
    "Para utilizar o NumPy nós devemos importá-lo em nosso código:"
   ]
  },
  {
   "cell_type": "code",
   "execution_count": 5,
   "metadata": {},
   "outputs": [],
   "source": [
    "import numpy"
   ]
  },
  {
   "cell_type": "markdown",
   "metadata": {},
   "source": [
    "Um [array](https://docs.scipy.org/doc/numpy/reference/arrays.html) NumPy é uma coleção de 'items'. Eles são similares às listas, exceto que **todos** os elementos devem ser do **mesmo tipo**."
   ]
  },
  {
   "cell_type": "code",
   "execution_count": 6,
   "metadata": {},
   "outputs": [
    {
     "name": "stdout",
     "output_type": "stream",
     "text": [
      "2\n",
      "2.0\n"
     ]
    }
   ],
   "source": [
    "a = numpy.array([1, 2, 3, 4, 5])\n",
    "print(a[1])\n",
    "\n",
    "b = numpy.array([1, 2, 3, 4, 5], float)\n",
    "print(b[1])"
   ]
  },
  {
   "cell_type": "markdown",
   "metadata": {},
   "source": [
    "No exemplo acima, numpy.array() é usado para converte a lista em um Numpy array (ndarray). O segundo argumento (float) pode ser utilizado para atribuir um tipo aos elementos do array."
   ]
  },
  {
   "cell_type": "markdown",
   "metadata": {},
   "source": [
    "## Tarefa\n",
    "\n",
    "A você será dado uma sequência de números inteiros separados por espaço. Sua tarefa é imprimir um NumPy array com esses números na ordem reversa e sendo floats.\n",
    "\n",
    "### Formato de Entrada\n",
    "\n",
    "Uma única linha contendo uma sequência de números inteiros separados por espaço em branco.\n",
    "\n",
    "### Formato de Saída\n",
    "\n",
    "Imprima um NumPy array com os números da entrada na ordem reversa e sendo floats.\n",
    "\n",
    "### Exemplo de Entrada 0\n",
    "\n",
    "```\n",
    "1 2 3 4 -8 -10\n",
    "```\n",
    "\n",
    "### Exemplo de Saída 0\n",
    "\n",
    "```\n",
    "[-10.  -8.   4.   3.   2.   1.]\n",
    "```\n",
    "\n",
    "## Submissão do Código\n",
    "\n",
    "Para submissão e codificação da tarefa utilizar o link a seguir: https://www.hackerrank.com/contests/ead-vetorizacao-com-numpy/challenges/np-arrays. Essa paǵina é apenas a tradução das instruções do link anterior."
   ]
  }
 ],
 "metadata": {
  "kernelspec": {
   "display_name": "Python 3",
   "language": "python",
   "name": "python3"
  },
  "language_info": {
   "codemirror_mode": {
    "name": "ipython",
    "version": 2
   },
   "file_extension": ".py",
   "mimetype": "text/x-python",
   "name": "python",
   "nbconvert_exporter": "python",
   "pygments_lexer": "ipython2",
   "version": "2.7.12"
  }
 },
 "nbformat": 4,
 "nbformat_minor": 2
}
