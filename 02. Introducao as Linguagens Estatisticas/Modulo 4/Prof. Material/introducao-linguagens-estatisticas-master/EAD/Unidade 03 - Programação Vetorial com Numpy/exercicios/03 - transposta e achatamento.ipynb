{
 "cells": [
  {
   "cell_type": "markdown",
   "metadata": {},
   "source": [
    "# Transposta e Achatamento\n",
    "\n",
    "## Transposta\n",
    "\n",
    "Nós podemos gerar um transposta de arra usando o método [```numpy.transpose```](https://docs.scipy.org/doc/numpy/reference/generated/numpy.transpose.html#numpy-transpose). Seu efeito não afetará o array original, mas criará um novo array."
   ]
  },
  {
   "cell_type": "code",
   "execution_count": 3,
   "metadata": {},
   "outputs": [
    {
     "name": "stdout",
     "output_type": "stream",
     "text": [
      "[[1 4]\n",
      " [2 5]\n",
      " [3 6]]\n"
     ]
    }
   ],
   "source": [
    "import numpy\n",
    "\n",
    "my_array = numpy.array([[1,2,3],\n",
    "                        [4,5,6]])\n",
    "print(numpy.transpose(my_array))"
   ]
  },
  {
   "cell_type": "markdown",
   "metadata": {},
   "source": [
    "## Achatamento (Flatten)\n",
    "\n",
    "O método [```flatten```](https://docs.scipy.org/doc/numpy/reference/generated/numpy.ndarray.flatten.html) cria uma cópia do array de entrada \"achatando-o\" em uma dimensão."
   ]
  },
  {
   "cell_type": "code",
   "execution_count": 4,
   "metadata": {},
   "outputs": [
    {
     "name": "stdout",
     "output_type": "stream",
     "text": [
      "[1 2 3 4 5 6]\n"
     ]
    }
   ],
   "source": [
    "import numpy\n",
    "\n",
    "my_array = numpy.array([[1,2,3],\n",
    "                        [4,5,6]])\n",
    "print my_array.flatten()"
   ]
  },
  {
   "cell_type": "markdown",
   "metadata": {},
   "source": [
    "## Tarefa\n",
    "\n",
    "A você será dado um array 2d com dimensões NxM com os elementos separados por espaço (N = número de linhas e M = número de colunas). Sua tarefa é imprimir a transposta e versão 1d da matriz.\n",
    "\n",
    "### Formato de Entrada\n",
    "\n",
    "A primeira linha contém dois inteiros, N e M, separados por espaço.\n",
    "Cada uma das próximas N linhas contém M elementos separados por espaço.\n",
    "\n",
    "### Formato de Saída\n",
    "\n",
    "Primeiro imprima a transposta e , em seguida, imprima a versão 1d.\n",
    "\n",
    "### Exemplo de Entrada\n",
    "\n",
    "```\n",
    "2 2\n",
    "1 2\n",
    "3 4\n",
    "```\n",
    "\n",
    "### Exemplo de Saída\n",
    "\n",
    "```\n",
    "[[1 3]\n",
    " [2 4]]\n",
    "[1 2 3 4]\n",
    "```\n",
    "\n",
    "## Submissão do Código\n",
    "\n",
    "Para submissão e codificação da tarefa utilizar o link a seguir:https://www.hackerrank.com/contests/ead-vetorizacao-com-numpy/challenges/np-transpose-and-flatten. Essa paǵina é apenas a tradução das instruções do link anterior."
   ]
  }
 ],
 "metadata": {
  "kernelspec": {
   "display_name": "Python 3",
   "language": "python",
   "name": "python3"
  },
  "language_info": {
   "codemirror_mode": {
    "name": "ipython",
    "version": 2
   },
   "file_extension": ".py",
   "mimetype": "text/x-python",
   "name": "python",
   "nbconvert_exporter": "python",
   "pygments_lexer": "ipython2",
   "version": "2.7.12"
  }
 },
 "nbformat": 4,
 "nbformat_minor": 2
}
