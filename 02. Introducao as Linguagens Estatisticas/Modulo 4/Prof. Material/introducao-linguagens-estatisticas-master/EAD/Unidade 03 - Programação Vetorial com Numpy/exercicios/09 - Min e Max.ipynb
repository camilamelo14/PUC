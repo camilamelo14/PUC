{
 "cells": [
  {
   "cell_type": "markdown",
   "metadata": {},
   "source": [
    "# Min e Max\n",
    "\n",
    "## Min\n",
    "\n",
    "O método [```min```](http://docs.scipy.org/doc/numpy/reference/generated/numpy.ndarray.min.html) retorna o valor mínimo no eixo informado."
   ]
  },
  {
   "cell_type": "code",
   "execution_count": 1,
   "metadata": {},
   "outputs": [
    {
     "name": "stdout",
     "output_type": "stream",
     "text": [
      "[1 0]\n",
      "[2 3 1 0]\n",
      "0\n",
      "0\n"
     ]
    }
   ],
   "source": [
    "import numpy\n",
    "\n",
    "my_array = numpy.array([[2, 5], \n",
    "                        [3, 7],\n",
    "                        [1, 3],\n",
    "                        [4, 0]])\n",
    "\n",
    "print(numpy.min(my_array, axis = 0))         #Output : [1 0]\n",
    "print(numpy.min(my_array, axis = 1))         #Output : [2 3 1 0]\n",
    "print(numpy.min(my_array, axis = None))      #Output : 0\n",
    "print(numpy.min(my_array))                   #Output : 0"
   ]
  },
  {
   "cell_type": "markdown",
   "metadata": {},
   "source": [
    "Por padrão, o eixo é None. Portanto, ele acha o mínimo levando em conta todas as dimensões do array de entrada.\n",
    "\n",
    "## Max\n",
    "\n",
    "O método [```max```](http://docs.scipy.org/doc/numpy/reference/generated/numpy.ndarray.max.html) retorna o valor máximo no eixo informado."
   ]
  },
  {
   "cell_type": "code",
   "execution_count": 2,
   "metadata": {},
   "outputs": [
    {
     "name": "stdout",
     "output_type": "stream",
     "text": [
      "[4 7]\n",
      "[5 7 3 4]\n",
      "7\n",
      "7\n"
     ]
    }
   ],
   "source": [
    "import numpy\n",
    "\n",
    "my_array = numpy.array([[2, 5], \n",
    "                        [3, 7],\n",
    "                        [1, 3],\n",
    "                        [4, 0]])\n",
    "\n",
    "print(numpy.max(my_array, axis = 0))         #Output : [4 7]\n",
    "print(numpy.max(my_array, axis = 1))         #Output : [5 7 3 4]\n",
    "print(numpy.max(my_array, axis = None))      #Output : 7\n",
    "print(numpy.max(my_array))                   #Output : 7"
   ]
  },
  {
   "cell_type": "markdown",
   "metadata": {},
   "source": [
    "Por padrão, o eixo é None. Portanto, ele acha o máximo levando em conta todas as dimensões do array de entrada."
   ]
  },
  {
   "cell_type": "markdown",
   "metadata": {},
   "source": [
    "## Tarefas\n",
    "\n",
    "A você será dado um array 2-D com dimensões $NxM$. Sua tarefa é executar os métodos ```min``` no eixo 1 e encontrar o valor máximo do array resultante do ```min```.\n",
    "\n",
    "### Formato de Entrada\n",
    "\n",
    "Uma linha contendo inteiros, N e M, separados por espaço.\n",
    "As próximas $N$ linhas contém $M$ inteiros separados por espaço.\n",
    "\n",
    "### Formado de Saída\n",
    "\n",
    "Compute  ```min``` no eixo 1 e encontrar o valor máximo do array resultante da execução do ```min```.\n",
    "\n",
    "### Exemplo de Entrada\n",
    "\n",
    "```\n",
    "4 2\n",
    "2 5\n",
    "3 7\n",
    "1 3\n",
    "4 0\n",
    "```\n",
    "\n",
    "### Exemplo de Saída\n",
    "\n",
    "```\n",
    "3\n",
    "```\n",
    "\n",
    "### Explicação\n",
    "\n",
    "A primeira linha ```4 2``` representa as dimensões do array, ou seja, N = 4 e M = 2.\n",
    "\n",
    "O mínimo no eixo 1 é : ```[2, 3, 1, 0]```\n",
    "O máximo de ```[2, 3, 1, 0]``` é $3$\n",
    "\n",
    "## Submissão do Código\n",
    "\n",
    "Para submissão e codificação da tarefa utilizar o link a seguir: https://www.hackerrank.com/contests/ead-vetorizacao-com-numpy/challenges/np-min-and-max. Essa paǵina é apenas a tradução das instruções do link anterior."
   ]
  }
 ],
 "metadata": {
  "kernelspec": {
   "display_name": "Python 3",
   "language": "python",
   "name": "python3"
  },
  "language_info": {
   "codemirror_mode": {
    "name": "ipython",
    "version": 2
   },
   "file_extension": ".py",
   "mimetype": "text/x-python",
   "name": "python",
   "nbconvert_exporter": "python",
   "pygments_lexer": "ipython2",
   "version": "2.7.12"
  }
 },
 "nbformat": 4,
 "nbformat_minor": 2
}
