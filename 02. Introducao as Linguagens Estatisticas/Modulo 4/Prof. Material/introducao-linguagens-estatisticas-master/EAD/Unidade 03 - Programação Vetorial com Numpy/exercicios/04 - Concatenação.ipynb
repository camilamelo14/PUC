{
 "cells": [
  {
   "cell_type": "markdown",
   "metadata": {},
   "source": [
    "# Concatenação\n",
    "\n",
    "Dois ou mais arrays podem ser concatenados usando a função [```concatenate```](https://docs.scipy.org/doc/numpy/reference/generated/numpy.concatenate.html) com a tupla de arrays a serem combinados:"
   ]
  },
  {
   "cell_type": "code",
   "execution_count": 1,
   "metadata": {},
   "outputs": [
    {
     "data": {
      "text/plain": [
       "array([1, 2, 3, 4, 5, 6, 7, 8, 9])"
      ]
     },
     "execution_count": 1,
     "metadata": {},
     "output_type": "execute_result"
    }
   ],
   "source": [
    "import numpy\n",
    "\n",
    "array_1 = numpy.array([1,2,3])\n",
    "array_2 = numpy.array([4,5,6])\n",
    "array_3 = numpy.array([7,8,9])\n",
    "\n",
    "numpy.concatenate((array_1, array_2, array_3))  "
   ]
  },
  {
   "cell_type": "markdown",
   "metadata": {},
   "source": [
    "Se um array possui mais de uma dimensão, é possível especificar qual o eixo (dimensão) os arrays serão concatenados. Por padrão, o eixo é o primeiro (o das linhas)."
   ]
  },
  {
   "cell_type": "code",
   "execution_count": 6,
   "metadata": {},
   "outputs": [
    {
     "name": "stdout",
     "output_type": "stream",
     "text": [
      "Padrão é axis = 0 : \n",
      "[[1 2 3]\n",
      " [0 0 0]\n",
      " [0 0 0]\n",
      " [7 8 9]]\n",
      "\n",
      "Axis = 1 : \n",
      "[[1 2 3 0 0 0]\n",
      " [0 0 0 7 8 9]]\n"
     ]
    }
   ],
   "source": [
    "import numpy\n",
    "\n",
    "array_1 = numpy.array([[1,2,3],[0,0,0]])\n",
    "array_2 = numpy.array([[0,0,0],[7,8,9]])\n",
    "\n",
    "print(\"Padrão é axis = 0 : \")\n",
    "print(numpy.concatenate((array_1, array_2)))\n",
    "print('')\n",
    "print(\"Axis = 1 : \")\n",
    "print(numpy.concatenate((array_1, array_2), axis = 1))"
   ]
  },
  {
   "cell_type": "markdown",
   "metadata": {},
   "source": [
    "## Tarefa\n",
    "\n",
    "A você será dado dois arrays de inteiros de tamanhos $NxP$ e $MxP$ ($N$ e $M$ são número de linhas de cada array, e $P$ o número de colunas). Sua missão é concatenar os arrays pelo eixo 0.\n",
    "\n",
    "### Formato de Entrada\n",
    "\n",
    "A primeira linha contém os inteiros $N$,$M$ e $P$ separados por espaço.\n",
    "As próximas N linhas contém P elementos separados por espaço.\n",
    "Após as N linhas, haverá mais M linhas cada uma das quais contendo P elementos separados por espaço.\n",
    "\n",
    "### Formato de Saída\n",
    "\n",
    "Imprima a matriz resultante da concatenação, ela deve ter tamanho $(N + M)xP$\n",
    "\n",
    "### Exemplo de Entrada\n",
    "\n",
    "```\n",
    "4 3 2\n",
    "1 2\n",
    "1 2 \n",
    "1 2\n",
    "1 2\n",
    "3 4\n",
    "3 4\n",
    "3 4 \n",
    "```\n",
    "\n",
    "### Exemplo de Saída \n",
    "\n",
    "```\n",
    "[[1 2]\n",
    " [1 2]\n",
    " [1 2]\n",
    " [1 2]\n",
    " [3 4]\n",
    " [3 4]\n",
    " [3 4]]\n",
    "```\n",
    "\n",
    "## Submissão do Código\n",
    "\n",
    "Para submissão e codificação da tarefa utilizar o link a seguir:https://www.hackerrank.com/contests/ead-vetorizacao-com-numpy/challenges/np-concatenate. Essa paǵina é apenas a tradução das instruções do link anterior."
   ]
  }
 ],
 "metadata": {
  "kernelspec": {
   "display_name": "Python 3",
   "language": "python",
   "name": "python3"
  },
  "language_info": {
   "codemirror_mode": {
    "name": "ipython",
    "version": 2
   },
   "file_extension": ".py",
   "mimetype": "text/x-python",
   "name": "python",
   "nbconvert_exporter": "python",
   "pygments_lexer": "ipython2",
   "version": "2.7.12"
  }
 },
 "nbformat": 4,
 "nbformat_minor": 2
}
