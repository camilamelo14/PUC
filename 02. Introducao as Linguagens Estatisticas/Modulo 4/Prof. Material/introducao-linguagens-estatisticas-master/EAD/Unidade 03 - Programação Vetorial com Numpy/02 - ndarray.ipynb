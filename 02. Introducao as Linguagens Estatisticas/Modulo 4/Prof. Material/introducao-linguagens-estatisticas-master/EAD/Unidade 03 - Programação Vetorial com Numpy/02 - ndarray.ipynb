{
 "cells": [
  {
   "cell_type": "markdown",
   "metadata": {},
   "source": [
    "# Numpy\n",
    "\n",
    "Numpy é uma biblioteca (pacote python) que prove varias funções numéricas para trabalhamos eficientemente com array multidimensionais homogeneos. Esse array é uma tabela de elementes (geralmente de numeros), todos no mesmo tipo, indexados por uma tupla de inteiros positivos. No NumPy dimensões são chamadas de eixos (axes).\n",
    "\n",
    "Um exemplo de array multimensional de pontos flutuante.\n",
    "\n",
    "```python\n",
    "[[ 1., 0., 0.],\n",
    " [ 0., 1., 2.]]\n",
    "``` \n",
    "\n",
    "Tipo do array do numpy é chamdo de ndarray. Os atributos mais importantes de um objeto do tipo ndarray são:\n",
    "\n",
    "- **ndrray.ndim**\n",
    "\n",
    "    número de dimensões (eixos) que o array possui\n",
    "    \n",
    "    \n",
    "- **ndarray.shape**\n",
    "\n",
    "    os valores das dimensões (eixos) do array. Por exemplo, uma matrix com n linhas e m colunas terá o shape = (n, m).\n",
    "\n",
    "\n",
    "- **ndarray.size**\n",
    "\n",
    "    Total de elementos no array. É equivalente ao produto dos elementos do shape.\n",
    "\n",
    "\n",
    "- **ndarray.dtype**\n",
    "\n",
    "    O tipo dos elementos armazenados no array.\n",
    "\n",
    "\n",
    "- **ndrray.itemsize**\n",
    "\n",
    "    Tamanho em bytes de cada elemento no array.\n",
    "\n",
    "\n",
    "- **ndarray.data**\n",
    "\n",
    "    Um buffer contendo realmente os elementos do array. Geralemente, não precisamos acessá-lo diretamente, pois utilizaremos o mecanismo de indexição que veremos a seguir.\n",
    "\n",
    "\n",
    "### Exemplo"
   ]
  },
  {
   "cell_type": "code",
   "execution_count": null,
   "metadata": {
    "collapsed": true,
    "scrolled": true
   },
   "outputs": [],
   "source": [
    "import numpy as np\n",
    "\n",
    "# criando um ndarray a partir de uma lista\n",
    "a = np.array([1, 2, 3, 4, 5, 6])\n",
    "\n",
    "# cria um array 2D com 15 elementos de 0 a 14\n",
    "# com 3 linhas e 5 colunas\n",
    "b = np.arange(15).reshape(3, 5)\n",
    "\n",
    "print(\"a : \", a, \"dims: \", a.ndim)\n",
    "\n",
    "print(\"b : \", b, \"dims: \", b.ndim)\n",
    "\n",
    "# tipo dos elementos no array\n",
    "print(a.dtype)\n",
    "\n",
    "# convertendo para float\n",
    "print(b.astype(float).dtype)\n",
    "\n",
    "print(type(a))"
   ]
  },
  {
   "cell_type": "markdown",
   "metadata": {},
   "source": [
    "### Criando array\n",
    "\n",
    "Há varias formas de criar um ndarray.\n",
    "\n",
    "Por exemplo, você pode criar a partir de uma lista ou tupla Python com a função ```array```.\n",
    "O tipo dos elementos será inferido a partir do elementos na lista."
   ]
  },
  {
   "cell_type": "code",
   "execution_count": null,
   "metadata": {
    "collapsed": true,
    "scrolled": true
   },
   "outputs": [],
   "source": [
    "import numpy as np\n",
    "\n",
    "a = np.array([2, 3.4, 4])\n",
    "\n",
    "print(a, a.dtype)\n",
    "\n",
    "a = np.array([2, 3, 4])\n",
    "\n",
    "print(a, a.dtype)"
   ]
  },
  {
   "cell_type": "markdown",
   "metadata": {},
   "source": [
    "Um erro frequente é chamar a função ```array``` com múltiplos argumentos, ao invés de passar apenas uma única lista de elementos.   "
   ]
  },
  {
   "cell_type": "code",
   "execution_count": null,
   "metadata": {
    "collapsed": true
   },
   "outputs": [],
   "source": [
    "# descomente para testar\n",
    "# a = np.array(1,2,3,4) # errado\n",
    "a = np.array([1,2,3,4]) # certo"
   ]
  },
  {
   "cell_type": "code",
   "execution_count": null,
   "metadata": {
    "collapsed": true
   },
   "outputs": [],
   "source": [
    "a = [(1., 0., 0),\n",
    "     (0., 1., 2.)]\n",
    "b = np.array(a)\n",
    "b"
   ]
  },
  {
   "cell_type": "code",
   "execution_count": null,
   "metadata": {
    "collapsed": true
   },
   "outputs": [],
   "source": [
    "a = [(1., 0., 0),\n",
    "     (0., 1., 2.)]\n",
    "# explicitamente falando qual é o tipo dos elementos\n",
    "b = np.array(a, dtype=complex)\n",
    "b"
   ]
  },
  {
   "cell_type": "markdown",
   "metadata": {},
   "source": [
    "Geralmente, nós sabemos as dimensões do array, porém não sabemos seu valor. O Numpy nos ofere funções para criar arrays pre-preenchidos com valores padrões. "
   ]
  },
  {
   "cell_type": "code",
   "execution_count": null,
   "metadata": {
    "collapsed": true
   },
   "outputs": [],
   "source": [
    "# array apenas com zeros\n",
    "# recebe como parametro o shape\n",
    "# shape sempre é uma tupla\n",
    "print(np.zeros((3, 4)))\n",
    "\n",
    "# array apenas de uns\n",
    "print(np.ones((3)))\n",
    "\n",
    "# array não inicializado \n",
    "# (apenas lixos, valores podem sofre alteraco)\n",
    "print(np.empty((1,2,10)))"
   ]
  },
  {
   "cell_type": "markdown",
   "metadata": {},
   "source": [
    "### Criando sequências de números (arange)\n",
    "\n",
    "A função ```arange``` sequências numéricas assim como a ``` range``` do Python."
   ]
  },
  {
   "cell_type": "code",
   "execution_count": null,
   "metadata": {
    "collapsed": true
   },
   "outputs": [],
   "source": [
    "print(np.arange(10, 30, 5))\n",
    "\n",
    "# também aceita float\n",
    "print(np.arange(0, 10, 0.5))"
   ]
  },
  {
   "cell_type": "markdown",
   "metadata": {},
   "source": [
    "Quando utilizamos ```arange``` com float, muitas vezes é impossível saber quantos elementos a sequência vai ter. Portanto, é preferível utiliar a função linspace, com a qual nós passamos o número de elementos ao invés do passo:"
   ]
  },
  {
   "cell_type": "code",
   "execution_count": null,
   "metadata": {
    "collapsed": true
   },
   "outputs": [],
   "source": [
    "np.linspace(0, 9.5, 20)"
   ]
  },
  {
   "cell_type": "markdown",
   "metadata": {},
   "source": [
    "## Operações basicas\n",
    "\n",
    "As operações aritiméticas são aplicadas elemento a elemento. Como resultado um novo arry é criado preenchido com os valores resultantes.\n",
    "\n",
    "### Arrays e Escalares"
   ]
  },
  {
   "cell_type": "code",
   "execution_count": null,
   "metadata": {
    "collapsed": true
   },
   "outputs": [],
   "source": [
    "# array\n",
    "a = np.array([1, 2, 3])\n",
    "\n",
    "# escalar\n",
    "b = 2\n",
    "\n",
    "print(\"{} * {} = {}\".format(b, a, b * a))\n",
    "print(\"{} + {} = {}\".format(b, a, b + a))\n",
    "print(\"{} - {} = {}\".format(b, a, b - a))\n",
    "print(\"{} / {} = {}\".format(b, a, b / a))\n",
    "print(\"{} ** {} = {}\".format(b, a, b ** a))"
   ]
  },
  {
   "cell_type": "markdown",
   "metadata": {},
   "source": [
    "### Entre arrays"
   ]
  },
  {
   "cell_type": "code",
   "execution_count": null,
   "metadata": {
    "collapsed": true
   },
   "outputs": [],
   "source": [
    "c = np.array([10, 2, 5])\n",
    "\n",
    "print(\"{} * {} = {}\".format(a, c, a * c))\n",
    "print(\"{} + {} = {}\".format(a, c, a + c))\n",
    "print(\"{} - {} = {}\".format(a, c, a - c))\n",
    "print(\"{} / {} = {}\".format(a, c, a / c))\n",
    "print(\"{} % {} = {}\".format(a, c, a % c))\n",
    "print(\"{} ** {} = {}\".format(a, c, a ** c))"
   ]
  },
  {
   "cell_type": "markdown",
   "metadata": {},
   "source": [
    "### Funções elemento a elemento (element-wise)"
   ]
  },
  {
   "cell_type": "code",
   "execution_count": null,
   "metadata": {
    "collapsed": true
   },
   "outputs": [],
   "source": [
    "print(\"np.log({}) = {}\".format(c, np.log(c)))\n",
    "print(\"np.sqrt({}) = {}\".format(c, np.sqrt(c)))"
   ]
  },
  {
   "cell_type": "markdown",
   "metadata": {},
   "source": [
    "### Exercício\n",
    "\n",
    "Muitas vezes quando estamos criando nossos modelos é preciso definir uma métrica para nós os avaliarmos e escolher o melhor dentre eles. Algumas vezes, nós mesmo temos de implementá-las, portanto, nesse exercício você vai ter de implementar a métrica Erro Quadrático Médio, em inglês *Mean Squared Error (MSE)*. \n",
    "\n",
    "A MSE é deifnida como:\n",
    "\n",
    "$\\epsilon = \\frac{1}{n}\\sum_{i=1}^{n}(\\hat{y}_i - y_i)^2$\n",
    "\n",
    "onde:\n",
    "\n",
    "- $\\epsilon$ é o valor do erro (score)\n",
    "- $n$ é o total de exemplos no conjunto de dados testado\n",
    "- $\\hat{y}_i$ é a predição do modelo\n",
    "- $y_i$ é o valor do real (rótulo)\n",
    "- $\\frac{1}{n}\\sum_{i=1}^{n}$ é a média\n",
    "- $(\\hat{y}_i - y_i)^2$ são os erros quadráticos"
   ]
  },
  {
   "cell_type": "code",
   "execution_count": null,
   "metadata": {
    "collapsed": true
   },
   "outputs": [],
   "source": [
    "import math\n",
    "\n",
    "def MSE(y_true, y_pred):\n",
    "    \"\"\" Mean Squared Error \n",
    "    Parâmetros\n",
    "    ----------\n",
    "    y_true : 1d array\n",
    "        Rótulos.\n",
    "    y_pred : 1d array\n",
    "        Predições, retornadas pelo modelo.\n",
    "    \"\"\"\n",
    "    n = len(y_true)\n",
    "    soma = 0\n",
    "    for i in range(n):\n",
    "        soma += (math.log(y_pred[i]) - math.log(y_true[i]))**2\n",
    "    return math.sqrt(soma / n)\n",
    "\n",
    "\n",
    "def vMSE(y_true, y_pred):\n",
    "    \"\"\"vectorized Mean Squared Error \n",
    "    Parâmetros\n",
    "    ----------\n",
    "    y_true : 1d array\n",
    "        Rótulos.\n",
    "    y_pred : 1d array\n",
    "        Predições, retornadas pelo modelo.\n",
    "    \"\"\"\n",
    "    # TODO: versão vetorizada do RMSLE\n",
    "    pass\n",
    "    \n",
    "\n",
    "y_true =  np.arange(1000000) + 1\n",
    "y_pred = y_true - np.random.rand(y_true.shape[0])\n",
    "\n",
    "print(MSE(y_true, y_pred))\n",
    "print(vMSE(y_true, y_pred))\n",
    "\n",
    "# %timeit MSE(y_true, y_pred)\n",
    "%timeit vMSE(y_true, y_pred)"
   ]
  }
 ],
 "metadata": {
  "kernelspec": {
   "display_name": "Python 3",
   "language": "python",
   "name": "python3"
  },
  "language_info": {
   "codemirror_mode": {
    "name": "ipython",
    "version": 2
   },
   "file_extension": ".py",
   "mimetype": "text/x-python",
   "name": "python",
   "nbconvert_exporter": "python",
   "pygments_lexer": "ipython2",
   "version": "2.7.12"
  }
 },
 "nbformat": 4,
 "nbformat_minor": 2
}
