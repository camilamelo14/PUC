{
 "cells": [
  {
   "cell_type": "markdown",
   "metadata": {},
   "source": [
    "# Pandas\n",
    "\n",
    "Pandas é uma biblioteca open source do Python para análise de dados. Python sempre foi muito bom para preparação de dados, mas tão bom para análise, geralmente prefeririam R ou usando o banco de dados e manupular via SQL. Pandas torna o Python ótimo para análise de dados.\n",
    "\n",
    "\n",
    "## Series\n",
    "\n",
    "Uma Series é um objeto uni-dimensional similar ao ndarray do numpy, lista, ou uma coluna em uma tabela. Cada elemento é indexidado por um rótulo. Por padrão, cada elemento recebe rótulo de 0 a N, onde N é o comprimento da Series menos um.\n",
    "\n",
    "Tem varias formas de criar uma Series, vamos exemplificar apenas duas:"
   ]
  },
  {
   "cell_type": "code",
   "execution_count": 1,
   "metadata": {},
   "outputs": [
    {
     "data": {
      "text/plain": [
       "0                7\n",
       "1       Heisenberg\n",
       "2             3.14\n",
       "3      -1789710578\n",
       "4    Happy Eating!\n",
       "dtype: object"
      ]
     },
     "execution_count": 1,
     "metadata": {},
     "output_type": "execute_result"
    }
   ],
   "source": [
    "# importanto pandas\n",
    "import pandas as pd\n",
    "\n",
    "# criando uma série\n",
    "s = pd.Series([7, 'Heisenberg', 3.14, -1789710578, 'Happy Eating!'])\n",
    "s"
   ]
  },
  {
   "cell_type": "markdown",
   "metadata": {},
   "source": [
    "### Opções de Criação"
   ]
  },
  {
   "cell_type": "code",
   "execution_count": 7,
   "metadata": {
    "collapsed": true
   },
   "outputs": [],
   "source": [
    "pd.Series?"
   ]
  },
  {
   "cell_type": "code",
   "execution_count": 10,
   "metadata": {},
   "outputs": [
    {
     "data": {
      "text/plain": [
       "A                7\n",
       "B       Heisenberg\n",
       "I             3.14\n",
       "I      -1789710578\n",
       "J    Happy Eating!\n",
       "dtype: object"
      ]
     },
     "execution_count": 10,
     "metadata": {},
     "output_type": "execute_result"
    }
   ],
   "source": [
    "s = pd.Series([7, 'Heisenberg', 3.14, -1789710578, 'Happy Eating!'],\n",
    "             index=['A', 'B', 'I', 'I', 'J'])\n",
    "s"
   ]
  },
  {
   "cell_type": "markdown",
   "metadata": {},
   "source": [
    "Você pode utilizar indices para selecionar elementos especificos, similar ao numpy."
   ]
  },
  {
   "cell_type": "code",
   "execution_count": 13,
   "metadata": {},
   "outputs": [
    {
     "data": {
      "text/plain": [
       "I           3.14\n",
       "I    -1789710578\n",
       "dtype: object"
      ]
     },
     "execution_count": 13,
     "metadata": {},
     "output_type": "execute_result"
    }
   ],
   "source": [
    "# utilizando apenas um valor\n",
    "s['I']"
   ]
  },
  {
   "cell_type": "code",
   "execution_count": 15,
   "metadata": {},
   "outputs": [
    {
     "data": {
      "text/plain": [
       "A                7\n",
       "B       Heisenberg\n",
       "J    Happy Eating!\n",
       "dtype: object"
      ]
     },
     "execution_count": 15,
     "metadata": {},
     "output_type": "execute_result"
    }
   ],
   "source": [
    "# utilizando lista\n",
    "s[['A', 'B', 'J']]"
   ]
  },
  {
   "cell_type": "markdown",
   "metadata": {},
   "source": [
    "### Operações aritméticas "
   ]
  },
  {
   "cell_type": "code",
   "execution_count": 51,
   "metadata": {},
   "outputs": [
    {
     "name": "stdout",
     "output_type": "stream",
     "text": [
      "s1 = [1, 2, 3, 4]\n",
      "s2 = [4, 3, 2, 1] \n",
      "\n",
      "s1 + s2 = [nan, 6.0, 6.0, 6.0, nan]\n",
      "\n",
      "s1 - s2 = [nan, -2.0, 0.0, 2.0, nan]\n",
      "\n",
      "s1 * s2 = [nan, 8.0, 9.0, 8.0, nan]\n",
      "\n",
      "s1 / s2 = [nan, 0.5, 1.0, 2.0, nan]\n",
      "\n",
      "s1 % s2 = [nan, 2.0, 0.0, 0.0, nan]\n",
      "\n",
      "s1 ** s2 = [1.0, 16.0, 27.0, 16.0, nan]\n",
      "\n"
     ]
    }
   ],
   "source": [
    "s1 = pd.Series([1, 2, 3, 4])\n",
    "s2 = pd.Series([4, 3, 2, 1])\n",
    "# descomentar para verificar operação entre series indexadas diferentemente\n",
    "# s2 = pd.Series([4, 3, 2, 1], index=[1, 2, 3, 4])\n",
    "\n",
    "print('s1 =', s1.tolist())\n",
    "print('s2 =', s2.tolist(), '\\n')\n",
    "\n",
    "print(\"s1 + s2 = {}\\n\".format((s1 + s2).tolist()))\n",
    "print(\"s1 - s2 = {}\\n\".format((s1 - s2).tolist()))\n",
    "print(\"s1 * s2 = {}\\n\".format((s1 * s2).tolist()))\n",
    "print(\"s1 / s2 = {}\\n\".format((s1 / s2).tolist()))\n",
    "print(\"s1 % s2 = {}\\n\".format((s1 % s2).tolist()))\n",
    "print(\"s1 ** s2 = {}\\n\".format((s1 ** s2).tolist()))"
   ]
  },
  {
   "cell_type": "markdown",
   "metadata": {},
   "source": [
    "### Operadores Booleanos "
   ]
  },
  {
   "cell_type": "code",
   "execution_count": 55,
   "metadata": {},
   "outputs": [
    {
     "name": "stdout",
     "output_type": "stream",
     "text": [
      "s1 =\n",
      "0    1\n",
      "1    2\n",
      "2    3\n",
      "3    4\n",
      "dtype: int64\n",
      "s2 =\n",
      "0    4\n",
      "1    3\n",
      "2    2\n",
      "3    1\n",
      "dtype: int64\n",
      "\n",
      "s1 < s2 = [True, True, False, False]\n",
      "\n",
      "s1 > s2 = [False, False, True, True]\n",
      "\n",
      "s1 == s2 = [False, False, False, False]\n",
      "\n",
      "s1 != s2 = [True, True, True, True]\n",
      "\n",
      "s1 <= s2 = [True, True, False, False]\n",
      "\n",
      "s1 >= s2 = [False, False, True, True]\n",
      "\n"
     ]
    }
   ],
   "source": [
    "s1 = pd.Series([1, 2, 3, 4])\n",
    "s2 = pd.Series([4, 3, 2, 1])\n",
    "\n",
    "# descomentar para verificar comparação entre series indexadas diferentemente\n",
    "# s2 = pd.Series([4, 3, 2, 1], index=[1, 2, 3, 4])\n",
    "\n",
    "# s1 ou s2 podem ser escalares assim como no numpy\n",
    "# descomente a linha abaixo e rode a célula novamente\n",
    "# s1 = 2\n",
    "# ou\n",
    "# s2 = 6\n",
    "\n",
    "print('s1 =\\n{}'.format(s1))\n",
    "print('s2 =\\n{}\\n'.format(s2))\n",
    "\n",
    "print(\"s1 < s2 = {}\\n\".format((s1 < s2).tolist()))\n",
    "print(\"s1 > s2 = {}\\n\".format((s1 > s2).tolist()))\n",
    "print(\"s1 == s2 = {}\\n\".format((s1 == s2).tolist()))\n",
    "print(\"s1 != s2 = {}\\n\".format((s1 != s2).tolist()))\n",
    "print(\"s1 <= s2 = {}\\n\".format((s1 <= s2).tolist()))\n",
    "print(\"s1 >= s2 = {}\\n\".format((s1 >= s2).tolist()))"
   ]
  },
  {
   "cell_type": "markdown",
   "metadata": {},
   "source": [
    "### Operações numpy"
   ]
  },
  {
   "cell_type": "code",
   "execution_count": 60,
   "metadata": {},
   "outputs": [
    {
     "name": "stdout",
     "output_type": "stream",
     "text": [
      "sum: 10\n",
      "np.log:\n",
      " 0    0.000000\n",
      "1    0.693147\n",
      "2    1.098612\n",
      "3    1.386294\n",
      "dtype: float64\n"
     ]
    }
   ],
   "source": [
    "import numpy as np\n",
    "\n",
    "print(\"sum:\", s1.sum())\n",
    "print(\"np.log:\\n\", np.log(s1))"
   ]
  },
  {
   "cell_type": "code",
   "execution_count": 69,
   "metadata": {},
   "outputs": [
    {
     "data": {
      "text/plain": [
       "'1234'"
      ]
     },
     "execution_count": 69,
     "metadata": {},
     "output_type": "execute_result"
    }
   ],
   "source": [
    "s1 = pd.Series(['1', '2', '3', '4'])\n",
    "s1.sum()"
   ]
  },
  {
   "cell_type": "markdown",
   "metadata": {},
   "source": [
    "### Tratando Valores Faltantes\n",
    "\n",
    "Valores nulos ou faltante, podem ser tratados com método `isnull`"
   ]
  },
  {
   "cell_type": "code",
   "execution_count": 70,
   "metadata": {},
   "outputs": [
    {
     "data": {
      "text/plain": [
       "Austin           False\n",
       "Boston            True\n",
       "Chicago          False\n",
       "New York         False\n",
       "Portland         False\n",
       "San Francisco    False\n",
       "dtype: bool"
      ]
     },
     "execution_count": 70,
     "metadata": {},
     "output_type": "execute_result"
    }
   ],
   "source": [
    "s =pd.Series({'Chicago': 1000, 'New York': 1300, 'Portland': 900, 'San Francisco': 1100,\n",
    "     'Austin': 450, 'Boston': None})\n",
    "\n",
    "s.isnull()"
   ]
  },
  {
   "cell_type": "code",
   "execution_count": 71,
   "metadata": {},
   "outputs": [
    {
     "data": {
      "text/plain": [
       "Austin            450.0\n",
       "Chicago          1000.0\n",
       "New York         1300.0\n",
       "Portland          900.0\n",
       "San Francisco    1100.0\n",
       "dtype: float64"
      ]
     },
     "execution_count": 71,
     "metadata": {},
     "output_type": "execute_result"
    }
   ],
   "source": [
    "s.dropna() # ignorando valores nulos"
   ]
  },
  {
   "cell_type": "code",
   "execution_count": 73,
   "metadata": {},
   "outputs": [
    {
     "data": {
      "text/plain": [
       "True"
      ]
     },
     "execution_count": 73,
     "metadata": {},
     "output_type": "execute_result"
    }
   ],
   "source": [
    "soma = s.sum() # ignora valores nulos\n",
    "\n",
    "soma == s.dropna().sum()"
   ]
  }
 ],
 "metadata": {
  "kernelspec": {
   "display_name": "Python 2",
   "language": "python",
   "name": "python2"
  },
  "language_info": {
   "codemirror_mode": {
    "name": "ipython",
    "version": 2
   },
   "file_extension": ".py",
   "mimetype": "text/x-python",
   "name": "python",
   "nbconvert_exporter": "python",
   "pygments_lexer": "ipython2",
   "version": "2.7.16"
  }
 },
 "nbformat": 4,
 "nbformat_minor": 2
}
