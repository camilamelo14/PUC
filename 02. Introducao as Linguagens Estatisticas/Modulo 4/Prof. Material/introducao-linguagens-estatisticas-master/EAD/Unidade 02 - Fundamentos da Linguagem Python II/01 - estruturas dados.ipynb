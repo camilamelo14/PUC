{
 "cells": [
  {
   "cell_type": "markdown",
   "metadata": {},
   "source": [
    "# Estrutura de Dados\n",
    "\n",
    "Python oferece uma grande quantidade de estrutura de dados tais como listas (list), dicionários (dict), tuplas (tuple) e conjuntos (set).\n",
    "\n",
    "## Listas\n",
    "\n",
    "Listas são estruturas de dados para armazenar mais de um valor, geralmente denotados como sequências.\n",
    "\n",
    "Em python um lista é criada colocando todos elementos entre colchetes, como nos exemplos abaixo."
   ]
  },
  {
   "cell_type": "code",
   "execution_count": 1,
   "metadata": {
    "collapsed": true
   },
   "outputs": [],
   "source": [
    "# lista vazia\n",
    "lista = []\n",
    "\n",
    "# lista de inteiros\n",
    "lista = [1, 2, 3]\n",
    "\n",
    "# lista com diferentes tipos de dados\n",
    "lista = [1, \"Hello\", 3.4]\n",
    "\n",
    "# lista aninhada\n",
    "lista = [\"mouse\", [8, 4, 6], ['a']]"
   ]
  },
  {
   "cell_type": "markdown",
   "metadata": {},
   "source": [
    "Note que listas em python podem conter tipos de dados distintos. Além disso, é possível armazenar lista dentro de lista (como no último exemplo).\n",
    "\n",
    "### Acessando elementos\n",
    "\n",
    "Em python, há várias formas distintas para se acessar elementos em uma lista. Podemos acessar os elementos individualmente utilizando colchetes e seu endereço:"
   ]
  },
  {
   "cell_type": "code",
   "execution_count": 2,
   "metadata": {},
   "outputs": [
    {
     "name": "stdout",
     "output_type": "stream",
     "text": [
      "p\n",
      "n\n"
     ]
    }
   ],
   "source": [
    "s = [\"p\", \"y\", \"t\", \"h\", \"o\", \"n\"]\n",
    "\n",
    "# acessando o primeiro elemento\n",
    "print(s[0])\n",
    "\n",
    "# acessando o último elemento\n",
    "print(s[-1])"
   ]
  },
  {
   "cell_type": "markdown",
   "metadata": {},
   "source": [
    "Diferentemente de muitas linguagens de programção, python aceita indice negativo. Quando utilizamos indices negativo é como estivéssemos acessando a lista de tras para frente, onde -1 é o último elemento da lista (como no exemplo).\n",
    "\n",
    "#### Slicing\n",
    "\n",
    "Python nos permite acessar um subconjunto da lista facilmente com o operador de slicing (:), como mostrado adiante:"
   ]
  },
  {
   "cell_type": "code",
   "execution_count": 3,
   "metadata": {},
   "outputs": [
    {
     "name": "stdout",
     "output_type": "stream",
     "text": [
      "['y', 't', 'h', 'o']\n",
      "['p', 'y', 't', 'h', 'o']\n",
      "['y', 't', 'h', 'o', 'n']\n"
     ]
    }
   ],
   "source": [
    "# imprime a lista sem o \n",
    "# primeiro e último elementos\n",
    "print(s[1:-1])\n",
    "\n",
    "# imprime a lista sem a última letra\n",
    "print(s[:-1])\n",
    "\n",
    "# imprime a lista sem a primeira letra\n",
    "print(s[1:])"
   ]
  },
  {
   "cell_type": "markdown",
   "metadata": {},
   "source": [
    "### Alterando valores\n",
    "\n",
    "Para se alterar algum valor, é apenas preciso atribuir um novo valor ao elemento que queremos alterar utilizando as formas de acesso expostas anteriormente."
   ]
  },
  {
   "cell_type": "code",
   "execution_count": 4,
   "metadata": {},
   "outputs": [
    {
     "name": "stdout",
     "output_type": "stream",
     "text": [
      "['P', 'y', 't', 'h', 'o', 'n']\n",
      "['P', 'Y', 'T', 'H', 'O', 'N']\n"
     ]
    }
   ],
   "source": [
    "s = [\"p\", \"y\", \"t\", \"h\", \"o\", \"n\"]\n",
    "\n",
    "s[0] = \"P\"\n",
    "\n",
    "print(s)\n",
    "\n",
    "s[1:] = [v.upper() for v in s[1:]]\n",
    "\n",
    "print(s)"
   ]
  },
  {
   "cell_type": "markdown",
   "metadata": {},
   "source": [
    "Em python, podemos alterar mais de um elemento ao mesmo tempo utilizando o slicing.  No código acima utilizei algo um pouco estranho para isso. Portanto, vou explicar um pouco melhor como funciona o trecho a seguir:\n",
    "\n",
    "```python\n",
    "s[1:] = [v.upper() for v in s[1:]]\n",
    "```\n",
    "\n",
    "O trecho ```[v.upper() for v in s[1:]]``` é uma outra modo de criar uma lista. Nós estamos criando uma lista a partir do *slice* da lista ```s```, onde cada elemente do *slice* é transformado em uma letra maiúscula. É uma forma muito sucinfa e elegante de se criar uma lista (uso muito).\n",
    "\n",
    "Podemos também criar uma lista levando alguma condição em consideração. Por exemplo, vamos supor que queriamos criar uma lista de elementos impares:"
   ]
  },
  {
   "cell_type": "code",
   "execution_count": 5,
   "metadata": {},
   "outputs": [
    {
     "data": {
      "text/plain": [
       "[1, 3, 5, 7, 9]"
      ]
     },
     "execution_count": 5,
     "metadata": {},
     "output_type": "execute_result"
    }
   ],
   "source": [
    "[i for i in range(10) if i % 2]"
   ]
  },
  {
   "cell_type": "markdown",
   "metadata": {},
   "source": [
    "## Adicionando elementos"
   ]
  },
  {
   "cell_type": "code",
   "execution_count": 6,
   "metadata": {},
   "outputs": [
    {
     "name": "stdout",
     "output_type": "stream",
     "text": [
      "['p', 'y', 't', 'h', 'o', 'n', '3']\n",
      "['p', 'y', 't', 'h', 'o', 'n', '3', '.', '5']\n"
     ]
    }
   ],
   "source": [
    "s = [\"p\", \"y\", \"t\", \"h\", \"o\", \"n\"]\n",
    "\n",
    "# Adicionando um elemento ao final\n",
    "s.append(\"3\")\n",
    "print(s)\n",
    "\n",
    "# Concatenando duas listas\n",
    "print(s + [\".\", \"5\"])"
   ]
  },
  {
   "cell_type": "markdown",
   "metadata": {},
   "source": [
    "Com esse novo conhecimento, nós temos 3 modos de criar um novo array a partir de outro. Eles estão descrito abaixo.\n",
    "O modo 1 não é só o mais elegante e sucinto, mas também o mais rápido e quando estamos desenvolvendo para muita quantidade de dados é importante saber qual é o modo mais rápido. Veja o custo de cada modo abaixo:"
   ]
  },
  {
   "cell_type": "code",
   "execution_count": 7,
   "metadata": {},
   "outputs": [
    {
     "name": "stdout",
     "output_type": "stream",
     "text": [
      "1 loop, best of 3: 539 ms per loop\n",
      "1 loop, best of 3: 944 ms per loop\n",
      "1 loop, best of 3: 1.55 s per loop\n"
     ]
    }
   ],
   "source": [
    "def create_list1(n):\n",
    "    return [i for i in range(n)]\n",
    "    \n",
    "def create_list2(n):\n",
    "    l = []\n",
    "    for i in range(n):\n",
    "        l.append(i)\n",
    "    return l\n",
    "\n",
    "def create_list3(n):\n",
    "    l = []\n",
    "    for i in range(n):\n",
    "        l += [i]\n",
    "    return l\n",
    "\n",
    "%timeit create_list1(10000000)\n",
    "%timeit create_list2(10000000)\n",
    "%timeit create_list3(10000000)"
   ]
  },
  {
   "cell_type": "markdown",
   "metadata": {},
   "source": [
    "### Removendo elementos"
   ]
  },
  {
   "cell_type": "code",
   "execution_count": 8,
   "metadata": {},
   "outputs": [
    {
     "name": "stdout",
     "output_type": "stream",
     "text": [
      "['p', 'y', 'h', 'o', 'n']\n",
      "['p', 'y', 'h', 'o']\n",
      "['p', 'y']\n"
     ]
    }
   ],
   "source": [
    "s = [\"p\", \"y\", \"t\", \"h\", \"o\", \"n\"]\n",
    "\n",
    "# saída: ['p', 'y', 'h', 'o', 'n']\n",
    "s.pop(2)\n",
    "print(s)\n",
    "\n",
    "# saída: ['p', 'y', 'h', 'o']\n",
    "s.remove(\"n\")\n",
    "print(s)\n",
    "\n",
    "# saída: ['p', 'y']\n",
    "s[2:] = []\n",
    "print(s)"
   ]
  },
  {
   "cell_type": "markdown",
   "metadata": {},
   "source": [
    "### Verificando a existencia de um elemento\n",
    "\n",
    "Para se verificar a existência de um elemento em uma lista utiliza-se o comando ```in```."
   ]
  },
  {
   "cell_type": "code",
   "execution_count": 9,
   "metadata": {},
   "outputs": [
    {
     "name": "stdout",
     "output_type": "stream",
     "text": [
      "(True, False)\n"
     ]
    }
   ],
   "source": [
    "s = [\"p\", \"y\", \"t\", \"h\", \"o\", \"n\"]\n",
    "\n",
    "# verificando se um elemento encontra-se na lista\n",
    "print(\"y\" in s, \"r\" in s)"
   ]
  },
  {
   "cell_type": "markdown",
   "metadata": {},
   "source": [
    "## Exercício\n",
    "\n",
    "#### Exercício 1\n",
    "\n",
    "Faça um código que dado duas lista, do mesmo tamanho, transforme-as crie uma nova lista (com memso tamanho das anteriores) onde cada um dos elementos seja a soma dos elemento das anteriores. Por exemplo, lista1 = [1, 2, 4], lista2 = [1, 3, 9] e result = [2, 5, 13]"
   ]
  },
  {
   "cell_type": "code",
   "execution_count": 10,
   "metadata": {
    "collapsed": true
   },
   "outputs": [],
   "source": [
    "# código aqui..."
   ]
  },
  {
   "cell_type": "markdown",
   "metadata": {},
   "source": [
    "## Tuplas\n",
    "\n",
    "Tuplas são similares a lista, porém elas imutaveis, ou seja, uma vez criadas não é possível mais alterar seus valores.\n",
    "\n",
    "Em python, uma tupla é criada colocando todos elementos entre parênteses, como nos exemplos abaixo."
   ]
  },
  {
   "cell_type": "code",
   "execution_count": 11,
   "metadata": {
    "collapsed": true
   },
   "outputs": [],
   "source": [
    "# tupla vazia\n",
    "tupla = ()\n",
    "\n",
    "# tupla de inteiros\n",
    "tupla = (1, 2, 3)\n",
    "\n",
    "# tupla com diferentes tipos de dados\n",
    "tupla = (1, \"Ola\", 3.4)\n",
    "\n",
    "# tupla aninhada\n",
    "tupla = (\"mouse\", (8, 4, 6), ['a'])"
   ]
  },
  {
   "cell_type": "markdown",
   "metadata": {},
   "source": [
    "## Dicionários\n",
    "\n",
    "É uma coleção não ordenada de elementos. Diferentemente das outras estruturas de dados, dicionários (dict) são compostos por parordenados (chave:valor).\n",
    "\n",
    "Essas estruturas são otimizadas para recuperação de valores quando sabemos as chaves."
   ]
  },
  {
   "cell_type": "code",
   "execution_count": 12,
   "metadata": {
    "collapsed": true
   },
   "outputs": [],
   "source": [
    "# dicionário vazio\n",
    "dicionario = {}\n",
    "\n",
    "# dicionário normal\n",
    "dicionario = {'c': -1, 'o': 10}\n",
    "\n",
    "# dicionário com chaves e\n",
    "# valores de tipos distintos\n",
    "dicionario ={'c': -1, (\"c\", \"c\"): 10}"
   ]
  },
  {
   "cell_type": "markdown",
   "metadata": {},
   "source": [
    "### Acessando elementos"
   ]
  },
  {
   "cell_type": "code",
   "execution_count": 13,
   "metadata": {},
   "outputs": [
    {
     "name": "stdout",
     "output_type": "stream",
     "text": [
      "Raphael\n",
      "27\n"
     ]
    }
   ],
   "source": [
    "dicionario = {'nome':'Raphael', 'idade': 27}\n",
    "\n",
    "# Saída: Raphael\n",
    "print(dicionario['nome'])\n",
    "\n",
    "# saída: 27\n",
    "print(dicionario.get('idade'))\n",
    "\n",
    "\n",
    "# Tentar acessar um chave que não existe lançar um erro\n",
    "# dicionario['cidade']\n",
    "# O método get contorna isso\n",
    "dicionario.get('cidade')"
   ]
  },
  {
   "cell_type": "markdown",
   "metadata": {},
   "source": [
    "### Alterando elementos"
   ]
  },
  {
   "cell_type": "code",
   "execution_count": 14,
   "metadata": {},
   "outputs": [
    {
     "name": "stdout",
     "output_type": "stream",
     "text": [
      "{'idade': 30, 'nome': 'Raphael'}\n",
      "{'idade': 30, 'cidade': 'Belo Horizonte', 'nome': 'Raphael'}\n"
     ]
    }
   ],
   "source": [
    "dicionario = {'nome':'Raphael', 'idade': 27}\n",
    "\n",
    "# Alterando valor\n",
    "dicionario['idade'] = 30\n",
    "\n",
    "# saída: {'idade': 30, 'nome': 'Raphael'}\n",
    "print(dicionario)\n",
    "\n",
    "# Inserindo um novo valor\n",
    "dicionario['cidade'] = 'Belo Horizonte'\n",
    "\n",
    "# saída: {'idade': 30, \n",
    "#    'cidade': 'Belo Horizonte',\n",
    "#    'nome': 'Raphael'}\n",
    "print(dicionario)"
   ]
  },
  {
   "cell_type": "markdown",
   "metadata": {},
   "source": [
    "### Criando dicionários elegantemente"
   ]
  },
  {
   "cell_type": "code",
   "execution_count": 15,
   "metadata": {},
   "outputs": [
    {
     "name": "stdout",
     "output_type": "stream",
     "text": [
      "dois ao quadrado é 4\n"
     ]
    }
   ],
   "source": [
    "quadrados = {x:x*x for x in range(10)}\n",
    "print(\"dois ao quadrado é\"),(quadrados[2])"
   ]
  },
  {
   "cell_type": "code",
   "execution_count": 16,
   "metadata": {},
   "outputs": [
    {
     "data": {
      "text/plain": [
       "{1: 1, 3: 9, 5: 25, 7: 49, 9: 81}"
      ]
     },
     "execution_count": 16,
     "metadata": {},
     "output_type": "execute_result"
    }
   ],
   "source": [
    "quadrados_impares = {x: x*x for x in range(10) if x%2 == 1}\n",
    "quadrados_impares"
   ]
  },
  {
   "cell_type": "markdown",
   "metadata": {},
   "source": [
    "## Conjuntos\n",
    "\n",
    "É uma coleção não ordenada de elementos. Cada elemento é único (não duplicado) e tem de ser imutável (i.e., não é possível ter conjuntos de listas). Todavia, os conjuntos são mutáveis. [DOC](https://docs.python.org/2/library/sets.html)"
   ]
  },
  {
   "cell_type": "code",
   "execution_count": 17,
   "metadata": {},
   "outputs": [
    {
     "name": "stdout",
     "output_type": "stream",
     "text": [
      "set([])\n",
      "set([1, 2, 3])\n",
      "set(['mouse', (8, 4, 6)])\n",
      "set([1, 2, 4, 5])\n"
     ]
    }
   ],
   "source": [
    "# conjunto vazio\n",
    "conjunto = set()\n",
    "print(conjunto)\n",
    "\n",
    "# conjunto de inteiros\n",
    "conjunto = {1, 2, 3}\n",
    "print(conjunto)\n",
    "\n",
    "# conjunto de dados distintos\n",
    "conjunto = {\"mouse\", (8, 4, 6)}\n",
    "print(conjunto)\n",
    "\n",
    "# a partir de um outro iterável\n",
    "conjunto = set([1, 2, 4, 5, 5, 5, 2, 4])\n",
    "print(conjunto)"
   ]
  },
  {
   "cell_type": "markdown",
   "metadata": {},
   "source": [
    "### Operações de Conjunto\n",
    "\n",
    "É possível executar operações de conjuntos tais como união, diferença, interseção. A sintaxe é mostrada abaixo."
   ]
  },
  {
   "cell_type": "code",
   "execution_count": 18,
   "metadata": {},
   "outputs": [
    {
     "name": "stdout",
     "output_type": "stream",
     "text": [
      "Uniao: (set([1, 2, 3, 4, 5, 6]), set([1, 2, 3, 4, 5, 6]))\n",
      "Intersecao (set([3]), set([3]))\n",
      "Dif.: (set([1, 2]), set([1, 2]))\n",
      "Dif.: (set([4, 5, 6]), set([4, 5, 6]))\n",
      "Dif. simetrica: (set([1, 2, 4, 5, 6]), set([1, 2, 4, 5, 6]))\n",
      "É disjunto? False\n"
     ]
    }
   ],
   "source": [
    "A = {1,2,3}\n",
    "B = {3,4,5,6}\n",
    "\n",
    "# união\n",
    "print(\"Uniao:\"), (A | B, A.union(B))\n",
    "\n",
    "# interseção\n",
    "print(\"Intersecao\"), (A & B, A.intersection(B))\n",
    "\n",
    "# diferença\n",
    "print(\"Dif.:\"), (A - B, A.difference(B))\n",
    "print(\"Dif.:\"), (B - A, B.difference(A))\n",
    "\n",
    "# diferença simétrica\n",
    "print(\"Dif. simetrica:\"), (A ^ B, A.symmetric_difference(B))\n",
    "\n",
    "print(\"É disjunto?\"),(A.isdisjoint(B))"
   ]
  },
  {
   "cell_type": "markdown",
   "metadata": {},
   "source": [
    "### Conjuntos Imutáveis\n",
    "\n",
    "Como mencionado, set é mutável, portanto, não é possível usá-los como chaves em dicionários. Uma forma de contornar isso é utilizando o frozenset. Basicamente, o frozenset está para o set como a tupla está para lista.\n",
    "\n",
    "Portanto, frozenset suporta todas operações de set (exceto as que alteram seus valores, tais como update, add, remove, pop and discard)."
   ]
  }
 ],
 "metadata": {
  "kernelspec": {
   "display_name": "Python 3",
   "language": "python",
   "name": "python3"
  },
  "language_info": {
   "codemirror_mode": {
    "name": "ipython",
    "version": 2
   },
   "file_extension": ".py",
   "mimetype": "text/x-python",
   "name": "python",
   "nbconvert_exporter": "python",
   "pygments_lexer": "ipython2",
   "version": "2.7.12"
  }
 },
 "nbformat": 4,
 "nbformat_minor": 2
}
