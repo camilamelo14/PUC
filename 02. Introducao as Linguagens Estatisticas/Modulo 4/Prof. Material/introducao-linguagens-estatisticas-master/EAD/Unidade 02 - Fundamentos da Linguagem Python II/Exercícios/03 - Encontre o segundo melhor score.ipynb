{
 "cells": [
  {
   "cell_type": "markdown",
   "metadata": {},
   "source": [
    "# Encontre o Segundo Melhor Score\n",
    "\n",
    "Dado os scores dos participantes do Dia de Esporte Universitário, pderiam para você encontrar o segundo maior score. É dado para você $n$ scores. Armazene-os em uma lista e encontre o segundo maior valor.\n",
    "\n",
    "### Formato de Entrada\n",
    "\n",
    "A primeira linha contém $n$. O segunda linha é uma lista com $n$ inteiros cada um dos quais é separado por um espaço.\n",
    "\n",
    "### Formato de Saída\n",
    "\n",
    "Imprima o segundo maior score.\n",
    "\n",
    "### Exemplo de Entrada 0\n",
    "\n",
    "```\n",
    "5\n",
    "2 3 6 6 5\n",
    "```\n",
    "\n",
    "### Exemplo de Saída 0\n",
    "\n",
    "```\n",
    "5\n",
    "\n",
    "```\n",
    "### Explicação 0\n",
    "\n",
    "Dado a lista [2, 3, 6,6, 5]. O valor máximo é 6, o segundo maior é 5. Portanto, o segundo maior será impresso.\n",
    "\n",
    "## Submissão do Código\n",
    "\n",
    "Para submissão e codificação da tarefa utilizar o link a seguir: https://www.hackerrank.com/contests/ead-fundamentos-python-ii/challenges/find-second-maximum-number-in-a-list. Essa paǵina é apenas a tradução das instruções do link anterior."
   ]
  }
 ],
 "metadata": {
  "kernelspec": {
   "display_name": "Python 3",
   "language": "python",
   "name": "python3"
  },
  "language_info": {
   "codemirror_mode": {
    "name": "ipython",
    "version": 3
   },
   "file_extension": ".py",
   "mimetype": "text/x-python",
   "name": "python",
   "nbconvert_exporter": "python",
   "pygments_lexer": "ipython3",
   "version": "3.5.2"
  }
 },
 "nbformat": 4,
 "nbformat_minor": 2
}
