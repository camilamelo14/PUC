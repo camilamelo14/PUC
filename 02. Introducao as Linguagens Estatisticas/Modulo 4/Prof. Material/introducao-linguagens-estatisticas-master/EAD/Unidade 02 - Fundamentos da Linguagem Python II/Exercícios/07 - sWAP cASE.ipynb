{
 "cells": [
  {
   "cell_type": "markdown",
   "metadata": {},
   "source": [
    "# sWAP cASE\n",
    "\n",
    "É dado uma string e sua tarefa é trocar a caixa. Em outras palavras, letras maiúscula se tornam minúsculas e vice versa.\n",
    "\n",
    "Por Exemplo:\n",
    "```\n",
    "Www.HackerRank.com → wWW.hACKERrANK.COM\n",
    "Pythonist 2 → pYTHONIST 2\n",
    "```\n",
    "### Formato de Entrada\n",
    "\n",
    "Uma linha contendo a string S.\n",
    "\n",
    "### Formato de Saída\n",
    "\n",
    "imprima a string modificada.\n",
    "\n",
    "### Exemplo de Entrada 0\n",
    "\n",
    "HackerRank.com presents \"Pythonist 2\".\n",
    "\n",
    "### Exemplo de Saída 0\n",
    "\n",
    "hACKERrANK.COM PRESENTS \"pYTHONIST 2\".\n",
    "\n",
    "### Conceitos Importantes para Implementação \n",
    " \n",
    "Em Python, o comprimento de uma string é dado pela função ```len(s)```, onde $s$ é a string. \n",
    "Para percorrer a string por todo seu comprimento, é usado o laço de repetição for:\n",
    "\n",
    "```python \n",
    "for i in range(0, len(string)):\n",
    "    print (string[i])\n",
    "```\n",
    "ou \n",
    "```python \n",
    "for s in string:\n",
    "    print (s)\n",
    "```\n",
    "\n",
    "## Submissão do Código\n",
    "\n",
    "Para submissão e codificação da tarefa utilizar o link a seguir: https://www.hackerrank.com/contests/ead-fundamentos-python-ii/challenges/swap-case. Essa paǵina é apenas a tradução das instruções do link anterior"
   ]
  }
 ],
 "metadata": {
  "kernelspec": {
   "display_name": "Python 3",
   "language": "python",
   "name": "python3"
  },
  "language_info": {
   "codemirror_mode": {
    "name": "ipython",
    "version": 2
   },
   "file_extension": ".py",
   "mimetype": "text/x-python",
   "name": "python",
   "nbconvert_exporter": "python",
   "pygments_lexer": "ipython2",
   "version": "2.7.12"
  }
 },
 "nbformat": 4,
 "nbformat_minor": 2
}
