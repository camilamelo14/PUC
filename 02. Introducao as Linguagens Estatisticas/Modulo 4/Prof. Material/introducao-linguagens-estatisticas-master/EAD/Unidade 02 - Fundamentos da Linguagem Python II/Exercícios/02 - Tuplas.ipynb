{
 "cells": [
  {
   "cell_type": "markdown",
   "metadata": {},
   "source": [
    "# Tupla\n",
    "\n",
    "## Tarefa\n",
    "\n",
    "Dado um inteiro, $n$, e em seguida, $n$ inteiros separados por espaço como entrada, crie uma tupla, $t$, com os $n$ números dados. Então, compute e imprima o resultado de ```hash(t)```.\n",
    "\n",
    "**Note**: hash() é uma função no módulo __builtins__ (é nativa), então não precisa ser importada.\n",
    "\n",
    "### Formato de Entrada\n",
    "\n",
    "A primeira linha contém um inteiro, $n$ denotando o número de elementos na tupla. \n",
    "A segunda linha conté, $n$ inteiros separados por espaço descrevendo os elementos na tupla $t$.\n",
    "\n",
    "### Formato de Saída\n",
    "\n",
    "Imprima o resultado de ```hash(t)```.\n",
    "\n",
    "### Exemplo de Entrada 0\n",
    "\n",
    "```  \n",
    "2\n",
    "1 2\n",
    "```\n",
    "\n",
    "### Exemplo de Saída 0\n",
    "\n",
    "```\n",
    "3713081631934410656\n",
    "```\n",
    "## Submissão do Código\n",
    "\n",
    "Para submissão e codificação da tarefa utilizar o link a seguir:https://www.hackerrank.com/contests/ead-fundamentos-python-ii/challenges/python-tuples. Essa paǵina é apenas a tradução das instruções do link anterior."
   ]
  }
 ],
 "metadata": {
  "kernelspec": {
   "display_name": "Python 3",
   "language": "python",
   "name": "python3"
  },
  "language_info": {
   "codemirror_mode": {
    "name": "ipython",
    "version": 2
   },
   "file_extension": ".py",
   "mimetype": "text/x-python",
   "name": "python",
   "nbconvert_exporter": "python",
   "pygments_lexer": "ipython2",
   "version": "2.7.12"
  }
 },
 "nbformat": 4,
 "nbformat_minor": 2
}
