{
 "cells": [
  {
   "cell_type": "markdown",
   "metadata": {},
   "source": [
    "# Listas Aninhadas\n",
    "\n",
    "## Tarefa \n",
    "\n",
    "Dados os nomes e as notas de cada estudante em uma disciplina de física, numa classe com $N$ estudantes, armazene-os em uma lista aninhada e imprima o nome do estudante com segundo menor nota.\n",
    "\n",
    "**Note**: Se houver múltiplos estudantes com a mesma nota, a order deve ser alfabética pelos nomes e imprima cada nome em uma linha.\n",
    "\n",
    "### Formato de Entrada\n",
    "\n",
    "A primeira linha contém um inteiro representando o número de estudantes.\n",
    "As linhas subsequentes descrevem cada estudante de duas em duas linhas; A primeira linha é o nome, e a segunda é a nota.\n",
    "\n",
    "### Restrições\n",
    "\n",
    "Sempre haverá um ou mais estudantes com a segunda nota mais baixa.\n",
    "\n",
    "### Formato de Saída\n",
    "\n",
    "Imprima o nome do estudante que tirou a segunda menor nota em Física; se tiver mais de um estudante\n",
    "imprima os nomes em ordem alfabética pelos nomes onde cada linha terá um nome.\n",
    "\n",
    "### Exemplo de Entrada 0\n",
    "\n",
    "```\n",
    "5\n",
    "Harry\n",
    "37.21\n",
    "Berry\n",
    "37.21\n",
    "Tina\n",
    "37.2\n",
    "Akriti\n",
    "41\n",
    "Harsh\n",
    "39\n",
    "```\n",
    "\n",
    "###  Exemplo de Saída 0\n",
    "\n",
    "```\n",
    "Berry\n",
    "Harry\n",
    "```\n",
    "\n",
    "### Explicação 0\n",
    "\n",
    "Há 5 estudantes na classe cujo os nomes e notas são agregados para contruir a seguinte lista aninhada:\n",
    "```python\n",
    "students = [['Harry', 37.21], ['Berry', 37.21], ['Tina', 37.2], ['Akriti', 41], ['Harsh', 39]]\n",
    "```\n",
    "A menor nota (37.2) pertence à Tina. A Segunda menor (37.21) noda pertence a Harry e Berry, assim nós temos de ordenar os nomes em ordem alfabética e imprimí-los linha a linha.\n",
    "\n",
    "## Submissão do Código\n",
    "\n",
    "Para submissão e codificação da tarefa utilizar o link a seguir: https://www.hackerrank.com/contests/ead-fundamentos-python-ii/challenges/nested-list. Essa paǵina é apenas a tradução das instruções do link anterior."
   ]
  }
 ],
 "metadata": {
  "kernelspec": {
   "display_name": "Python 3",
   "language": "python",
   "name": "python3"
  },
  "language_info": {
   "codemirror_mode": {
    "name": "ipython",
    "version": 3
   },
   "file_extension": ".py",
   "mimetype": "text/x-python",
   "name": "python",
   "nbconvert_exporter": "python",
   "pygments_lexer": "ipython3",
   "version": "3.5.2"
  }
 },
 "nbformat": 4,
 "nbformat_minor": 2
}
