{
 "cells": [
  {
   "cell_type": "markdown",
   "metadata": {},
   "source": [
    "# Validando Números Romanos com Regex\n",
    "\n",
    "## Tarefa\n",
    "\n",
    "A você é dado uma string, e você tem de validar se ela é um número Romano válido ou não. Se for válido, imprima **True**. Caso contrário, imprimat **False**. Tente criar uma expressão regular para essa validação.\n",
    "\n",
    "### Algarismos Romanos\n",
    "\n",
    "[![ALGARISMOS ROMANOS - Sistema de numeração Romana](https://img.youtube.com/vi/6XC0QYXh4jI/0.jpg)](https://www.youtube.com/watch?v=6XC0QYXh4jI)\n",
    "\n",
    "\n",
    "### Formato de Entrada\n",
    "\n",
    "Uma única linha de entrada contendo uma string representando um número romano.\n",
    "\n",
    "### Formato de Saída\n",
    "\n",
    "Imprima uma única linha de saída contendo **True** ou **False** de acordo com as instruções acima.\n",
    "\n",
    "### Restrições\n",
    "\n",
    "Os números dados sempre estarão entre 1 e  3999 (ambos inclusos).\n",
    "\n",
    "### Exemplo de Entrada 0\n",
    "\n",
    "```\n",
    "CDXXI\n",
    "```\n",
    "\n",
    "### Exemplo de Saída 0\n",
    "\n",
    "```\n",
    "True\n",
    "```\n",
    "\n",
    "## References\n",
    "\n",
    "Expressões regulares são conceitos chaves em qualquer linguagem de programação. Mais exemplos com Python estão disponíveis [aqui](http://www.thelearningpoint.net/computer-science/learning-python-programming-and-data-structures/learning-python-programming-and-data-structures--tutorial-13--regular-expression-matching). Você pode revistar nossa aula e acessar o link abaixo para para ler mais sobre expressões regulares em Python.\n",
    "\n",
    "https://developers.google.com/edu/python/regular-expressions\n",
    "\n",
    "## Submissão do Código\n",
    "\n",
    "Para submissão e codificação da tarefa utilizar o link a seguir: https://www.hackerrank.com/contests/ead-fundamentos-python-ii/challenges/validate-a-roman-number. Essa paǵina é apenas a tradução das instruções do link anterior"
   ]
  }
 ],
 "metadata": {
  "kernelspec": {
   "display_name": "Python 3",
   "language": "python",
   "name": "python3"
  },
  "language_info": {
   "codemirror_mode": {
    "name": "ipython",
    "version": 2
   },
   "file_extension": ".py",
   "mimetype": "text/x-python",
   "name": "python",
   "nbconvert_exporter": "python",
   "pygments_lexer": "ipython2",
   "version": "2.7.12"
  }
 },
 "nbformat": 4,
 "nbformat_minor": 2
}
