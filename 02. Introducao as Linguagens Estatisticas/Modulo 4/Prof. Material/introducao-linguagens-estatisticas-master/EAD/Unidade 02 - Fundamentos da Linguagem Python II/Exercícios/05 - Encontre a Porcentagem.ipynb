{
 "cells": [
  {
   "cell_type": "markdown",
   "metadata": {},
   "source": [
    "# Encontre a Porcentagem\n",
    "\n",
    "## Tarefa\n",
    "\n",
    "Você tem o registro de $N$ estudantes cada um dos quais contém o nome do estudante, a nota (entre 0 e 100) em Matemática, Física e Química. A nota pode ser ponto flutuante. O usuário entra com algum inteiro $N$ seguido dos nomes e notas dos $N$ estutandes. É pedido que você guarde os registros em um dicionário. O usuário vai entrar com nome do estudante e você deverá imprimiar a nota média daquele estudante, arredondar com dua casa decimais (vide a função **round** ou ```print('{:.2f}'.format(3.156654))```).\n",
    "\n",
    "### Formato de Entrada\n",
    "\n",
    "A primeira linha contém o inteiro $N$, o número de estudantes. As próximas linha contêm o nome e as notas separadas por espaço para cada estudante. A última linha contém o nome do estudante em particular previamente listado.\n",
    "\n",
    "### Formato de Saída\n",
    "\n",
    "Imprima uma linha: A média do estudante em particlar com com duas casas decimais.\n",
    "\n",
    "### Exemplo de Entrada  0\n",
    "\n",
    "```\n",
    "3\n",
    "Krishna 67 68 69\n",
    "Arjun 70 98 63\n",
    "Malika 52 56 60\n",
    "Malika\n",
    "```\n",
    "\n",
    "### Exemplo de Saída  0\n",
    "\n",
    "``` \n",
    "56.00\n",
    "```\n",
    "\n",
    "### Explicação 0\n",
    "\n",
    "As notas de Malika são $\\{52, 56, 60\\}$ cuja a média é $\\frac{52 + 56 + 60}{3} = 56$ \n",
    "\n",
    "### Exemplo de Entrada 1\n",
    "\n",
    "```\n",
    "2\n",
    "Harsh 25 26.5 28\n",
    "Anurag 26 28 30\n",
    "Harsh\n",
    "``` \n",
    "\n",
    "###  Exemplo de Saída 1\n",
    "\n",
    "```\n",
    "26.50\n",
    "```\n",
    "\n",
    "## Submissão do Código\n",
    "\n",
    "Para submissão e codificação da tarefa utilizar o link a seguir: https://www.hackerrank.com/contests/ead-fundamentos-python-ii/challenges/finding-the-percentage. Essa paǵina é apenas a tradução das instruções do link anterior."
   ]
  }
 ],
 "metadata": {
  "kernelspec": {
   "display_name": "Python 3",
   "language": "python",
   "name": "python3"
  },
  "language_info": {
   "codemirror_mode": {
    "name": "ipython",
    "version": 2
   },
   "file_extension": ".py",
   "mimetype": "text/x-python",
   "name": "python",
   "nbconvert_exporter": "python",
   "pygments_lexer": "ipython2",
   "version": "2.7.12"
  }
 },
 "nbformat": 4,
 "nbformat_minor": 2
}
