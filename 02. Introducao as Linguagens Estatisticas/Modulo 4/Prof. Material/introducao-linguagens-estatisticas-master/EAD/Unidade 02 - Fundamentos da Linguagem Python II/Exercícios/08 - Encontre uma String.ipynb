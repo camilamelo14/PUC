{
 "cells": [
  {
   "cell_type": "markdown",
   "metadata": {},
   "source": [
    "# Encontre uma String\n",
    "\n",
    "Nesse desafio, o usuário entrará com uma string e uma substring. Você tem de imprimir o número de vezes que a substring ocorre na string dada. É assumido que você vai percorrer a string da esquerda para direita.\n",
    "\n",
    "**NOTE**: A o problema é case-sensitive.\n",
    "\n",
    "### Formato de Entrada\n",
    "\n",
    "A primeira linha da entrada contém a string original. A segunda linha contém a substring.\n",
    "\n",
    "### Formato de Entrada\n",
    "\n",
    "Imprima o número inteiro indicando o total de ocorrências da substring na original.\n",
    "\n",
    "### Exemplo de Entrada 0\n",
    "\n",
    "```\n",
    "ABCDCDC\n",
    "CDC\n",
    "```\n",
    "### Exemplo de Saída 0\n",
    "```\n",
    "2\n",
    "```\n",
    "\n",
    "### Conceitos Importantes para Implementação \n",
    " \n",
    "Em Python, o comprimento de uma string é dado pela função ```len(s)```, onde $s$ é a string. \n",
    "Para percorrer a string por todo seu comprimento, é usado o laço de repetição for:\n",
    "\n",
    "```python \n",
    "for i in range(0, len(string)):\n",
    "    print (string[i])\n",
    "```\n",
    "ou \n",
    "```python \n",
    "for s in string:\n",
    "    print (s)\n",
    "```\n",
    "\n",
    "## Submissão do Código\n",
    "\n",
    "Para submissão e codificação da tarefa utilizar o link a seguir: https://www.hackerrank.com/contests/ead-fundamentos-python-ii/challenges/find-a-string. Essa paǵina é apenas a tradução das instruções do link anterior"
   ]
  }
 ],
 "metadata": {
  "kernelspec": {
   "display_name": "Python 3",
   "language": "python",
   "name": "python3"
  },
  "language_info": {
   "codemirror_mode": {
    "name": "ipython",
    "version": 2
   },
   "file_extension": ".py",
   "mimetype": "text/x-python",
   "name": "python",
   "nbconvert_exporter": "python",
   "pygments_lexer": "ipython2",
   "version": "2.7.12"
  }
 },
 "nbformat": 4,
 "nbformat_minor": 2
}
