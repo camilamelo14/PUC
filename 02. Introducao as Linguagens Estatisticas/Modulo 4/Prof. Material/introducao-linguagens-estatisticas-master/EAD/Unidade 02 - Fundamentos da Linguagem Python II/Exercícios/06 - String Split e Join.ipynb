{
 "cells": [
  {
   "cell_type": "markdown",
   "metadata": {},
   "source": [
    "# String Split e Join\n",
    "\n",
    "Em Python, uma string pode ser divida por um delemitador.\n",
    "\n",
    "Exemplo:"
   ]
  },
  {
   "cell_type": "code",
   "execution_count": 1,
   "metadata": {},
   "outputs": [
    {
     "data": {
      "text/plain": [
       "['this', 'is', 'a', 'string']"
      ]
     },
     "execution_count": 1,
     "metadata": {},
     "output_type": "execute_result"
    }
   ],
   "source": [
    "a = \"this is a string\"\n",
    "a = a.split(\" \") # a é convertido para uma lista de strings. \n",
    "a"
   ]
  },
  {
   "cell_type": "markdown",
   "metadata": {},
   "source": [
    "concatenar string em uma lista é simples:"
   ]
  },
  {
   "cell_type": "code",
   "execution_count": 2,
   "metadata": {},
   "outputs": [
    {
     "data": {
      "text/plain": [
       "'this-is-a-string'"
      ]
     },
     "execution_count": 2,
     "metadata": {},
     "output_type": "execute_result"
    }
   ],
   "source": [
    "a = \"-\".join(a)\n",
    "a"
   ]
  },
  {
   "cell_type": "markdown",
   "metadata": {},
   "source": [
    "## Tarefa \n",
    "É dado uma string. Divida a string pelo delimitador \" \" (espaço) e concatene com - hífen.\n",
    "\n",
    "### Formato de Entrada\n",
    "Primeira linha contém uma string com palavras separadas por espaço.\n",
    "\n",
    "### Formato de Saída\n",
    "Imprima a string formatada como explicada acima.\n",
    "\n",
    "### Exemplo de Entrada\n",
    "\n",
    "this is a string   \n",
    "\n",
    "### Exemplo de Saída\n",
    "\n",
    "this-is-a-string\n",
    "\n",
    "## Submissão do Código\n",
    "\n",
    "Para submissão e codificação da tarefa utilizar o link a seguir: https://www.hackerrank.com/contests/ead-fundamentos-python-ii/challenges/python-string-split-and-join. Essa paǵina é apenas a tradução das instruções do link anterior"
   ]
  }
 ],
 "metadata": {
  "kernelspec": {
   "display_name": "Python 3",
   "language": "python",
   "name": "python3"
  },
  "language_info": {
   "codemirror_mode": {
    "name": "ipython",
    "version": 2
   },
   "file_extension": ".py",
   "mimetype": "text/x-python",
   "name": "python",
   "nbconvert_exporter": "python",
   "pygments_lexer": "ipython2",
   "version": "2.7.12"
  }
 },
 "nbformat": 4,
 "nbformat_minor": 2
}
