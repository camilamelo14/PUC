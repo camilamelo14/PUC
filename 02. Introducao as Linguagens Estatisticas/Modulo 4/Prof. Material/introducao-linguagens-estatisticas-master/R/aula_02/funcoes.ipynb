{
 "cells": [
  {
   "cell_type": "markdown",
   "metadata": {},
   "source": [
    "# Funções\n",
    "\n",
    "Funções nos ajudam a quebrar nossos programas em conjuntos menores de código e módulos. Funções ajudam a organizar o código, tornando-o mais legível e manutenível.\n",
    "\n",
    "```R\n",
    "nome_func <- function (argumento) {\n",
    "   # corpo\n",
    "}\n",
    "```"
   ]
  },
  {
   "cell_type": "code",
   "execution_count": 8,
   "metadata": {
    "collapsed": true
   },
   "outputs": [],
   "source": [
    "exp <- function(x, y) {\n",
    "   result <- x^y\n",
    "   print(paste(x, \"elevado a potência\", y, \"é\", result))\n",
    "}"
   ]
  },
  {
   "cell_type": "markdown",
   "metadata": {},
   "source": [
    "### Chamando uma função"
   ]
  },
  {
   "cell_type": "code",
   "execution_count": 18,
   "metadata": {},
   "outputs": [
    {
     "name": "stdout",
     "output_type": "stream",
     "text": [
      "[1] \"8 raised to the power 2 is 64\"\n"
     ]
    }
   ],
   "source": [
    "pow(8, 2)"
   ]
  },
  {
   "cell_type": "code",
   "execution_count": 19,
   "metadata": {},
   "outputs": [
    {
     "name": "stdout",
     "output_type": "stream",
     "text": [
      "[1] \"2 raised to the power 8 is 256\"\n"
     ]
    }
   ],
   "source": [
    "pow(2, 8)"
   ]
  },
  {
   "cell_type": "code",
   "execution_count": 20,
   "metadata": {},
   "outputs": [
    {
     "name": "stdout",
     "output_type": "stream",
     "text": [
      "[1] \"8 raised to the power 2 is 64\"\n"
     ]
    }
   ],
   "source": [
    "pow(y = 2, x = 8)"
   ]
  },
  {
   "cell_type": "code",
   "execution_count": 21,
   "metadata": {},
   "outputs": [
    {
     "name": "stdout",
     "output_type": "stream",
     "text": [
      "[1] \"8 raised to the power 2 is 64\"\n"
     ]
    }
   ],
   "source": [
    "pow(y = 2, 8)"
   ]
  },
  {
   "cell_type": "code",
   "execution_count": 23,
   "metadata": {},
   "outputs": [
    {
     "name": "stdout",
     "output_type": "stream",
     "text": [
      "[1] \"8 raised to the power 2 is 64\"\n"
     ]
    }
   ],
   "source": [
    "pow(2, x = 8)"
   ]
  },
  {
   "cell_type": "markdown",
   "metadata": {},
   "source": [
    "### Valores padrão"
   ]
  },
  {
   "cell_type": "code",
   "execution_count": 1,
   "metadata": {
    "collapsed": true
   },
   "outputs": [],
   "source": [
    "exp <- function(x, y = 2) {\n",
    "   result <- x^y\n",
    "   result\n",
    "}"
   ]
  },
  {
   "cell_type": "code",
   "execution_count": 2,
   "metadata": {},
   "outputs": [
    {
     "data": {
      "text/html": [
       "64"
      ],
      "text/latex": [
       "64"
      ],
      "text/markdown": [
       "64"
      ],
      "text/plain": [
       "[1] 64"
      ]
     },
     "metadata": {},
     "output_type": "display_data"
    }
   ],
   "source": [
    "exp(8)"
   ]
  },
  {
   "cell_type": "markdown",
   "metadata": {},
   "source": [
    "## Operadores"
   ]
  },
  {
   "cell_type": "code",
   "execution_count": 2,
   "metadata": {},
   "outputs": [
    {
     "data": {
      "text/html": [
       "8"
      ],
      "text/latex": [
       "8"
      ],
      "text/markdown": [
       "8"
      ],
      "text/plain": [
       "[1] 8"
      ]
     },
     "metadata": {},
     "output_type": "display_data"
    },
    {
     "data": {
      "text/html": [
       "8"
      ],
      "text/latex": [
       "8"
      ],
      "text/markdown": [
       "8"
      ],
      "text/plain": [
       "[1] 8"
      ]
     },
     "metadata": {},
     "output_type": "display_data"
    }
   ],
   "source": [
    "5 + 3\n",
    "\n",
    "`+`(5, 3)"
   ]
  },
  {
   "cell_type": "code",
   "execution_count": 3,
   "metadata": {},
   "outputs": [
    {
     "data": {
      "text/html": [
       "14"
      ],
      "text/latex": [
       "14"
      ],
      "text/markdown": [
       "14"
      ],
      "text/plain": [
       "[1] 14"
      ]
     },
     "metadata": {},
     "output_type": "display_data"
    },
    {
     "data": {
      "text/html": [
       "14"
      ],
      "text/latex": [
       "14"
      ],
      "text/markdown": [
       "14"
      ],
      "text/plain": [
       "[1] 14"
      ]
     },
     "metadata": {},
     "output_type": "display_data"
    }
   ],
   "source": [
    "5 * 3 - 1\n",
    "\n",
    "`-`(`*`(5,3),1)"
   ]
  },
  {
   "cell_type": "markdown",
   "metadata": {},
   "source": [
    "### Criando Operadores"
   ]
  },
  {
   "cell_type": "code",
   "execution_count": 8,
   "metadata": {},
   "outputs": [
    {
     "data": {
      "text/html": [
       "TRUE"
      ],
      "text/latex": [
       "TRUE"
      ],
      "text/markdown": [
       "TRUE"
      ],
      "text/plain": [
       "[1] TRUE"
      ]
     },
     "metadata": {},
     "output_type": "display_data"
    }
   ],
   "source": [
    "`%divisivel%` <- function(x, y) {\n",
    "    if (x %% y == 0) TRUE\n",
    "    else FALSE\n",
    "}\n",
    "\n",
    "10 %divisivel% 2"
   ]
  },
  {
   "cell_type": "markdown",
   "metadata": {},
   "source": [
    "## Função Switch\n",
    "\n",
    "Sintaxe:\n",
    "\n",
    "```R\n",
    "switch (opção, lista)\n",
    "```"
   ]
  },
  {
   "cell_type": "code",
   "execution_count": 9,
   "metadata": {},
   "outputs": [
    {
     "data": {
      "text/html": [
       "'verde'"
      ],
      "text/latex": [
       "'verde'"
      ],
      "text/markdown": [
       "'verde'"
      ],
      "text/plain": [
       "[1] \"verde\""
      ]
     },
     "metadata": {},
     "output_type": "display_data"
    }
   ],
   "source": [
    "switch(2, \"vermelho\", \"verde\", \"azul\")"
   ]
  },
  {
   "cell_type": "code",
   "execution_count": 11,
   "metadata": {},
   "outputs": [
    {
     "data": {
      "text/html": [
       "'vermelho'"
      ],
      "text/latex": [
       "'vermelho'"
      ],
      "text/markdown": [
       "'vermelho'"
      ],
      "text/plain": [
       "[1] \"vermelho\""
      ]
     },
     "metadata": {},
     "output_type": "display_data"
    }
   ],
   "source": [
    "switch(\"cor\", \"cor\" = \"vermelho\", \"formato\" = \"circular\", \"comprimento\" = 50)"
   ]
  },
  {
   "cell_type": "code",
   "execution_count": 12,
   "metadata": {},
   "outputs": [
    {
     "data": {
      "text/html": [
       "'circular'"
      ],
      "text/latex": [
       "'circular'"
      ],
      "text/markdown": [
       "'circular'"
      ],
      "text/plain": [
       "[1] \"circular\""
      ]
     },
     "metadata": {},
     "output_type": "display_data"
    }
   ],
   "source": [
    "switch(\"formato\", \"cor\" = \"vermelho\", \"formato\" = \"circular\", \"comprimento\" = 50)"
   ]
  },
  {
   "cell_type": "markdown",
   "metadata": {},
   "source": [
    "## Exercício\n",
    "\n",
    "Muitas vezes quando estamos criando nossos modelos é preciso definir uma métrica para nós os avaliarmos e escolher o melhor dentre eles. Algumas vezes, nós mesmo temos de implementá-las, portanto, nesse exercício você vai ter de implementar uma extensão da métrica Erro Quadrático Médio, em inglês *Mean Squared Error (MSE)*, chamada *Root Mean Squared Logarithmic Error (RMSLE)*. \n",
    "\n",
    "A RMSLE é deifnida como:\n",
    "\n",
    "$\\epsilon = \\sqrt{\\frac{1}{n}\\sum_{i=1}^{n}(\\log(\\hat{y}_i) - \\log(y_i))^2}$\n",
    "\n",
    "onde:\n",
    "\n",
    "- $\\epsilon$ é o valor do erro (score)\n",
    "- $n$ é o total de exemplos no conjunto de dados testado\n",
    "- $\\hat{y}_i$ é a predição do modelo\n",
    "- $y_i$ é o valor do real do imóvel (rótulo)\n",
    "- $\\log(x)$ é a função logarítmica de $x$\n",
    "\n",
    "A RMSLE penaliza mais estimativas erradas para menos do que para mais."
   ]
  },
  {
   "cell_type": "code",
   "execution_count": 14,
   "metadata": {},
   "outputs": [
    {
     "data": {
      "text/plain": [
       "NULL"
      ]
     },
     "metadata": {},
     "output_type": "display_data"
    }
   ],
   "source": [
    "RMSLE <- function(y_true, y_pred) {\n",
    "    # Root Mean Squared Logarithmic Error \n",
    "    # Parâmetros\n",
    "    # ----------\n",
    "    # y_true : vector\n",
    "    #     Rótulos.\n",
    "    # y_pred : vectors\n",
    "    #     Predições, retornadas pelo modelo.\n",
    "    \n",
    "\n",
    "    # TODO: seu código\n",
    "}\n",
    "\n",
    "# criando uma entrada exemplo\n",
    "y_true =  c(1, 2, 3, 4, 5, 6, 7, 8, 9)\n",
    "y_pred = ifelse(y_true %% 2, 0.9 * y_true, 1.2 * y_true)\n",
    "\n",
    "# saida esperada : 0.14471\n",
    "RMSLE(y_true, y_pred)"
   ]
  },
  {
   "cell_type": "markdown",
   "metadata": {},
   "source": [
    "Faça uma função que calcule a acurácia de um modelo de classificação. A acurácia é a taxa de acerto de uma modelo, ou seja, é a porcentagem de exemplos que foram classificados corretamente pelo modelo."
   ]
  },
  {
   "cell_type": "code",
   "execution_count": 16,
   "metadata": {},
   "outputs": [
    {
     "data": {
      "text/plain": [
       "NULL"
      ]
     },
     "metadata": {},
     "output_type": "display_data"
    }
   ],
   "source": [
    "acuracia <- function(y_true, y_pred) {\n",
    "    # Acurácia\n",
    "    # Parâmetros\n",
    "    # ----------\n",
    "    # y_true : vector\n",
    "    #     Rótulos.\n",
    "    # y_pred : vectors\n",
    "    #     Predições, retornadas pelo modelo.\n",
    "    \n",
    "    # TODO: seu código\n",
    "}\n",
    "\n",
    "y_true = c(\"setosa\", \"virginica\", \"versicolor\", \"setosa\", \"virginica\", \"setosa\")\n",
    "y_pred = c(\"setosa\", \"virginica\", \"setosa\", \"versicolor\", \"virginica\", \"setosa\")\n",
    "\n",
    "# saida esperada: 0.667\n",
    "acuracia(y_true, y_pred)"
   ]
  }
 ],
 "metadata": {
  "kernelspec": {
   "display_name": "R",
   "language": "R",
   "name": "ir"
  },
  "language_info": {
   "codemirror_mode": "r",
   "file_extension": ".r",
   "mimetype": "text/x-r-source",
   "name": "R",
   "pygments_lexer": "r",
   "version": "3.2.3"
  }
 },
 "nbformat": 4,
 "nbformat_minor": 2
}
