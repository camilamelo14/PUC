{
 "cells": [
  {
   "cell_type": "markdown",
   "metadata": {
    "collapsed": true
   },
   "source": [
    "# Estruras de Dados\n",
    "\n",
    "\n",
    "Vamos ver nesse notebook algumas outras estruturas de dados importantes no R, tais como lista, DataFrame e Factor.\n",
    "\n",
    "## Lista\n",
    "\n",
    "Lista é uma estrutura de dados que nos permite ter dados de tipos distintos.\n",
    "\n",
    "Lembre-se que vetor possui todos elementos do mesmo tipo e portanto é chamado de vetor atômico, já vetores tendo tipos disntios são chamados de lista."
   ]
  },
  {
   "cell_type": "code",
   "execution_count": 1,
   "metadata": {},
   "outputs": [
    {
     "data": {
      "text/html": [
       "2.5"
      ],
      "text/latex": [
       "2.5"
      ],
      "text/markdown": [
       "2.5"
      ],
      "text/plain": [
       "[1] 2.5"
      ]
     },
     "metadata": {},
     "output_type": "display_data"
    }
   ],
   "source": [
    "x = list(\"a\"=2.5,\"b\"= TRUE)\n",
    "x$a"
   ]
  },
  {
   "cell_type": "code",
   "execution_count": 2,
   "metadata": {},
   "outputs": [
    {
     "data": {
      "text/html": [
       "TRUE"
      ],
      "text/latex": [
       "TRUE"
      ],
      "text/markdown": [
       "TRUE"
      ],
      "text/plain": [
       "[1] TRUE"
      ]
     },
     "metadata": {},
     "output_type": "display_data"
    }
   ],
   "source": [
    "x$b"
   ]
  },
  {
   "cell_type": "code",
   "execution_count": 3,
   "metadata": {},
   "outputs": [
    {
     "data": {
      "text/html": [
       "'list'"
      ],
      "text/latex": [
       "'list'"
      ],
      "text/markdown": [
       "'list'"
      ],
      "text/plain": [
       "[1] \"list\""
      ]
     },
     "metadata": {},
     "output_type": "display_data"
    }
   ],
   "source": [
    "typeof(x)"
   ]
  },
  {
   "cell_type": "code",
   "execution_count": 4,
   "metadata": {},
   "outputs": [
    {
     "data": {
      "text/html": [
       "2"
      ],
      "text/latex": [
       "2"
      ],
      "text/markdown": [
       "2"
      ],
      "text/plain": [
       "[1] 2"
      ]
     },
     "metadata": {},
     "output_type": "display_data"
    }
   ],
   "source": [
    "length(x)"
   ]
  },
  {
   "cell_type": "markdown",
   "metadata": {},
   "source": [
    "### Criando Listas\n",
    "\n",
    "Listas podem ser criadas com a função ```list()```."
   ]
  },
  {
   "cell_type": "code",
   "execution_count": 5,
   "metadata": {},
   "outputs": [
    {
     "data": {
      "text/html": [
       "<dl>\n",
       "\t<dt>$a</dt>\n",
       "\t\t<dd>2.5</dd>\n",
       "\t<dt>$b</dt>\n",
       "\t\t<dd>TRUE</dd>\n",
       "\t<dt>$c</dt>\n",
       "\t\t<dd><ol class=list-inline>\n",
       "\t<li>1</li>\n",
       "\t<li>2</li>\n",
       "\t<li>3</li>\n",
       "</ol>\n",
       "</dd>\n",
       "</dl>\n"
      ],
      "text/latex": [
       "\\begin{description}\n",
       "\\item[\\$a] 2.5\n",
       "\\item[\\$b] TRUE\n",
       "\\item[\\$c] \\begin{enumerate*}\n",
       "\\item 1\n",
       "\\item 2\n",
       "\\item 3\n",
       "\\end{enumerate*}\n",
       "\n",
       "\\end{description}\n"
      ],
      "text/markdown": [
       "$a\n",
       ":   2.5\n",
       "$b\n",
       ":   TRUE\n",
       "$c\n",
       ":   1. 1\n",
       "2. 2\n",
       "3. 3\n",
       "\n",
       "\n",
       "\n",
       "\n",
       "\n"
      ],
      "text/plain": [
       "$a\n",
       "[1] 2.5\n",
       "\n",
       "$b\n",
       "[1] TRUE\n",
       "\n",
       "$c\n",
       "[1] 1 2 3\n"
      ]
     },
     "metadata": {},
     "output_type": "display_data"
    }
   ],
   "source": [
    " x = list(\"a\" = 2.5, \"b\" = TRUE, \"c\" = 1:3); x"
   ]
  },
  {
   "cell_type": "markdown",
   "metadata": {},
   "source": [
    "No exemplo, a, b, c são chamados de tags e facilitam a referência a componentes da lista. Todavia, são opcionais."
   ]
  },
  {
   "cell_type": "code",
   "execution_count": 6,
   "metadata": {},
   "outputs": [
    {
     "data": {
      "text/html": [
       "<ol>\n",
       "\t<li>2.5</li>\n",
       "\t<li>TRUE</li>\n",
       "\t<li><ol class=list-inline>\n",
       "\t<li>1</li>\n",
       "\t<li>2</li>\n",
       "\t<li>3</li>\n",
       "</ol>\n",
       "</li>\n",
       "</ol>\n"
      ],
      "text/latex": [
       "\\begin{enumerate}\n",
       "\\item 2.5\n",
       "\\item TRUE\n",
       "\\item \\begin{enumerate*}\n",
       "\\item 1\n",
       "\\item 2\n",
       "\\item 3\n",
       "\\end{enumerate*}\n",
       "\n",
       "\\end{enumerate}\n"
      ],
      "text/markdown": [
       "1. 2.5\n",
       "2. TRUE\n",
       "3. 1. 1\n",
       "2. 2\n",
       "3. 3\n",
       "\n",
       "\n",
       "\n",
       "\n",
       "\n"
      ],
      "text/plain": [
       "[[1]]\n",
       "[1] 2.5\n",
       "\n",
       "[[2]]\n",
       "[1] TRUE\n",
       "\n",
       "[[3]]\n",
       "[1] 1 2 3\n"
      ]
     },
     "metadata": {},
     "output_type": "display_data"
    }
   ],
   "source": [
    "x <- list(2.5, TRUE, 1:3); x"
   ]
  },
  {
   "cell_type": "code",
   "execution_count": 7,
   "metadata": {},
   "outputs": [
    {
     "data": {
      "text/html": [
       "2.5"
      ],
      "text/latex": [
       "2.5"
      ],
      "text/markdown": [
       "2.5"
      ],
      "text/plain": [
       "[1] 2.5"
      ]
     },
     "metadata": {},
     "output_type": "display_data"
    }
   ],
   "source": [
    "x[[1]]"
   ]
  },
  {
   "cell_type": "code",
   "execution_count": 8,
   "metadata": {},
   "outputs": [
    {
     "data": {
      "text/html": [
       "27"
      ],
      "text/latex": [
       "27"
      ],
      "text/markdown": [
       "27"
      ],
      "text/plain": [
       "[1] 27"
      ]
     },
     "metadata": {},
     "output_type": "display_data"
    }
   ],
   "source": [
    "pessoa = list(\"idade\"=27, \"nome\"=\"josep lima\")\n",
    "pessoa$idade"
   ]
  },
  {
   "cell_type": "code",
   "execution_count": 9,
   "metadata": {},
   "outputs": [
    {
     "data": {
      "text/html": [
       "<dl>\n",
       "\t<dt>$idade</dt>\n",
       "\t\t<dd>27</dd>\n",
       "\t<dt>$nome</dt>\n",
       "\t\t<dd>'josep lima'</dd>\n",
       "</dl>\n"
      ],
      "text/latex": [
       "\\begin{description}\n",
       "\\item[\\$idade] 27\n",
       "\\item[\\$nome] 'josep lima'\n",
       "\\end{description}\n"
      ],
      "text/markdown": [
       "$idade\n",
       ":   27\n",
       "$nome\n",
       ":   'josep lima'\n",
       "\n",
       "\n"
      ],
      "text/plain": [
       "$idade\n",
       "[1] 27\n",
       "\n",
       "$nome\n",
       "[1] \"josep lima\"\n"
      ]
     },
     "metadata": {},
     "output_type": "display_data"
    }
   ],
   "source": [
    "pessoa[c(1,2)]"
   ]
  },
  {
   "cell_type": "code",
   "execution_count": 10,
   "metadata": {},
   "outputs": [
    {
     "data": {
      "text/html": [
       "<dl>\n",
       "\t<dt>$idade</dt>\n",
       "\t\t<dd>27</dd>\n",
       "\t<dt>$nome</dt>\n",
       "\t\t<dd>'josep lima'</dd>\n",
       "</dl>\n"
      ],
      "text/latex": [
       "\\begin{description}\n",
       "\\item[\\$idade] 27\n",
       "\\item[\\$nome] 'josep lima'\n",
       "\\end{description}\n"
      ],
      "text/markdown": [
       "$idade\n",
       ":   27\n",
       "$nome\n",
       ":   'josep lima'\n",
       "\n",
       "\n"
      ],
      "text/plain": [
       "$idade\n",
       "[1] 27\n",
       "\n",
       "$nome\n",
       "[1] \"josep lima\"\n"
      ]
     },
     "metadata": {},
     "output_type": "display_data"
    }
   ],
   "source": [
    "pessoa[c(\"idade\", \"nome\")]"
   ]
  },
  {
   "cell_type": "code",
   "execution_count": 11,
   "metadata": {},
   "outputs": [
    {
     "data": {
      "text/html": [
       "<strong>$idade</strong> = 27"
      ],
      "text/latex": [
       "\\textbf{\\$idade} = 27"
      ],
      "text/markdown": [
       "**$idade** = 27"
      ],
      "text/plain": [
       "$idade\n",
       "[1] 27\n"
      ]
     },
     "metadata": {},
     "output_type": "display_data"
    }
   ],
   "source": [
    "pessoa[-2]"
   ]
  },
  {
   "cell_type": "code",
   "execution_count": 12,
   "metadata": {},
   "outputs": [
    {
     "data": {
      "text/html": [
       "<dl>\n",
       "\t<dt>$idade</dt>\n",
       "\t\t<dd>27</dd>\n",
       "\t<dt>$nome</dt>\n",
       "\t\t<dd>'josep lima'</dd>\n",
       "</dl>\n"
      ],
      "text/latex": [
       "\\begin{description}\n",
       "\\item[\\$idade] 27\n",
       "\\item[\\$nome] 'josep lima'\n",
       "\\end{description}\n"
      ],
      "text/markdown": [
       "$idade\n",
       ":   27\n",
       "$nome\n",
       ":   'josep lima'\n",
       "\n",
       "\n"
      ],
      "text/plain": [
       "$idade\n",
       "[1] 27\n",
       "\n",
       "$nome\n",
       "[1] \"josep lima\"\n"
      ]
     },
     "metadata": {},
     "output_type": "display_data"
    }
   ],
   "source": [
    "pessoa[1:2]"
   ]
  },
  {
   "cell_type": "code",
   "execution_count": 13,
   "metadata": {},
   "outputs": [
    {
     "data": {
      "text/html": [
       "'list'"
      ],
      "text/latex": [
       "'list'"
      ],
      "text/markdown": [
       "'list'"
      ],
      "text/plain": [
       "[1] \"list\""
      ]
     },
     "metadata": {},
     "output_type": "display_data"
    }
   ],
   "source": [
    "typeof(pessoa[1])"
   ]
  },
  {
   "cell_type": "code",
   "execution_count": 14,
   "metadata": {},
   "outputs": [
    {
     "data": {
      "text/html": [
       "'list'"
      ],
      "text/latex": [
       "'list'"
      ],
      "text/markdown": [
       "'list'"
      ],
      "text/plain": [
       "[1] \"list\""
      ]
     },
     "metadata": {},
     "output_type": "display_data"
    }
   ],
   "source": [
    "typeof(pessoa[\"idade\"])"
   ]
  },
  {
   "cell_type": "code",
   "execution_count": 15,
   "metadata": {},
   "outputs": [
    {
     "data": {
      "text/html": [
       "'double'"
      ],
      "text/latex": [
       "'double'"
      ],
      "text/markdown": [
       "'double'"
      ],
      "text/plain": [
       "[1] \"double\""
      ]
     },
     "metadata": {},
     "output_type": "display_data"
    }
   ],
   "source": [
    "typeof(pessoa[[1]])"
   ]
  },
  {
   "cell_type": "code",
   "execution_count": 16,
   "metadata": {},
   "outputs": [
    {
     "data": {
      "text/html": [
       "'double'"
      ],
      "text/latex": [
       "'double'"
      ],
      "text/markdown": [
       "'double'"
      ],
      "text/plain": [
       "[1] \"double\""
      ]
     },
     "metadata": {},
     "output_type": "display_data"
    }
   ],
   "source": [
    "typeof(pessoa[[\"idade\"]])"
   ]
  },
  {
   "cell_type": "markdown",
   "metadata": {},
   "source": [
    "### Modificando a Lista"
   ]
  },
  {
   "cell_type": "code",
   "execution_count": 17,
   "metadata": {},
   "outputs": [
    {
     "data": {
      "text/html": [
       "<dl>\n",
       "\t<dt>$idade</dt>\n",
       "\t\t<dd>27</dd>\n",
       "\t<dt>$nome</dt>\n",
       "\t\t<dd>'José Lima'</dd>\n",
       "</dl>\n"
      ],
      "text/latex": [
       "\\begin{description}\n",
       "\\item[\\$idade] 27\n",
       "\\item[\\$nome] 'José Lima'\n",
       "\\end{description}\n"
      ],
      "text/markdown": [
       "$idade\n",
       ":   27\n",
       "$nome\n",
       ":   'José Lima'\n",
       "\n",
       "\n"
      ],
      "text/plain": [
       "$idade\n",
       "[1] 27\n",
       "\n",
       "$nome\n",
       "[1] \"José Lima\"\n"
      ]
     },
     "metadata": {},
     "output_type": "display_data"
    }
   ],
   "source": [
    "pessoa[[\"nome\"]] = \"José Lima\"; pessoa"
   ]
  },
  {
   "cell_type": "code",
   "execution_count": 18,
   "metadata": {},
   "outputs": [
    {
     "data": {
      "text/html": [
       "<dl>\n",
       "\t<dt>$idade</dt>\n",
       "\t\t<dd>27</dd>\n",
       "\t<dt>$nome</dt>\n",
       "\t\t<dd>'José Lima'</dd>\n",
       "\t<dt>$casado</dt>\n",
       "\t\t<dd>FALSE</dd>\n",
       "</dl>\n"
      ],
      "text/latex": [
       "\\begin{description}\n",
       "\\item[\\$idade] 27\n",
       "\\item[\\$nome] 'José Lima'\n",
       "\\item[\\$casado] FALSE\n",
       "\\end{description}\n"
      ],
      "text/markdown": [
       "$idade\n",
       ":   27\n",
       "$nome\n",
       ":   'José Lima'\n",
       "$casado\n",
       ":   FALSE\n",
       "\n",
       "\n"
      ],
      "text/plain": [
       "$idade\n",
       "[1] 27\n",
       "\n",
       "$nome\n",
       "[1] \"José Lima\"\n",
       "\n",
       "$casado\n",
       "[1] FALSE\n"
      ]
     },
     "metadata": {},
     "output_type": "display_data"
    }
   ],
   "source": [
    "pessoa[[\"casado\"]] = FALSE; pessoa"
   ]
  },
  {
   "cell_type": "code",
   "execution_count": 19,
   "metadata": {},
   "outputs": [
    {
     "name": "stdout",
     "output_type": "stream",
     "text": [
      "List of 2\n",
      " $ nome  : chr \"José Lima\"\n",
      " $ casado: logi FALSE\n"
     ]
    }
   ],
   "source": [
    "pessoa[[\"idade\"]] = NULL; str(pessoa)"
   ]
  },
  {
   "cell_type": "code",
   "execution_count": 20,
   "metadata": {},
   "outputs": [
    {
     "name": "stdout",
     "output_type": "stream",
     "text": [
      "List of 1\n",
      " $ nome: chr \"José Lima\"\n"
     ]
    }
   ],
   "source": [
    "pessoa$casado = NULL; str(pessoa)"
   ]
  },
  {
   "cell_type": "markdown",
   "metadata": {},
   "source": [
    "## Data Frame\n",
    "\n",
    "Data frame é uma estrutura de dados bidimensional em R. É uma caso especial de uma lista que possui componponentes de tamanho iguais. Cada compontent forma uma coluna."
   ]
  },
  {
   "cell_type": "code",
   "execution_count": 21,
   "metadata": {},
   "outputs": [
    {
     "data": {
      "text/html": [
       "<table>\n",
       "<thead><tr><th scope=col>id</th><th scope=col>idade</th></tr></thead>\n",
       "<tbody>\n",
       "\t<tr><td>1 </td><td>32</td></tr>\n",
       "\t<tr><td>2 </td><td>21</td></tr>\n",
       "</tbody>\n",
       "</table>\n"
      ],
      "text/latex": [
       "\\begin{tabular}{r|ll}\n",
       " id & idade\\\\\n",
       "\\hline\n",
       "\t 1  & 32\\\\\n",
       "\t 2  & 21\\\\\n",
       "\\end{tabular}\n"
      ],
      "text/markdown": [
       "\n",
       "id | idade | \n",
       "|---|---|\n",
       "| 1  | 32 | \n",
       "| 2  | 21 | \n",
       "\n",
       "\n"
      ],
      "text/plain": [
       "  id idade\n",
       "1 1  32   \n",
       "2 2  21   "
      ]
     },
     "metadata": {},
     "output_type": "display_data"
    }
   ],
   "source": [
    "x = data.frame(\"id\"=1:2, \"idade\"= c(32, 21)); x"
   ]
  },
  {
   "cell_type": "code",
   "execution_count": 22,
   "metadata": {},
   "outputs": [
    {
     "data": {
      "text/html": [
       "'list'"
      ],
      "text/latex": [
       "'list'"
      ],
      "text/markdown": [
       "'list'"
      ],
      "text/plain": [
       "[1] \"list\""
      ]
     },
     "metadata": {},
     "output_type": "display_data"
    }
   ],
   "source": [
    "typeof(x)"
   ]
  },
  {
   "cell_type": "code",
   "execution_count": 23,
   "metadata": {},
   "outputs": [
    {
     "data": {
      "text/html": [
       "'data.frame'"
      ],
      "text/latex": [
       "'data.frame'"
      ],
      "text/markdown": [
       "'data.frame'"
      ],
      "text/plain": [
       "[1] \"data.frame\""
      ]
     },
     "metadata": {},
     "output_type": "display_data"
    }
   ],
   "source": [
    "class(x)"
   ]
  },
  {
   "cell_type": "markdown",
   "metadata": {},
   "source": [
    "### Funções do Data Frame"
   ]
  },
  {
   "cell_type": "code",
   "execution_count": 24,
   "metadata": {},
   "outputs": [
    {
     "data": {
      "text/html": [
       "<ol class=list-inline>\n",
       "\t<li>'id'</li>\n",
       "\t<li>'idade'</li>\n",
       "</ol>\n"
      ],
      "text/latex": [
       "\\begin{enumerate*}\n",
       "\\item 'id'\n",
       "\\item 'idade'\n",
       "\\end{enumerate*}\n"
      ],
      "text/markdown": [
       "1. 'id'\n",
       "2. 'idade'\n",
       "\n",
       "\n"
      ],
      "text/plain": [
       "[1] \"id\"    \"idade\""
      ]
     },
     "metadata": {},
     "output_type": "display_data"
    }
   ],
   "source": [
    "names(x)"
   ]
  },
  {
   "cell_type": "code",
   "execution_count": 25,
   "metadata": {},
   "outputs": [
    {
     "data": {
      "text/html": [
       "2"
      ],
      "text/latex": [
       "2"
      ],
      "text/markdown": [
       "2"
      ],
      "text/plain": [
       "[1] 2"
      ]
     },
     "metadata": {},
     "output_type": "display_data"
    }
   ],
   "source": [
    "ncol(x)"
   ]
  },
  {
   "cell_type": "code",
   "execution_count": 26,
   "metadata": {},
   "outputs": [
    {
     "data": {
      "text/html": [
       "2"
      ],
      "text/latex": [
       "2"
      ],
      "text/markdown": [
       "2"
      ],
      "text/plain": [
       "[1] 2"
      ]
     },
     "metadata": {},
     "output_type": "display_data"
    }
   ],
   "source": [
    "nrow(x)"
   ]
  },
  {
   "cell_type": "code",
   "execution_count": 27,
   "metadata": {},
   "outputs": [
    {
     "data": {
      "text/html": [
       "2"
      ],
      "text/latex": [
       "2"
      ],
      "text/markdown": [
       "2"
      ],
      "text/plain": [
       "[1] 2"
      ]
     },
     "metadata": {},
     "output_type": "display_data"
    }
   ],
   "source": [
    "length(x)"
   ]
  },
  {
   "cell_type": "markdown",
   "metadata": {},
   "source": [
    "### Criando um Data Frame"
   ]
  },
  {
   "cell_type": "code",
   "execution_count": 28,
   "metadata": {},
   "outputs": [
    {
     "name": "stdout",
     "output_type": "stream",
     "text": [
      "'data.frame':\t2 obs. of  3 variables:\n",
      " $ id   : int  1 2\n",
      " $ idade: num  21 15\n",
      " $ nome : Factor w/ 2 levels \"Dória Silva\",..: 2 1\n"
     ]
    }
   ],
   "source": [
    "x = data.frame(\"id\" = 1:2, \"idade\" = c(21,15), \"nome\" = c(\"José Lima\",\"Dória Silva\")); str(x)"
   ]
  },
  {
   "cell_type": "code",
   "execution_count": 29,
   "metadata": {},
   "outputs": [
    {
     "name": "stdout",
     "output_type": "stream",
     "text": [
      "'data.frame':\t2 obs. of  3 variables:\n",
      " $ id   : int  1 2\n",
      " $ idade: num  21 15\n",
      " $ nome : chr  \"José Lima\" \"Dória Silva\"\n"
     ]
    }
   ],
   "source": [
    "x = data.frame(\"id\" = 1:2, \"idade\" = c(21,15), \"nome\" = c(\"José Lima\",\"Dória Silva\"), \n",
    "               stringsAsFactors=FALSE); str(x)"
   ]
  },
  {
   "cell_type": "markdown",
   "metadata": {},
   "source": [
    "## Lidando com valores nulos"
   ]
  },
  {
   "cell_type": "code",
   "execution_count": 30,
   "metadata": {},
   "outputs": [
    {
     "name": "stdout",
     "output_type": "stream",
     "text": [
      "'data.frame':\t2 obs. of  3 variables:\n",
      " $ id   : int  1 2\n",
      " $ idade: num  21 NA\n",
      " $ nome : Factor w/ 2 levels \"Dória Silva\",..: 2 1\n"
     ]
    }
   ],
   "source": [
    "x = data.frame(\"id\" = 1:2, \"idade\" = c(21, NA), \"nome\" = c(\"José Lima\",\"Dória Silva\")); str(x)"
   ]
  },
  {
   "cell_type": "code",
   "execution_count": 31,
   "metadata": {},
   "outputs": [
    {
     "data": {
      "text/html": [
       "&lt;NA&gt;"
      ],
      "text/latex": [
       "<NA>"
      ],
      "text/markdown": [
       "&lt;NA&gt;"
      ],
      "text/plain": [
       "[1] NA"
      ]
     },
     "metadata": {},
     "output_type": "display_data"
    }
   ],
   "source": [
    "mean(x[,'idade'])"
   ]
  },
  {
   "cell_type": "code",
   "execution_count": 32,
   "metadata": {},
   "outputs": [
    {
     "data": {
      "text/html": [
       "21"
      ],
      "text/latex": [
       "21"
      ],
      "text/markdown": [
       "21"
      ],
      "text/plain": [
       "[1] 21"
      ]
     },
     "metadata": {},
     "output_type": "display_data"
    }
   ],
   "source": [
    "mean(x[!is.na(x[,'idade']),'idade'])"
   ]
  },
  {
   "cell_type": "code",
   "execution_count": 33,
   "metadata": {
    "collapsed": true
   },
   "outputs": [],
   "source": [
    "x[is.na(x[,'idade']),'idade'] <- 30"
   ]
  },
  {
   "cell_type": "code",
   "execution_count": 34,
   "metadata": {},
   "outputs": [
    {
     "data": {
      "text/html": [
       "<table>\n",
       "<thead><tr><th scope=col>id</th><th scope=col>idade</th><th scope=col>nome</th></tr></thead>\n",
       "<tbody>\n",
       "\t<tr><td>1          </td><td>21         </td><td>José Lima  </td></tr>\n",
       "\t<tr><td>2          </td><td>30         </td><td>Dória Silva</td></tr>\n",
       "</tbody>\n",
       "</table>\n"
      ],
      "text/latex": [
       "\\begin{tabular}{r|lll}\n",
       " id & idade & nome\\\\\n",
       "\\hline\n",
       "\t 1           & 21          & José Lima  \\\\\n",
       "\t 2           & 30          & Dória Silva\\\\\n",
       "\\end{tabular}\n"
      ],
      "text/markdown": [
       "\n",
       "id | idade | nome | \n",
       "|---|---|\n",
       "| 1           | 21          | José Lima   | \n",
       "| 2           | 30          | Dória Silva | \n",
       "\n",
       "\n"
      ],
      "text/plain": [
       "  id idade nome       \n",
       "1 1  21    José Lima  \n",
       "2 2  30    Dória Silva"
      ]
     },
     "metadata": {},
     "output_type": "display_data"
    }
   ],
   "source": [
    "x"
   ]
  },
  {
   "cell_type": "markdown",
   "metadata": {},
   "source": [
    "### Lendo Data Frame de um Arquivo CSV"
   ]
  },
  {
   "cell_type": "code",
   "execution_count": 35,
   "metadata": {},
   "outputs": [
    {
     "data": {
      "text/html": [
       "<table>\n",
       "<thead><tr><th scope=col>V1</th><th scope=col>V2</th><th scope=col>V3</th><th scope=col>V4</th><th scope=col>V5</th></tr></thead>\n",
       "<tbody>\n",
       "\t<tr><td>5.1        </td><td>3.5        </td><td>1.4        </td><td>0.2        </td><td>Iris-setosa</td></tr>\n",
       "\t<tr><td>4.9        </td><td>3.0        </td><td>1.4        </td><td>0.2        </td><td>Iris-setosa</td></tr>\n",
       "\t<tr><td>4.7        </td><td>3.2        </td><td>1.3        </td><td>0.2        </td><td>Iris-setosa</td></tr>\n",
       "\t<tr><td>4.6        </td><td>3.1        </td><td>1.5        </td><td>0.2        </td><td>Iris-setosa</td></tr>\n",
       "\t<tr><td>5.0        </td><td>3.6        </td><td>1.4        </td><td>0.2        </td><td>Iris-setosa</td></tr>\n",
       "\t<tr><td>5.4        </td><td>3.9        </td><td>1.7        </td><td>0.4        </td><td>Iris-setosa</td></tr>\n",
       "</tbody>\n",
       "</table>\n"
      ],
      "text/latex": [
       "\\begin{tabular}{r|lllll}\n",
       " V1 & V2 & V3 & V4 & V5\\\\\n",
       "\\hline\n",
       "\t 5.1         & 3.5         & 1.4         & 0.2         & Iris-setosa\\\\\n",
       "\t 4.9         & 3.0         & 1.4         & 0.2         & Iris-setosa\\\\\n",
       "\t 4.7         & 3.2         & 1.3         & 0.2         & Iris-setosa\\\\\n",
       "\t 4.6         & 3.1         & 1.5         & 0.2         & Iris-setosa\\\\\n",
       "\t 5.0         & 3.6         & 1.4         & 0.2         & Iris-setosa\\\\\n",
       "\t 5.4         & 3.9         & 1.7         & 0.4         & Iris-setosa\\\\\n",
       "\\end{tabular}\n"
      ],
      "text/markdown": [
       "\n",
       "V1 | V2 | V3 | V4 | V5 | \n",
       "|---|---|---|---|---|---|\n",
       "| 5.1         | 3.5         | 1.4         | 0.2         | Iris-setosa | \n",
       "| 4.9         | 3.0         | 1.4         | 0.2         | Iris-setosa | \n",
       "| 4.7         | 3.2         | 1.3         | 0.2         | Iris-setosa | \n",
       "| 4.6         | 3.1         | 1.5         | 0.2         | Iris-setosa | \n",
       "| 5.0         | 3.6         | 1.4         | 0.2         | Iris-setosa | \n",
       "| 5.4         | 3.9         | 1.7         | 0.4         | Iris-setosa | \n",
       "\n",
       "\n"
      ],
      "text/plain": [
       "  V1  V2  V3  V4  V5         \n",
       "1 5.1 3.5 1.4 0.2 Iris-setosa\n",
       "2 4.9 3.0 1.4 0.2 Iris-setosa\n",
       "3 4.7 3.2 1.3 0.2 Iris-setosa\n",
       "4 4.6 3.1 1.5 0.2 Iris-setosa\n",
       "5 5.0 3.6 1.4 0.2 Iris-setosa\n",
       "6 5.4 3.9 1.7 0.4 Iris-setosa"
      ]
     },
     "metadata": {},
     "output_type": "display_data"
    }
   ],
   "source": [
    "df = read.csv(\"dados/iris-dataset.csv\", header=FALSE); head(df)"
   ]
  },
  {
   "cell_type": "code",
   "execution_count": 36,
   "metadata": {},
   "outputs": [
    {
     "data": {
      "text/html": [
       "<table>\n",
       "<thead><tr><th></th><th scope=col>V1</th><th scope=col>V2</th><th scope=col>V3</th><th scope=col>V4</th><th scope=col>V5</th></tr></thead>\n",
       "<tbody>\n",
       "\t<tr><th scope=row>145</th><td>6.7           </td><td>3.3           </td><td>5.7           </td><td>2.5           </td><td>Iris-virginica</td></tr>\n",
       "\t<tr><th scope=row>146</th><td>6.7           </td><td>3.0           </td><td>5.2           </td><td>2.3           </td><td>Iris-virginica</td></tr>\n",
       "\t<tr><th scope=row>147</th><td>6.3           </td><td>2.5           </td><td>5.0           </td><td>1.9           </td><td>Iris-virginica</td></tr>\n",
       "\t<tr><th scope=row>148</th><td>6.5           </td><td>3.0           </td><td>5.2           </td><td>2.0           </td><td>Iris-virginica</td></tr>\n",
       "\t<tr><th scope=row>149</th><td>6.2           </td><td>3.4           </td><td>5.4           </td><td>2.3           </td><td>Iris-virginica</td></tr>\n",
       "\t<tr><th scope=row>150</th><td>5.9           </td><td>3.0           </td><td>5.1           </td><td>1.8           </td><td>Iris-virginica</td></tr>\n",
       "</tbody>\n",
       "</table>\n"
      ],
      "text/latex": [
       "\\begin{tabular}{r|lllll}\n",
       "  & V1 & V2 & V3 & V4 & V5\\\\\n",
       "\\hline\n",
       "\t145 & 6.7            & 3.3            & 5.7            & 2.5            & Iris-virginica\\\\\n",
       "\t146 & 6.7            & 3.0            & 5.2            & 2.3            & Iris-virginica\\\\\n",
       "\t147 & 6.3            & 2.5            & 5.0            & 1.9            & Iris-virginica\\\\\n",
       "\t148 & 6.5            & 3.0            & 5.2            & 2.0            & Iris-virginica\\\\\n",
       "\t149 & 6.2            & 3.4            & 5.4            & 2.3            & Iris-virginica\\\\\n",
       "\t150 & 5.9            & 3.0            & 5.1            & 1.8            & Iris-virginica\\\\\n",
       "\\end{tabular}\n"
      ],
      "text/markdown": [
       "\n",
       "| <!--/--> | V1 | V2 | V3 | V4 | V5 | \n",
       "|---|---|---|---|---|---|\n",
       "| 145 | 6.7            | 3.3            | 5.7            | 2.5            | Iris-virginica | \n",
       "| 146 | 6.7            | 3.0            | 5.2            | 2.3            | Iris-virginica | \n",
       "| 147 | 6.3            | 2.5            | 5.0            | 1.9            | Iris-virginica | \n",
       "| 148 | 6.5            | 3.0            | 5.2            | 2.0            | Iris-virginica | \n",
       "| 149 | 6.2            | 3.4            | 5.4            | 2.3            | Iris-virginica | \n",
       "| 150 | 5.9            | 3.0            | 5.1            | 1.8            | Iris-virginica | \n",
       "\n",
       "\n"
      ],
      "text/plain": [
       "    V1  V2  V3  V4  V5            \n",
       "145 6.7 3.3 5.7 2.5 Iris-virginica\n",
       "146 6.7 3.0 5.2 2.3 Iris-virginica\n",
       "147 6.3 2.5 5.0 1.9 Iris-virginica\n",
       "148 6.5 3.0 5.2 2.0 Iris-virginica\n",
       "149 6.2 3.4 5.4 2.3 Iris-virginica\n",
       "150 5.9 3.0 5.1 1.8 Iris-virginica"
      ]
     },
     "metadata": {},
     "output_type": "display_data"
    }
   ],
   "source": [
    "tail(df)"
   ]
  },
  {
   "cell_type": "code",
   "execution_count": 37,
   "metadata": {},
   "outputs": [
    {
     "data": {
      "text/plain": [
       "       V1              V2              V3              V4       \n",
       " Min.   :4.300   Min.   :2.000   Min.   :1.000   Min.   :0.100  \n",
       " 1st Qu.:5.100   1st Qu.:2.800   1st Qu.:1.600   1st Qu.:0.300  \n",
       " Median :5.800   Median :3.000   Median :4.350   Median :1.300  \n",
       " Mean   :5.843   Mean   :3.054   Mean   :3.759   Mean   :1.199  \n",
       " 3rd Qu.:6.400   3rd Qu.:3.300   3rd Qu.:5.100   3rd Qu.:1.800  \n",
       " Max.   :7.900   Max.   :4.400   Max.   :6.900   Max.   :2.500  \n",
       "               V5    \n",
       " Iris-setosa    :50  \n",
       " Iris-versicolor:50  \n",
       " Iris-virginica :50  \n",
       "                     \n",
       "                     \n",
       "                     "
      ]
     },
     "metadata": {},
     "output_type": "display_data"
    }
   ],
   "source": [
    "summary(df)"
   ]
  },
  {
   "cell_type": "code",
   "execution_count": 38,
   "metadata": {},
   "outputs": [
    {
     "data": {
      "text/html": [
       "<table>\n",
       "<thead><tr><th scope=col>sepal_length</th><th scope=col>sepal_width</th><th scope=col>petal_length</th><th scope=col>sepal_width</th><th scope=col>species</th></tr></thead>\n",
       "<tbody>\n",
       "\t<tr><td>5.1        </td><td>3.5        </td><td>1.4        </td><td>0.2        </td><td>Iris-setosa</td></tr>\n",
       "\t<tr><td>4.9        </td><td>3.0        </td><td>1.4        </td><td>0.2        </td><td>Iris-setosa</td></tr>\n",
       "\t<tr><td>4.7        </td><td>3.2        </td><td>1.3        </td><td>0.2        </td><td>Iris-setosa</td></tr>\n",
       "\t<tr><td>4.6        </td><td>3.1        </td><td>1.5        </td><td>0.2        </td><td>Iris-setosa</td></tr>\n",
       "\t<tr><td>5.0        </td><td>3.6        </td><td>1.4        </td><td>0.2        </td><td>Iris-setosa</td></tr>\n",
       "\t<tr><td>5.4        </td><td>3.9        </td><td>1.7        </td><td>0.4        </td><td>Iris-setosa</td></tr>\n",
       "</tbody>\n",
       "</table>\n"
      ],
      "text/latex": [
       "\\begin{tabular}{r|lllll}\n",
       " sepal\\_length & sepal\\_width & petal\\_length & sepal\\_width & species\\\\\n",
       "\\hline\n",
       "\t 5.1         & 3.5         & 1.4         & 0.2         & Iris-setosa\\\\\n",
       "\t 4.9         & 3.0         & 1.4         & 0.2         & Iris-setosa\\\\\n",
       "\t 4.7         & 3.2         & 1.3         & 0.2         & Iris-setosa\\\\\n",
       "\t 4.6         & 3.1         & 1.5         & 0.2         & Iris-setosa\\\\\n",
       "\t 5.0         & 3.6         & 1.4         & 0.2         & Iris-setosa\\\\\n",
       "\t 5.4         & 3.9         & 1.7         & 0.4         & Iris-setosa\\\\\n",
       "\\end{tabular}\n"
      ],
      "text/markdown": [
       "\n",
       "sepal_length | sepal_width | petal_length | sepal_width | species | \n",
       "|---|---|---|---|---|---|\n",
       "| 5.1         | 3.5         | 1.4         | 0.2         | Iris-setosa | \n",
       "| 4.9         | 3.0         | 1.4         | 0.2         | Iris-setosa | \n",
       "| 4.7         | 3.2         | 1.3         | 0.2         | Iris-setosa | \n",
       "| 4.6         | 3.1         | 1.5         | 0.2         | Iris-setosa | \n",
       "| 5.0         | 3.6         | 1.4         | 0.2         | Iris-setosa | \n",
       "| 5.4         | 3.9         | 1.7         | 0.4         | Iris-setosa | \n",
       "\n",
       "\n"
      ],
      "text/plain": [
       "  sepal_length sepal_width petal_length sepal_width species    \n",
       "1 5.1          3.5         1.4          0.2         Iris-setosa\n",
       "2 4.9          3.0         1.4          0.2         Iris-setosa\n",
       "3 4.7          3.2         1.3          0.2         Iris-setosa\n",
       "4 4.6          3.1         1.5          0.2         Iris-setosa\n",
       "5 5.0          3.6         1.4          0.2         Iris-setosa\n",
       "6 5.4          3.9         1.7          0.4         Iris-setosa"
      ]
     },
     "metadata": {},
     "output_type": "display_data"
    }
   ],
   "source": [
    "colnames(df) = c(\"sepal_length\", \"sepal_width\", \"petal_length\", \"sepal_width\", \"species\")\n",
    "head(df)"
   ]
  },
  {
   "cell_type": "markdown",
   "metadata": {},
   "source": [
    "### Indexação\n",
    "\n",
    "#### Acessando como uma lista"
   ]
  },
  {
   "cell_type": "code",
   "execution_count": 39,
   "metadata": {},
   "outputs": [
    {
     "data": {
      "text/html": [
       "<table>\n",
       "<thead><tr><th scope=col>sepal_length</th></tr></thead>\n",
       "<tbody>\n",
       "\t<tr><td>5.1</td></tr>\n",
       "\t<tr><td>4.9</td></tr>\n",
       "\t<tr><td>4.7</td></tr>\n",
       "\t<tr><td>4.6</td></tr>\n",
       "\t<tr><td>5.0</td></tr>\n",
       "\t<tr><td>5.4</td></tr>\n",
       "</tbody>\n",
       "</table>\n"
      ],
      "text/latex": [
       "\\begin{tabular}{r|l}\n",
       " sepal\\_length\\\\\n",
       "\\hline\n",
       "\t 5.1\\\\\n",
       "\t 4.9\\\\\n",
       "\t 4.7\\\\\n",
       "\t 4.6\\\\\n",
       "\t 5.0\\\\\n",
       "\t 5.4\\\\\n",
       "\\end{tabular}\n"
      ],
      "text/markdown": [
       "\n",
       "sepal_length | \n",
       "|---|---|---|---|---|---|\n",
       "| 5.1 | \n",
       "| 4.9 | \n",
       "| 4.7 | \n",
       "| 4.6 | \n",
       "| 5.0 | \n",
       "| 5.4 | \n",
       "\n",
       "\n"
      ],
      "text/plain": [
       "  sepal_length\n",
       "1 5.1         \n",
       "2 4.9         \n",
       "3 4.7         \n",
       "4 4.6         \n",
       "5 5.0         \n",
       "6 5.4         "
      ]
     },
     "metadata": {},
     "output_type": "display_data"
    },
    {
     "data": {
      "text/html": [
       "'list'"
      ],
      "text/latex": [
       "'list'"
      ],
      "text/markdown": [
       "'list'"
      ],
      "text/plain": [
       "[1] \"list\""
      ]
     },
     "metadata": {},
     "output_type": "display_data"
    }
   ],
   "source": [
    "head(df[\"sepal_length\"])\n",
    "typeof(df[\"sepal_length\"])"
   ]
  },
  {
   "cell_type": "code",
   "execution_count": 40,
   "metadata": {},
   "outputs": [
    {
     "data": {
      "text/html": [
       "<ol class=list-inline>\n",
       "\t<li>5.1</li>\n",
       "\t<li>4.9</li>\n",
       "\t<li>4.7</li>\n",
       "\t<li>4.6</li>\n",
       "\t<li>5</li>\n",
       "\t<li>5.4</li>\n",
       "\t<li>4.6</li>\n",
       "\t<li>5</li>\n",
       "\t<li>4.4</li>\n",
       "\t<li>4.9</li>\n",
       "\t<li>5.4</li>\n",
       "\t<li>4.8</li>\n",
       "\t<li>4.8</li>\n",
       "\t<li>4.3</li>\n",
       "\t<li>5.8</li>\n",
       "\t<li>5.7</li>\n",
       "\t<li>5.4</li>\n",
       "\t<li>5.1</li>\n",
       "\t<li>5.7</li>\n",
       "\t<li>5.1</li>\n",
       "\t<li>5.4</li>\n",
       "\t<li>5.1</li>\n",
       "\t<li>4.6</li>\n",
       "\t<li>5.1</li>\n",
       "\t<li>4.8</li>\n",
       "\t<li>5</li>\n",
       "\t<li>5</li>\n",
       "\t<li>5.2</li>\n",
       "\t<li>5.2</li>\n",
       "\t<li>4.7</li>\n",
       "\t<li>4.8</li>\n",
       "\t<li>5.4</li>\n",
       "\t<li>5.2</li>\n",
       "\t<li>5.5</li>\n",
       "\t<li>4.9</li>\n",
       "\t<li>5</li>\n",
       "\t<li>5.5</li>\n",
       "\t<li>4.9</li>\n",
       "\t<li>4.4</li>\n",
       "\t<li>5.1</li>\n",
       "\t<li>5</li>\n",
       "\t<li>4.5</li>\n",
       "\t<li>4.4</li>\n",
       "\t<li>5</li>\n",
       "\t<li>5.1</li>\n",
       "\t<li>4.8</li>\n",
       "\t<li>5.1</li>\n",
       "\t<li>4.6</li>\n",
       "\t<li>5.3</li>\n",
       "\t<li>5</li>\n",
       "\t<li>7</li>\n",
       "\t<li>6.4</li>\n",
       "\t<li>6.9</li>\n",
       "\t<li>5.5</li>\n",
       "\t<li>6.5</li>\n",
       "\t<li>5.7</li>\n",
       "\t<li>6.3</li>\n",
       "\t<li>4.9</li>\n",
       "\t<li>6.6</li>\n",
       "\t<li>5.2</li>\n",
       "\t<li>5</li>\n",
       "\t<li>5.9</li>\n",
       "\t<li>6</li>\n",
       "\t<li>6.1</li>\n",
       "\t<li>5.6</li>\n",
       "\t<li>6.7</li>\n",
       "\t<li>5.6</li>\n",
       "\t<li>5.8</li>\n",
       "\t<li>6.2</li>\n",
       "\t<li>5.6</li>\n",
       "\t<li>5.9</li>\n",
       "\t<li>6.1</li>\n",
       "\t<li>6.3</li>\n",
       "\t<li>6.1</li>\n",
       "\t<li>6.4</li>\n",
       "\t<li>6.6</li>\n",
       "\t<li>6.8</li>\n",
       "\t<li>6.7</li>\n",
       "\t<li>6</li>\n",
       "\t<li>5.7</li>\n",
       "\t<li>5.5</li>\n",
       "\t<li>5.5</li>\n",
       "\t<li>5.8</li>\n",
       "\t<li>6</li>\n",
       "\t<li>5.4</li>\n",
       "\t<li>6</li>\n",
       "\t<li>6.7</li>\n",
       "\t<li>6.3</li>\n",
       "\t<li>5.6</li>\n",
       "\t<li>5.5</li>\n",
       "\t<li>5.5</li>\n",
       "\t<li>6.1</li>\n",
       "\t<li>5.8</li>\n",
       "\t<li>5</li>\n",
       "\t<li>5.6</li>\n",
       "\t<li>5.7</li>\n",
       "\t<li>5.7</li>\n",
       "\t<li>6.2</li>\n",
       "\t<li>5.1</li>\n",
       "\t<li>5.7</li>\n",
       "\t<li>6.3</li>\n",
       "\t<li>5.8</li>\n",
       "\t<li>7.1</li>\n",
       "\t<li>6.3</li>\n",
       "\t<li>6.5</li>\n",
       "\t<li>7.6</li>\n",
       "\t<li>4.9</li>\n",
       "\t<li>7.3</li>\n",
       "\t<li>6.7</li>\n",
       "\t<li>7.2</li>\n",
       "\t<li>6.5</li>\n",
       "\t<li>6.4</li>\n",
       "\t<li>6.8</li>\n",
       "\t<li>5.7</li>\n",
       "\t<li>5.8</li>\n",
       "\t<li>6.4</li>\n",
       "\t<li>6.5</li>\n",
       "\t<li>7.7</li>\n",
       "\t<li>7.7</li>\n",
       "\t<li>6</li>\n",
       "\t<li>6.9</li>\n",
       "\t<li>5.6</li>\n",
       "\t<li>7.7</li>\n",
       "\t<li>6.3</li>\n",
       "\t<li>6.7</li>\n",
       "\t<li>7.2</li>\n",
       "\t<li>6.2</li>\n",
       "\t<li>6.1</li>\n",
       "\t<li>6.4</li>\n",
       "\t<li>7.2</li>\n",
       "\t<li>7.4</li>\n",
       "\t<li>7.9</li>\n",
       "\t<li>6.4</li>\n",
       "\t<li>6.3</li>\n",
       "\t<li>6.1</li>\n",
       "\t<li>7.7</li>\n",
       "\t<li>6.3</li>\n",
       "\t<li>6.4</li>\n",
       "\t<li>6</li>\n",
       "\t<li>6.9</li>\n",
       "\t<li>6.7</li>\n",
       "\t<li>6.9</li>\n",
       "\t<li>5.8</li>\n",
       "\t<li>6.8</li>\n",
       "\t<li>6.7</li>\n",
       "\t<li>6.7</li>\n",
       "\t<li>6.3</li>\n",
       "\t<li>6.5</li>\n",
       "\t<li>6.2</li>\n",
       "\t<li>5.9</li>\n",
       "</ol>\n"
      ],
      "text/latex": [
       "\\begin{enumerate*}\n",
       "\\item 5.1\n",
       "\\item 4.9\n",
       "\\item 4.7\n",
       "\\item 4.6\n",
       "\\item 5\n",
       "\\item 5.4\n",
       "\\item 4.6\n",
       "\\item 5\n",
       "\\item 4.4\n",
       "\\item 4.9\n",
       "\\item 5.4\n",
       "\\item 4.8\n",
       "\\item 4.8\n",
       "\\item 4.3\n",
       "\\item 5.8\n",
       "\\item 5.7\n",
       "\\item 5.4\n",
       "\\item 5.1\n",
       "\\item 5.7\n",
       "\\item 5.1\n",
       "\\item 5.4\n",
       "\\item 5.1\n",
       "\\item 4.6\n",
       "\\item 5.1\n",
       "\\item 4.8\n",
       "\\item 5\n",
       "\\item 5\n",
       "\\item 5.2\n",
       "\\item 5.2\n",
       "\\item 4.7\n",
       "\\item 4.8\n",
       "\\item 5.4\n",
       "\\item 5.2\n",
       "\\item 5.5\n",
       "\\item 4.9\n",
       "\\item 5\n",
       "\\item 5.5\n",
       "\\item 4.9\n",
       "\\item 4.4\n",
       "\\item 5.1\n",
       "\\item 5\n",
       "\\item 4.5\n",
       "\\item 4.4\n",
       "\\item 5\n",
       "\\item 5.1\n",
       "\\item 4.8\n",
       "\\item 5.1\n",
       "\\item 4.6\n",
       "\\item 5.3\n",
       "\\item 5\n",
       "\\item 7\n",
       "\\item 6.4\n",
       "\\item 6.9\n",
       "\\item 5.5\n",
       "\\item 6.5\n",
       "\\item 5.7\n",
       "\\item 6.3\n",
       "\\item 4.9\n",
       "\\item 6.6\n",
       "\\item 5.2\n",
       "\\item 5\n",
       "\\item 5.9\n",
       "\\item 6\n",
       "\\item 6.1\n",
       "\\item 5.6\n",
       "\\item 6.7\n",
       "\\item 5.6\n",
       "\\item 5.8\n",
       "\\item 6.2\n",
       "\\item 5.6\n",
       "\\item 5.9\n",
       "\\item 6.1\n",
       "\\item 6.3\n",
       "\\item 6.1\n",
       "\\item 6.4\n",
       "\\item 6.6\n",
       "\\item 6.8\n",
       "\\item 6.7\n",
       "\\item 6\n",
       "\\item 5.7\n",
       "\\item 5.5\n",
       "\\item 5.5\n",
       "\\item 5.8\n",
       "\\item 6\n",
       "\\item 5.4\n",
       "\\item 6\n",
       "\\item 6.7\n",
       "\\item 6.3\n",
       "\\item 5.6\n",
       "\\item 5.5\n",
       "\\item 5.5\n",
       "\\item 6.1\n",
       "\\item 5.8\n",
       "\\item 5\n",
       "\\item 5.6\n",
       "\\item 5.7\n",
       "\\item 5.7\n",
       "\\item 6.2\n",
       "\\item 5.1\n",
       "\\item 5.7\n",
       "\\item 6.3\n",
       "\\item 5.8\n",
       "\\item 7.1\n",
       "\\item 6.3\n",
       "\\item 6.5\n",
       "\\item 7.6\n",
       "\\item 4.9\n",
       "\\item 7.3\n",
       "\\item 6.7\n",
       "\\item 7.2\n",
       "\\item 6.5\n",
       "\\item 6.4\n",
       "\\item 6.8\n",
       "\\item 5.7\n",
       "\\item 5.8\n",
       "\\item 6.4\n",
       "\\item 6.5\n",
       "\\item 7.7\n",
       "\\item 7.7\n",
       "\\item 6\n",
       "\\item 6.9\n",
       "\\item 5.6\n",
       "\\item 7.7\n",
       "\\item 6.3\n",
       "\\item 6.7\n",
       "\\item 7.2\n",
       "\\item 6.2\n",
       "\\item 6.1\n",
       "\\item 6.4\n",
       "\\item 7.2\n",
       "\\item 7.4\n",
       "\\item 7.9\n",
       "\\item 6.4\n",
       "\\item 6.3\n",
       "\\item 6.1\n",
       "\\item 7.7\n",
       "\\item 6.3\n",
       "\\item 6.4\n",
       "\\item 6\n",
       "\\item 6.9\n",
       "\\item 6.7\n",
       "\\item 6.9\n",
       "\\item 5.8\n",
       "\\item 6.8\n",
       "\\item 6.7\n",
       "\\item 6.7\n",
       "\\item 6.3\n",
       "\\item 6.5\n",
       "\\item 6.2\n",
       "\\item 5.9\n",
       "\\end{enumerate*}\n"
      ],
      "text/markdown": [
       "1. 5.1\n",
       "2. 4.9\n",
       "3. 4.7\n",
       "4. 4.6\n",
       "5. 5\n",
       "6. 5.4\n",
       "7. 4.6\n",
       "8. 5\n",
       "9. 4.4\n",
       "10. 4.9\n",
       "11. 5.4\n",
       "12. 4.8\n",
       "13. 4.8\n",
       "14. 4.3\n",
       "15. 5.8\n",
       "16. 5.7\n",
       "17. 5.4\n",
       "18. 5.1\n",
       "19. 5.7\n",
       "20. 5.1\n",
       "21. 5.4\n",
       "22. 5.1\n",
       "23. 4.6\n",
       "24. 5.1\n",
       "25. 4.8\n",
       "26. 5\n",
       "27. 5\n",
       "28. 5.2\n",
       "29. 5.2\n",
       "30. 4.7\n",
       "31. 4.8\n",
       "32. 5.4\n",
       "33. 5.2\n",
       "34. 5.5\n",
       "35. 4.9\n",
       "36. 5\n",
       "37. 5.5\n",
       "38. 4.9\n",
       "39. 4.4\n",
       "40. 5.1\n",
       "41. 5\n",
       "42. 4.5\n",
       "43. 4.4\n",
       "44. 5\n",
       "45. 5.1\n",
       "46. 4.8\n",
       "47. 5.1\n",
       "48. 4.6\n",
       "49. 5.3\n",
       "50. 5\n",
       "51. 7\n",
       "52. 6.4\n",
       "53. 6.9\n",
       "54. 5.5\n",
       "55. 6.5\n",
       "56. 5.7\n",
       "57. 6.3\n",
       "58. 4.9\n",
       "59. 6.6\n",
       "60. 5.2\n",
       "61. 5\n",
       "62. 5.9\n",
       "63. 6\n",
       "64. 6.1\n",
       "65. 5.6\n",
       "66. 6.7\n",
       "67. 5.6\n",
       "68. 5.8\n",
       "69. 6.2\n",
       "70. 5.6\n",
       "71. 5.9\n",
       "72. 6.1\n",
       "73. 6.3\n",
       "74. 6.1\n",
       "75. 6.4\n",
       "76. 6.6\n",
       "77. 6.8\n",
       "78. 6.7\n",
       "79. 6\n",
       "80. 5.7\n",
       "81. 5.5\n",
       "82. 5.5\n",
       "83. 5.8\n",
       "84. 6\n",
       "85. 5.4\n",
       "86. 6\n",
       "87. 6.7\n",
       "88. 6.3\n",
       "89. 5.6\n",
       "90. 5.5\n",
       "91. 5.5\n",
       "92. 6.1\n",
       "93. 5.8\n",
       "94. 5\n",
       "95. 5.6\n",
       "96. 5.7\n",
       "97. 5.7\n",
       "98. 6.2\n",
       "99. 5.1\n",
       "100. 5.7\n",
       "101. 6.3\n",
       "102. 5.8\n",
       "103. 7.1\n",
       "104. 6.3\n",
       "105. 6.5\n",
       "106. 7.6\n",
       "107. 4.9\n",
       "108. 7.3\n",
       "109. 6.7\n",
       "110. 7.2\n",
       "111. 6.5\n",
       "112. 6.4\n",
       "113. 6.8\n",
       "114. 5.7\n",
       "115. 5.8\n",
       "116. 6.4\n",
       "117. 6.5\n",
       "118. 7.7\n",
       "119. 7.7\n",
       "120. 6\n",
       "121. 6.9\n",
       "122. 5.6\n",
       "123. 7.7\n",
       "124. 6.3\n",
       "125. 6.7\n",
       "126. 7.2\n",
       "127. 6.2\n",
       "128. 6.1\n",
       "129. 6.4\n",
       "130. 7.2\n",
       "131. 7.4\n",
       "132. 7.9\n",
       "133. 6.4\n",
       "134. 6.3\n",
       "135. 6.1\n",
       "136. 7.7\n",
       "137. 6.3\n",
       "138. 6.4\n",
       "139. 6\n",
       "140. 6.9\n",
       "141. 6.7\n",
       "142. 6.9\n",
       "143. 5.8\n",
       "144. 6.8\n",
       "145. 6.7\n",
       "146. 6.7\n",
       "147. 6.3\n",
       "148. 6.5\n",
       "149. 6.2\n",
       "150. 5.9\n",
       "\n",
       "\n"
      ],
      "text/plain": [
       "  [1] 5.1 4.9 4.7 4.6 5.0 5.4 4.6 5.0 4.4 4.9 5.4 4.8 4.8 4.3 5.8 5.7 5.4 5.1\n",
       " [19] 5.7 5.1 5.4 5.1 4.6 5.1 4.8 5.0 5.0 5.2 5.2 4.7 4.8 5.4 5.2 5.5 4.9 5.0\n",
       " [37] 5.5 4.9 4.4 5.1 5.0 4.5 4.4 5.0 5.1 4.8 5.1 4.6 5.3 5.0 7.0 6.4 6.9 5.5\n",
       " [55] 6.5 5.7 6.3 4.9 6.6 5.2 5.0 5.9 6.0 6.1 5.6 6.7 5.6 5.8 6.2 5.6 5.9 6.1\n",
       " [73] 6.3 6.1 6.4 6.6 6.8 6.7 6.0 5.7 5.5 5.5 5.8 6.0 5.4 6.0 6.7 6.3 5.6 5.5\n",
       " [91] 5.5 6.1 5.8 5.0 5.6 5.7 5.7 6.2 5.1 5.7 6.3 5.8 7.1 6.3 6.5 7.6 4.9 7.3\n",
       "[109] 6.7 7.2 6.5 6.4 6.8 5.7 5.8 6.4 6.5 7.7 7.7 6.0 6.9 5.6 7.7 6.3 6.7 7.2\n",
       "[127] 6.2 6.1 6.4 7.2 7.4 7.9 6.4 6.3 6.1 7.7 6.3 6.4 6.0 6.9 6.7 6.9 5.8 6.8\n",
       "[145] 6.7 6.7 6.3 6.5 6.2 5.9"
      ]
     },
     "metadata": {},
     "output_type": "display_data"
    },
    {
     "data": {
      "text/html": [
       "'double'"
      ],
      "text/latex": [
       "'double'"
      ],
      "text/markdown": [
       "'double'"
      ],
      "text/plain": [
       "[1] \"double\""
      ]
     },
     "metadata": {},
     "output_type": "display_data"
    }
   ],
   "source": [
    "df$sepal_length\n",
    "typeof(df$sepal_length)"
   ]
  },
  {
   "cell_type": "code",
   "execution_count": 41,
   "metadata": {},
   "outputs": [
    {
     "data": {
      "text/html": [
       "<ol class=list-inline>\n",
       "\t<li>5.1</li>\n",
       "\t<li>4.9</li>\n",
       "\t<li>4.7</li>\n",
       "\t<li>4.6</li>\n",
       "\t<li>5</li>\n",
       "\t<li>5.4</li>\n",
       "\t<li>4.6</li>\n",
       "\t<li>5</li>\n",
       "\t<li>4.4</li>\n",
       "\t<li>4.9</li>\n",
       "\t<li>5.4</li>\n",
       "\t<li>4.8</li>\n",
       "\t<li>4.8</li>\n",
       "\t<li>4.3</li>\n",
       "\t<li>5.8</li>\n",
       "\t<li>5.7</li>\n",
       "\t<li>5.4</li>\n",
       "\t<li>5.1</li>\n",
       "\t<li>5.7</li>\n",
       "\t<li>5.1</li>\n",
       "\t<li>5.4</li>\n",
       "\t<li>5.1</li>\n",
       "\t<li>4.6</li>\n",
       "\t<li>5.1</li>\n",
       "\t<li>4.8</li>\n",
       "\t<li>5</li>\n",
       "\t<li>5</li>\n",
       "\t<li>5.2</li>\n",
       "\t<li>5.2</li>\n",
       "\t<li>4.7</li>\n",
       "\t<li>4.8</li>\n",
       "\t<li>5.4</li>\n",
       "\t<li>5.2</li>\n",
       "\t<li>5.5</li>\n",
       "\t<li>4.9</li>\n",
       "\t<li>5</li>\n",
       "\t<li>5.5</li>\n",
       "\t<li>4.9</li>\n",
       "\t<li>4.4</li>\n",
       "\t<li>5.1</li>\n",
       "\t<li>5</li>\n",
       "\t<li>4.5</li>\n",
       "\t<li>4.4</li>\n",
       "\t<li>5</li>\n",
       "\t<li>5.1</li>\n",
       "\t<li>4.8</li>\n",
       "\t<li>5.1</li>\n",
       "\t<li>4.6</li>\n",
       "\t<li>5.3</li>\n",
       "\t<li>5</li>\n",
       "\t<li>7</li>\n",
       "\t<li>6.4</li>\n",
       "\t<li>6.9</li>\n",
       "\t<li>5.5</li>\n",
       "\t<li>6.5</li>\n",
       "\t<li>5.7</li>\n",
       "\t<li>6.3</li>\n",
       "\t<li>4.9</li>\n",
       "\t<li>6.6</li>\n",
       "\t<li>5.2</li>\n",
       "\t<li>5</li>\n",
       "\t<li>5.9</li>\n",
       "\t<li>6</li>\n",
       "\t<li>6.1</li>\n",
       "\t<li>5.6</li>\n",
       "\t<li>6.7</li>\n",
       "\t<li>5.6</li>\n",
       "\t<li>5.8</li>\n",
       "\t<li>6.2</li>\n",
       "\t<li>5.6</li>\n",
       "\t<li>5.9</li>\n",
       "\t<li>6.1</li>\n",
       "\t<li>6.3</li>\n",
       "\t<li>6.1</li>\n",
       "\t<li>6.4</li>\n",
       "\t<li>6.6</li>\n",
       "\t<li>6.8</li>\n",
       "\t<li>6.7</li>\n",
       "\t<li>6</li>\n",
       "\t<li>5.7</li>\n",
       "\t<li>5.5</li>\n",
       "\t<li>5.5</li>\n",
       "\t<li>5.8</li>\n",
       "\t<li>6</li>\n",
       "\t<li>5.4</li>\n",
       "\t<li>6</li>\n",
       "\t<li>6.7</li>\n",
       "\t<li>6.3</li>\n",
       "\t<li>5.6</li>\n",
       "\t<li>5.5</li>\n",
       "\t<li>5.5</li>\n",
       "\t<li>6.1</li>\n",
       "\t<li>5.8</li>\n",
       "\t<li>5</li>\n",
       "\t<li>5.6</li>\n",
       "\t<li>5.7</li>\n",
       "\t<li>5.7</li>\n",
       "\t<li>6.2</li>\n",
       "\t<li>5.1</li>\n",
       "\t<li>5.7</li>\n",
       "\t<li>6.3</li>\n",
       "\t<li>5.8</li>\n",
       "\t<li>7.1</li>\n",
       "\t<li>6.3</li>\n",
       "\t<li>6.5</li>\n",
       "\t<li>7.6</li>\n",
       "\t<li>4.9</li>\n",
       "\t<li>7.3</li>\n",
       "\t<li>6.7</li>\n",
       "\t<li>7.2</li>\n",
       "\t<li>6.5</li>\n",
       "\t<li>6.4</li>\n",
       "\t<li>6.8</li>\n",
       "\t<li>5.7</li>\n",
       "\t<li>5.8</li>\n",
       "\t<li>6.4</li>\n",
       "\t<li>6.5</li>\n",
       "\t<li>7.7</li>\n",
       "\t<li>7.7</li>\n",
       "\t<li>6</li>\n",
       "\t<li>6.9</li>\n",
       "\t<li>5.6</li>\n",
       "\t<li>7.7</li>\n",
       "\t<li>6.3</li>\n",
       "\t<li>6.7</li>\n",
       "\t<li>7.2</li>\n",
       "\t<li>6.2</li>\n",
       "\t<li>6.1</li>\n",
       "\t<li>6.4</li>\n",
       "\t<li>7.2</li>\n",
       "\t<li>7.4</li>\n",
       "\t<li>7.9</li>\n",
       "\t<li>6.4</li>\n",
       "\t<li>6.3</li>\n",
       "\t<li>6.1</li>\n",
       "\t<li>7.7</li>\n",
       "\t<li>6.3</li>\n",
       "\t<li>6.4</li>\n",
       "\t<li>6</li>\n",
       "\t<li>6.9</li>\n",
       "\t<li>6.7</li>\n",
       "\t<li>6.9</li>\n",
       "\t<li>5.8</li>\n",
       "\t<li>6.8</li>\n",
       "\t<li>6.7</li>\n",
       "\t<li>6.7</li>\n",
       "\t<li>6.3</li>\n",
       "\t<li>6.5</li>\n",
       "\t<li>6.2</li>\n",
       "\t<li>5.9</li>\n",
       "</ol>\n"
      ],
      "text/latex": [
       "\\begin{enumerate*}\n",
       "\\item 5.1\n",
       "\\item 4.9\n",
       "\\item 4.7\n",
       "\\item 4.6\n",
       "\\item 5\n",
       "\\item 5.4\n",
       "\\item 4.6\n",
       "\\item 5\n",
       "\\item 4.4\n",
       "\\item 4.9\n",
       "\\item 5.4\n",
       "\\item 4.8\n",
       "\\item 4.8\n",
       "\\item 4.3\n",
       "\\item 5.8\n",
       "\\item 5.7\n",
       "\\item 5.4\n",
       "\\item 5.1\n",
       "\\item 5.7\n",
       "\\item 5.1\n",
       "\\item 5.4\n",
       "\\item 5.1\n",
       "\\item 4.6\n",
       "\\item 5.1\n",
       "\\item 4.8\n",
       "\\item 5\n",
       "\\item 5\n",
       "\\item 5.2\n",
       "\\item 5.2\n",
       "\\item 4.7\n",
       "\\item 4.8\n",
       "\\item 5.4\n",
       "\\item 5.2\n",
       "\\item 5.5\n",
       "\\item 4.9\n",
       "\\item 5\n",
       "\\item 5.5\n",
       "\\item 4.9\n",
       "\\item 4.4\n",
       "\\item 5.1\n",
       "\\item 5\n",
       "\\item 4.5\n",
       "\\item 4.4\n",
       "\\item 5\n",
       "\\item 5.1\n",
       "\\item 4.8\n",
       "\\item 5.1\n",
       "\\item 4.6\n",
       "\\item 5.3\n",
       "\\item 5\n",
       "\\item 7\n",
       "\\item 6.4\n",
       "\\item 6.9\n",
       "\\item 5.5\n",
       "\\item 6.5\n",
       "\\item 5.7\n",
       "\\item 6.3\n",
       "\\item 4.9\n",
       "\\item 6.6\n",
       "\\item 5.2\n",
       "\\item 5\n",
       "\\item 5.9\n",
       "\\item 6\n",
       "\\item 6.1\n",
       "\\item 5.6\n",
       "\\item 6.7\n",
       "\\item 5.6\n",
       "\\item 5.8\n",
       "\\item 6.2\n",
       "\\item 5.6\n",
       "\\item 5.9\n",
       "\\item 6.1\n",
       "\\item 6.3\n",
       "\\item 6.1\n",
       "\\item 6.4\n",
       "\\item 6.6\n",
       "\\item 6.8\n",
       "\\item 6.7\n",
       "\\item 6\n",
       "\\item 5.7\n",
       "\\item 5.5\n",
       "\\item 5.5\n",
       "\\item 5.8\n",
       "\\item 6\n",
       "\\item 5.4\n",
       "\\item 6\n",
       "\\item 6.7\n",
       "\\item 6.3\n",
       "\\item 5.6\n",
       "\\item 5.5\n",
       "\\item 5.5\n",
       "\\item 6.1\n",
       "\\item 5.8\n",
       "\\item 5\n",
       "\\item 5.6\n",
       "\\item 5.7\n",
       "\\item 5.7\n",
       "\\item 6.2\n",
       "\\item 5.1\n",
       "\\item 5.7\n",
       "\\item 6.3\n",
       "\\item 5.8\n",
       "\\item 7.1\n",
       "\\item 6.3\n",
       "\\item 6.5\n",
       "\\item 7.6\n",
       "\\item 4.9\n",
       "\\item 7.3\n",
       "\\item 6.7\n",
       "\\item 7.2\n",
       "\\item 6.5\n",
       "\\item 6.4\n",
       "\\item 6.8\n",
       "\\item 5.7\n",
       "\\item 5.8\n",
       "\\item 6.4\n",
       "\\item 6.5\n",
       "\\item 7.7\n",
       "\\item 7.7\n",
       "\\item 6\n",
       "\\item 6.9\n",
       "\\item 5.6\n",
       "\\item 7.7\n",
       "\\item 6.3\n",
       "\\item 6.7\n",
       "\\item 7.2\n",
       "\\item 6.2\n",
       "\\item 6.1\n",
       "\\item 6.4\n",
       "\\item 7.2\n",
       "\\item 7.4\n",
       "\\item 7.9\n",
       "\\item 6.4\n",
       "\\item 6.3\n",
       "\\item 6.1\n",
       "\\item 7.7\n",
       "\\item 6.3\n",
       "\\item 6.4\n",
       "\\item 6\n",
       "\\item 6.9\n",
       "\\item 6.7\n",
       "\\item 6.9\n",
       "\\item 5.8\n",
       "\\item 6.8\n",
       "\\item 6.7\n",
       "\\item 6.7\n",
       "\\item 6.3\n",
       "\\item 6.5\n",
       "\\item 6.2\n",
       "\\item 5.9\n",
       "\\end{enumerate*}\n"
      ],
      "text/markdown": [
       "1. 5.1\n",
       "2. 4.9\n",
       "3. 4.7\n",
       "4. 4.6\n",
       "5. 5\n",
       "6. 5.4\n",
       "7. 4.6\n",
       "8. 5\n",
       "9. 4.4\n",
       "10. 4.9\n",
       "11. 5.4\n",
       "12. 4.8\n",
       "13. 4.8\n",
       "14. 4.3\n",
       "15. 5.8\n",
       "16. 5.7\n",
       "17. 5.4\n",
       "18. 5.1\n",
       "19. 5.7\n",
       "20. 5.1\n",
       "21. 5.4\n",
       "22. 5.1\n",
       "23. 4.6\n",
       "24. 5.1\n",
       "25. 4.8\n",
       "26. 5\n",
       "27. 5\n",
       "28. 5.2\n",
       "29. 5.2\n",
       "30. 4.7\n",
       "31. 4.8\n",
       "32. 5.4\n",
       "33. 5.2\n",
       "34. 5.5\n",
       "35. 4.9\n",
       "36. 5\n",
       "37. 5.5\n",
       "38. 4.9\n",
       "39. 4.4\n",
       "40. 5.1\n",
       "41. 5\n",
       "42. 4.5\n",
       "43. 4.4\n",
       "44. 5\n",
       "45. 5.1\n",
       "46. 4.8\n",
       "47. 5.1\n",
       "48. 4.6\n",
       "49. 5.3\n",
       "50. 5\n",
       "51. 7\n",
       "52. 6.4\n",
       "53. 6.9\n",
       "54. 5.5\n",
       "55. 6.5\n",
       "56. 5.7\n",
       "57. 6.3\n",
       "58. 4.9\n",
       "59. 6.6\n",
       "60. 5.2\n",
       "61. 5\n",
       "62. 5.9\n",
       "63. 6\n",
       "64. 6.1\n",
       "65. 5.6\n",
       "66. 6.7\n",
       "67. 5.6\n",
       "68. 5.8\n",
       "69. 6.2\n",
       "70. 5.6\n",
       "71. 5.9\n",
       "72. 6.1\n",
       "73. 6.3\n",
       "74. 6.1\n",
       "75. 6.4\n",
       "76. 6.6\n",
       "77. 6.8\n",
       "78. 6.7\n",
       "79. 6\n",
       "80. 5.7\n",
       "81. 5.5\n",
       "82. 5.5\n",
       "83. 5.8\n",
       "84. 6\n",
       "85. 5.4\n",
       "86. 6\n",
       "87. 6.7\n",
       "88. 6.3\n",
       "89. 5.6\n",
       "90. 5.5\n",
       "91. 5.5\n",
       "92. 6.1\n",
       "93. 5.8\n",
       "94. 5\n",
       "95. 5.6\n",
       "96. 5.7\n",
       "97. 5.7\n",
       "98. 6.2\n",
       "99. 5.1\n",
       "100. 5.7\n",
       "101. 6.3\n",
       "102. 5.8\n",
       "103. 7.1\n",
       "104. 6.3\n",
       "105. 6.5\n",
       "106. 7.6\n",
       "107. 4.9\n",
       "108. 7.3\n",
       "109. 6.7\n",
       "110. 7.2\n",
       "111. 6.5\n",
       "112. 6.4\n",
       "113. 6.8\n",
       "114. 5.7\n",
       "115. 5.8\n",
       "116. 6.4\n",
       "117. 6.5\n",
       "118. 7.7\n",
       "119. 7.7\n",
       "120. 6\n",
       "121. 6.9\n",
       "122. 5.6\n",
       "123. 7.7\n",
       "124. 6.3\n",
       "125. 6.7\n",
       "126. 7.2\n",
       "127. 6.2\n",
       "128. 6.1\n",
       "129. 6.4\n",
       "130. 7.2\n",
       "131. 7.4\n",
       "132. 7.9\n",
       "133. 6.4\n",
       "134. 6.3\n",
       "135. 6.1\n",
       "136. 7.7\n",
       "137. 6.3\n",
       "138. 6.4\n",
       "139. 6\n",
       "140. 6.9\n",
       "141. 6.7\n",
       "142. 6.9\n",
       "143. 5.8\n",
       "144. 6.8\n",
       "145. 6.7\n",
       "146. 6.7\n",
       "147. 6.3\n",
       "148. 6.5\n",
       "149. 6.2\n",
       "150. 5.9\n",
       "\n",
       "\n"
      ],
      "text/plain": [
       "  [1] 5.1 4.9 4.7 4.6 5.0 5.4 4.6 5.0 4.4 4.9 5.4 4.8 4.8 4.3 5.8 5.7 5.4 5.1\n",
       " [19] 5.7 5.1 5.4 5.1 4.6 5.1 4.8 5.0 5.0 5.2 5.2 4.7 4.8 5.4 5.2 5.5 4.9 5.0\n",
       " [37] 5.5 4.9 4.4 5.1 5.0 4.5 4.4 5.0 5.1 4.8 5.1 4.6 5.3 5.0 7.0 6.4 6.9 5.5\n",
       " [55] 6.5 5.7 6.3 4.9 6.6 5.2 5.0 5.9 6.0 6.1 5.6 6.7 5.6 5.8 6.2 5.6 5.9 6.1\n",
       " [73] 6.3 6.1 6.4 6.6 6.8 6.7 6.0 5.7 5.5 5.5 5.8 6.0 5.4 6.0 6.7 6.3 5.6 5.5\n",
       " [91] 5.5 6.1 5.8 5.0 5.6 5.7 5.7 6.2 5.1 5.7 6.3 5.8 7.1 6.3 6.5 7.6 4.9 7.3\n",
       "[109] 6.7 7.2 6.5 6.4 6.8 5.7 5.8 6.4 6.5 7.7 7.7 6.0 6.9 5.6 7.7 6.3 6.7 7.2\n",
       "[127] 6.2 6.1 6.4 7.2 7.4 7.9 6.4 6.3 6.1 7.7 6.3 6.4 6.0 6.9 6.7 6.9 5.8 6.8\n",
       "[145] 6.7 6.7 6.3 6.5 6.2 5.9"
      ]
     },
     "metadata": {},
     "output_type": "display_data"
    },
    {
     "data": {
      "text/html": [
       "'double'"
      ],
      "text/latex": [
       "'double'"
      ],
      "text/markdown": [
       "'double'"
      ],
      "text/plain": [
       "[1] \"double\""
      ]
     },
     "metadata": {},
     "output_type": "display_data"
    }
   ],
   "source": [
    "df[[\"sepal_length\"]]\n",
    "typeof(df[[\"sepal_length\"]])"
   ]
  },
  {
   "cell_type": "markdown",
   "metadata": {},
   "source": [
    "#### Acessando como uma Matriz"
   ]
  },
  {
   "cell_type": "code",
   "execution_count": 42,
   "metadata": {},
   "outputs": [
    {
     "name": "stdout",
     "output_type": "stream",
     "text": [
      "'data.frame':\t150 obs. of  5 variables:\n",
      " $ sepal_length: num  5.1 4.9 4.7 4.6 5 5.4 4.6 5 4.4 4.9 ...\n",
      " $ sepal_width : num  3.5 3 3.2 3.1 3.6 3.9 3.4 3.4 2.9 3.1 ...\n",
      " $ petal_length: num  1.4 1.4 1.3 1.5 1.4 1.7 1.4 1.5 1.4 1.5 ...\n",
      " $ sepal_width : num  0.2 0.2 0.2 0.2 0.2 0.4 0.3 0.2 0.2 0.1 ...\n",
      " $ species     : Factor w/ 3 levels \"Iris-setosa\",..: 1 1 1 1 1 1 1 1 1 1 ...\n"
     ]
    }
   ],
   "source": [
    "str(df)"
   ]
  },
  {
   "cell_type": "code",
   "execution_count": 43,
   "metadata": {},
   "outputs": [
    {
     "data": {
      "text/html": [
       "<table>\n",
       "<thead><tr><th scope=col>sepal_length</th><th scope=col>sepal_width</th><th scope=col>petal_length</th><th scope=col>sepal_width</th><th scope=col>species</th></tr></thead>\n",
       "<tbody>\n",
       "\t<tr><td>5.1        </td><td>3.5        </td><td>1.4        </td><td>0.2        </td><td>Iris-setosa</td></tr>\n",
       "\t<tr><td>4.9        </td><td>3.0        </td><td>1.4        </td><td>0.2        </td><td>Iris-setosa</td></tr>\n",
       "\t<tr><td>4.7        </td><td>3.2        </td><td>1.3        </td><td>0.2        </td><td>Iris-setosa</td></tr>\n",
       "\t<tr><td>4.6        </td><td>3.1        </td><td>1.5        </td><td>0.2        </td><td>Iris-setosa</td></tr>\n",
       "\t<tr><td>5.0        </td><td>3.6        </td><td>1.4        </td><td>0.2        </td><td>Iris-setosa</td></tr>\n",
       "\t<tr><td>5.4        </td><td>3.9        </td><td>1.7        </td><td>0.4        </td><td>Iris-setosa</td></tr>\n",
       "\t<tr><td>4.6        </td><td>3.4        </td><td>1.4        </td><td>0.3        </td><td>Iris-setosa</td></tr>\n",
       "\t<tr><td>5.0        </td><td>3.4        </td><td>1.5        </td><td>0.2        </td><td>Iris-setosa</td></tr>\n",
       "\t<tr><td>4.4        </td><td>2.9        </td><td>1.4        </td><td>0.2        </td><td>Iris-setosa</td></tr>\n",
       "\t<tr><td>4.9        </td><td>3.1        </td><td>1.5        </td><td>0.1        </td><td>Iris-setosa</td></tr>\n",
       "</tbody>\n",
       "</table>\n"
      ],
      "text/latex": [
       "\\begin{tabular}{r|lllll}\n",
       " sepal\\_length & sepal\\_width & petal\\_length & sepal\\_width & species\\\\\n",
       "\\hline\n",
       "\t 5.1         & 3.5         & 1.4         & 0.2         & Iris-setosa\\\\\n",
       "\t 4.9         & 3.0         & 1.4         & 0.2         & Iris-setosa\\\\\n",
       "\t 4.7         & 3.2         & 1.3         & 0.2         & Iris-setosa\\\\\n",
       "\t 4.6         & 3.1         & 1.5         & 0.2         & Iris-setosa\\\\\n",
       "\t 5.0         & 3.6         & 1.4         & 0.2         & Iris-setosa\\\\\n",
       "\t 5.4         & 3.9         & 1.7         & 0.4         & Iris-setosa\\\\\n",
       "\t 4.6         & 3.4         & 1.4         & 0.3         & Iris-setosa\\\\\n",
       "\t 5.0         & 3.4         & 1.5         & 0.2         & Iris-setosa\\\\\n",
       "\t 4.4         & 2.9         & 1.4         & 0.2         & Iris-setosa\\\\\n",
       "\t 4.9         & 3.1         & 1.5         & 0.1         & Iris-setosa\\\\\n",
       "\\end{tabular}\n"
      ],
      "text/markdown": [
       "\n",
       "sepal_length | sepal_width | petal_length | sepal_width | species | \n",
       "|---|---|---|---|---|---|---|---|---|---|\n",
       "| 5.1         | 3.5         | 1.4         | 0.2         | Iris-setosa | \n",
       "| 4.9         | 3.0         | 1.4         | 0.2         | Iris-setosa | \n",
       "| 4.7         | 3.2         | 1.3         | 0.2         | Iris-setosa | \n",
       "| 4.6         | 3.1         | 1.5         | 0.2         | Iris-setosa | \n",
       "| 5.0         | 3.6         | 1.4         | 0.2         | Iris-setosa | \n",
       "| 5.4         | 3.9         | 1.7         | 0.4         | Iris-setosa | \n",
       "| 4.6         | 3.4         | 1.4         | 0.3         | Iris-setosa | \n",
       "| 5.0         | 3.4         | 1.5         | 0.2         | Iris-setosa | \n",
       "| 4.4         | 2.9         | 1.4         | 0.2         | Iris-setosa | \n",
       "| 4.9         | 3.1         | 1.5         | 0.1         | Iris-setosa | \n",
       "\n",
       "\n"
      ],
      "text/plain": [
       "   sepal_length sepal_width petal_length sepal_width species    \n",
       "1  5.1          3.5         1.4          0.2         Iris-setosa\n",
       "2  4.9          3.0         1.4          0.2         Iris-setosa\n",
       "3  4.7          3.2         1.3          0.2         Iris-setosa\n",
       "4  4.6          3.1         1.5          0.2         Iris-setosa\n",
       "5  5.0          3.6         1.4          0.2         Iris-setosa\n",
       "6  5.4          3.9         1.7          0.4         Iris-setosa\n",
       "7  4.6          3.4         1.4          0.3         Iris-setosa\n",
       "8  5.0          3.4         1.5          0.2         Iris-setosa\n",
       "9  4.4          2.9         1.4          0.2         Iris-setosa\n",
       "10 4.9          3.1         1.5          0.1         Iris-setosa"
      ]
     },
     "metadata": {},
     "output_type": "display_data"
    }
   ],
   "source": [
    "head(df, n = 10)"
   ]
  },
  {
   "cell_type": "code",
   "execution_count": 44,
   "metadata": {},
   "outputs": [
    {
     "data": {
      "text/html": [
       "<table>\n",
       "<thead><tr><th scope=col>sepal_length</th><th scope=col>sepal_width</th><th scope=col>petal_length</th><th scope=col>sepal_width</th><th scope=col>species</th></tr></thead>\n",
       "<tbody>\n",
       "\t<tr><td>5.1        </td><td>3.5        </td><td>1.4        </td><td>0.2        </td><td>Iris-setosa</td></tr>\n",
       "\t<tr><td>4.9        </td><td>3.0        </td><td>1.4        </td><td>0.2        </td><td>Iris-setosa</td></tr>\n",
       "\t<tr><td>4.7        </td><td>3.2        </td><td>1.3        </td><td>0.2        </td><td>Iris-setosa</td></tr>\n",
       "\t<tr><td>4.6        </td><td>3.1        </td><td>1.5        </td><td>0.2        </td><td>Iris-setosa</td></tr>\n",
       "\t<tr><td>5.0        </td><td>3.6        </td><td>1.4        </td><td>0.2        </td><td>Iris-setosa</td></tr>\n",
       "</tbody>\n",
       "</table>\n"
      ],
      "text/latex": [
       "\\begin{tabular}{r|lllll}\n",
       " sepal\\_length & sepal\\_width & petal\\_length & sepal\\_width & species\\\\\n",
       "\\hline\n",
       "\t 5.1         & 3.5         & 1.4         & 0.2         & Iris-setosa\\\\\n",
       "\t 4.9         & 3.0         & 1.4         & 0.2         & Iris-setosa\\\\\n",
       "\t 4.7         & 3.2         & 1.3         & 0.2         & Iris-setosa\\\\\n",
       "\t 4.6         & 3.1         & 1.5         & 0.2         & Iris-setosa\\\\\n",
       "\t 5.0         & 3.6         & 1.4         & 0.2         & Iris-setosa\\\\\n",
       "\\end{tabular}\n"
      ],
      "text/markdown": [
       "\n",
       "sepal_length | sepal_width | petal_length | sepal_width | species | \n",
       "|---|---|---|---|---|\n",
       "| 5.1         | 3.5         | 1.4         | 0.2         | Iris-setosa | \n",
       "| 4.9         | 3.0         | 1.4         | 0.2         | Iris-setosa | \n",
       "| 4.7         | 3.2         | 1.3         | 0.2         | Iris-setosa | \n",
       "| 4.6         | 3.1         | 1.5         | 0.2         | Iris-setosa | \n",
       "| 5.0         | 3.6         | 1.4         | 0.2         | Iris-setosa | \n",
       "\n",
       "\n"
      ],
      "text/plain": [
       "  sepal_length sepal_width petal_length sepal_width species    \n",
       "1 5.1          3.5         1.4          0.2         Iris-setosa\n",
       "2 4.9          3.0         1.4          0.2         Iris-setosa\n",
       "3 4.7          3.2         1.3          0.2         Iris-setosa\n",
       "4 4.6          3.1         1.5          0.2         Iris-setosa\n",
       "5 5.0          3.6         1.4          0.2         Iris-setosa"
      ]
     },
     "metadata": {},
     "output_type": "display_data"
    }
   ],
   "source": [
    "df[1:5,]"
   ]
  },
  {
   "cell_type": "code",
   "execution_count": 45,
   "metadata": {},
   "outputs": [
    {
     "data": {
      "text/html": [
       "<table>\n",
       "<thead><tr><th></th><th scope=col>sepal_length</th><th scope=col>sepal_width</th><th scope=col>petal_length</th><th scope=col>sepal_width</th><th scope=col>species</th></tr></thead>\n",
       "<tbody>\n",
       "\t<tr><th scope=row>2</th><td>4.9            </td><td>3.0            </td><td>1.4            </td><td>0.2            </td><td>Iris-setosa    </td></tr>\n",
       "\t<tr><th scope=row>3</th><td>4.7            </td><td>3.2            </td><td>1.3            </td><td>0.2            </td><td>Iris-setosa    </td></tr>\n",
       "\t<tr><th scope=row>4</th><td>4.6            </td><td>3.1            </td><td>1.5            </td><td>0.2            </td><td>Iris-setosa    </td></tr>\n",
       "\t<tr><th scope=row>7</th><td>4.6            </td><td>3.4            </td><td>1.4            </td><td>0.3            </td><td>Iris-setosa    </td></tr>\n",
       "\t<tr><th scope=row>9</th><td>4.4            </td><td>2.9            </td><td>1.4            </td><td>0.2            </td><td>Iris-setosa    </td></tr>\n",
       "\t<tr><th scope=row>10</th><td>4.9            </td><td>3.1            </td><td>1.5            </td><td>0.1            </td><td>Iris-setosa    </td></tr>\n",
       "\t<tr><th scope=row>12</th><td>4.8            </td><td>3.4            </td><td>1.6            </td><td>0.2            </td><td>Iris-setosa    </td></tr>\n",
       "\t<tr><th scope=row>13</th><td>4.8            </td><td>3.0            </td><td>1.4            </td><td>0.1            </td><td>Iris-setosa    </td></tr>\n",
       "\t<tr><th scope=row>14</th><td>4.3            </td><td>3.0            </td><td>1.1            </td><td>0.1            </td><td>Iris-setosa    </td></tr>\n",
       "\t<tr><th scope=row>23</th><td>4.6            </td><td>3.6            </td><td>1.0            </td><td>0.2            </td><td>Iris-setosa    </td></tr>\n",
       "\t<tr><th scope=row>25</th><td>4.8            </td><td>3.4            </td><td>1.9            </td><td>0.2            </td><td>Iris-setosa    </td></tr>\n",
       "\t<tr><th scope=row>30</th><td>4.7            </td><td>3.2            </td><td>1.6            </td><td>0.2            </td><td>Iris-setosa    </td></tr>\n",
       "\t<tr><th scope=row>31</th><td>4.8            </td><td>3.1            </td><td>1.6            </td><td>0.2            </td><td>Iris-setosa    </td></tr>\n",
       "\t<tr><th scope=row>35</th><td>4.9            </td><td>3.1            </td><td>1.5            </td><td>0.1            </td><td>Iris-setosa    </td></tr>\n",
       "\t<tr><th scope=row>38</th><td>4.9            </td><td>3.1            </td><td>1.5            </td><td>0.1            </td><td>Iris-setosa    </td></tr>\n",
       "\t<tr><th scope=row>39</th><td>4.4            </td><td>3.0            </td><td>1.3            </td><td>0.2            </td><td>Iris-setosa    </td></tr>\n",
       "\t<tr><th scope=row>42</th><td>4.5            </td><td>2.3            </td><td>1.3            </td><td>0.3            </td><td>Iris-setosa    </td></tr>\n",
       "\t<tr><th scope=row>43</th><td>4.4            </td><td>3.2            </td><td>1.3            </td><td>0.2            </td><td>Iris-setosa    </td></tr>\n",
       "\t<tr><th scope=row>46</th><td>4.8            </td><td>3.0            </td><td>1.4            </td><td>0.3            </td><td>Iris-setosa    </td></tr>\n",
       "\t<tr><th scope=row>48</th><td>4.6            </td><td>3.2            </td><td>1.4            </td><td>0.2            </td><td>Iris-setosa    </td></tr>\n",
       "\t<tr><th scope=row>58</th><td>4.9            </td><td>2.4            </td><td>3.3            </td><td>1.0            </td><td>Iris-versicolor</td></tr>\n",
       "\t<tr><th scope=row>107</th><td>4.9            </td><td>2.5            </td><td>4.5            </td><td>1.7            </td><td>Iris-virginica </td></tr>\n",
       "</tbody>\n",
       "</table>\n"
      ],
      "text/latex": [
       "\\begin{tabular}{r|lllll}\n",
       "  & sepal\\_length & sepal\\_width & petal\\_length & sepal\\_width & species\\\\\n",
       "\\hline\n",
       "\t2 & 4.9             & 3.0             & 1.4             & 0.2             & Iris-setosa    \\\\\n",
       "\t3 & 4.7             & 3.2             & 1.3             & 0.2             & Iris-setosa    \\\\\n",
       "\t4 & 4.6             & 3.1             & 1.5             & 0.2             & Iris-setosa    \\\\\n",
       "\t7 & 4.6             & 3.4             & 1.4             & 0.3             & Iris-setosa    \\\\\n",
       "\t9 & 4.4             & 2.9             & 1.4             & 0.2             & Iris-setosa    \\\\\n",
       "\t10 & 4.9             & 3.1             & 1.5             & 0.1             & Iris-setosa    \\\\\n",
       "\t12 & 4.8             & 3.4             & 1.6             & 0.2             & Iris-setosa    \\\\\n",
       "\t13 & 4.8             & 3.0             & 1.4             & 0.1             & Iris-setosa    \\\\\n",
       "\t14 & 4.3             & 3.0             & 1.1             & 0.1             & Iris-setosa    \\\\\n",
       "\t23 & 4.6             & 3.6             & 1.0             & 0.2             & Iris-setosa    \\\\\n",
       "\t25 & 4.8             & 3.4             & 1.9             & 0.2             & Iris-setosa    \\\\\n",
       "\t30 & 4.7             & 3.2             & 1.6             & 0.2             & Iris-setosa    \\\\\n",
       "\t31 & 4.8             & 3.1             & 1.6             & 0.2             & Iris-setosa    \\\\\n",
       "\t35 & 4.9             & 3.1             & 1.5             & 0.1             & Iris-setosa    \\\\\n",
       "\t38 & 4.9             & 3.1             & 1.5             & 0.1             & Iris-setosa    \\\\\n",
       "\t39 & 4.4             & 3.0             & 1.3             & 0.2             & Iris-setosa    \\\\\n",
       "\t42 & 4.5             & 2.3             & 1.3             & 0.3             & Iris-setosa    \\\\\n",
       "\t43 & 4.4             & 3.2             & 1.3             & 0.2             & Iris-setosa    \\\\\n",
       "\t46 & 4.8             & 3.0             & 1.4             & 0.3             & Iris-setosa    \\\\\n",
       "\t48 & 4.6             & 3.2             & 1.4             & 0.2             & Iris-setosa    \\\\\n",
       "\t58 & 4.9             & 2.4             & 3.3             & 1.0             & Iris-versicolor\\\\\n",
       "\t107 & 4.9             & 2.5             & 4.5             & 1.7             & Iris-virginica \\\\\n",
       "\\end{tabular}\n"
      ],
      "text/markdown": [
       "\n",
       "| <!--/--> | sepal_length | sepal_width | petal_length | sepal_width | species | \n",
       "|---|---|---|---|---|---|---|---|---|---|---|---|---|---|---|---|---|---|---|---|---|---|\n",
       "| 2 | 4.9             | 3.0             | 1.4             | 0.2             | Iris-setosa     | \n",
       "| 3 | 4.7             | 3.2             | 1.3             | 0.2             | Iris-setosa     | \n",
       "| 4 | 4.6             | 3.1             | 1.5             | 0.2             | Iris-setosa     | \n",
       "| 7 | 4.6             | 3.4             | 1.4             | 0.3             | Iris-setosa     | \n",
       "| 9 | 4.4             | 2.9             | 1.4             | 0.2             | Iris-setosa     | \n",
       "| 10 | 4.9             | 3.1             | 1.5             | 0.1             | Iris-setosa     | \n",
       "| 12 | 4.8             | 3.4             | 1.6             | 0.2             | Iris-setosa     | \n",
       "| 13 | 4.8             | 3.0             | 1.4             | 0.1             | Iris-setosa     | \n",
       "| 14 | 4.3             | 3.0             | 1.1             | 0.1             | Iris-setosa     | \n",
       "| 23 | 4.6             | 3.6             | 1.0             | 0.2             | Iris-setosa     | \n",
       "| 25 | 4.8             | 3.4             | 1.9             | 0.2             | Iris-setosa     | \n",
       "| 30 | 4.7             | 3.2             | 1.6             | 0.2             | Iris-setosa     | \n",
       "| 31 | 4.8             | 3.1             | 1.6             | 0.2             | Iris-setosa     | \n",
       "| 35 | 4.9             | 3.1             | 1.5             | 0.1             | Iris-setosa     | \n",
       "| 38 | 4.9             | 3.1             | 1.5             | 0.1             | Iris-setosa     | \n",
       "| 39 | 4.4             | 3.0             | 1.3             | 0.2             | Iris-setosa     | \n",
       "| 42 | 4.5             | 2.3             | 1.3             | 0.3             | Iris-setosa     | \n",
       "| 43 | 4.4             | 3.2             | 1.3             | 0.2             | Iris-setosa     | \n",
       "| 46 | 4.8             | 3.0             | 1.4             | 0.3             | Iris-setosa     | \n",
       "| 48 | 4.6             | 3.2             | 1.4             | 0.2             | Iris-setosa     | \n",
       "| 58 | 4.9             | 2.4             | 3.3             | 1.0             | Iris-versicolor | \n",
       "| 107 | 4.9             | 2.5             | 4.5             | 1.7             | Iris-virginica  | \n",
       "\n",
       "\n"
      ],
      "text/plain": [
       "    sepal_length sepal_width petal_length sepal_width species        \n",
       "2   4.9          3.0         1.4          0.2         Iris-setosa    \n",
       "3   4.7          3.2         1.3          0.2         Iris-setosa    \n",
       "4   4.6          3.1         1.5          0.2         Iris-setosa    \n",
       "7   4.6          3.4         1.4          0.3         Iris-setosa    \n",
       "9   4.4          2.9         1.4          0.2         Iris-setosa    \n",
       "10  4.9          3.1         1.5          0.1         Iris-setosa    \n",
       "12  4.8          3.4         1.6          0.2         Iris-setosa    \n",
       "13  4.8          3.0         1.4          0.1         Iris-setosa    \n",
       "14  4.3          3.0         1.1          0.1         Iris-setosa    \n",
       "23  4.6          3.6         1.0          0.2         Iris-setosa    \n",
       "25  4.8          3.4         1.9          0.2         Iris-setosa    \n",
       "30  4.7          3.2         1.6          0.2         Iris-setosa    \n",
       "31  4.8          3.1         1.6          0.2         Iris-setosa    \n",
       "35  4.9          3.1         1.5          0.1         Iris-setosa    \n",
       "38  4.9          3.1         1.5          0.1         Iris-setosa    \n",
       "39  4.4          3.0         1.3          0.2         Iris-setosa    \n",
       "42  4.5          2.3         1.3          0.3         Iris-setosa    \n",
       "43  4.4          3.2         1.3          0.2         Iris-setosa    \n",
       "46  4.8          3.0         1.4          0.3         Iris-setosa    \n",
       "48  4.6          3.2         1.4          0.2         Iris-setosa    \n",
       "58  4.9          2.4         3.3          1.0         Iris-versicolor\n",
       "107 4.9          2.5         4.5          1.7         Iris-virginica "
      ]
     },
     "metadata": {},
     "output_type": "display_data"
    }
   ],
   "source": [
    "df[df$sepal_length < 5.0,]"
   ]
  },
  {
   "cell_type": "code",
   "execution_count": 46,
   "metadata": {},
   "outputs": [
    {
     "data": {
      "text/html": [
       "<ol class=list-inline>\n",
       "\t<li>3.5</li>\n",
       "\t<li>3</li>\n",
       "\t<li>3.2</li>\n",
       "</ol>\n"
      ],
      "text/latex": [
       "\\begin{enumerate*}\n",
       "\\item 3.5\n",
       "\\item 3\n",
       "\\item 3.2\n",
       "\\end{enumerate*}\n"
      ],
      "text/markdown": [
       "1. 3.5\n",
       "2. 3\n",
       "3. 3.2\n",
       "\n",
       "\n"
      ],
      "text/plain": [
       "[1] 3.5 3.0 3.2"
      ]
     },
     "metadata": {},
     "output_type": "display_data"
    }
   ],
   "source": [
    "df[1:3, 2]"
   ]
  },
  {
   "cell_type": "code",
   "execution_count": 47,
   "metadata": {},
   "outputs": [
    {
     "data": {
      "text/html": [
       "<table>\n",
       "<thead><tr><th scope=col>sepal_width</th></tr></thead>\n",
       "<tbody>\n",
       "\t<tr><td>3.5</td></tr>\n",
       "\t<tr><td>3.0</td></tr>\n",
       "\t<tr><td>3.2</td></tr>\n",
       "</tbody>\n",
       "</table>\n"
      ],
      "text/latex": [
       "\\begin{tabular}{r|l}\n",
       " sepal\\_width\\\\\n",
       "\\hline\n",
       "\t 3.5\\\\\n",
       "\t 3.0\\\\\n",
       "\t 3.2\\\\\n",
       "\\end{tabular}\n"
      ],
      "text/markdown": [
       "\n",
       "sepal_width | \n",
       "|---|---|---|\n",
       "| 3.5 | \n",
       "| 3.0 | \n",
       "| 3.2 | \n",
       "\n",
       "\n"
      ],
      "text/plain": [
       "  sepal_width\n",
       "1 3.5        \n",
       "2 3.0        \n",
       "3 3.2        "
      ]
     },
     "metadata": {},
     "output_type": "display_data"
    }
   ],
   "source": [
    "df[1:3, 2, drop = FALSE]"
   ]
  },
  {
   "cell_type": "code",
   "execution_count": 48,
   "metadata": {},
   "outputs": [
    {
     "data": {
      "text/html": [
       "<table>\n",
       "<thead><tr><th scope=col>sepal_length</th><th scope=col>sepal_width</th><th scope=col>petal_length</th><th scope=col>sepal_width</th><th scope=col>species</th></tr></thead>\n",
       "<tbody>\n",
       "\t<tr><td>5.1        </td><td>3.5        </td><td>1.4        </td><td>0.2        </td><td>Iris-setosa</td></tr>\n",
       "</tbody>\n",
       "</table>\n"
      ],
      "text/latex": [
       "\\begin{tabular}{r|lllll}\n",
       " sepal\\_length & sepal\\_width & petal\\_length & sepal\\_width & species\\\\\n",
       "\\hline\n",
       "\t 5.1         & 3.5         & 1.4         & 0.2         & Iris-setosa\\\\\n",
       "\\end{tabular}\n"
      ],
      "text/markdown": [
       "\n",
       "sepal_length | sepal_width | petal_length | sepal_width | species | \n",
       "|---|\n",
       "| 5.1         | 3.5         | 1.4         | 0.2         | Iris-setosa | \n",
       "\n",
       "\n"
      ],
      "text/plain": [
       "  sepal_length sepal_width petal_length sepal_width species    \n",
       "1 5.1          3.5         1.4          0.2         Iris-setosa"
      ]
     },
     "metadata": {},
     "output_type": "display_data"
    },
    {
     "data": {
      "text/html": [
       "<table>\n",
       "<thead><tr><th scope=col>sepal_length</th><th scope=col>sepal_width</th><th scope=col>petal_length</th><th scope=col>sepal_width</th><th scope=col>species</th></tr></thead>\n",
       "<tbody>\n",
       "\t<tr><td>5.1        </td><td>3.5        </td><td>2          </td><td>0.2        </td><td>Iris-setosa</td></tr>\n",
       "</tbody>\n",
       "</table>\n"
      ],
      "text/latex": [
       "\\begin{tabular}{r|lllll}\n",
       " sepal\\_length & sepal\\_width & petal\\_length & sepal\\_width & species\\\\\n",
       "\\hline\n",
       "\t 5.1         & 3.5         & 2           & 0.2         & Iris-setosa\\\\\n",
       "\\end{tabular}\n"
      ],
      "text/markdown": [
       "\n",
       "sepal_length | sepal_width | petal_length | sepal_width | species | \n",
       "|---|\n",
       "| 5.1         | 3.5         | 2           | 0.2         | Iris-setosa | \n",
       "\n",
       "\n"
      ],
      "text/plain": [
       "  sepal_length sepal_width petal_length sepal_width species    \n",
       "1 5.1          3.5         2            0.2         Iris-setosa"
      ]
     },
     "metadata": {},
     "output_type": "display_data"
    }
   ],
   "source": [
    "head(df, n = 1)\n",
    "df[1, \"petal_length\"] = 2; head(df, n = 1)"
   ]
  },
  {
   "cell_type": "markdown",
   "metadata": {},
   "source": [
    "### Adcionando componentes"
   ]
  },
  {
   "cell_type": "code",
   "execution_count": 49,
   "metadata": {},
   "outputs": [
    {
     "data": {
      "text/html": [
       "<table>\n",
       "<thead><tr><th></th><th scope=col>sepal_length</th><th scope=col>sepal_width</th><th scope=col>petal_length</th><th scope=col>sepal_width</th><th scope=col>species</th></tr></thead>\n",
       "<tbody>\n",
       "\t<tr><th scope=row>2</th><td>5.06       </td><td>3.6        </td><td>1.0        </td><td>0.25       </td><td>Iris-setosa</td></tr>\n",
       "\t<tr><th scope=row>210</th><td>5.10       </td><td>3.5        </td><td>2.0        </td><td>0.20       </td><td>Iris-setosa</td></tr>\n",
       "\t<tr><th scope=row>3</th><td>4.90       </td><td>3.0        </td><td>1.4        </td><td>0.20       </td><td>Iris-setosa</td></tr>\n",
       "\t<tr><th scope=row>4</th><td>4.70       </td><td>3.2        </td><td>1.3        </td><td>0.20       </td><td>Iris-setosa</td></tr>\n",
       "\t<tr><th scope=row>5</th><td>4.60       </td><td>3.1        </td><td>1.5        </td><td>0.20       </td><td>Iris-setosa</td></tr>\n",
       "\t<tr><th scope=row>6</th><td>5.00       </td><td>3.6        </td><td>1.4        </td><td>0.20       </td><td>Iris-setosa</td></tr>\n",
       "\t<tr><th scope=row>7</th><td>5.40       </td><td>3.9        </td><td>1.7        </td><td>0.40       </td><td>Iris-setosa</td></tr>\n",
       "\t<tr><th scope=row>8</th><td>4.60       </td><td>3.4        </td><td>1.4        </td><td>0.30       </td><td>Iris-setosa</td></tr>\n",
       "\t<tr><th scope=row>9</th><td>5.00       </td><td>3.4        </td><td>1.5        </td><td>0.20       </td><td>Iris-setosa</td></tr>\n",
       "\t<tr><th scope=row>10</th><td>4.40       </td><td>2.9        </td><td>1.4        </td><td>0.20       </td><td>Iris-setosa</td></tr>\n",
       "\t<tr><th scope=row>11</th><td>4.90       </td><td>3.1        </td><td>1.5        </td><td>0.10       </td><td>Iris-setosa</td></tr>\n",
       "\t<tr><th scope=row>12</th><td>5.40       </td><td>3.7        </td><td>1.5        </td><td>0.20       </td><td>Iris-setosa</td></tr>\n",
       "\t<tr><th scope=row>13</th><td>4.80       </td><td>3.4        </td><td>1.6        </td><td>0.20       </td><td>Iris-setosa</td></tr>\n",
       "\t<tr><th scope=row>14</th><td>4.80       </td><td>3.0        </td><td>1.4        </td><td>0.10       </td><td>Iris-setosa</td></tr>\n",
       "\t<tr><th scope=row>15</th><td>4.30       </td><td>3.0        </td><td>1.1        </td><td>0.10       </td><td>Iris-setosa</td></tr>\n",
       "\t<tr><th scope=row>16</th><td>5.80       </td><td>4.0        </td><td>1.2        </td><td>0.20       </td><td>Iris-setosa</td></tr>\n",
       "\t<tr><th scope=row>17</th><td>5.70       </td><td>4.4        </td><td>1.5        </td><td>0.40       </td><td>Iris-setosa</td></tr>\n",
       "\t<tr><th scope=row>18</th><td>5.40       </td><td>3.9        </td><td>1.3        </td><td>0.40       </td><td>Iris-setosa</td></tr>\n",
       "\t<tr><th scope=row>19</th><td>5.10       </td><td>3.5        </td><td>1.4        </td><td>0.30       </td><td>Iris-setosa</td></tr>\n",
       "\t<tr><th scope=row>20</th><td>5.70       </td><td>3.8        </td><td>1.7        </td><td>0.30       </td><td>Iris-setosa</td></tr>\n",
       "\t<tr><th scope=row>21</th><td>5.10       </td><td>3.8        </td><td>1.5        </td><td>0.30       </td><td>Iris-setosa</td></tr>\n",
       "\t<tr><th scope=row>22</th><td>5.40       </td><td>3.4        </td><td>1.7        </td><td>0.20       </td><td>Iris-setosa</td></tr>\n",
       "\t<tr><th scope=row>23</th><td>5.10       </td><td>3.7        </td><td>1.5        </td><td>0.40       </td><td>Iris-setosa</td></tr>\n",
       "\t<tr><th scope=row>24</th><td>4.60       </td><td>3.6        </td><td>1.0        </td><td>0.20       </td><td>Iris-setosa</td></tr>\n",
       "\t<tr><th scope=row>25</th><td>5.10       </td><td>3.3        </td><td>1.7        </td><td>0.50       </td><td>Iris-setosa</td></tr>\n",
       "\t<tr><th scope=row>26</th><td>4.80       </td><td>3.4        </td><td>1.9        </td><td>0.20       </td><td>Iris-setosa</td></tr>\n",
       "\t<tr><th scope=row>27</th><td>5.00       </td><td>3.0        </td><td>1.6        </td><td>0.20       </td><td>Iris-setosa</td></tr>\n",
       "\t<tr><th scope=row>28</th><td>5.00       </td><td>3.4        </td><td>1.6        </td><td>0.40       </td><td>Iris-setosa</td></tr>\n",
       "\t<tr><th scope=row>29</th><td>5.20       </td><td>3.5        </td><td>1.5        </td><td>0.20       </td><td>Iris-setosa</td></tr>\n",
       "\t<tr><th scope=row>30</th><td>5.20       </td><td>3.4        </td><td>1.4        </td><td>0.20       </td><td>Iris-setosa</td></tr>\n",
       "\t<tr><th scope=row>⋮</th><td>⋮</td><td>⋮</td><td>⋮</td><td>⋮</td><td>⋮</td></tr>\n",
       "\t<tr><th scope=row>122</th><td>6.9           </td><td>3.2           </td><td>5.7           </td><td>2.3           </td><td>Iris-virginica</td></tr>\n",
       "\t<tr><th scope=row>123</th><td>5.6           </td><td>2.8           </td><td>4.9           </td><td>2.0           </td><td>Iris-virginica</td></tr>\n",
       "\t<tr><th scope=row>124</th><td>7.7           </td><td>2.8           </td><td>6.7           </td><td>2.0           </td><td>Iris-virginica</td></tr>\n",
       "\t<tr><th scope=row>125</th><td>6.3           </td><td>2.7           </td><td>4.9           </td><td>1.8           </td><td>Iris-virginica</td></tr>\n",
       "\t<tr><th scope=row>126</th><td>6.7           </td><td>3.3           </td><td>5.7           </td><td>2.1           </td><td>Iris-virginica</td></tr>\n",
       "\t<tr><th scope=row>127</th><td>7.2           </td><td>3.2           </td><td>6.0           </td><td>1.8           </td><td>Iris-virginica</td></tr>\n",
       "\t<tr><th scope=row>128</th><td>6.2           </td><td>2.8           </td><td>4.8           </td><td>1.8           </td><td>Iris-virginica</td></tr>\n",
       "\t<tr><th scope=row>129</th><td>6.1           </td><td>3.0           </td><td>4.9           </td><td>1.8           </td><td>Iris-virginica</td></tr>\n",
       "\t<tr><th scope=row>130</th><td>6.4           </td><td>2.8           </td><td>5.6           </td><td>2.1           </td><td>Iris-virginica</td></tr>\n",
       "\t<tr><th scope=row>131</th><td>7.2           </td><td>3.0           </td><td>5.8           </td><td>1.6           </td><td>Iris-virginica</td></tr>\n",
       "\t<tr><th scope=row>132</th><td>7.4           </td><td>2.8           </td><td>6.1           </td><td>1.9           </td><td>Iris-virginica</td></tr>\n",
       "\t<tr><th scope=row>133</th><td>7.9           </td><td>3.8           </td><td>6.4           </td><td>2.0           </td><td>Iris-virginica</td></tr>\n",
       "\t<tr><th scope=row>134</th><td>6.4           </td><td>2.8           </td><td>5.6           </td><td>2.2           </td><td>Iris-virginica</td></tr>\n",
       "\t<tr><th scope=row>135</th><td>6.3           </td><td>2.8           </td><td>5.1           </td><td>1.5           </td><td>Iris-virginica</td></tr>\n",
       "\t<tr><th scope=row>136</th><td>6.1           </td><td>2.6           </td><td>5.6           </td><td>1.4           </td><td>Iris-virginica</td></tr>\n",
       "\t<tr><th scope=row>137</th><td>7.7           </td><td>3.0           </td><td>6.1           </td><td>2.3           </td><td>Iris-virginica</td></tr>\n",
       "\t<tr><th scope=row>138</th><td>6.3           </td><td>3.4           </td><td>5.6           </td><td>2.4           </td><td>Iris-virginica</td></tr>\n",
       "\t<tr><th scope=row>139</th><td>6.4           </td><td>3.1           </td><td>5.5           </td><td>1.8           </td><td>Iris-virginica</td></tr>\n",
       "\t<tr><th scope=row>140</th><td>6.0           </td><td>3.0           </td><td>4.8           </td><td>1.8           </td><td>Iris-virginica</td></tr>\n",
       "\t<tr><th scope=row>141</th><td>6.9           </td><td>3.1           </td><td>5.4           </td><td>2.1           </td><td>Iris-virginica</td></tr>\n",
       "\t<tr><th scope=row>142</th><td>6.7           </td><td>3.1           </td><td>5.6           </td><td>2.4           </td><td>Iris-virginica</td></tr>\n",
       "\t<tr><th scope=row>143</th><td>6.9           </td><td>3.1           </td><td>5.1           </td><td>2.3           </td><td>Iris-virginica</td></tr>\n",
       "\t<tr><th scope=row>144</th><td>5.8           </td><td>2.7           </td><td>5.1           </td><td>1.9           </td><td>Iris-virginica</td></tr>\n",
       "\t<tr><th scope=row>145</th><td>6.8           </td><td>3.2           </td><td>5.9           </td><td>2.3           </td><td>Iris-virginica</td></tr>\n",
       "\t<tr><th scope=row>146</th><td>6.7           </td><td>3.3           </td><td>5.7           </td><td>2.5           </td><td>Iris-virginica</td></tr>\n",
       "\t<tr><th scope=row>147</th><td>6.7           </td><td>3.0           </td><td>5.2           </td><td>2.3           </td><td>Iris-virginica</td></tr>\n",
       "\t<tr><th scope=row>148</th><td>6.3           </td><td>2.5           </td><td>5.0           </td><td>1.9           </td><td>Iris-virginica</td></tr>\n",
       "\t<tr><th scope=row>149</th><td>6.5           </td><td>3.0           </td><td>5.2           </td><td>2.0           </td><td>Iris-virginica</td></tr>\n",
       "\t<tr><th scope=row>150</th><td>6.2           </td><td>3.4           </td><td>5.4           </td><td>2.3           </td><td>Iris-virginica</td></tr>\n",
       "\t<tr><th scope=row>151</th><td>5.9           </td><td>3.0           </td><td>5.1           </td><td>1.8           </td><td>Iris-virginica</td></tr>\n",
       "</tbody>\n",
       "</table>\n"
      ],
      "text/latex": [
       "\\begin{tabular}{r|lllll}\n",
       "  & sepal\\_length & sepal\\_width & petal\\_length & sepal\\_width & species\\\\\n",
       "\\hline\n",
       "\t2 & 5.06        & 3.6         & 1.0         & 0.25        & Iris-setosa\\\\\n",
       "\t210 & 5.10        & 3.5         & 2.0         & 0.20        & Iris-setosa\\\\\n",
       "\t3 & 4.90        & 3.0         & 1.4         & 0.20        & Iris-setosa\\\\\n",
       "\t4 & 4.70        & 3.2         & 1.3         & 0.20        & Iris-setosa\\\\\n",
       "\t5 & 4.60        & 3.1         & 1.5         & 0.20        & Iris-setosa\\\\\n",
       "\t6 & 5.00        & 3.6         & 1.4         & 0.20        & Iris-setosa\\\\\n",
       "\t7 & 5.40        & 3.9         & 1.7         & 0.40        & Iris-setosa\\\\\n",
       "\t8 & 4.60        & 3.4         & 1.4         & 0.30        & Iris-setosa\\\\\n",
       "\t9 & 5.00        & 3.4         & 1.5         & 0.20        & Iris-setosa\\\\\n",
       "\t10 & 4.40        & 2.9         & 1.4         & 0.20        & Iris-setosa\\\\\n",
       "\t11 & 4.90        & 3.1         & 1.5         & 0.10        & Iris-setosa\\\\\n",
       "\t12 & 5.40        & 3.7         & 1.5         & 0.20        & Iris-setosa\\\\\n",
       "\t13 & 4.80        & 3.4         & 1.6         & 0.20        & Iris-setosa\\\\\n",
       "\t14 & 4.80        & 3.0         & 1.4         & 0.10        & Iris-setosa\\\\\n",
       "\t15 & 4.30        & 3.0         & 1.1         & 0.10        & Iris-setosa\\\\\n",
       "\t16 & 5.80        & 4.0         & 1.2         & 0.20        & Iris-setosa\\\\\n",
       "\t17 & 5.70        & 4.4         & 1.5         & 0.40        & Iris-setosa\\\\\n",
       "\t18 & 5.40        & 3.9         & 1.3         & 0.40        & Iris-setosa\\\\\n",
       "\t19 & 5.10        & 3.5         & 1.4         & 0.30        & Iris-setosa\\\\\n",
       "\t20 & 5.70        & 3.8         & 1.7         & 0.30        & Iris-setosa\\\\\n",
       "\t21 & 5.10        & 3.8         & 1.5         & 0.30        & Iris-setosa\\\\\n",
       "\t22 & 5.40        & 3.4         & 1.7         & 0.20        & Iris-setosa\\\\\n",
       "\t23 & 5.10        & 3.7         & 1.5         & 0.40        & Iris-setosa\\\\\n",
       "\t24 & 4.60        & 3.6         & 1.0         & 0.20        & Iris-setosa\\\\\n",
       "\t25 & 5.10        & 3.3         & 1.7         & 0.50        & Iris-setosa\\\\\n",
       "\t26 & 4.80        & 3.4         & 1.9         & 0.20        & Iris-setosa\\\\\n",
       "\t27 & 5.00        & 3.0         & 1.6         & 0.20        & Iris-setosa\\\\\n",
       "\t28 & 5.00        & 3.4         & 1.6         & 0.40        & Iris-setosa\\\\\n",
       "\t29 & 5.20        & 3.5         & 1.5         & 0.20        & Iris-setosa\\\\\n",
       "\t30 & 5.20        & 3.4         & 1.4         & 0.20        & Iris-setosa\\\\\n",
       "\t⋮ & ⋮ & ⋮ & ⋮ & ⋮ & ⋮\\\\\n",
       "\t122 & 6.9            & 3.2            & 5.7            & 2.3            & Iris-virginica\\\\\n",
       "\t123 & 5.6            & 2.8            & 4.9            & 2.0            & Iris-virginica\\\\\n",
       "\t124 & 7.7            & 2.8            & 6.7            & 2.0            & Iris-virginica\\\\\n",
       "\t125 & 6.3            & 2.7            & 4.9            & 1.8            & Iris-virginica\\\\\n",
       "\t126 & 6.7            & 3.3            & 5.7            & 2.1            & Iris-virginica\\\\\n",
       "\t127 & 7.2            & 3.2            & 6.0            & 1.8            & Iris-virginica\\\\\n",
       "\t128 & 6.2            & 2.8            & 4.8            & 1.8            & Iris-virginica\\\\\n",
       "\t129 & 6.1            & 3.0            & 4.9            & 1.8            & Iris-virginica\\\\\n",
       "\t130 & 6.4            & 2.8            & 5.6            & 2.1            & Iris-virginica\\\\\n",
       "\t131 & 7.2            & 3.0            & 5.8            & 1.6            & Iris-virginica\\\\\n",
       "\t132 & 7.4            & 2.8            & 6.1            & 1.9            & Iris-virginica\\\\\n",
       "\t133 & 7.9            & 3.8            & 6.4            & 2.0            & Iris-virginica\\\\\n",
       "\t134 & 6.4            & 2.8            & 5.6            & 2.2            & Iris-virginica\\\\\n",
       "\t135 & 6.3            & 2.8            & 5.1            & 1.5            & Iris-virginica\\\\\n",
       "\t136 & 6.1            & 2.6            & 5.6            & 1.4            & Iris-virginica\\\\\n",
       "\t137 & 7.7            & 3.0            & 6.1            & 2.3            & Iris-virginica\\\\\n",
       "\t138 & 6.3            & 3.4            & 5.6            & 2.4            & Iris-virginica\\\\\n",
       "\t139 & 6.4            & 3.1            & 5.5            & 1.8            & Iris-virginica\\\\\n",
       "\t140 & 6.0            & 3.0            & 4.8            & 1.8            & Iris-virginica\\\\\n",
       "\t141 & 6.9            & 3.1            & 5.4            & 2.1            & Iris-virginica\\\\\n",
       "\t142 & 6.7            & 3.1            & 5.6            & 2.4            & Iris-virginica\\\\\n",
       "\t143 & 6.9            & 3.1            & 5.1            & 2.3            & Iris-virginica\\\\\n",
       "\t144 & 5.8            & 2.7            & 5.1            & 1.9            & Iris-virginica\\\\\n",
       "\t145 & 6.8            & 3.2            & 5.9            & 2.3            & Iris-virginica\\\\\n",
       "\t146 & 6.7            & 3.3            & 5.7            & 2.5            & Iris-virginica\\\\\n",
       "\t147 & 6.7            & 3.0            & 5.2            & 2.3            & Iris-virginica\\\\\n",
       "\t148 & 6.3            & 2.5            & 5.0            & 1.9            & Iris-virginica\\\\\n",
       "\t149 & 6.5            & 3.0            & 5.2            & 2.0            & Iris-virginica\\\\\n",
       "\t150 & 6.2            & 3.4            & 5.4            & 2.3            & Iris-virginica\\\\\n",
       "\t151 & 5.9            & 3.0            & 5.1            & 1.8            & Iris-virginica\\\\\n",
       "\\end{tabular}\n"
      ],
      "text/markdown": [
       "\n",
       "| <!--/--> | sepal_length | sepal_width | petal_length | sepal_width | species | \n",
       "|---|---|---|---|---|---|---|---|---|---|---|---|---|---|---|---|---|---|---|---|---|---|---|---|---|---|---|---|---|---|---|---|---|---|---|---|---|---|---|---|---|---|---|---|---|---|---|---|---|---|---|---|---|---|---|---|---|---|---|---|---|\n",
       "| 2 | 5.06        | 3.6         | 1.0         | 0.25        | Iris-setosa | \n",
       "| 210 | 5.10        | 3.5         | 2.0         | 0.20        | Iris-setosa | \n",
       "| 3 | 4.90        | 3.0         | 1.4         | 0.20        | Iris-setosa | \n",
       "| 4 | 4.70        | 3.2         | 1.3         | 0.20        | Iris-setosa | \n",
       "| 5 | 4.60        | 3.1         | 1.5         | 0.20        | Iris-setosa | \n",
       "| 6 | 5.00        | 3.6         | 1.4         | 0.20        | Iris-setosa | \n",
       "| 7 | 5.40        | 3.9         | 1.7         | 0.40        | Iris-setosa | \n",
       "| 8 | 4.60        | 3.4         | 1.4         | 0.30        | Iris-setosa | \n",
       "| 9 | 5.00        | 3.4         | 1.5         | 0.20        | Iris-setosa | \n",
       "| 10 | 4.40        | 2.9         | 1.4         | 0.20        | Iris-setosa | \n",
       "| 11 | 4.90        | 3.1         | 1.5         | 0.10        | Iris-setosa | \n",
       "| 12 | 5.40        | 3.7         | 1.5         | 0.20        | Iris-setosa | \n",
       "| 13 | 4.80        | 3.4         | 1.6         | 0.20        | Iris-setosa | \n",
       "| 14 | 4.80        | 3.0         | 1.4         | 0.10        | Iris-setosa | \n",
       "| 15 | 4.30        | 3.0         | 1.1         | 0.10        | Iris-setosa | \n",
       "| 16 | 5.80        | 4.0         | 1.2         | 0.20        | Iris-setosa | \n",
       "| 17 | 5.70        | 4.4         | 1.5         | 0.40        | Iris-setosa | \n",
       "| 18 | 5.40        | 3.9         | 1.3         | 0.40        | Iris-setosa | \n",
       "| 19 | 5.10        | 3.5         | 1.4         | 0.30        | Iris-setosa | \n",
       "| 20 | 5.70        | 3.8         | 1.7         | 0.30        | Iris-setosa | \n",
       "| 21 | 5.10        | 3.8         | 1.5         | 0.30        | Iris-setosa | \n",
       "| 22 | 5.40        | 3.4         | 1.7         | 0.20        | Iris-setosa | \n",
       "| 23 | 5.10        | 3.7         | 1.5         | 0.40        | Iris-setosa | \n",
       "| 24 | 4.60        | 3.6         | 1.0         | 0.20        | Iris-setosa | \n",
       "| 25 | 5.10        | 3.3         | 1.7         | 0.50        | Iris-setosa | \n",
       "| 26 | 4.80        | 3.4         | 1.9         | 0.20        | Iris-setosa | \n",
       "| 27 | 5.00        | 3.0         | 1.6         | 0.20        | Iris-setosa | \n",
       "| 28 | 5.00        | 3.4         | 1.6         | 0.40        | Iris-setosa | \n",
       "| 29 | 5.20        | 3.5         | 1.5         | 0.20        | Iris-setosa | \n",
       "| 30 | 5.20        | 3.4         | 1.4         | 0.20        | Iris-setosa | \n",
       "| ⋮ | ⋮ | ⋮ | ⋮ | ⋮ | ⋮ | \n",
       "| 122 | 6.9            | 3.2            | 5.7            | 2.3            | Iris-virginica | \n",
       "| 123 | 5.6            | 2.8            | 4.9            | 2.0            | Iris-virginica | \n",
       "| 124 | 7.7            | 2.8            | 6.7            | 2.0            | Iris-virginica | \n",
       "| 125 | 6.3            | 2.7            | 4.9            | 1.8            | Iris-virginica | \n",
       "| 126 | 6.7            | 3.3            | 5.7            | 2.1            | Iris-virginica | \n",
       "| 127 | 7.2            | 3.2            | 6.0            | 1.8            | Iris-virginica | \n",
       "| 128 | 6.2            | 2.8            | 4.8            | 1.8            | Iris-virginica | \n",
       "| 129 | 6.1            | 3.0            | 4.9            | 1.8            | Iris-virginica | \n",
       "| 130 | 6.4            | 2.8            | 5.6            | 2.1            | Iris-virginica | \n",
       "| 131 | 7.2            | 3.0            | 5.8            | 1.6            | Iris-virginica | \n",
       "| 132 | 7.4            | 2.8            | 6.1            | 1.9            | Iris-virginica | \n",
       "| 133 | 7.9            | 3.8            | 6.4            | 2.0            | Iris-virginica | \n",
       "| 134 | 6.4            | 2.8            | 5.6            | 2.2            | Iris-virginica | \n",
       "| 135 | 6.3            | 2.8            | 5.1            | 1.5            | Iris-virginica | \n",
       "| 136 | 6.1            | 2.6            | 5.6            | 1.4            | Iris-virginica | \n",
       "| 137 | 7.7            | 3.0            | 6.1            | 2.3            | Iris-virginica | \n",
       "| 138 | 6.3            | 3.4            | 5.6            | 2.4            | Iris-virginica | \n",
       "| 139 | 6.4            | 3.1            | 5.5            | 1.8            | Iris-virginica | \n",
       "| 140 | 6.0            | 3.0            | 4.8            | 1.8            | Iris-virginica | \n",
       "| 141 | 6.9            | 3.1            | 5.4            | 2.1            | Iris-virginica | \n",
       "| 142 | 6.7            | 3.1            | 5.6            | 2.4            | Iris-virginica | \n",
       "| 143 | 6.9            | 3.1            | 5.1            | 2.3            | Iris-virginica | \n",
       "| 144 | 5.8            | 2.7            | 5.1            | 1.9            | Iris-virginica | \n",
       "| 145 | 6.8            | 3.2            | 5.9            | 2.3            | Iris-virginica | \n",
       "| 146 | 6.7            | 3.3            | 5.7            | 2.5            | Iris-virginica | \n",
       "| 147 | 6.7            | 3.0            | 5.2            | 2.3            | Iris-virginica | \n",
       "| 148 | 6.3            | 2.5            | 5.0            | 1.9            | Iris-virginica | \n",
       "| 149 | 6.5            | 3.0            | 5.2            | 2.0            | Iris-virginica | \n",
       "| 150 | 6.2            | 3.4            | 5.4            | 2.3            | Iris-virginica | \n",
       "| 151 | 5.9            | 3.0            | 5.1            | 1.8            | Iris-virginica | \n",
       "\n",
       "\n"
      ],
      "text/plain": [
       "    sepal_length sepal_width petal_length sepal_width species       \n",
       "2   5.06         3.6         1.0          0.25        Iris-setosa   \n",
       "210 5.10         3.5         2.0          0.20        Iris-setosa   \n",
       "3   4.90         3.0         1.4          0.20        Iris-setosa   \n",
       "4   4.70         3.2         1.3          0.20        Iris-setosa   \n",
       "5   4.60         3.1         1.5          0.20        Iris-setosa   \n",
       "6   5.00         3.6         1.4          0.20        Iris-setosa   \n",
       "7   5.40         3.9         1.7          0.40        Iris-setosa   \n",
       "8   4.60         3.4         1.4          0.30        Iris-setosa   \n",
       "9   5.00         3.4         1.5          0.20        Iris-setosa   \n",
       "10  4.40         2.9         1.4          0.20        Iris-setosa   \n",
       "11  4.90         3.1         1.5          0.10        Iris-setosa   \n",
       "12  5.40         3.7         1.5          0.20        Iris-setosa   \n",
       "13  4.80         3.4         1.6          0.20        Iris-setosa   \n",
       "14  4.80         3.0         1.4          0.10        Iris-setosa   \n",
       "15  4.30         3.0         1.1          0.10        Iris-setosa   \n",
       "16  5.80         4.0         1.2          0.20        Iris-setosa   \n",
       "17  5.70         4.4         1.5          0.40        Iris-setosa   \n",
       "18  5.40         3.9         1.3          0.40        Iris-setosa   \n",
       "19  5.10         3.5         1.4          0.30        Iris-setosa   \n",
       "20  5.70         3.8         1.7          0.30        Iris-setosa   \n",
       "21  5.10         3.8         1.5          0.30        Iris-setosa   \n",
       "22  5.40         3.4         1.7          0.20        Iris-setosa   \n",
       "23  5.10         3.7         1.5          0.40        Iris-setosa   \n",
       "24  4.60         3.6         1.0          0.20        Iris-setosa   \n",
       "25  5.10         3.3         1.7          0.50        Iris-setosa   \n",
       "26  4.80         3.4         1.9          0.20        Iris-setosa   \n",
       "27  5.00         3.0         1.6          0.20        Iris-setosa   \n",
       "28  5.00         3.4         1.6          0.40        Iris-setosa   \n",
       "29  5.20         3.5         1.5          0.20        Iris-setosa   \n",
       "30  5.20         3.4         1.4          0.20        Iris-setosa   \n",
       "⋮   ⋮            ⋮           ⋮            ⋮           ⋮             \n",
       "122 6.9          3.2         5.7          2.3         Iris-virginica\n",
       "123 5.6          2.8         4.9          2.0         Iris-virginica\n",
       "124 7.7          2.8         6.7          2.0         Iris-virginica\n",
       "125 6.3          2.7         4.9          1.8         Iris-virginica\n",
       "126 6.7          3.3         5.7          2.1         Iris-virginica\n",
       "127 7.2          3.2         6.0          1.8         Iris-virginica\n",
       "128 6.2          2.8         4.8          1.8         Iris-virginica\n",
       "129 6.1          3.0         4.9          1.8         Iris-virginica\n",
       "130 6.4          2.8         5.6          2.1         Iris-virginica\n",
       "131 7.2          3.0         5.8          1.6         Iris-virginica\n",
       "132 7.4          2.8         6.1          1.9         Iris-virginica\n",
       "133 7.9          3.8         6.4          2.0         Iris-virginica\n",
       "134 6.4          2.8         5.6          2.2         Iris-virginica\n",
       "135 6.3          2.8         5.1          1.5         Iris-virginica\n",
       "136 6.1          2.6         5.6          1.4         Iris-virginica\n",
       "137 7.7          3.0         6.1          2.3         Iris-virginica\n",
       "138 6.3          3.4         5.6          2.4         Iris-virginica\n",
       "139 6.4          3.1         5.5          1.8         Iris-virginica\n",
       "140 6.0          3.0         4.8          1.8         Iris-virginica\n",
       "141 6.9          3.1         5.4          2.1         Iris-virginica\n",
       "142 6.7          3.1         5.6          2.4         Iris-virginica\n",
       "143 6.9          3.1         5.1          2.3         Iris-virginica\n",
       "144 5.8          2.7         5.1          1.9         Iris-virginica\n",
       "145 6.8          3.2         5.9          2.3         Iris-virginica\n",
       "146 6.7          3.3         5.7          2.5         Iris-virginica\n",
       "147 6.7          3.0         5.2          2.3         Iris-virginica\n",
       "148 6.3          2.5         5.0          1.9         Iris-virginica\n",
       "149 6.5          3.0         5.2          2.0         Iris-virginica\n",
       "150 6.2          3.4         5.4          2.3         Iris-virginica\n",
       "151 5.9          3.0         5.1          1.8         Iris-virginica"
      ]
     },
     "metadata": {},
     "output_type": "display_data"
    },
    {
     "data": {
      "text/html": [
       "<table>\n",
       "<thead><tr><th scope=col>sepal_length</th><th scope=col>sepal_width</th><th scope=col>petal_length</th><th scope=col>sepal_width</th><th scope=col>species</th></tr></thead>\n",
       "<tbody>\n",
       "\t<tr><td>5.1        </td><td>3.5        </td><td>2.0        </td><td>0.2        </td><td>Iris-setosa</td></tr>\n",
       "\t<tr><td>4.9        </td><td>3.0        </td><td>1.4        </td><td>0.2        </td><td>Iris-setosa</td></tr>\n",
       "\t<tr><td>4.7        </td><td>3.2        </td><td>1.3        </td><td>0.2        </td><td>Iris-setosa</td></tr>\n",
       "\t<tr><td>4.6        </td><td>3.1        </td><td>1.5        </td><td>0.2        </td><td>Iris-setosa</td></tr>\n",
       "\t<tr><td>5.0        </td><td>3.6        </td><td>1.4        </td><td>0.2        </td><td>Iris-setosa</td></tr>\n",
       "\t<tr><td>5.4        </td><td>3.9        </td><td>1.7        </td><td>0.4        </td><td>Iris-setosa</td></tr>\n",
       "</tbody>\n",
       "</table>\n"
      ],
      "text/latex": [
       "\\begin{tabular}{r|lllll}\n",
       " sepal\\_length & sepal\\_width & petal\\_length & sepal\\_width & species\\\\\n",
       "\\hline\n",
       "\t 5.1         & 3.5         & 2.0         & 0.2         & Iris-setosa\\\\\n",
       "\t 4.9         & 3.0         & 1.4         & 0.2         & Iris-setosa\\\\\n",
       "\t 4.7         & 3.2         & 1.3         & 0.2         & Iris-setosa\\\\\n",
       "\t 4.6         & 3.1         & 1.5         & 0.2         & Iris-setosa\\\\\n",
       "\t 5.0         & 3.6         & 1.4         & 0.2         & Iris-setosa\\\\\n",
       "\t 5.4         & 3.9         & 1.7         & 0.4         & Iris-setosa\\\\\n",
       "\\end{tabular}\n"
      ],
      "text/markdown": [
       "\n",
       "sepal_length | sepal_width | petal_length | sepal_width | species | \n",
       "|---|---|---|---|---|---|\n",
       "| 5.1         | 3.5         | 2.0         | 0.2         | Iris-setosa | \n",
       "| 4.9         | 3.0         | 1.4         | 0.2         | Iris-setosa | \n",
       "| 4.7         | 3.2         | 1.3         | 0.2         | Iris-setosa | \n",
       "| 4.6         | 3.1         | 1.5         | 0.2         | Iris-setosa | \n",
       "| 5.0         | 3.6         | 1.4         | 0.2         | Iris-setosa | \n",
       "| 5.4         | 3.9         | 1.7         | 0.4         | Iris-setosa | \n",
       "\n",
       "\n"
      ],
      "text/plain": [
       "  sepal_length sepal_width petal_length sepal_width species    \n",
       "1 5.1          3.5         2.0          0.2         Iris-setosa\n",
       "2 4.9          3.0         1.4          0.2         Iris-setosa\n",
       "3 4.7          3.2         1.3          0.2         Iris-setosa\n",
       "4 4.6          3.1         1.5          0.2         Iris-setosa\n",
       "5 5.0          3.6         1.4          0.2         Iris-setosa\n",
       "6 5.4          3.9         1.7          0.4         Iris-setosa"
      ]
     },
     "metadata": {},
     "output_type": "display_data"
    }
   ],
   "source": [
    "rbind(list(5.06, 3.6, 1.0, 0.25, \"Iris-setosa\"),df)\n",
    "head(df)"
   ]
  },
  {
   "cell_type": "code",
   "execution_count": 50,
   "metadata": {},
   "outputs": [
    {
     "data": {
      "text/html": [
       "<table>\n",
       "<thead><tr><th scope=col>sepal_length</th><th scope=col>sepal_width</th><th scope=col>petal_length</th><th scope=col>sepal_width</th><th scope=col>species</th><th scope=col>novo</th></tr></thead>\n",
       "<tbody>\n",
       "\t<tr><td>5.1        </td><td>3.5        </td><td>2.0        </td><td>0.2        </td><td>Iris-setosa</td><td>a          </td></tr>\n",
       "\t<tr><td>4.9        </td><td>3.0        </td><td>1.4        </td><td>0.2        </td><td>Iris-setosa</td><td>a          </td></tr>\n",
       "\t<tr><td>4.7        </td><td>3.2        </td><td>1.3        </td><td>0.2        </td><td>Iris-setosa</td><td>a          </td></tr>\n",
       "\t<tr><td>4.6        </td><td>3.1        </td><td>1.5        </td><td>0.2        </td><td>Iris-setosa</td><td>a          </td></tr>\n",
       "\t<tr><td>5.0        </td><td>3.6        </td><td>1.4        </td><td>0.2        </td><td>Iris-setosa</td><td>a          </td></tr>\n",
       "\t<tr><td>5.4        </td><td>3.9        </td><td>1.7        </td><td>0.4        </td><td>Iris-setosa</td><td>a          </td></tr>\n",
       "</tbody>\n",
       "</table>\n"
      ],
      "text/latex": [
       "\\begin{tabular}{r|llllll}\n",
       " sepal\\_length & sepal\\_width & petal\\_length & sepal\\_width & species & novo\\\\\n",
       "\\hline\n",
       "\t 5.1         & 3.5         & 2.0         & 0.2         & Iris-setosa & a          \\\\\n",
       "\t 4.9         & 3.0         & 1.4         & 0.2         & Iris-setosa & a          \\\\\n",
       "\t 4.7         & 3.2         & 1.3         & 0.2         & Iris-setosa & a          \\\\\n",
       "\t 4.6         & 3.1         & 1.5         & 0.2         & Iris-setosa & a          \\\\\n",
       "\t 5.0         & 3.6         & 1.4         & 0.2         & Iris-setosa & a          \\\\\n",
       "\t 5.4         & 3.9         & 1.7         & 0.4         & Iris-setosa & a          \\\\\n",
       "\\end{tabular}\n"
      ],
      "text/markdown": [
       "\n",
       "sepal_length | sepal_width | petal_length | sepal_width | species | novo | \n",
       "|---|---|---|---|---|---|\n",
       "| 5.1         | 3.5         | 2.0         | 0.2         | Iris-setosa | a           | \n",
       "| 4.9         | 3.0         | 1.4         | 0.2         | Iris-setosa | a           | \n",
       "| 4.7         | 3.2         | 1.3         | 0.2         | Iris-setosa | a           | \n",
       "| 4.6         | 3.1         | 1.5         | 0.2         | Iris-setosa | a           | \n",
       "| 5.0         | 3.6         | 1.4         | 0.2         | Iris-setosa | a           | \n",
       "| 5.4         | 3.9         | 1.7         | 0.4         | Iris-setosa | a           | \n",
       "\n",
       "\n"
      ],
      "text/plain": [
       "  sepal_length sepal_width petal_length sepal_width species     novo\n",
       "1 5.1          3.5         2.0          0.2         Iris-setosa a   \n",
       "2 4.9          3.0         1.4          0.2         Iris-setosa a   \n",
       "3 4.7          3.2         1.3          0.2         Iris-setosa a   \n",
       "4 4.6          3.1         1.5          0.2         Iris-setosa a   \n",
       "5 5.0          3.6         1.4          0.2         Iris-setosa a   \n",
       "6 5.4          3.9         1.7          0.4         Iris-setosa a   "
      ]
     },
     "metadata": {},
     "output_type": "display_data"
    }
   ],
   "source": [
    "df$novo <- \"a\"\n",
    "head(df)"
   ]
  },
  {
   "cell_type": "markdown",
   "metadata": {},
   "source": [
    "#### Removendo componetentes"
   ]
  },
  {
   "cell_type": "code",
   "execution_count": 51,
   "metadata": {},
   "outputs": [
    {
     "data": {
      "text/html": [
       "<table>\n",
       "<thead><tr><th></th><th scope=col>sepal_length</th><th scope=col>sepal_width</th><th scope=col>petal_length</th><th scope=col>sepal_width</th><th scope=col>species</th></tr></thead>\n",
       "<tbody>\n",
       "\t<tr><th scope=row>145</th><td>6.7           </td><td>3.3           </td><td>5.7           </td><td>2.5           </td><td>Iris-virginica</td></tr>\n",
       "\t<tr><th scope=row>146</th><td>6.7           </td><td>3.0           </td><td>5.2           </td><td>2.3           </td><td>Iris-virginica</td></tr>\n",
       "\t<tr><th scope=row>147</th><td>6.3           </td><td>2.5           </td><td>5.0           </td><td>1.9           </td><td>Iris-virginica</td></tr>\n",
       "\t<tr><th scope=row>148</th><td>6.5           </td><td>3.0           </td><td>5.2           </td><td>2.0           </td><td>Iris-virginica</td></tr>\n",
       "\t<tr><th scope=row>149</th><td>6.2           </td><td>3.4           </td><td>5.4           </td><td>2.3           </td><td>Iris-virginica</td></tr>\n",
       "\t<tr><th scope=row>150</th><td>5.9           </td><td>3.0           </td><td>5.1           </td><td>1.8           </td><td>Iris-virginica</td></tr>\n",
       "</tbody>\n",
       "</table>\n"
      ],
      "text/latex": [
       "\\begin{tabular}{r|lllll}\n",
       "  & sepal\\_length & sepal\\_width & petal\\_length & sepal\\_width & species\\\\\n",
       "\\hline\n",
       "\t145 & 6.7            & 3.3            & 5.7            & 2.5            & Iris-virginica\\\\\n",
       "\t146 & 6.7            & 3.0            & 5.2            & 2.3            & Iris-virginica\\\\\n",
       "\t147 & 6.3            & 2.5            & 5.0            & 1.9            & Iris-virginica\\\\\n",
       "\t148 & 6.5            & 3.0            & 5.2            & 2.0            & Iris-virginica\\\\\n",
       "\t149 & 6.2            & 3.4            & 5.4            & 2.3            & Iris-virginica\\\\\n",
       "\t150 & 5.9            & 3.0            & 5.1            & 1.8            & Iris-virginica\\\\\n",
       "\\end{tabular}\n"
      ],
      "text/markdown": [
       "\n",
       "| <!--/--> | sepal_length | sepal_width | petal_length | sepal_width | species | \n",
       "|---|---|---|---|---|---|\n",
       "| 145 | 6.7            | 3.3            | 5.7            | 2.5            | Iris-virginica | \n",
       "| 146 | 6.7            | 3.0            | 5.2            | 2.3            | Iris-virginica | \n",
       "| 147 | 6.3            | 2.5            | 5.0            | 1.9            | Iris-virginica | \n",
       "| 148 | 6.5            | 3.0            | 5.2            | 2.0            | Iris-virginica | \n",
       "| 149 | 6.2            | 3.4            | 5.4            | 2.3            | Iris-virginica | \n",
       "| 150 | 5.9            | 3.0            | 5.1            | 1.8            | Iris-virginica | \n",
       "\n",
       "\n"
      ],
      "text/plain": [
       "    sepal_length sepal_width petal_length sepal_width species       \n",
       "145 6.7          3.3         5.7          2.5         Iris-virginica\n",
       "146 6.7          3.0         5.2          2.3         Iris-virginica\n",
       "147 6.3          2.5         5.0          1.9         Iris-virginica\n",
       "148 6.5          3.0         5.2          2.0         Iris-virginica\n",
       "149 6.2          3.4         5.4          2.3         Iris-virginica\n",
       "150 5.9          3.0         5.1          1.8         Iris-virginica"
      ]
     },
     "metadata": {},
     "output_type": "display_data"
    }
   ],
   "source": [
    "df$novo = NULL\n",
    "tail(df)"
   ]
  },
  {
   "cell_type": "markdown",
   "metadata": {},
   "source": [
    "## Factors\n",
    "\n",
    "Fatores são utilizados para representar valores categóricos, onde as opções são finitas. Por exemplo, estado civil, genêro, entre outros."
   ]
  },
  {
   "cell_type": "code",
   "execution_count": 52,
   "metadata": {},
   "outputs": [
    {
     "data": {
      "text/html": [
       "<ol class=list-inline>\n",
       "\t<li>solteiro</li>\n",
       "\t<li>viúvo</li>\n",
       "\t<li>casado</li>\n",
       "\t<li>solteiro</li>\n",
       "</ol>\n",
       "\n",
       "<details>\n",
       "\t<summary style=display:list-item;cursor:pointer>\n",
       "\t\t<strong>Levels</strong>:\n",
       "\t</summary>\n",
       "\t<ol class=list-inline>\n",
       "\t\t<li>'casado'</li>\n",
       "\t\t<li>'solteiro'</li>\n",
       "\t\t<li>'viúvo'</li>\n",
       "\t</ol>\n",
       "</details>"
      ],
      "text/latex": [
       "\\begin{enumerate*}\n",
       "\\item solteiro\n",
       "\\item viúvo\n",
       "\\item casado\n",
       "\\item solteiro\n",
       "\\end{enumerate*}\n",
       "\n",
       "\\emph{Levels}: \\begin{enumerate*}\n",
       "\\item 'casado'\n",
       "\\item 'solteiro'\n",
       "\\item 'viúvo'\n",
       "\\end{enumerate*}\n"
      ],
      "text/markdown": [
       "1. solteiro\n",
       "2. viúvo\n",
       "3. casado\n",
       "4. solteiro\n",
       "\n",
       "\n",
       "\n",
       "**Levels**: 1. 'casado'\n",
       "2. 'solteiro'\n",
       "3. 'viúvo'\n",
       "\n",
       "\n"
      ],
      "text/plain": [
       "[1] solteiro viúvo    casado   solteiro\n",
       "Levels: casado solteiro viúvo"
      ]
     },
     "metadata": {},
     "output_type": "display_data"
    }
   ],
   "source": [
    "estado.civil = factor(c(\"solteiro\", \"viúvo\", \"casado\", \"solteiro\"))\n",
    "estado.civil"
   ]
  },
  {
   "cell_type": "code",
   "execution_count": 53,
   "metadata": {},
   "outputs": [
    {
     "data": {
      "text/html": [
       "'factor'"
      ],
      "text/latex": [
       "'factor'"
      ],
      "text/markdown": [
       "'factor'"
      ],
      "text/plain": [
       "[1] \"factor\""
      ]
     },
     "metadata": {},
     "output_type": "display_data"
    },
    {
     "data": {
      "text/html": [
       "<ol class=list-inline>\n",
       "\t<li>'casado'</li>\n",
       "\t<li>'solteiro'</li>\n",
       "\t<li>'viúvo'</li>\n",
       "</ol>\n"
      ],
      "text/latex": [
       "\\begin{enumerate*}\n",
       "\\item 'casado'\n",
       "\\item 'solteiro'\n",
       "\\item 'viúvo'\n",
       "\\end{enumerate*}\n"
      ],
      "text/markdown": [
       "1. 'casado'\n",
       "2. 'solteiro'\n",
       "3. 'viúvo'\n",
       "\n",
       "\n"
      ],
      "text/plain": [
       "[1] \"casado\"   \"solteiro\" \"viúvo\"   "
      ]
     },
     "metadata": {},
     "output_type": "display_data"
    }
   ],
   "source": [
    "class(estado.civil)\n",
    "\n",
    "levels(estado.civil)"
   ]
  },
  {
   "cell_type": "markdown",
   "metadata": {},
   "source": [
    "### Criando Factors"
   ]
  },
  {
   "cell_type": "code",
   "execution_count": 54,
   "metadata": {},
   "outputs": [
    {
     "name": "stdout",
     "output_type": "stream",
     "text": [
      " Factor w/ 3 levels \"casado\",\"solteiro\",..: 2 3 1 2\n"
     ]
    }
   ],
   "source": [
    "estado.civil = factor(c(\"solteiro\", \"viúvo\", \"casado\", \"solteiro\"))\n",
    "\n",
    "str(estado.civil)"
   ]
  },
  {
   "cell_type": "markdown",
   "metadata": {},
   "source": [
    "### Indexação"
   ]
  },
  {
   "cell_type": "code",
   "execution_count": 55,
   "metadata": {},
   "outputs": [
    {
     "data": {
      "text/html": [
       "casado\n",
       "<details>\n",
       "\t<summary style=display:list-item;cursor:pointer>\n",
       "\t\t<strong>Levels</strong>:\n",
       "\t</summary>\n",
       "\t<ol class=list-inline>\n",
       "\t\t<li>'casado'</li>\n",
       "\t\t<li>'solteiro'</li>\n",
       "\t\t<li>'viúvo'</li>\n",
       "\t</ol>\n",
       "</details>"
      ],
      "text/latex": [
       "casado\n",
       "\\emph{Levels}: \\begin{enumerate*}\n",
       "\\item 'casado'\n",
       "\\item 'solteiro'\n",
       "\\item 'viúvo'\n",
       "\\end{enumerate*}\n"
      ],
      "text/markdown": [
       "casado\n",
       "**Levels**: 1. 'casado'\n",
       "2. 'solteiro'\n",
       "3. 'viúvo'\n",
       "\n",
       "\n"
      ],
      "text/plain": [
       "[1] casado\n",
       "Levels: casado solteiro viúvo"
      ]
     },
     "metadata": {},
     "output_type": "display_data"
    }
   ],
   "source": [
    "estado.civil[3]"
   ]
  },
  {
   "cell_type": "code",
   "execution_count": 56,
   "metadata": {},
   "outputs": [
    {
     "data": {
      "text/html": [
       "<ol class=list-inline>\n",
       "\t<li>viúvo</li>\n",
       "\t<li>solteiro</li>\n",
       "</ol>\n",
       "\n",
       "<details>\n",
       "\t<summary style=display:list-item;cursor:pointer>\n",
       "\t\t<strong>Levels</strong>:\n",
       "\t</summary>\n",
       "\t<ol class=list-inline>\n",
       "\t\t<li>'casado'</li>\n",
       "\t\t<li>'solteiro'</li>\n",
       "\t\t<li>'viúvo'</li>\n",
       "\t</ol>\n",
       "</details>"
      ],
      "text/latex": [
       "\\begin{enumerate*}\n",
       "\\item viúvo\n",
       "\\item solteiro\n",
       "\\end{enumerate*}\n",
       "\n",
       "\\emph{Levels}: \\begin{enumerate*}\n",
       "\\item 'casado'\n",
       "\\item 'solteiro'\n",
       "\\item 'viúvo'\n",
       "\\end{enumerate*}\n"
      ],
      "text/markdown": [
       "1. viúvo\n",
       "2. solteiro\n",
       "\n",
       "\n",
       "\n",
       "**Levels**: 1. 'casado'\n",
       "2. 'solteiro'\n",
       "3. 'viúvo'\n",
       "\n",
       "\n"
      ],
      "text/plain": [
       "[1] viúvo    solteiro\n",
       "Levels: casado solteiro viúvo"
      ]
     },
     "metadata": {},
     "output_type": "display_data"
    }
   ],
   "source": [
    "estado.civil[c(2,4)]"
   ]
  },
  {
   "cell_type": "code",
   "execution_count": 57,
   "metadata": {},
   "outputs": [
    {
     "data": {
      "text/html": [
       "<ol class=list-inline>\n",
       "\t<li>viúvo</li>\n",
       "\t<li>casado</li>\n",
       "\t<li>solteiro</li>\n",
       "</ol>\n",
       "\n",
       "<details>\n",
       "\t<summary style=display:list-item;cursor:pointer>\n",
       "\t\t<strong>Levels</strong>:\n",
       "\t</summary>\n",
       "\t<ol class=list-inline>\n",
       "\t\t<li>'casado'</li>\n",
       "\t\t<li>'solteiro'</li>\n",
       "\t\t<li>'viúvo'</li>\n",
       "\t</ol>\n",
       "</details>"
      ],
      "text/latex": [
       "\\begin{enumerate*}\n",
       "\\item viúvo\n",
       "\\item casado\n",
       "\\item solteiro\n",
       "\\end{enumerate*}\n",
       "\n",
       "\\emph{Levels}: \\begin{enumerate*}\n",
       "\\item 'casado'\n",
       "\\item 'solteiro'\n",
       "\\item 'viúvo'\n",
       "\\end{enumerate*}\n"
      ],
      "text/markdown": [
       "1. viúvo\n",
       "2. casado\n",
       "3. solteiro\n",
       "\n",
       "\n",
       "\n",
       "**Levels**: 1. 'casado'\n",
       "2. 'solteiro'\n",
       "3. 'viúvo'\n",
       "\n",
       "\n"
      ],
      "text/plain": [
       "[1] viúvo    casado   solteiro\n",
       "Levels: casado solteiro viúvo"
      ]
     },
     "metadata": {},
     "output_type": "display_data"
    }
   ],
   "source": [
    "estado.civil[-1]"
   ]
  },
  {
   "cell_type": "code",
   "execution_count": 58,
   "metadata": {},
   "outputs": [
    {
     "data": {
      "text/html": [
       "<ol class=list-inline>\n",
       "\t<li>solteiro</li>\n",
       "\t<li>solteiro</li>\n",
       "</ol>\n",
       "\n",
       "<details>\n",
       "\t<summary style=display:list-item;cursor:pointer>\n",
       "\t\t<strong>Levels</strong>:\n",
       "\t</summary>\n",
       "\t<ol class=list-inline>\n",
       "\t\t<li>'casado'</li>\n",
       "\t\t<li>'solteiro'</li>\n",
       "\t\t<li>'viúvo'</li>\n",
       "\t</ol>\n",
       "</details>"
      ],
      "text/latex": [
       "\\begin{enumerate*}\n",
       "\\item solteiro\n",
       "\\item solteiro\n",
       "\\end{enumerate*}\n",
       "\n",
       "\\emph{Levels}: \\begin{enumerate*}\n",
       "\\item 'casado'\n",
       "\\item 'solteiro'\n",
       "\\item 'viúvo'\n",
       "\\end{enumerate*}\n"
      ],
      "text/markdown": [
       "1. solteiro\n",
       "2. solteiro\n",
       "\n",
       "\n",
       "\n",
       "**Levels**: 1. 'casado'\n",
       "2. 'solteiro'\n",
       "3. 'viúvo'\n",
       "\n",
       "\n"
      ],
      "text/plain": [
       "[1] solteiro solteiro\n",
       "Levels: casado solteiro viúvo"
      ]
     },
     "metadata": {},
     "output_type": "display_data"
    }
   ],
   "source": [
    "estado.civil[c(TRUE, FALSE, FALSE, TRUE)]"
   ]
  },
  {
   "cell_type": "markdown",
   "metadata": {},
   "source": [
    "### Modificando um Factor"
   ]
  },
  {
   "cell_type": "code",
   "execution_count": 59,
   "metadata": {},
   "outputs": [
    {
     "data": {
      "text/html": [
       "<ol class=list-inline>\n",
       "\t<li>solteiro</li>\n",
       "\t<li>solteiro</li>\n",
       "\t<li>casado</li>\n",
       "\t<li>solteiro</li>\n",
       "</ol>\n",
       "\n",
       "<details>\n",
       "\t<summary style=display:list-item;cursor:pointer>\n",
       "\t\t<strong>Levels</strong>:\n",
       "\t</summary>\n",
       "\t<ol class=list-inline>\n",
       "\t\t<li>'casado'</li>\n",
       "\t\t<li>'solteiro'</li>\n",
       "\t\t<li>'viúvo'</li>\n",
       "\t</ol>\n",
       "</details>"
      ],
      "text/latex": [
       "\\begin{enumerate*}\n",
       "\\item solteiro\n",
       "\\item solteiro\n",
       "\\item casado\n",
       "\\item solteiro\n",
       "\\end{enumerate*}\n",
       "\n",
       "\\emph{Levels}: \\begin{enumerate*}\n",
       "\\item 'casado'\n",
       "\\item 'solteiro'\n",
       "\\item 'viúvo'\n",
       "\\end{enumerate*}\n"
      ],
      "text/markdown": [
       "1. solteiro\n",
       "2. solteiro\n",
       "3. casado\n",
       "4. solteiro\n",
       "\n",
       "\n",
       "\n",
       "**Levels**: 1. 'casado'\n",
       "2. 'solteiro'\n",
       "3. 'viúvo'\n",
       "\n",
       "\n"
      ],
      "text/plain": [
       "[1] solteiro solteiro casado   solteiro\n",
       "Levels: casado solteiro viúvo"
      ]
     },
     "metadata": {},
     "output_type": "display_data"
    }
   ],
   "source": [
    "estado.civil[2] = \"solteiro\"; estado.civil"
   ]
  },
  {
   "cell_type": "code",
   "execution_count": 60,
   "metadata": {},
   "outputs": [
    {
     "name": "stderr",
     "output_type": "stream",
     "text": [
      "Warning message in `[<-.factor`(`*tmp*`, 2, value = \"divorciado\"):\n",
      "“invalid factor level, NA generated”"
     ]
    },
    {
     "data": {
      "text/html": [
       "<ol class=list-inline>\n",
       "\t<li>solteiro</li>\n",
       "\t<li>&lt;NA&gt;</li>\n",
       "\t<li>casado</li>\n",
       "\t<li>solteiro</li>\n",
       "</ol>\n",
       "\n",
       "<details>\n",
       "\t<summary style=display:list-item;cursor:pointer>\n",
       "\t\t<strong>Levels</strong>:\n",
       "\t</summary>\n",
       "\t<ol class=list-inline>\n",
       "\t\t<li>'casado'</li>\n",
       "\t\t<li>'solteiro'</li>\n",
       "\t\t<li>'viúvo'</li>\n",
       "\t</ol>\n",
       "</details>"
      ],
      "text/latex": [
       "\\begin{enumerate*}\n",
       "\\item solteiro\n",
       "\\item <NA>\n",
       "\\item casado\n",
       "\\item solteiro\n",
       "\\end{enumerate*}\n",
       "\n",
       "\\emph{Levels}: \\begin{enumerate*}\n",
       "\\item 'casado'\n",
       "\\item 'solteiro'\n",
       "\\item 'viúvo'\n",
       "\\end{enumerate*}\n"
      ],
      "text/markdown": [
       "1. solteiro\n",
       "2. &lt;NA&gt;\n",
       "3. casado\n",
       "4. solteiro\n",
       "\n",
       "\n",
       "\n",
       "**Levels**: 1. 'casado'\n",
       "2. 'solteiro'\n",
       "3. 'viúvo'\n",
       "\n",
       "\n"
      ],
      "text/plain": [
       "[1] solteiro <NA>     casado   solteiro\n",
       "Levels: casado solteiro viúvo"
      ]
     },
     "metadata": {},
     "output_type": "display_data"
    }
   ],
   "source": [
    "estado.civil[2] = \"divorciado\"; estado.civil"
   ]
  },
  {
   "cell_type": "code",
   "execution_count": 61,
   "metadata": {},
   "outputs": [
    {
     "data": {
      "text/html": [
       "<ol class=list-inline>\n",
       "\t<li>solteiro</li>\n",
       "\t<li>divorciado</li>\n",
       "\t<li>casado</li>\n",
       "\t<li>solteiro</li>\n",
       "</ol>\n",
       "\n",
       "<details>\n",
       "\t<summary style=display:list-item;cursor:pointer>\n",
       "\t\t<strong>Levels</strong>:\n",
       "\t</summary>\n",
       "\t<ol class=list-inline>\n",
       "\t\t<li>'casado'</li>\n",
       "\t\t<li>'solteiro'</li>\n",
       "\t\t<li>'viúvo'</li>\n",
       "\t\t<li>'divorciado'</li>\n",
       "\t</ol>\n",
       "</details>"
      ],
      "text/latex": [
       "\\begin{enumerate*}\n",
       "\\item solteiro\n",
       "\\item divorciado\n",
       "\\item casado\n",
       "\\item solteiro\n",
       "\\end{enumerate*}\n",
       "\n",
       "\\emph{Levels}: \\begin{enumerate*}\n",
       "\\item 'casado'\n",
       "\\item 'solteiro'\n",
       "\\item 'viúvo'\n",
       "\\item 'divorciado'\n",
       "\\end{enumerate*}\n"
      ],
      "text/markdown": [
       "1. solteiro\n",
       "2. divorciado\n",
       "3. casado\n",
       "4. solteiro\n",
       "\n",
       "\n",
       "\n",
       "**Levels**: 1. 'casado'\n",
       "2. 'solteiro'\n",
       "3. 'viúvo'\n",
       "4. 'divorciado'\n",
       "\n",
       "\n"
      ],
      "text/plain": [
       "[1] solteiro   divorciado casado     solteiro  \n",
       "Levels: casado solteiro viúvo divorciado"
      ]
     },
     "metadata": {},
     "output_type": "display_data"
    }
   ],
   "source": [
    "levels(estado.civil) = c(levels(estado.civil), \"divorciado\")\n",
    "estado.civil[2] = \"divorciado\"\n",
    "estado.civil"
   ]
  },
  {
   "cell_type": "markdown",
   "metadata": {},
   "source": [
    "## Agrupamento com Data Frames"
   ]
  },
  {
   "cell_type": "code",
   "execution_count": 62,
   "metadata": {},
   "outputs": [
    {
     "data": {
      "text/html": [
       "<table>\n",
       "<thead><tr><th scope=col>species</th><th scope=col>x</th></tr></thead>\n",
       "<tbody>\n",
       "\t<tr><td>Iris-setosa    </td><td>5.006          </td></tr>\n",
       "\t<tr><td>Iris-versicolor</td><td>5.936          </td></tr>\n",
       "\t<tr><td>Iris-virginica </td><td>6.588          </td></tr>\n",
       "</tbody>\n",
       "</table>\n"
      ],
      "text/latex": [
       "\\begin{tabular}{r|ll}\n",
       " species & x\\\\\n",
       "\\hline\n",
       "\t Iris-setosa     & 5.006          \\\\\n",
       "\t Iris-versicolor & 5.936          \\\\\n",
       "\t Iris-virginica  & 6.588          \\\\\n",
       "\\end{tabular}\n"
      ],
      "text/markdown": [
       "\n",
       "species | x | \n",
       "|---|---|---|\n",
       "| Iris-setosa     | 5.006           | \n",
       "| Iris-versicolor | 5.936           | \n",
       "| Iris-virginica  | 6.588           | \n",
       "\n",
       "\n"
      ],
      "text/plain": [
       "  species         x    \n",
       "1 Iris-setosa     5.006\n",
       "2 Iris-versicolor 5.936\n",
       "3 Iris-virginica  6.588"
      ]
     },
     "metadata": {},
     "output_type": "display_data"
    }
   ],
   "source": [
    "aggregate(df$sepal_length, by=list(species=df$species), mean)"
   ]
  },
  {
   "cell_type": "code",
   "execution_count": 63,
   "metadata": {},
   "outputs": [
    {
     "data": {
      "text/html": [
       "<table>\n",
       "<thead><tr><th scope=col>species</th><th scope=col>x</th></tr></thead>\n",
       "<tbody>\n",
       "\t<tr><td>Iris-setosa    </td><td>0.3524897      </td></tr>\n",
       "\t<tr><td>Iris-versicolor</td><td>0.5161711      </td></tr>\n",
       "\t<tr><td>Iris-virginica </td><td>0.6358796      </td></tr>\n",
       "</tbody>\n",
       "</table>\n"
      ],
      "text/latex": [
       "\\begin{tabular}{r|ll}\n",
       " species & x\\\\\n",
       "\\hline\n",
       "\t Iris-setosa     & 0.3524897      \\\\\n",
       "\t Iris-versicolor & 0.5161711      \\\\\n",
       "\t Iris-virginica  & 0.6358796      \\\\\n",
       "\\end{tabular}\n"
      ],
      "text/markdown": [
       "\n",
       "species | x | \n",
       "|---|---|---|\n",
       "| Iris-setosa     | 0.3524897       | \n",
       "| Iris-versicolor | 0.5161711       | \n",
       "| Iris-virginica  | 0.6358796       | \n",
       "\n",
       "\n"
      ],
      "text/plain": [
       "  species         x        \n",
       "1 Iris-setosa     0.3524897\n",
       "2 Iris-versicolor 0.5161711\n",
       "3 Iris-virginica  0.6358796"
      ]
     },
     "metadata": {},
     "output_type": "display_data"
    }
   ],
   "source": [
    "aggregate(df$sepal_length, by=list(species=df$species), sd)"
   ]
  },
  {
   "cell_type": "code",
   "execution_count": 64,
   "metadata": {},
   "outputs": [
    {
     "data": {
      "text/html": [
       "<table>\n",
       "<thead><tr><th scope=col>species</th><th scope=col>sepal_length</th></tr></thead>\n",
       "<tbody>\n",
       "\t<tr><td>Iris-setosa    </td><td>5.006          </td></tr>\n",
       "\t<tr><td>Iris-versicolor</td><td>5.936          </td></tr>\n",
       "\t<tr><td>Iris-virginica </td><td>6.588          </td></tr>\n",
       "</tbody>\n",
       "</table>\n"
      ],
      "text/latex": [
       "\\begin{tabular}{r|ll}\n",
       " species & sepal\\_length\\\\\n",
       "\\hline\n",
       "\t Iris-setosa     & 5.006          \\\\\n",
       "\t Iris-versicolor & 5.936          \\\\\n",
       "\t Iris-virginica  & 6.588          \\\\\n",
       "\\end{tabular}\n"
      ],
      "text/markdown": [
       "\n",
       "species | sepal_length | \n",
       "|---|---|---|\n",
       "| Iris-setosa     | 5.006           | \n",
       "| Iris-versicolor | 5.936           | \n",
       "| Iris-virginica  | 6.588           | \n",
       "\n",
       "\n"
      ],
      "text/plain": [
       "  species         sepal_length\n",
       "1 Iris-setosa     5.006       \n",
       "2 Iris-versicolor 5.936       \n",
       "3 Iris-virginica  6.588       "
      ]
     },
     "metadata": {},
     "output_type": "display_data"
    }
   ],
   "source": [
    "aggregate(sepal_length ~ species, df, mean)"
   ]
  },
  {
   "cell_type": "markdown",
   "metadata": {},
   "source": [
    "## Transformações"
   ]
  },
  {
   "cell_type": "code",
   "execution_count": 65,
   "metadata": {},
   "outputs": [
    {
     "data": {
      "text/html": [
       "<table>\n",
       "<tbody>\n",
       "\t<tr><th scope=row>sepal_width</th><td>0</td><td>0</td><td>0</td><td>0</td><td>0</td><td>0</td><td>0</td><td>0</td><td>0</td><td>0</td><td>⋯</td><td>0</td><td>0</td><td>0</td><td>0</td><td>0</td><td>0</td><td>0</td><td>0</td><td>0</td><td>0</td></tr>\n",
       "\t<tr><th scope=row>sepal_length</th><td>1</td><td>1</td><td>1</td><td>1</td><td>1</td><td>1</td><td>1</td><td>1</td><td>1</td><td>1</td><td>⋯</td><td>1</td><td>1</td><td>1</td><td>1</td><td>1</td><td>1</td><td>1</td><td>1</td><td>1</td><td>1</td></tr>\n",
       "</tbody>\n",
       "</table>\n"
      ],
      "text/latex": [
       "\\begin{tabular}{r|llllllllllllllllllllllllllllllllllllllllllllllllllllllllllllllllllllllllllllllllllllllllllllllllllllllllllllllllllllllllllllllllllllllllllllllllllllll}\n",
       "\tsepal\\_width & 0 & 0 & 0 & 0 & 0 & 0 & 0 & 0 & 0 & 0 & ⋯ & 0 & 0 & 0 & 0 & 0 & 0 & 0 & 0 & 0 & 0\\\\\n",
       "\tsepal\\_length & 1 & 1 & 1 & 1 & 1 & 1 & 1 & 1 & 1 & 1 & ⋯ & 1 & 1 & 1 & 1 & 1 & 1 & 1 & 1 & 1 & 1\\\\\n",
       "\\end{tabular}\n"
      ],
      "text/markdown": [
       "\n",
       "| sepal_width | 0 | 0 | 0 | 0 | 0 | 0 | 0 | 0 | 0 | 0 | ⋯ | 0 | 0 | 0 | 0 | 0 | 0 | 0 | 0 | 0 | 0 | \n",
       "| sepal_length | 1 | 1 | 1 | 1 | 1 | 1 | 1 | 1 | 1 | 1 | ⋯ | 1 | 1 | 1 | 1 | 1 | 1 | 1 | 1 | 1 | 1 | \n",
       "\n",
       "\n"
      ],
      "text/plain": [
       "             [,1] [,2] [,3] [,4] [,5] [,6] [,7] [,8] [,9] [,10] [,11] [,12]\n",
       "sepal_width  0    0    0    0    0    0    0    0    0    0     ⋯     0    \n",
       "sepal_length 1    1    1    1    1    1    1    1    1    1     ⋯     1    \n",
       "             [,13] [,14] [,15] [,16] [,17] [,18] [,19] [,20] [,21]\n",
       "sepal_width  0     0     0     0     0     0     0     0     0    \n",
       "sepal_length 1     1     1     1     1     1     1     1     1    "
      ]
     },
     "metadata": {},
     "output_type": "display_data"
    }
   ],
   "source": [
    "# eixo 1 a função recebe linha a linha\n",
    "# vamos então transformar as colunas numéricas\n",
    "# deixando seus valores numa escala entre 0 e 1\n",
    "apply(df[,c('sepal_width', 'sepal_length')], \n",
    "      1, function(x) {(x - min(x)) / (max(x) - min(x))})"
   ]
  },
  {
   "cell_type": "code",
   "execution_count": 66,
   "metadata": {},
   "outputs": [
    {
     "data": {
      "text/html": [
       "<table>\n",
       "<thead><tr><th scope=col>sepal_width</th><th scope=col>sepal_length</th></tr></thead>\n",
       "<tbody>\n",
       "\t<tr><td>0.6250000 </td><td>0.22222222</td></tr>\n",
       "\t<tr><td>0.4166667 </td><td>0.16666667</td></tr>\n",
       "\t<tr><td>0.5000000 </td><td>0.11111111</td></tr>\n",
       "\t<tr><td>0.4583333 </td><td>0.08333333</td></tr>\n",
       "\t<tr><td>0.6666667 </td><td>0.19444444</td></tr>\n",
       "\t<tr><td>0.7916667 </td><td>0.30555556</td></tr>\n",
       "\t<tr><td>0.5833333 </td><td>0.08333333</td></tr>\n",
       "\t<tr><td>0.5833333 </td><td>0.19444444</td></tr>\n",
       "\t<tr><td>0.3750000 </td><td>0.02777778</td></tr>\n",
       "\t<tr><td>0.4583333 </td><td>0.16666667</td></tr>\n",
       "\t<tr><td>0.7083333 </td><td>0.30555556</td></tr>\n",
       "\t<tr><td>0.5833333 </td><td>0.13888889</td></tr>\n",
       "\t<tr><td>0.4166667 </td><td>0.13888889</td></tr>\n",
       "\t<tr><td>0.4166667 </td><td>0.00000000</td></tr>\n",
       "\t<tr><td>0.8333333 </td><td>0.41666667</td></tr>\n",
       "\t<tr><td>1.0000000 </td><td>0.38888889</td></tr>\n",
       "\t<tr><td>0.7916667 </td><td>0.30555556</td></tr>\n",
       "\t<tr><td>0.6250000 </td><td>0.22222222</td></tr>\n",
       "\t<tr><td>0.7500000 </td><td>0.38888889</td></tr>\n",
       "\t<tr><td>0.7500000 </td><td>0.22222222</td></tr>\n",
       "\t<tr><td>0.5833333 </td><td>0.30555556</td></tr>\n",
       "\t<tr><td>0.7083333 </td><td>0.22222222</td></tr>\n",
       "\t<tr><td>0.6666667 </td><td>0.08333333</td></tr>\n",
       "\t<tr><td>0.5416667 </td><td>0.22222222</td></tr>\n",
       "\t<tr><td>0.5833333 </td><td>0.13888889</td></tr>\n",
       "\t<tr><td>0.4166667 </td><td>0.19444444</td></tr>\n",
       "\t<tr><td>0.5833333 </td><td>0.19444444</td></tr>\n",
       "\t<tr><td>0.6250000 </td><td>0.25000000</td></tr>\n",
       "\t<tr><td>0.5833333 </td><td>0.25000000</td></tr>\n",
       "\t<tr><td>0.5000000 </td><td>0.11111111</td></tr>\n",
       "\t<tr><td>⋮</td><td>⋮</td></tr>\n",
       "\t<tr><td>0.5000000</td><td>0.7222222</td></tr>\n",
       "\t<tr><td>0.3333333</td><td>0.3611111</td></tr>\n",
       "\t<tr><td>0.3333333</td><td>0.9444444</td></tr>\n",
       "\t<tr><td>0.2916667</td><td>0.5555556</td></tr>\n",
       "\t<tr><td>0.5416667</td><td>0.6666667</td></tr>\n",
       "\t<tr><td>0.5000000</td><td>0.8055556</td></tr>\n",
       "\t<tr><td>0.3333333</td><td>0.5277778</td></tr>\n",
       "\t<tr><td>0.4166667</td><td>0.5000000</td></tr>\n",
       "\t<tr><td>0.3333333</td><td>0.5833333</td></tr>\n",
       "\t<tr><td>0.4166667</td><td>0.8055556</td></tr>\n",
       "\t<tr><td>0.3333333</td><td>0.8611111</td></tr>\n",
       "\t<tr><td>0.7500000</td><td>1.0000000</td></tr>\n",
       "\t<tr><td>0.3333333</td><td>0.5833333</td></tr>\n",
       "\t<tr><td>0.3333333</td><td>0.5555556</td></tr>\n",
       "\t<tr><td>0.2500000</td><td>0.5000000</td></tr>\n",
       "\t<tr><td>0.4166667</td><td>0.9444444</td></tr>\n",
       "\t<tr><td>0.5833333</td><td>0.5555556</td></tr>\n",
       "\t<tr><td>0.4583333</td><td>0.5833333</td></tr>\n",
       "\t<tr><td>0.4166667</td><td>0.4722222</td></tr>\n",
       "\t<tr><td>0.4583333</td><td>0.7222222</td></tr>\n",
       "\t<tr><td>0.4583333</td><td>0.6666667</td></tr>\n",
       "\t<tr><td>0.4583333</td><td>0.7222222</td></tr>\n",
       "\t<tr><td>0.2916667</td><td>0.4166667</td></tr>\n",
       "\t<tr><td>0.5000000</td><td>0.6944444</td></tr>\n",
       "\t<tr><td>0.5416667</td><td>0.6666667</td></tr>\n",
       "\t<tr><td>0.4166667</td><td>0.6666667</td></tr>\n",
       "\t<tr><td>0.2083333</td><td>0.5555556</td></tr>\n",
       "\t<tr><td>0.4166667</td><td>0.6111111</td></tr>\n",
       "\t<tr><td>0.5833333</td><td>0.5277778</td></tr>\n",
       "\t<tr><td>0.4166667</td><td>0.4444444</td></tr>\n",
       "</tbody>\n",
       "</table>\n"
      ],
      "text/latex": [
       "\\begin{tabular}{ll}\n",
       " sepal\\_width & sepal\\_length\\\\\n",
       "\\hline\n",
       "\t 0.6250000  & 0.22222222\\\\\n",
       "\t 0.4166667  & 0.16666667\\\\\n",
       "\t 0.5000000  & 0.11111111\\\\\n",
       "\t 0.4583333  & 0.08333333\\\\\n",
       "\t 0.6666667  & 0.19444444\\\\\n",
       "\t 0.7916667  & 0.30555556\\\\\n",
       "\t 0.5833333  & 0.08333333\\\\\n",
       "\t 0.5833333  & 0.19444444\\\\\n",
       "\t 0.3750000  & 0.02777778\\\\\n",
       "\t 0.4583333  & 0.16666667\\\\\n",
       "\t 0.7083333  & 0.30555556\\\\\n",
       "\t 0.5833333  & 0.13888889\\\\\n",
       "\t 0.4166667  & 0.13888889\\\\\n",
       "\t 0.4166667  & 0.00000000\\\\\n",
       "\t 0.8333333  & 0.41666667\\\\\n",
       "\t 1.0000000  & 0.38888889\\\\\n",
       "\t 0.7916667  & 0.30555556\\\\\n",
       "\t 0.6250000  & 0.22222222\\\\\n",
       "\t 0.7500000  & 0.38888889\\\\\n",
       "\t 0.7500000  & 0.22222222\\\\\n",
       "\t 0.5833333  & 0.30555556\\\\\n",
       "\t 0.7083333  & 0.22222222\\\\\n",
       "\t 0.6666667  & 0.08333333\\\\\n",
       "\t 0.5416667  & 0.22222222\\\\\n",
       "\t 0.5833333  & 0.13888889\\\\\n",
       "\t 0.4166667  & 0.19444444\\\\\n",
       "\t 0.5833333  & 0.19444444\\\\\n",
       "\t 0.6250000  & 0.25000000\\\\\n",
       "\t 0.5833333  & 0.25000000\\\\\n",
       "\t 0.5000000  & 0.11111111\\\\\n",
       "\t ⋮ & ⋮\\\\\n",
       "\t 0.5000000 & 0.7222222\\\\\n",
       "\t 0.3333333 & 0.3611111\\\\\n",
       "\t 0.3333333 & 0.9444444\\\\\n",
       "\t 0.2916667 & 0.5555556\\\\\n",
       "\t 0.5416667 & 0.6666667\\\\\n",
       "\t 0.5000000 & 0.8055556\\\\\n",
       "\t 0.3333333 & 0.5277778\\\\\n",
       "\t 0.4166667 & 0.5000000\\\\\n",
       "\t 0.3333333 & 0.5833333\\\\\n",
       "\t 0.4166667 & 0.8055556\\\\\n",
       "\t 0.3333333 & 0.8611111\\\\\n",
       "\t 0.7500000 & 1.0000000\\\\\n",
       "\t 0.3333333 & 0.5833333\\\\\n",
       "\t 0.3333333 & 0.5555556\\\\\n",
       "\t 0.2500000 & 0.5000000\\\\\n",
       "\t 0.4166667 & 0.9444444\\\\\n",
       "\t 0.5833333 & 0.5555556\\\\\n",
       "\t 0.4583333 & 0.5833333\\\\\n",
       "\t 0.4166667 & 0.4722222\\\\\n",
       "\t 0.4583333 & 0.7222222\\\\\n",
       "\t 0.4583333 & 0.6666667\\\\\n",
       "\t 0.4583333 & 0.7222222\\\\\n",
       "\t 0.2916667 & 0.4166667\\\\\n",
       "\t 0.5000000 & 0.6944444\\\\\n",
       "\t 0.5416667 & 0.6666667\\\\\n",
       "\t 0.4166667 & 0.6666667\\\\\n",
       "\t 0.2083333 & 0.5555556\\\\\n",
       "\t 0.4166667 & 0.6111111\\\\\n",
       "\t 0.5833333 & 0.5277778\\\\\n",
       "\t 0.4166667 & 0.4444444\\\\\n",
       "\\end{tabular}\n"
      ],
      "text/markdown": [
       "\n",
       "sepal_width | sepal_length | \n",
       "|---|---|---|---|---|---|---|---|---|---|---|---|---|---|---|---|---|---|---|---|---|---|---|---|---|---|---|---|---|---|---|---|---|---|---|---|---|---|---|---|---|---|---|---|---|---|---|---|---|---|---|---|---|---|---|---|---|---|---|---|---|\n",
       "| 0.6250000  | 0.22222222 | \n",
       "| 0.4166667  | 0.16666667 | \n",
       "| 0.5000000  | 0.11111111 | \n",
       "| 0.4583333  | 0.08333333 | \n",
       "| 0.6666667  | 0.19444444 | \n",
       "| 0.7916667  | 0.30555556 | \n",
       "| 0.5833333  | 0.08333333 | \n",
       "| 0.5833333  | 0.19444444 | \n",
       "| 0.3750000  | 0.02777778 | \n",
       "| 0.4583333  | 0.16666667 | \n",
       "| 0.7083333  | 0.30555556 | \n",
       "| 0.5833333  | 0.13888889 | \n",
       "| 0.4166667  | 0.13888889 | \n",
       "| 0.4166667  | 0.00000000 | \n",
       "| 0.8333333  | 0.41666667 | \n",
       "| 1.0000000  | 0.38888889 | \n",
       "| 0.7916667  | 0.30555556 | \n",
       "| 0.6250000  | 0.22222222 | \n",
       "| 0.7500000  | 0.38888889 | \n",
       "| 0.7500000  | 0.22222222 | \n",
       "| 0.5833333  | 0.30555556 | \n",
       "| 0.7083333  | 0.22222222 | \n",
       "| 0.6666667  | 0.08333333 | \n",
       "| 0.5416667  | 0.22222222 | \n",
       "| 0.5833333  | 0.13888889 | \n",
       "| 0.4166667  | 0.19444444 | \n",
       "| 0.5833333  | 0.19444444 | \n",
       "| 0.6250000  | 0.25000000 | \n",
       "| 0.5833333  | 0.25000000 | \n",
       "| 0.5000000  | 0.11111111 | \n",
       "| ⋮ | ⋮ | \n",
       "| 0.5000000 | 0.7222222 | \n",
       "| 0.3333333 | 0.3611111 | \n",
       "| 0.3333333 | 0.9444444 | \n",
       "| 0.2916667 | 0.5555556 | \n",
       "| 0.5416667 | 0.6666667 | \n",
       "| 0.5000000 | 0.8055556 | \n",
       "| 0.3333333 | 0.5277778 | \n",
       "| 0.4166667 | 0.5000000 | \n",
       "| 0.3333333 | 0.5833333 | \n",
       "| 0.4166667 | 0.8055556 | \n",
       "| 0.3333333 | 0.8611111 | \n",
       "| 0.7500000 | 1.0000000 | \n",
       "| 0.3333333 | 0.5833333 | \n",
       "| 0.3333333 | 0.5555556 | \n",
       "| 0.2500000 | 0.5000000 | \n",
       "| 0.4166667 | 0.9444444 | \n",
       "| 0.5833333 | 0.5555556 | \n",
       "| 0.4583333 | 0.5833333 | \n",
       "| 0.4166667 | 0.4722222 | \n",
       "| 0.4583333 | 0.7222222 | \n",
       "| 0.4583333 | 0.6666667 | \n",
       "| 0.4583333 | 0.7222222 | \n",
       "| 0.2916667 | 0.4166667 | \n",
       "| 0.5000000 | 0.6944444 | \n",
       "| 0.5416667 | 0.6666667 | \n",
       "| 0.4166667 | 0.6666667 | \n",
       "| 0.2083333 | 0.5555556 | \n",
       "| 0.4166667 | 0.6111111 | \n",
       "| 0.5833333 | 0.5277778 | \n",
       "| 0.4166667 | 0.4444444 | \n",
       "\n",
       "\n"
      ],
      "text/plain": [
       "      sepal_width sepal_length\n",
       " [1,] 0.6250000   0.22222222  \n",
       " [2,] 0.4166667   0.16666667  \n",
       " [3,] 0.5000000   0.11111111  \n",
       " [4,] 0.4583333   0.08333333  \n",
       " [5,] 0.6666667   0.19444444  \n",
       " [6,] 0.7916667   0.30555556  \n",
       " [7,] 0.5833333   0.08333333  \n",
       " [8,] 0.5833333   0.19444444  \n",
       " [9,] 0.3750000   0.02777778  \n",
       "[10,] 0.4583333   0.16666667  \n",
       "[11,] 0.7083333   0.30555556  \n",
       "[12,] 0.5833333   0.13888889  \n",
       "[13,] 0.4166667   0.13888889  \n",
       "[14,] 0.4166667   0.00000000  \n",
       "[15,] 0.8333333   0.41666667  \n",
       "[16,] 1.0000000   0.38888889  \n",
       "[17,] 0.7916667   0.30555556  \n",
       "[18,] 0.6250000   0.22222222  \n",
       "[19,] 0.7500000   0.38888889  \n",
       "[20,] 0.7500000   0.22222222  \n",
       "[21,] 0.5833333   0.30555556  \n",
       "[22,] 0.7083333   0.22222222  \n",
       "[23,] 0.6666667   0.08333333  \n",
       "[24,] 0.5416667   0.22222222  \n",
       "[25,] 0.5833333   0.13888889  \n",
       "[26,] 0.4166667   0.19444444  \n",
       "[27,] 0.5833333   0.19444444  \n",
       "[28,] 0.6250000   0.25000000  \n",
       "[29,] 0.5833333   0.25000000  \n",
       "[30,] 0.5000000   0.11111111  \n",
       "[31,] ⋮           ⋮           \n",
       "[32,] 0.5000000   0.7222222   \n",
       "[33,] 0.3333333   0.3611111   \n",
       "[34,] 0.3333333   0.9444444   \n",
       "[35,] 0.2916667   0.5555556   \n",
       "[36,] 0.5416667   0.6666667   \n",
       "[37,] 0.5000000   0.8055556   \n",
       "[38,] 0.3333333   0.5277778   \n",
       "[39,] 0.4166667   0.5000000   \n",
       "[40,] 0.3333333   0.5833333   \n",
       "[41,] 0.4166667   0.8055556   \n",
       "[42,] 0.3333333   0.8611111   \n",
       "[43,] 0.7500000   1.0000000   \n",
       "[44,] 0.3333333   0.5833333   \n",
       "[45,] 0.3333333   0.5555556   \n",
       "[46,] 0.2500000   0.5000000   \n",
       "[47,] 0.4166667   0.9444444   \n",
       "[48,] 0.5833333   0.5555556   \n",
       "[49,] 0.4583333   0.5833333   \n",
       "[50,] 0.4166667   0.4722222   \n",
       "[51,] 0.4583333   0.7222222   \n",
       "[52,] 0.4583333   0.6666667   \n",
       "[53,] 0.4583333   0.7222222   \n",
       "[54,] 0.2916667   0.4166667   \n",
       "[55,] 0.5000000   0.6944444   \n",
       "[56,] 0.5416667   0.6666667   \n",
       "[57,] 0.4166667   0.6666667   \n",
       "[58,] 0.2083333   0.5555556   \n",
       "[59,] 0.4166667   0.6111111   \n",
       "[60,] 0.5833333   0.5277778   \n",
       "[61,] 0.4166667   0.4444444   "
      ]
     },
     "metadata": {},
     "output_type": "display_data"
    }
   ],
   "source": [
    "# eixo 2 a função recebe uma coluna inteira\n",
    "# vamos então transformar as colunas numéricas\n",
    "# deixando seus valores numa escala entre 0 e 1\n",
    "apply(df[,c('sepal_width', 'sepal_length')], \n",
    "      2, function(x) {(x - min(x)) / (max(x) - min(x))})"
   ]
  },
  {
   "cell_type": "code",
   "execution_count": 67,
   "metadata": {},
   "outputs": [
    {
     "data": {
      "text/html": [
       "<dl>\n",
       "\t<dt>$`Iris-setosa`</dt>\n",
       "\t\t<dd><ol class=list-inline>\n",
       "\t<li>0.533333333333333</li>\n",
       "\t<li>0.4</li>\n",
       "\t<li>0.266666666666667</li>\n",
       "\t<li>0.2</li>\n",
       "\t<li>0.466666666666667</li>\n",
       "\t<li>0.733333333333334</li>\n",
       "\t<li>0.2</li>\n",
       "\t<li>0.466666666666667</li>\n",
       "\t<li>0.066666666666667</li>\n",
       "\t<li>0.4</li>\n",
       "\t<li>0.733333333333334</li>\n",
       "\t<li>0.333333333333333</li>\n",
       "\t<li>0.333333333333333</li>\n",
       "\t<li>0</li>\n",
       "\t<li>1</li>\n",
       "\t<li>0.933333333333334</li>\n",
       "\t<li>0.733333333333334</li>\n",
       "\t<li>0.533333333333333</li>\n",
       "\t<li>0.933333333333334</li>\n",
       "\t<li>0.533333333333333</li>\n",
       "\t<li>0.733333333333334</li>\n",
       "\t<li>0.533333333333333</li>\n",
       "\t<li>0.2</li>\n",
       "\t<li>0.533333333333333</li>\n",
       "\t<li>0.333333333333333</li>\n",
       "\t<li>0.466666666666667</li>\n",
       "\t<li>0.466666666666667</li>\n",
       "\t<li>0.6</li>\n",
       "\t<li>0.6</li>\n",
       "\t<li>0.266666666666667</li>\n",
       "\t<li>0.333333333333333</li>\n",
       "\t<li>0.733333333333334</li>\n",
       "\t<li>0.6</li>\n",
       "\t<li>0.8</li>\n",
       "\t<li>0.4</li>\n",
       "\t<li>0.466666666666667</li>\n",
       "\t<li>0.8</li>\n",
       "\t<li>0.4</li>\n",
       "\t<li>0.066666666666667</li>\n",
       "\t<li>0.533333333333333</li>\n",
       "\t<li>0.466666666666667</li>\n",
       "\t<li>0.133333333333333</li>\n",
       "\t<li>0.066666666666667</li>\n",
       "\t<li>0.466666666666667</li>\n",
       "\t<li>0.533333333333333</li>\n",
       "\t<li>0.333333333333333</li>\n",
       "\t<li>0.533333333333333</li>\n",
       "\t<li>0.2</li>\n",
       "\t<li>0.666666666666667</li>\n",
       "\t<li>0.466666666666667</li>\n",
       "</ol>\n",
       "</dd>\n",
       "\t<dt>$`Iris-versicolor`</dt>\n",
       "\t\t<dd><ol class=list-inline>\n",
       "\t<li>1</li>\n",
       "\t<li>0.714285714285714</li>\n",
       "\t<li>0.952380952380953</li>\n",
       "\t<li>0.285714285714286</li>\n",
       "\t<li>0.761904761904762</li>\n",
       "\t<li>0.380952380952381</li>\n",
       "\t<li>0.666666666666667</li>\n",
       "\t<li>0</li>\n",
       "\t<li>0.809523809523809</li>\n",
       "\t<li>0.142857142857143</li>\n",
       "\t<li>0.0476190476190475</li>\n",
       "\t<li>0.476190476190476</li>\n",
       "\t<li>0.523809523809524</li>\n",
       "\t<li>0.571428571428571</li>\n",
       "\t<li>0.333333333333333</li>\n",
       "\t<li>0.857142857142857</li>\n",
       "\t<li>0.333333333333333</li>\n",
       "\t<li>0.428571428571428</li>\n",
       "\t<li>0.619047619047619</li>\n",
       "\t<li>0.333333333333333</li>\n",
       "\t<li>0.476190476190476</li>\n",
       "\t<li>0.571428571428571</li>\n",
       "\t<li>0.666666666666667</li>\n",
       "\t<li>0.571428571428571</li>\n",
       "\t<li>0.714285714285714</li>\n",
       "\t<li>0.809523809523809</li>\n",
       "\t<li>0.904761904761905</li>\n",
       "\t<li>0.857142857142857</li>\n",
       "\t<li>0.523809523809524</li>\n",
       "\t<li>0.380952380952381</li>\n",
       "\t<li>0.285714285714286</li>\n",
       "\t<li>0.285714285714286</li>\n",
       "\t<li>0.428571428571428</li>\n",
       "\t<li>0.523809523809524</li>\n",
       "\t<li>0.238095238095238</li>\n",
       "\t<li>0.523809523809524</li>\n",
       "\t<li>0.857142857142857</li>\n",
       "\t<li>0.666666666666667</li>\n",
       "\t<li>0.333333333333333</li>\n",
       "\t<li>0.285714285714286</li>\n",
       "\t<li>0.285714285714286</li>\n",
       "\t<li>0.571428571428571</li>\n",
       "\t<li>0.428571428571428</li>\n",
       "\t<li>0.0476190476190475</li>\n",
       "\t<li>0.333333333333333</li>\n",
       "\t<li>0.380952380952381</li>\n",
       "\t<li>0.380952380952381</li>\n",
       "\t<li>0.619047619047619</li>\n",
       "\t<li>0.0952380952380949</li>\n",
       "\t<li>0.380952380952381</li>\n",
       "</ol>\n",
       "</dd>\n",
       "\t<dt>$`Iris-virginica`</dt>\n",
       "\t\t<dd><ol class=list-inline>\n",
       "\t<li>0.466666666666667</li>\n",
       "\t<li>0.3</li>\n",
       "\t<li>0.733333333333333</li>\n",
       "\t<li>0.466666666666667</li>\n",
       "\t<li>0.533333333333333</li>\n",
       "\t<li>0.9</li>\n",
       "\t<li>0</li>\n",
       "\t<li>0.8</li>\n",
       "\t<li>0.6</li>\n",
       "\t<li>0.766666666666667</li>\n",
       "\t<li>0.533333333333333</li>\n",
       "\t<li>0.5</li>\n",
       "\t<li>0.633333333333333</li>\n",
       "\t<li>0.266666666666667</li>\n",
       "\t<li>0.3</li>\n",
       "\t<li>0.5</li>\n",
       "\t<li>0.533333333333333</li>\n",
       "\t<li>0.933333333333333</li>\n",
       "\t<li>0.933333333333333</li>\n",
       "\t<li>0.366666666666667</li>\n",
       "\t<li>0.666666666666667</li>\n",
       "\t<li>0.233333333333333</li>\n",
       "\t<li>0.933333333333333</li>\n",
       "\t<li>0.466666666666667</li>\n",
       "\t<li>0.6</li>\n",
       "\t<li>0.766666666666667</li>\n",
       "\t<li>0.433333333333333</li>\n",
       "\t<li>0.4</li>\n",
       "\t<li>0.5</li>\n",
       "\t<li>0.766666666666667</li>\n",
       "\t<li>0.833333333333333</li>\n",
       "\t<li>1</li>\n",
       "\t<li>0.5</li>\n",
       "\t<li>0.466666666666667</li>\n",
       "\t<li>0.4</li>\n",
       "\t<li>0.933333333333333</li>\n",
       "\t<li>0.466666666666667</li>\n",
       "\t<li>0.5</li>\n",
       "\t<li>0.366666666666667</li>\n",
       "\t<li>0.666666666666667</li>\n",
       "\t<li>0.6</li>\n",
       "\t<li>0.666666666666667</li>\n",
       "\t<li>0.3</li>\n",
       "\t<li>0.633333333333333</li>\n",
       "\t<li>0.6</li>\n",
       "\t<li>0.6</li>\n",
       "\t<li>0.466666666666667</li>\n",
       "\t<li>0.533333333333333</li>\n",
       "\t<li>0.433333333333333</li>\n",
       "\t<li>0.333333333333333</li>\n",
       "</ol>\n",
       "</dd>\n",
       "</dl>\n"
      ],
      "text/latex": [
       "\\begin{description}\n",
       "\\item[\\$`Iris-setosa`] \\begin{enumerate*}\n",
       "\\item 0.533333333333333\n",
       "\\item 0.4\n",
       "\\item 0.266666666666667\n",
       "\\item 0.2\n",
       "\\item 0.466666666666667\n",
       "\\item 0.733333333333334\n",
       "\\item 0.2\n",
       "\\item 0.466666666666667\n",
       "\\item 0.066666666666667\n",
       "\\item 0.4\n",
       "\\item 0.733333333333334\n",
       "\\item 0.333333333333333\n",
       "\\item 0.333333333333333\n",
       "\\item 0\n",
       "\\item 1\n",
       "\\item 0.933333333333334\n",
       "\\item 0.733333333333334\n",
       "\\item 0.533333333333333\n",
       "\\item 0.933333333333334\n",
       "\\item 0.533333333333333\n",
       "\\item 0.733333333333334\n",
       "\\item 0.533333333333333\n",
       "\\item 0.2\n",
       "\\item 0.533333333333333\n",
       "\\item 0.333333333333333\n",
       "\\item 0.466666666666667\n",
       "\\item 0.466666666666667\n",
       "\\item 0.6\n",
       "\\item 0.6\n",
       "\\item 0.266666666666667\n",
       "\\item 0.333333333333333\n",
       "\\item 0.733333333333334\n",
       "\\item 0.6\n",
       "\\item 0.8\n",
       "\\item 0.4\n",
       "\\item 0.466666666666667\n",
       "\\item 0.8\n",
       "\\item 0.4\n",
       "\\item 0.066666666666667\n",
       "\\item 0.533333333333333\n",
       "\\item 0.466666666666667\n",
       "\\item 0.133333333333333\n",
       "\\item 0.066666666666667\n",
       "\\item 0.466666666666667\n",
       "\\item 0.533333333333333\n",
       "\\item 0.333333333333333\n",
       "\\item 0.533333333333333\n",
       "\\item 0.2\n",
       "\\item 0.666666666666667\n",
       "\\item 0.466666666666667\n",
       "\\end{enumerate*}\n",
       "\n",
       "\\item[\\$`Iris-versicolor`] \\begin{enumerate*}\n",
       "\\item 1\n",
       "\\item 0.714285714285714\n",
       "\\item 0.952380952380953\n",
       "\\item 0.285714285714286\n",
       "\\item 0.761904761904762\n",
       "\\item 0.380952380952381\n",
       "\\item 0.666666666666667\n",
       "\\item 0\n",
       "\\item 0.809523809523809\n",
       "\\item 0.142857142857143\n",
       "\\item 0.0476190476190475\n",
       "\\item 0.476190476190476\n",
       "\\item 0.523809523809524\n",
       "\\item 0.571428571428571\n",
       "\\item 0.333333333333333\n",
       "\\item 0.857142857142857\n",
       "\\item 0.333333333333333\n",
       "\\item 0.428571428571428\n",
       "\\item 0.619047619047619\n",
       "\\item 0.333333333333333\n",
       "\\item 0.476190476190476\n",
       "\\item 0.571428571428571\n",
       "\\item 0.666666666666667\n",
       "\\item 0.571428571428571\n",
       "\\item 0.714285714285714\n",
       "\\item 0.809523809523809\n",
       "\\item 0.904761904761905\n",
       "\\item 0.857142857142857\n",
       "\\item 0.523809523809524\n",
       "\\item 0.380952380952381\n",
       "\\item 0.285714285714286\n",
       "\\item 0.285714285714286\n",
       "\\item 0.428571428571428\n",
       "\\item 0.523809523809524\n",
       "\\item 0.238095238095238\n",
       "\\item 0.523809523809524\n",
       "\\item 0.857142857142857\n",
       "\\item 0.666666666666667\n",
       "\\item 0.333333333333333\n",
       "\\item 0.285714285714286\n",
       "\\item 0.285714285714286\n",
       "\\item 0.571428571428571\n",
       "\\item 0.428571428571428\n",
       "\\item 0.0476190476190475\n",
       "\\item 0.333333333333333\n",
       "\\item 0.380952380952381\n",
       "\\item 0.380952380952381\n",
       "\\item 0.619047619047619\n",
       "\\item 0.0952380952380949\n",
       "\\item 0.380952380952381\n",
       "\\end{enumerate*}\n",
       "\n",
       "\\item[\\$`Iris-virginica`] \\begin{enumerate*}\n",
       "\\item 0.466666666666667\n",
       "\\item 0.3\n",
       "\\item 0.733333333333333\n",
       "\\item 0.466666666666667\n",
       "\\item 0.533333333333333\n",
       "\\item 0.9\n",
       "\\item 0\n",
       "\\item 0.8\n",
       "\\item 0.6\n",
       "\\item 0.766666666666667\n",
       "\\item 0.533333333333333\n",
       "\\item 0.5\n",
       "\\item 0.633333333333333\n",
       "\\item 0.266666666666667\n",
       "\\item 0.3\n",
       "\\item 0.5\n",
       "\\item 0.533333333333333\n",
       "\\item 0.933333333333333\n",
       "\\item 0.933333333333333\n",
       "\\item 0.366666666666667\n",
       "\\item 0.666666666666667\n",
       "\\item 0.233333333333333\n",
       "\\item 0.933333333333333\n",
       "\\item 0.466666666666667\n",
       "\\item 0.6\n",
       "\\item 0.766666666666667\n",
       "\\item 0.433333333333333\n",
       "\\item 0.4\n",
       "\\item 0.5\n",
       "\\item 0.766666666666667\n",
       "\\item 0.833333333333333\n",
       "\\item 1\n",
       "\\item 0.5\n",
       "\\item 0.466666666666667\n",
       "\\item 0.4\n",
       "\\item 0.933333333333333\n",
       "\\item 0.466666666666667\n",
       "\\item 0.5\n",
       "\\item 0.366666666666667\n",
       "\\item 0.666666666666667\n",
       "\\item 0.6\n",
       "\\item 0.666666666666667\n",
       "\\item 0.3\n",
       "\\item 0.633333333333333\n",
       "\\item 0.6\n",
       "\\item 0.6\n",
       "\\item 0.466666666666667\n",
       "\\item 0.533333333333333\n",
       "\\item 0.433333333333333\n",
       "\\item 0.333333333333333\n",
       "\\end{enumerate*}\n",
       "\n",
       "\\end{description}\n"
      ],
      "text/markdown": [
       "$`Iris-setosa`\n",
       ":   1. 0.533333333333333\n",
       "2. 0.4\n",
       "3. 0.266666666666667\n",
       "4. 0.2\n",
       "5. 0.466666666666667\n",
       "6. 0.733333333333334\n",
       "7. 0.2\n",
       "8. 0.466666666666667\n",
       "9. 0.066666666666667\n",
       "10. 0.4\n",
       "11. 0.733333333333334\n",
       "12. 0.333333333333333\n",
       "13. 0.333333333333333\n",
       "14. 0\n",
       "15. 1\n",
       "16. 0.933333333333334\n",
       "17. 0.733333333333334\n",
       "18. 0.533333333333333\n",
       "19. 0.933333333333334\n",
       "20. 0.533333333333333\n",
       "21. 0.733333333333334\n",
       "22. 0.533333333333333\n",
       "23. 0.2\n",
       "24. 0.533333333333333\n",
       "25. 0.333333333333333\n",
       "26. 0.466666666666667\n",
       "27. 0.466666666666667\n",
       "28. 0.6\n",
       "29. 0.6\n",
       "30. 0.266666666666667\n",
       "31. 0.333333333333333\n",
       "32. 0.733333333333334\n",
       "33. 0.6\n",
       "34. 0.8\n",
       "35. 0.4\n",
       "36. 0.466666666666667\n",
       "37. 0.8\n",
       "38. 0.4\n",
       "39. 0.066666666666667\n",
       "40. 0.533333333333333\n",
       "41. 0.466666666666667\n",
       "42. 0.133333333333333\n",
       "43. 0.066666666666667\n",
       "44. 0.466666666666667\n",
       "45. 0.533333333333333\n",
       "46. 0.333333333333333\n",
       "47. 0.533333333333333\n",
       "48. 0.2\n",
       "49. 0.666666666666667\n",
       "50. 0.466666666666667\n",
       "\n",
       "\n",
       "\n",
       "$`Iris-versicolor`\n",
       ":   1. 1\n",
       "2. 0.714285714285714\n",
       "3. 0.952380952380953\n",
       "4. 0.285714285714286\n",
       "5. 0.761904761904762\n",
       "6. 0.380952380952381\n",
       "7. 0.666666666666667\n",
       "8. 0\n",
       "9. 0.809523809523809\n",
       "10. 0.142857142857143\n",
       "11. 0.0476190476190475\n",
       "12. 0.476190476190476\n",
       "13. 0.523809523809524\n",
       "14. 0.571428571428571\n",
       "15. 0.333333333333333\n",
       "16. 0.857142857142857\n",
       "17. 0.333333333333333\n",
       "18. 0.428571428571428\n",
       "19. 0.619047619047619\n",
       "20. 0.333333333333333\n",
       "21. 0.476190476190476\n",
       "22. 0.571428571428571\n",
       "23. 0.666666666666667\n",
       "24. 0.571428571428571\n",
       "25. 0.714285714285714\n",
       "26. 0.809523809523809\n",
       "27. 0.904761904761905\n",
       "28. 0.857142857142857\n",
       "29. 0.523809523809524\n",
       "30. 0.380952380952381\n",
       "31. 0.285714285714286\n",
       "32. 0.285714285714286\n",
       "33. 0.428571428571428\n",
       "34. 0.523809523809524\n",
       "35. 0.238095238095238\n",
       "36. 0.523809523809524\n",
       "37. 0.857142857142857\n",
       "38. 0.666666666666667\n",
       "39. 0.333333333333333\n",
       "40. 0.285714285714286\n",
       "41. 0.285714285714286\n",
       "42. 0.571428571428571\n",
       "43. 0.428571428571428\n",
       "44. 0.0476190476190475\n",
       "45. 0.333333333333333\n",
       "46. 0.380952380952381\n",
       "47. 0.380952380952381\n",
       "48. 0.619047619047619\n",
       "49. 0.0952380952380949\n",
       "50. 0.380952380952381\n",
       "\n",
       "\n",
       "\n",
       "$`Iris-virginica`\n",
       ":   1. 0.466666666666667\n",
       "2. 0.3\n",
       "3. 0.733333333333333\n",
       "4. 0.466666666666667\n",
       "5. 0.533333333333333\n",
       "6. 0.9\n",
       "7. 0\n",
       "8. 0.8\n",
       "9. 0.6\n",
       "10. 0.766666666666667\n",
       "11. 0.533333333333333\n",
       "12. 0.5\n",
       "13. 0.633333333333333\n",
       "14. 0.266666666666667\n",
       "15. 0.3\n",
       "16. 0.5\n",
       "17. 0.533333333333333\n",
       "18. 0.933333333333333\n",
       "19. 0.933333333333333\n",
       "20. 0.366666666666667\n",
       "21. 0.666666666666667\n",
       "22. 0.233333333333333\n",
       "23. 0.933333333333333\n",
       "24. 0.466666666666667\n",
       "25. 0.6\n",
       "26. 0.766666666666667\n",
       "27. 0.433333333333333\n",
       "28. 0.4\n",
       "29. 0.5\n",
       "30. 0.766666666666667\n",
       "31. 0.833333333333333\n",
       "32. 1\n",
       "33. 0.5\n",
       "34. 0.466666666666667\n",
       "35. 0.4\n",
       "36. 0.933333333333333\n",
       "37. 0.466666666666667\n",
       "38. 0.5\n",
       "39. 0.366666666666667\n",
       "40. 0.666666666666667\n",
       "41. 0.6\n",
       "42. 0.666666666666667\n",
       "43. 0.3\n",
       "44. 0.633333333333333\n",
       "45. 0.6\n",
       "46. 0.6\n",
       "47. 0.466666666666667\n",
       "48. 0.533333333333333\n",
       "49. 0.433333333333333\n",
       "50. 0.333333333333333\n",
       "\n",
       "\n",
       "\n",
       "\n",
       "\n"
      ],
      "text/plain": [
       "$`Iris-setosa`\n",
       " [1] 0.53333333 0.40000000 0.26666667 0.20000000 0.46666667 0.73333333\n",
       " [7] 0.20000000 0.46666667 0.06666667 0.40000000 0.73333333 0.33333333\n",
       "[13] 0.33333333 0.00000000 1.00000000 0.93333333 0.73333333 0.53333333\n",
       "[19] 0.93333333 0.53333333 0.73333333 0.53333333 0.20000000 0.53333333\n",
       "[25] 0.33333333 0.46666667 0.46666667 0.60000000 0.60000000 0.26666667\n",
       "[31] 0.33333333 0.73333333 0.60000000 0.80000000 0.40000000 0.46666667\n",
       "[37] 0.80000000 0.40000000 0.06666667 0.53333333 0.46666667 0.13333333\n",
       "[43] 0.06666667 0.46666667 0.53333333 0.33333333 0.53333333 0.20000000\n",
       "[49] 0.66666667 0.46666667\n",
       "\n",
       "$`Iris-versicolor`\n",
       " [1] 1.00000000 0.71428571 0.95238095 0.28571429 0.76190476 0.38095238\n",
       " [7] 0.66666667 0.00000000 0.80952381 0.14285714 0.04761905 0.47619048\n",
       "[13] 0.52380952 0.57142857 0.33333333 0.85714286 0.33333333 0.42857143\n",
       "[19] 0.61904762 0.33333333 0.47619048 0.57142857 0.66666667 0.57142857\n",
       "[25] 0.71428571 0.80952381 0.90476190 0.85714286 0.52380952 0.38095238\n",
       "[31] 0.28571429 0.28571429 0.42857143 0.52380952 0.23809524 0.52380952\n",
       "[37] 0.85714286 0.66666667 0.33333333 0.28571429 0.28571429 0.57142857\n",
       "[43] 0.42857143 0.04761905 0.33333333 0.38095238 0.38095238 0.61904762\n",
       "[49] 0.09523810 0.38095238\n",
       "\n",
       "$`Iris-virginica`\n",
       " [1] 0.4666667 0.3000000 0.7333333 0.4666667 0.5333333 0.9000000 0.0000000\n",
       " [8] 0.8000000 0.6000000 0.7666667 0.5333333 0.5000000 0.6333333 0.2666667\n",
       "[15] 0.3000000 0.5000000 0.5333333 0.9333333 0.9333333 0.3666667 0.6666667\n",
       "[22] 0.2333333 0.9333333 0.4666667 0.6000000 0.7666667 0.4333333 0.4000000\n",
       "[29] 0.5000000 0.7666667 0.8333333 1.0000000 0.5000000 0.4666667 0.4000000\n",
       "[36] 0.9333333 0.4666667 0.5000000 0.3666667 0.6666667 0.6000000 0.6666667\n",
       "[43] 0.3000000 0.6333333 0.6000000 0.6000000 0.4666667 0.5333333 0.4333333\n",
       "[50] 0.3333333\n"
      ]
     },
     "metadata": {},
     "output_type": "display_data"
    }
   ],
   "source": [
    "tapply(df$sepal_length, df$species, FUN=function(x) {(x - min(x)) / (max(x) - min(x))})"
   ]
  },
  {
   "cell_type": "markdown",
   "metadata": {},
   "source": [
    "### Métodos de Mesclagem\n",
    "\n",
    "| Método | SQL Join         \n",
    "| :- |:--------:\n",
    "| all.x | LEFT OUTER JOIN\n",
    "| all.y | RIGHT OUTER JOIN\n",
    "| all | FULL OUTER JOIN\n",
    "| default | INNER JOIN\n",
    "\n",
    "|  | \n",
    "| :- |:--------:\n",
    "| ![left join](img_leftjoin.gif) | ![right join](img_rightjoin.gif) | ![outer join](img_fulljoin.gif) | ![inner join](img_innerjoin.gif) |\n",
    "\n",
    "\\**imagem tirada de (https://www.w3schools.com/sql/sql_join.asp)*"
   ]
  },
  {
   "cell_type": "code",
   "execution_count": 68,
   "metadata": {},
   "outputs": [
    {
     "data": {
      "text/html": [
       "<table>\n",
       "<thead><tr><th scope=col>id</th><th scope=col>idade</th></tr></thead>\n",
       "<tbody>\n",
       "\t<tr><td>1 </td><td>32</td></tr>\n",
       "\t<tr><td>2 </td><td>21</td></tr>\n",
       "\t<tr><td>3 </td><td>30</td></tr>\n",
       "\t<tr><td>4 </td><td>27</td></tr>\n",
       "</tbody>\n",
       "</table>\n"
      ],
      "text/latex": [
       "\\begin{tabular}{r|ll}\n",
       " id & idade\\\\\n",
       "\\hline\n",
       "\t 1  & 32\\\\\n",
       "\t 2  & 21\\\\\n",
       "\t 3  & 30\\\\\n",
       "\t 4  & 27\\\\\n",
       "\\end{tabular}\n"
      ],
      "text/markdown": [
       "\n",
       "id | idade | \n",
       "|---|---|---|---|\n",
       "| 1  | 32 | \n",
       "| 2  | 21 | \n",
       "| 3  | 30 | \n",
       "| 4  | 27 | \n",
       "\n",
       "\n"
      ],
      "text/plain": [
       "  id idade\n",
       "1 1  32   \n",
       "2 2  21   \n",
       "3 3  30   \n",
       "4 4  27   "
      ]
     },
     "metadata": {},
     "output_type": "display_data"
    },
    {
     "data": {
      "text/html": [
       "<table>\n",
       "<thead><tr><th scope=col>id</th><th scope=col>gender</th></tr></thead>\n",
       "<tbody>\n",
       "\t<tr><td>3</td><td>M</td></tr>\n",
       "\t<tr><td>4</td><td>F</td></tr>\n",
       "\t<tr><td>5</td><td>F</td></tr>\n",
       "\t<tr><td>6</td><td>M</td></tr>\n",
       "</tbody>\n",
       "</table>\n"
      ],
      "text/latex": [
       "\\begin{tabular}{r|ll}\n",
       " id & gender\\\\\n",
       "\\hline\n",
       "\t 3 & M\\\\\n",
       "\t 4 & F\\\\\n",
       "\t 5 & F\\\\\n",
       "\t 6 & M\\\\\n",
       "\\end{tabular}\n"
      ],
      "text/markdown": [
       "\n",
       "id | gender | \n",
       "|---|---|---|---|\n",
       "| 3 | M | \n",
       "| 4 | F | \n",
       "| 5 | F | \n",
       "| 6 | M | \n",
       "\n",
       "\n"
      ],
      "text/plain": [
       "  id gender\n",
       "1 3  M     \n",
       "2 4  F     \n",
       "3 5  F     \n",
       "4 6  M     "
      ]
     },
     "metadata": {},
     "output_type": "display_data"
    }
   ],
   "source": [
    "x = data.frame(\"id\"=1:4, \"idade\"= c(32, 21, 30, 27)); x\n",
    "y = data.frame(\"id\"=3:6, \"gender\"= c(\"M\", \"F\", \"F\", \"M\")); y"
   ]
  },
  {
   "cell_type": "markdown",
   "metadata": {},
   "source": [
    "### Inner Join"
   ]
  },
  {
   "cell_type": "code",
   "execution_count": 69,
   "metadata": {},
   "outputs": [
    {
     "data": {
      "text/html": [
       "<table>\n",
       "<thead><tr><th scope=col>id</th><th scope=col>idade</th><th scope=col>gender</th></tr></thead>\n",
       "<tbody>\n",
       "\t<tr><td>3 </td><td>30</td><td>M </td></tr>\n",
       "\t<tr><td>4 </td><td>27</td><td>F </td></tr>\n",
       "</tbody>\n",
       "</table>\n"
      ],
      "text/latex": [
       "\\begin{tabular}{r|lll}\n",
       " id & idade & gender\\\\\n",
       "\\hline\n",
       "\t 3  & 30 & M \\\\\n",
       "\t 4  & 27 & F \\\\\n",
       "\\end{tabular}\n"
      ],
      "text/markdown": [
       "\n",
       "id | idade | gender | \n",
       "|---|---|\n",
       "| 3  | 30 | M  | \n",
       "| 4  | 27 | F  | \n",
       "\n",
       "\n"
      ],
      "text/plain": [
       "  id idade gender\n",
       "1 3  30    M     \n",
       "2 4  27    F     "
      ]
     },
     "metadata": {},
     "output_type": "display_data"
    }
   ],
   "source": [
    "merge(x, y, by=\"id\")"
   ]
  },
  {
   "cell_type": "markdown",
   "metadata": {},
   "source": [
    "### Left join"
   ]
  },
  {
   "cell_type": "code",
   "execution_count": 70,
   "metadata": {},
   "outputs": [
    {
     "data": {
      "text/html": [
       "<table>\n",
       "<thead><tr><th scope=col>id</th><th scope=col>idade</th><th scope=col>gender</th></tr></thead>\n",
       "<tbody>\n",
       "\t<tr><td>1 </td><td>32</td><td>NA</td></tr>\n",
       "\t<tr><td>2 </td><td>21</td><td>NA</td></tr>\n",
       "\t<tr><td>3 </td><td>30</td><td>M </td></tr>\n",
       "\t<tr><td>4 </td><td>27</td><td>F </td></tr>\n",
       "</tbody>\n",
       "</table>\n"
      ],
      "text/latex": [
       "\\begin{tabular}{r|lll}\n",
       " id & idade & gender\\\\\n",
       "\\hline\n",
       "\t 1  & 32 & NA\\\\\n",
       "\t 2  & 21 & NA\\\\\n",
       "\t 3  & 30 & M \\\\\n",
       "\t 4  & 27 & F \\\\\n",
       "\\end{tabular}\n"
      ],
      "text/markdown": [
       "\n",
       "id | idade | gender | \n",
       "|---|---|---|---|\n",
       "| 1  | 32 | NA | \n",
       "| 2  | 21 | NA | \n",
       "| 3  | 30 | M  | \n",
       "| 4  | 27 | F  | \n",
       "\n",
       "\n"
      ],
      "text/plain": [
       "  id idade gender\n",
       "1 1  32    NA    \n",
       "2 2  21    NA    \n",
       "3 3  30    M     \n",
       "4 4  27    F     "
      ]
     },
     "metadata": {},
     "output_type": "display_data"
    }
   ],
   "source": [
    "merge(x, y, by=\"id\", all.x = TRUE)"
   ]
  },
  {
   "cell_type": "markdown",
   "metadata": {},
   "source": [
    "### Right join"
   ]
  },
  {
   "cell_type": "code",
   "execution_count": 71,
   "metadata": {},
   "outputs": [
    {
     "data": {
      "text/html": [
       "<table>\n",
       "<thead><tr><th scope=col>id</th><th scope=col>idade</th><th scope=col>gender</th></tr></thead>\n",
       "<tbody>\n",
       "\t<tr><td>3 </td><td>30</td><td>M </td></tr>\n",
       "\t<tr><td>4 </td><td>27</td><td>F </td></tr>\n",
       "\t<tr><td>5 </td><td>NA</td><td>F </td></tr>\n",
       "\t<tr><td>6 </td><td>NA</td><td>M </td></tr>\n",
       "</tbody>\n",
       "</table>\n"
      ],
      "text/latex": [
       "\\begin{tabular}{r|lll}\n",
       " id & idade & gender\\\\\n",
       "\\hline\n",
       "\t 3  & 30 & M \\\\\n",
       "\t 4  & 27 & F \\\\\n",
       "\t 5  & NA & F \\\\\n",
       "\t 6  & NA & M \\\\\n",
       "\\end{tabular}\n"
      ],
      "text/markdown": [
       "\n",
       "id | idade | gender | \n",
       "|---|---|---|---|\n",
       "| 3  | 30 | M  | \n",
       "| 4  | 27 | F  | \n",
       "| 5  | NA | F  | \n",
       "| 6  | NA | M  | \n",
       "\n",
       "\n"
      ],
      "text/plain": [
       "  id idade gender\n",
       "1 3  30    M     \n",
       "2 4  27    F     \n",
       "3 5  NA    F     \n",
       "4 6  NA    M     "
      ]
     },
     "metadata": {},
     "output_type": "display_data"
    }
   ],
   "source": [
    "merge(x, y, by.x=\"id\", by.y=\"id\", all.y = TRUE)"
   ]
  },
  {
   "cell_type": "markdown",
   "metadata": {},
   "source": [
    "### Outer join"
   ]
  },
  {
   "cell_type": "code",
   "execution_count": 72,
   "metadata": {},
   "outputs": [
    {
     "data": {
      "text/html": [
       "<table>\n",
       "<thead><tr><th scope=col>id</th><th scope=col>idade</th><th scope=col>gender</th></tr></thead>\n",
       "<tbody>\n",
       "\t<tr><td>1 </td><td>32</td><td>NA</td></tr>\n",
       "\t<tr><td>2 </td><td>21</td><td>NA</td></tr>\n",
       "\t<tr><td>3 </td><td>30</td><td>M </td></tr>\n",
       "\t<tr><td>4 </td><td>27</td><td>F </td></tr>\n",
       "\t<tr><td>5 </td><td>NA</td><td>F </td></tr>\n",
       "\t<tr><td>6 </td><td>NA</td><td>M </td></tr>\n",
       "</tbody>\n",
       "</table>\n"
      ],
      "text/latex": [
       "\\begin{tabular}{r|lll}\n",
       " id & idade & gender\\\\\n",
       "\\hline\n",
       "\t 1  & 32 & NA\\\\\n",
       "\t 2  & 21 & NA\\\\\n",
       "\t 3  & 30 & M \\\\\n",
       "\t 4  & 27 & F \\\\\n",
       "\t 5  & NA & F \\\\\n",
       "\t 6  & NA & M \\\\\n",
       "\\end{tabular}\n"
      ],
      "text/markdown": [
       "\n",
       "id | idade | gender | \n",
       "|---|---|---|---|---|---|\n",
       "| 1  | 32 | NA | \n",
       "| 2  | 21 | NA | \n",
       "| 3  | 30 | M  | \n",
       "| 4  | 27 | F  | \n",
       "| 5  | NA | F  | \n",
       "| 6  | NA | M  | \n",
       "\n",
       "\n"
      ],
      "text/plain": [
       "  id idade gender\n",
       "1 1  32    NA    \n",
       "2 2  21    NA    \n",
       "3 3  30    M     \n",
       "4 4  27    F     \n",
       "5 5  NA    F     \n",
       "6 6  NA    M     "
      ]
     },
     "metadata": {},
     "output_type": "display_data"
    }
   ],
   "source": [
    "merge(x, y, by=\"id\", all = TRUE)\n",
    "?merge"
   ]
  }
 ],
 "metadata": {
  "kernelspec": {
   "display_name": "R",
   "language": "R",
   "name": "ir"
  },
  "language_info": {
   "codemirror_mode": "r",
   "file_extension": ".r",
   "mimetype": "text/x-r-source",
   "name": "R",
   "pygments_lexer": "r",
   "version": "3.2.3"
  }
 },
 "nbformat": 4,
 "nbformat_minor": 2
}
