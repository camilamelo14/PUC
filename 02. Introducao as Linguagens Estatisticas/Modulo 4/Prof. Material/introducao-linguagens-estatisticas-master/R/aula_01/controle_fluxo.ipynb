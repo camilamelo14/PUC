{
 "cells": [
  {
   "cell_type": "markdown",
   "metadata": {},
   "source": [
    "# Controle de Fluxo\n",
    "\n",
    "Nesse jupyter notebook, vamos visitar os comandos (instruções) de controle de fluxo em R. São eles:\n",
    "\n",
    "- if..else\n",
    "- laços de repetição:\n",
    " - for\n",
    " - while\n",
    " \n",
    " \n",
    " \n",
    "## if...else\n",
    "\n",
    "O comando *if* é útilizado quando queremos bifurcações nas decisões em nosso código, ou seja, quando queremos executar um trecho do código apenas se uma determinada condição for satisfeita.\n",
    "\n",
    "A sintaxe do ```if``` em R é o seguinte:\n",
    "\n",
    "```R\n",
    "if (condicao) {\n",
    "    # corpo\n",
    "}\n",
    "```   \n",
    "\n",
    "Vamos escrever um código que imprime na tela se um dado número é positivo ou não."
   ]
  },
  {
   "cell_type": "code",
   "execution_count": 9,
   "metadata": {},
   "outputs": [
    {
     "name": "stdout",
     "output_type": "stream",
     "text": [
      "[1] \"positivo\"\n"
     ]
    }
   ],
   "source": [
    "num <- 3\n",
    "\n",
    "if (num >= 0) {\n",
    "  print(\"positivo\")\n",
    "}\n",
    "\n",
    "if ( num < 0) {\n",
    "    print(\"negativo\")  \n",
    "}"
   ]
  },
  {
   "cell_type": "markdown",
   "metadata": {},
   "source": [
    "No exemplo, acima queríamo imprimir na tela se o número é positivo ou não. Porém, as duas expressões ```if``` são analisadas. Isso não é necessário, pois uma é o contrário da outra. \n",
    "\n",
    "Nesse tipo de situação utilizamos a expressão ```else```, que significa: *caso a condição anterior [da cláusula ```if```] não seja satisfeita execute o comando*. Rescrevendo o código acima:"
   ]
  },
  {
   "cell_type": "code",
   "execution_count": 14,
   "metadata": {},
   "outputs": [
    {
     "name": "stdout",
     "output_type": "stream",
     "text": [
      "[1] \"positivo\"\n"
     ]
    }
   ],
   "source": [
    "num <- 0\n",
    "\n",
    "if (num >= 0) {\n",
    "  print(\"positivo\")\n",
    "} else {\n",
    "    print(\"negativo\")  \n",
    "}"
   ]
  },
  {
   "cell_type": "markdown",
   "metadata": {},
   "source": [
    "Caso quiséssemos que o ```else``` fosse executado apenas para condições especificas? Para isso existe o comando ```else if```. Com ele conseguimos especificar varias outras condições. Voltando ao exemplo anterior, suponhamos que além de saber se um número é positivo e negativo, queremos também saber se ele é zero."
   ]
  },
  {
   "cell_type": "code",
   "execution_count": 15,
   "metadata": {},
   "outputs": [
    {
     "name": "stdout",
     "output_type": "stream",
     "text": [
      "[1] \"zero\"\n"
     ]
    }
   ],
   "source": [
    "num = 0\n",
    "\n",
    "if (num > 0) {\n",
    "  print(\"positivo\")\n",
    "} else if (num < 0) {\n",
    "    print(\"negativo\")  \n",
    "} else {\n",
    "    print(\"zero\")\n",
    "}"
   ]
  },
  {
   "cell_type": "markdown",
   "metadata": {},
   "source": [
    "## Laços de Repetição\n",
    "\n",
    "Laços são comandos com os quais podemos executar um bloco de código mais de uma vez. Geralmente, é utilizado para iterar sobre uma sequência (i.e., vector, string, matrix).\n",
    "\n",
    "### Comando for\n",
    "\n",
    "A sintaxe do comando for é basicamente o descrito abaixo:\n",
    "\n",
    "```python\n",
    "for (val in sequencia) {\n",
    "    # trecho de código\n",
    "}\n",
    "```\n",
    "\n",
    "```val``` corresponde a valor corrente da sequência que está sendo avaliado. O laço itera sobre todos os valores da sequência até que seu último item."
   ]
  },
  {
   "cell_type": "code",
   "execution_count": 21,
   "metadata": {},
   "outputs": [
    {
     "name": "stdout",
     "output_type": "stream",
     "text": [
      "[1] 55\n",
      "[1] 55\n"
     ]
    }
   ],
   "source": [
    "soma = 0\n",
    "n = 10\n",
    "for (val in 1:n){\n",
    "    soma = soma + val\n",
    "}\n",
    "print((n * (n + 1)) %/% 2)\n",
    "print(soma)"
   ]
  },
  {
   "cell_type": "markdown",
   "metadata": {},
   "source": [
    "### Comando while\n",
    "\n",
    "O laço while é utilizado para iterar sobre um bloco de código até que uma condição de parada seja alcançada, como mostrado no exemplo de sintacxe a seguir:\n",
    "\n",
    "```R\n",
    "while (condicao) {\n",
    "    # trecho de código\n",
    "}\n",
    "```\n",
    "\n",
    "No laço while, a condição é verificado antes. O corpo do while é executado se e somente se a condição for verdadeira.\n",
    "\n",
    "Vamos reescrever o exemplo anterior para utilizarmos o comando while."
   ]
  },
  {
   "cell_type": "code",
   "execution_count": 29,
   "metadata": {},
   "outputs": [
    {
     "name": "stdout",
     "output_type": "stream",
     "text": [
      "[1] 55\n",
      "[1] 55\n"
     ]
    }
   ],
   "source": [
    "soma = 0\n",
    "n = 10\n",
    "i = 1\n",
    "while (i <= n) {\n",
    "    soma = soma + i\n",
    "    i = i + 1\n",
    "}\n",
    "print(soma)\n",
    "print((n * (n + 1)) %/% 2)"
   ]
  },
  {
   "cell_type": "markdown",
   "metadata": {},
   "source": [
    "Na trecho de código acima, a condição ```i < n``` será verdadeira até que i seja menor igual a n (10 no nosso caso).\n",
    "\n",
    "A cada iteração, o valor de i é incrementado em uma unidade. Isso é muito importante (causa de muitos bugs), pois esquecendo disso pode-se causar loop infinito (laço nunca para de iterar).\n",
    "\n",
    "### Exercícios\n",
    "\n",
    "Para exercitar um pouco a sintaxe do R e o que foi passado, peço para que você faça o seguinte exercício:\n",
    "\n",
    "#### Exercício 1\n",
    "\n",
    "Escreva um código em R que diga se um número é primo ou não. Lembre-se todo número primo divisível por 1 e por si próprio (1 não é primo)."
   ]
  },
  {
   "cell_type": "code",
   "execution_count": 30,
   "metadata": {
    "collapsed": true
   },
   "outputs": [],
   "source": [
    "num = 89\n",
    "\n",
    "# seu código"
   ]
  },
  {
   "cell_type": "markdown",
   "metadata": {},
   "source": [
    "### Break e next\n",
    "\n",
    "O ```break``` é usado dentro de um loop (for, while) para parar as iterações e guiar o fluxo para fora do loop (igual ao Python)."
   ]
  },
  {
   "cell_type": "code",
   "execution_count": 31,
   "metadata": {},
   "outputs": [
    {
     "name": "stdout",
     "output_type": "stream",
     "text": [
      "[1] 1\n",
      "[1] 2\n",
      "[1] 3\n"
     ]
    }
   ],
   "source": [
    "for (val in 1:10) {\n",
    "    if (val == 4) {\n",
    "        break\n",
    "    }\n",
    "    print(val)\n",
    "}"
   ]
  },
  {
   "cell_type": "markdown",
   "metadata": {},
   "source": [
    "O ```next``` é util principalmente quando queremos pular a iteração corrente sem terminar o laço por completo (similar ao ```continue``` do Python)."
   ]
  },
  {
   "cell_type": "code",
   "execution_count": 33,
   "metadata": {},
   "outputs": [
    {
     "name": "stdout",
     "output_type": "stream",
     "text": [
      "[1] 1\n",
      "[1] 2\n",
      "[1] 3\n",
      "[1] 5\n",
      "[1] 6\n",
      "[1] 7\n",
      "[1] 8\n",
      "[1] 9\n",
      "[1] 10\n"
     ]
    }
   ],
   "source": [
    "x <- 1:5\n",
    "\n",
    "for (val in 1:10) {\n",
    "    if (val == 4) {\n",
    "        next\n",
    "    }\n",
    "    print(val)\n",
    "}"
   ]
  },
  {
   "cell_type": "markdown",
   "metadata": {},
   "source": [
    "## Repeat\n",
    "\n",
    "```R\n",
    "repeat (condicao) {\n",
    "    # trecho de código\n",
    "}\n",
    "```\n",
    "\n",
    "No corpo do laço é preciso utilizar o ```break``` caso contrário teríamos iterações infinitas."
   ]
  },
  {
   "cell_type": "code",
   "execution_count": 34,
   "metadata": {},
   "outputs": [
    {
     "name": "stdout",
     "output_type": "stream",
     "text": [
      "[1] 55\n",
      "[1] 55\n"
     ]
    }
   ],
   "source": [
    "soma = 0\n",
    "n = 10\n",
    "i = 1\n",
    "repeat {\n",
    "    soma = soma + i\n",
    "    i = i + 1\n",
    "}\n",
    "print(soma)\n",
    "print((n * (n + 1)) %/% 2)"
   ]
  }
 ],
 "metadata": {
  "kernelspec": {
   "display_name": "R",
   "language": "R",
   "name": "ir"
  },
  "language_info": {
   "codemirror_mode": "r",
   "file_extension": ".r",
   "mimetype": "text/x-r-source",
   "name": "R",
   "pygments_lexer": "r",
   "version": "3.2.3"
  }
 },
 "nbformat": 4,
 "nbformat_minor": 2
}
