{
 "cells": [
  {
   "cell_type": "markdown",
   "metadata": {},
   "source": [
    "<b> 1º Vetorização"
   ]
  },
  {
   "cell_type": "markdown",
   "metadata": {},
   "source": [
    "Muitas vezes em computação cientifíca, aprendizado de máquinas e análise de dados, nós temos de executar operações em listas, vetores ou matrizes.\n",
    "\n",
    "Por exemplo o somatório a seguir:"
   ]
  },
  {
   "cell_type": "markdown",
   "metadata": {},
   "source": [
    "$\\sum_{i=1}^N x_i$"
   ]
  },
  {
   "cell_type": "code",
   "execution_count": 10,
   "metadata": {},
   "outputs": [],
   "source": [
    "X = [1, 4, 6]"
   ]
  },
  {
   "cell_type": "code",
   "execution_count": 11,
   "metadata": {},
   "outputs": [
    {
     "data": {
      "text/plain": [
       "11"
      ]
     },
     "execution_count": 11,
     "metadata": {},
     "output_type": "execute_result"
    }
   ],
   "source": [
    "# TODO: Fazer a versão iterative (não vetorizada) -> Phyton nativo\n",
    "def soma(X):\n",
    "    s = 0\n",
    "    for x_i in X:\n",
    "        s += x_i\n",
    "    return s\n",
    "\n",
    "soma(X)"
   ]
  },
  {
   "cell_type": "code",
   "execution_count": 12,
   "metadata": {},
   "outputs": [
    {
     "data": {
      "text/plain": [
       "11"
      ]
     },
     "execution_count": 12,
     "metadata": {},
     "output_type": "execute_result"
    }
   ],
   "source": [
    "# TODO: versão vetorizada utilizando função sum do python\n",
    "sum(X)"
   ]
  },
  {
   "cell_type": "code",
   "execution_count": 14,
   "metadata": {},
   "outputs": [
    {
     "data": {
      "text/plain": [
       "11"
      ]
     },
     "execution_count": 14,
     "metadata": {},
     "output_type": "execute_result"
    }
   ],
   "source": [
    "# TODO: versão vetorizada com numpy\n",
    "import numpy as np #padrao global de alias\n",
    "\n",
    "np.sum(X)"
   ]
  },
  {
   "cell_type": "code",
   "execution_count": 16,
   "metadata": {},
   "outputs": [
    {
     "name": "stderr",
     "output_type": "stream",
     "text": [
      "C:\\Users\\clmo\\AppData\\Local\\Continuum\\anaconda3\\lib\\site-packages\\ipykernel_launcher.py:5: RuntimeWarning: overflow encountered in long_scalars\n",
      "  \"\"\"\n"
     ]
    },
    {
     "name": "stdout",
     "output_type": "stream",
     "text": [
      "1.18 s ± 49.2 ms per loop (mean ± std. dev. of 7 runs, 1 loop each)\n"
     ]
    },
    {
     "name": "stderr",
     "output_type": "stream",
     "text": [
      "C:\\Users\\clmo\\AppData\\Local\\Continuum\\anaconda3\\lib\\site-packages\\ipykernel_launcher.py:1: RuntimeWarning: overflow encountered in long_scalars\n",
      "  \"\"\"Entry point for launching an IPython kernel.\n"
     ]
    },
    {
     "name": "stdout",
     "output_type": "stream",
     "text": [
      "977 ms ± 37.3 ms per loop (mean ± std. dev. of 7 runs, 1 loop each)\n",
      "5.61 ms ± 123 µs per loop (mean ± std. dev. of 7 runs, 100 loops each)\n"
     ]
    }
   ],
   "source": [
    "X = np.random.randint(0, 1000, 10000000)\n",
    "\n",
    "# TODO: Exibir o tempo de execução\n",
    "\n",
    "#Funcao magica do IPy\n",
    "%timeit soma(X) #1.18 s ± 49.2 ms per loop\n",
    "%timeit sum(X) #977 ms ± 37.3 ms per loop\n",
    "%timeit np.sum(X) #5.61 ms ± 123 µs per loop"
   ]
  },
  {
   "cell_type": "markdown",
   "metadata": {},
   "source": [
    "Além do somatório, nós poderíamos querer elevar todos o números ao quadrado ou tirar o log deles. Na simbologia matemática seria assim, supondo que $X = \\{x_1, ..., x_N\\}$ seja um vetor com $N$ elementos. Queremos que $X^2 = \\{x_1^2, x_2^2, x_3^2, ..., x_N^2\\}$ e $\\log(X) = \\{\\log(x_1), \\log(x_2), \\log(x_3), ..., \\log(x_N)\\}$."
   ]
  },
  {
   "cell_type": "markdown",
   "metadata": {},
   "source": [
    "Vamos ver como ficaria vetorizado."
   ]
  },
  {
   "cell_type": "code",
   "execution_count": 18,
   "metadata": {},
   "outputs": [],
   "source": [
    "X = [1, 4, 6]"
   ]
  },
  {
   "cell_type": "code",
   "execution_count": 20,
   "metadata": {},
   "outputs": [
    {
     "data": {
      "text/plain": [
       "[1, 16, 36]"
      ]
     },
     "execution_count": 20,
     "metadata": {},
     "output_type": "execute_result"
    }
   ],
   "source": [
    "# TODO: Fazer a versão iterative (não vetorizada)\n",
    "def quadrado(X):\n",
    "    r = []\n",
    "    for x_i in X:\n",
    "        r.append(x_i * x_i)\n",
    "    return r\n",
    "\n",
    "quadrado(X)"
   ]
  },
  {
   "cell_type": "code",
   "execution_count": 25,
   "metadata": {},
   "outputs": [
    {
     "data": {
      "text/plain": [
       "[1, 16, 36]"
      ]
     },
     "execution_count": 25,
     "metadata": {},
     "output_type": "execute_result"
    }
   ],
   "source": [
    "# TODO: Fazer a versão iterative (não vetorizada)\n",
    "def quadrado_el(X):\n",
    "    return [x_i * x_i for x_i in X] #for reduzido\n",
    "\n",
    "quadrado_el(X)"
   ]
  },
  {
   "cell_type": "code",
   "execution_count": 22,
   "metadata": {},
   "outputs": [
    {
     "data": {
      "text/plain": [
       "[1, 16, 36]"
      ]
     },
     "execution_count": 22,
     "metadata": {},
     "output_type": "execute_result"
    }
   ],
   "source": [
    "# TODO: Fazer a versão iterative (não vetorizada)\n",
    "def quadrado_map(X):\n",
    "    return map(lambda x_i: x_i * x_i, X) #for reduzido\n",
    "\n",
    "list(quadrado_map(X))"
   ]
  },
  {
   "cell_type": "code",
   "execution_count": 23,
   "metadata": {},
   "outputs": [
    {
     "data": {
      "text/plain": [
       "array([ 1, 16, 36], dtype=int32)"
      ]
     },
     "execution_count": 23,
     "metadata": {},
     "output_type": "execute_result"
    }
   ],
   "source": [
    "# TODO: versão vetorizada com numpy\n",
    "import numpy as np\n",
    "\n",
    "np.power(X,2)"
   ]
  },
  {
   "cell_type": "code",
   "execution_count": 27,
   "metadata": {},
   "outputs": [
    {
     "name": "stdout",
     "output_type": "stream",
     "text": [
      "487 ns ± 11.6 ns per loop (mean ± std. dev. of 7 runs, 1000000 loops each)\n",
      "462 ns ± 17 ns per loop (mean ± std. dev. of 7 runs, 1000000 loops each)\n",
      "355 ns ± 0.918 ns per loop (mean ± std. dev. of 7 runs, 1000000 loops each)\n",
      "2.84 µs ± 101 ns per loop (mean ± std. dev. of 7 runs, 100000 loops each)\n"
     ]
    }
   ],
   "source": [
    "%timeit quadrado(X) #487 ns ± 11.6 ns per loop \n",
    "%timeit quadrado_el(X) #462 ns ± 17 ns per loop\n",
    "%timeit quadrado_map(X) #355 ns ± 0.918 ns per loop\n",
    "%timeit np.power(X,2) #2.84 µs ± 101 ns per loop"
   ]
  },
  {
   "cell_type": "markdown",
   "metadata": {},
   "source": [
    "<b> 2º Ndarray"
   ]
  },
  {
   "cell_type": "markdown",
   "metadata": {},
   "source": [
    "### Numpy"
   ]
  },
  {
   "cell_type": "markdown",
   "metadata": {},
   "source": [
    "Numpy é uma biblioteca (pacote python) que prove varias funções numéricas para trabalhamos eficientemente com array multidimensionais homogeneos. Esse array é uma tabela de elementes (geralmente de numeros), todos no mesmo tipo, indexados por uma tupla de inteiros positivos. No NumPy dimensões são chamadas de eixos (axes)."
   ]
  },
  {
   "cell_type": "markdown",
   "metadata": {},
   "source": [
    "Um exemplo de array multimensional de pontos flutuante."
   ]
  },
  {
   "cell_type": "code",
   "execution_count": 29,
   "metadata": {},
   "outputs": [
    {
     "data": {
      "text/plain": [
       "[[1.0, 0.0, 0.0], [0.0, 1.0, 2.0]]"
      ]
     },
     "execution_count": 29,
     "metadata": {},
     "output_type": "execute_result"
    }
   ],
   "source": [
    "[[ 1., 0., 0.],\n",
    " [ 0., 1., 2.]]"
   ]
  },
  {
   "cell_type": "markdown",
   "metadata": {},
   "source": [
    " Tipo do array do numpy é chamdo de ndarray. Os atributos mais importantes de um objeto do tipo ndarray são:\n",
    "\n",
    "- ndrray.ndim\n",
    "\n",
    "número de dimensões (eixos) que o array possui\n",
    "\n",
    "- ndarray.shape\n",
    "\n",
    "os valores das dimensões (eixos) do array. Por exemplo, uma matrix com n linhas e m colunas terá o shape = (n, m).\n",
    "\n",
    "- ndarray.size\n",
    "\n",
    "Total de elementos no array. É equivalente ao produto dos elementos do shape.\n",
    "\n",
    "- ndarray.dtype\n",
    "\n",
    "O tipo dos elementos armazenados no array.\n",
    "\n",
    "- ndrray.itemsize\n",
    "\n",
    "Tamanho em bytes de cada elemento no array.\n",
    "\n",
    "- ndarray.data\n",
    "\n",
    "Um buffer contendo realmente os elementos do array. Geralemente, não precisamos acessá-lo diretamente, pois utilizaremos o mecanismo de indexição que veremos a seguir."
   ]
  },
  {
   "cell_type": "markdown",
   "metadata": {},
   "source": [
    "<b> Exemplo"
   ]
  },
  {
   "cell_type": "code",
   "execution_count": 31,
   "metadata": {},
   "outputs": [
    {
     "name": "stdout",
     "output_type": "stream",
     "text": [
      "a :  [1 2 3 4 5 6] dims:  1\n",
      "b :  [[ 0  1  2  3  4]\n",
      " [ 5  6  7  8  9]\n",
      " [10 11 12 13 14]] dims:  2\n",
      "int32\n",
      "float64\n",
      "<class 'numpy.ndarray'>\n"
     ]
    }
   ],
   "source": [
    "import numpy as np\n",
    "\n",
    "# criando um ndarray a partir de uma lista\n",
    "a = np.array([1, 2, 3, 4, 5, 6])\n",
    "\n",
    "# cria um array 2D com 15 elementos de 0 a 14\n",
    "# com 3 linhas e 5 colunas\n",
    "#arange = range\n",
    "b = np.arange(15).reshape(3, 5)\n",
    "\n",
    "print(\"a : \", a, \"dims: \", a.ndim)\n",
    "\n",
    "print(\"b : \", b, \"dims: \", b.ndim)\n",
    "\n",
    "# tipo dos elementos no array\n",
    "print(a.dtype)\n",
    "\n",
    "# convertendo para float\n",
    "print(b.astype(float).dtype)\n",
    "\n",
    "print(type(a))"
   ]
  },
  {
   "cell_type": "markdown",
   "metadata": {},
   "source": [
    "<b> Criando array"
   ]
  },
  {
   "cell_type": "markdown",
   "metadata": {},
   "source": [
    "Há varias formas de criar um ndarray.\n",
    "\n",
    "Por exemplo, você pode criar a partir de uma lista ou tupla Python com a função array. O tipo dos elementos será inferido a partir do elementos na lista."
   ]
  },
  {
   "cell_type": "code",
   "execution_count": 35,
   "metadata": {},
   "outputs": [
    {
     "name": "stdout",
     "output_type": "stream",
     "text": [
      "[2.  3.4 4. ] float64\n",
      "['2' '3' '4' 'TXT'] <U11\n"
     ]
    }
   ],
   "source": [
    "import numpy as np\n",
    "\n",
    "a = np.array([2, 3.4, 4])\n",
    "\n",
    "print(a, a.dtype)\n",
    "\n",
    "a = np.array([2, 3, 4])\n",
    "a = np.array([2, 3, 4,'TXT']) #Não da erro, mas converte os valores todos para String\n",
    "\n",
    "#Relevância na conversão (String->Float->Int->Boolean)\n",
    "\n",
    "print(a, a.dtype)"
   ]
  },
  {
   "cell_type": "markdown",
   "metadata": {},
   "source": [
    "Um erro frequente é chamar a função array com múltiplos argumentos, ao invés de passar apenas uma única lista de elementos."
   ]
  },
  {
   "cell_type": "code",
   "execution_count": 37,
   "metadata": {},
   "outputs": [],
   "source": [
    "# descomente para testar\n",
    "#a = np.array(1,2,3,4) # errado\n",
    "a = np.array([1,2,3,4]) # certo"
   ]
  },
  {
   "cell_type": "code",
   "execution_count": 38,
   "metadata": {},
   "outputs": [],
   "source": [
    "#np.array? --> Documentação da função"
   ]
  },
  {
   "cell_type": "code",
   "execution_count": 39,
   "metadata": {},
   "outputs": [
    {
     "data": {
      "text/plain": [
       "array([[1., 0., 0.],\n",
       "       [0., 1., 2.]])"
      ]
     },
     "execution_count": 39,
     "metadata": {},
     "output_type": "execute_result"
    }
   ],
   "source": [
    "a = [(1., 0., 0),\n",
    "     (0., 1., 2.)]\n",
    "b = np.array(a)\n",
    "b"
   ]
  },
  {
   "cell_type": "code",
   "execution_count": 46,
   "metadata": {},
   "outputs": [
    {
     "name": "stdout",
     "output_type": "stream",
     "text": [
      "Complex: [[1.+0.j 0.+0.j 0.+0.j]\n",
      " [0.+0.j 1.+0.j 2.+0.j]]\n",
      "Float:  [[1. 0. 0.]\n",
      " [0. 1. 2.]]\n"
     ]
    }
   ],
   "source": [
    "a = [(1., 0., 0),\n",
    "     (0., 1., 2.)]\n",
    "# explicitamente falando qual é o tipo dos elementos\n",
    "b = np.array(a, dtype=complex)\n",
    "print('Complex:',b)\n",
    "\n",
    "c = np.array(a, dtype=float)\n",
    "print('Float: ',c)"
   ]
  },
  {
   "cell_type": "markdown",
   "metadata": {},
   "source": [
    "\n",
    "Geralmente, nós sabemos as dimensões do array, porém não sabemos seu valor. O Numpy nos ofere funções para criar arrays pre-preenchidos com valores padrões"
   ]
  },
  {
   "cell_type": "code",
   "execution_count": 51,
   "metadata": {},
   "outputs": [
    {
     "name": "stdout",
     "output_type": "stream",
     "text": [
      "[[0. 0. 0. 0.]\n",
      " [0. 0. 0. 0.]\n",
      " [0. 0. 0. 0.]]\n",
      "[1. 1. 1.]\n",
      "[[[3.03013855e-312 6.27463370e-322 0.00000000e+000 0.00000000e+000\n",
      "   1.37959197e-306 5.30276956e+180 5.05117710e-038 4.57752921e-071\n",
      "   3.66039864e-086 3.35559333e-143]\n",
      "  [6.01433264e+175 6.93885958e+218 5.56218858e+180 3.94356143e+180\n",
      "   1.48643567e-076 1.04852210e+165 6.22693689e+174 1.26708776e-071\n",
      "   7.49577952e-144 1.50008929e+248]]]\n",
      "326 ns ± 32.8 ns per loop (mean ± std. dev. of 7 runs, 1000000 loops each)\n",
      "1.45 µs ± 44 ns per loop (mean ± std. dev. of 7 runs, 1000000 loops each)\n",
      "298 ns ± 14.6 ns per loop (mean ± std. dev. of 7 runs, 1000000 loops each)\n"
     ]
    }
   ],
   "source": [
    "# array apenas com zeros\n",
    "# recebe como parametro o shape\n",
    "# shape sempre é uma tupla\n",
    "print(np.zeros((3, 4)))\n",
    "\n",
    "# array apenas de uns\n",
    "print(np.ones((3)))\n",
    "\n",
    "# array não inicializado \n",
    "# (apenas lixos, valores podem sofre alteraco)\n",
    "print(np.empty((1,2,10)))\n",
    "\n",
    "%timeit np.zeros((3, 4)) #334 ns ± 8.08 ns per loop\n",
    "%timeit np.ones((3, 4)) #1.6 µs ± 23.5 ns per loop\n",
    "%timeit np.empty((3, 4)) #335 ns ± 24.4 ns per loop - Não recomendado"
   ]
  },
  {
   "cell_type": "code",
   "execution_count": 59,
   "metadata": {},
   "outputs": [
    {
     "name": "stdout",
     "output_type": "stream",
     "text": [
      "[0. 1. 2.]\n",
      "[10.26684371 10.67292248 10.36156456]\n",
      "2.54 µs ± 95.1 ns per loop (mean ± std. dev. of 7 runs, 100000 loops each)\n"
     ]
    }
   ],
   "source": [
    "print(np.ones((3)) * range(3))\n",
    "a = 10+ np.random.rand(3) #randomico considerando um valor inicial\n",
    "print(a)\n",
    "%timeit 10 + np.random.rand(3) #2.54 µs ± 95.1 ns per loop"
   ]
  },
  {
   "cell_type": "markdown",
   "metadata": {},
   "source": [
    "<b>Criando sequências de números (arange)"
   ]
  },
  {
   "cell_type": "markdown",
   "metadata": {},
   "source": [
    "A função arange sequências numéricas assim como a range do Python."
   ]
  },
  {
   "cell_type": "code",
   "execution_count": 86,
   "metadata": {},
   "outputs": [
    {
     "name": "stdout",
     "output_type": "stream",
     "text": [
      "[10 15 20 25]\n",
      "Tabuada\n",
      "1 : [ 0  1  2  3  4  5  6  7  8  9 10]\n",
      "2 : [ 0  2  4  6  8 10 12 14 16 18 20]\n",
      "3 : [ 0  3  6  9 12 15 18 21 24 27 30]\n",
      "4 : [ 0  4  8 12 16 20 24 28 32 36 40]\n",
      "5 : [ 0  5 10 15 20 25 30 35 40 45 50]\n",
      "6 : [ 0  6 12 18 24 30 36 42 48 54 60]\n",
      "7 : [ 0  7 14 21 28 35 42 49 56 63 70]\n",
      "8 : [ 0  8 16 24 32 40 48 56 64 72 80]\n",
      "9 : [ 0  9 18 27 36 45 54 63 72 81 90]\n",
      "10 : [  0  10  20  30  40  50  60  70  80  90 100]\n",
      "[0.  0.5 1.  1.5 2.  2.5 3.  3.5 4.  4.5 5.  5.5 6.  6.5 7.  7.5 8.  8.5\n",
      " 9.  9.5]\n"
     ]
    }
   ],
   "source": [
    "print(np.arange(10, 30, 5))\n",
    "\n",
    "#Tabuada\n",
    "#print(np.arange(1, 10))\n",
    "#print(np.arange(0, 21, 2))\n",
    "\n",
    "print('Tabuada')\n",
    "for i in range(10):\n",
    "    print(i+1,':',np.arange(0, (i+1) * 11, i+1))\n",
    "\n",
    "# também aceita float\n",
    "print(np.arange(0, 10, 0.5))"
   ]
  },
  {
   "cell_type": "markdown",
   "metadata": {},
   "source": [
    "Quando utilizamos arange com float, muitas vezes é impossível saber quantos elementos a sequência vai ter. Portanto, é preferível utiliar a função linspace, com a qual nós passamos o número de elementos ao invés do passo:"
   ]
  },
  {
   "cell_type": "code",
   "execution_count": 90,
   "metadata": {},
   "outputs": [
    {
     "data": {
      "text/plain": [
       "array([0.        , 0.0959596 , 0.19191919, 0.28787879, 0.38383838,\n",
       "       0.47979798, 0.57575758, 0.67171717, 0.76767677, 0.86363636,\n",
       "       0.95959596, 1.05555556, 1.15151515, 1.24747475, 1.34343434,\n",
       "       1.43939394, 1.53535354, 1.63131313, 1.72727273, 1.82323232,\n",
       "       1.91919192, 2.01515152, 2.11111111, 2.20707071, 2.3030303 ,\n",
       "       2.3989899 , 2.49494949, 2.59090909, 2.68686869, 2.78282828,\n",
       "       2.87878788, 2.97474747, 3.07070707, 3.16666667, 3.26262626,\n",
       "       3.35858586, 3.45454545, 3.55050505, 3.64646465, 3.74242424,\n",
       "       3.83838384, 3.93434343, 4.03030303, 4.12626263, 4.22222222,\n",
       "       4.31818182, 4.41414141, 4.51010101, 4.60606061, 4.7020202 ,\n",
       "       4.7979798 , 4.89393939, 4.98989899, 5.08585859, 5.18181818,\n",
       "       5.27777778, 5.37373737, 5.46969697, 5.56565657, 5.66161616,\n",
       "       5.75757576, 5.85353535, 5.94949495, 6.04545455, 6.14141414,\n",
       "       6.23737374, 6.33333333, 6.42929293, 6.52525253, 6.62121212,\n",
       "       6.71717172, 6.81313131, 6.90909091, 7.00505051, 7.1010101 ,\n",
       "       7.1969697 , 7.29292929, 7.38888889, 7.48484848, 7.58080808,\n",
       "       7.67676768, 7.77272727, 7.86868687, 7.96464646, 8.06060606,\n",
       "       8.15656566, 8.25252525, 8.34848485, 8.44444444, 8.54040404,\n",
       "       8.63636364, 8.73232323, 8.82828283, 8.92424242, 9.02020202,\n",
       "       9.11616162, 9.21212121, 9.30808081, 9.4040404 , 9.5       ])"
      ]
     },
     "execution_count": 90,
     "metadata": {},
     "output_type": "execute_result"
    }
   ],
   "source": [
    "np.linspace(0, 9.5, 100) #Utilizado com frequencia para calibrar modelo de IA\n",
    "#Ficara mais claro nas aulas de IA"
   ]
  },
  {
   "cell_type": "markdown",
   "metadata": {},
   "source": [
    "<b>Operações basicas"
   ]
  },
  {
   "cell_type": "markdown",
   "metadata": {},
   "source": [
    "As operações aritiméticas são aplicadas elemento a elemento. Como resultado um novo arry é criado preenchido com os valores resultantes."
   ]
  },
  {
   "cell_type": "markdown",
   "metadata": {},
   "source": [
    "<b>Arrays e Escalares"
   ]
  },
  {
   "cell_type": "code",
   "execution_count": 92,
   "metadata": {},
   "outputs": [
    {
     "name": "stdout",
     "output_type": "stream",
     "text": [
      "2 * [1 2 3] = [2 4 6]\n",
      "2 + [1 2 3] = [3 4 5]\n",
      "2 - [1 2 3] = [ 1  0 -1]\n",
      "2 / [1 2 3] = [2.         1.         0.66666667]\n",
      "2 ** [1 2 3] = [2 4 8]\n"
     ]
    }
   ],
   "source": [
    "# array\n",
    "a = np.array([1, 2, 3])\n",
    "\n",
    "# escalar\n",
    "b = 2\n",
    "\n",
    "print(\"{} * {} = {}\".format(b, a, b * a))\n",
    "print(\"{} + {} = {}\".format(b, a, b + a))\n",
    "print(\"{} - {} = {}\".format(b, a, b - a))\n",
    "print(\"{} / {} = {}\".format(b, a, b / a))\n",
    "print(\"{} ** {} = {}\".format(b, a, b ** a))"
   ]
  },
  {
   "cell_type": "code",
   "execution_count": 98,
   "metadata": {},
   "outputs": [
    {
     "name": "stdout",
     "output_type": "stream",
     "text": [
      "[1, 2.3, 1, 2.3, 1, 2.3]\n",
      "[3, 6, 9]\n"
     ]
    }
   ],
   "source": [
    "#Phython nativo\n",
    "print([1,2.3] * 3) #Nao multiplica e sum duplcia\n",
    "print(list(map(lambda x: x * 3,[1,2,3]))) # No Numpy apenas multiplica o vetor"
   ]
  },
  {
   "cell_type": "markdown",
   "metadata": {},
   "source": [
    "<b> Entre arrays"
   ]
  },
  {
   "cell_type": "code",
   "execution_count": 99,
   "metadata": {},
   "outputs": [
    {
     "name": "stdout",
     "output_type": "stream",
     "text": [
      "[1 2 3] * [10  2  5] = [10  4 15]\n",
      "[1 2 3] + [10  2  5] = [11  4  8]\n",
      "[1 2 3] - [10  2  5] = [-9  0 -2]\n",
      "[1 2 3] / [10  2  5] = [0.1 1.  0.6]\n",
      "[1 2 3] % [10  2  5] = [1 0 3]\n",
      "[1 2 3] ** [10  2  5] = [  1   4 243]\n"
     ]
    }
   ],
   "source": [
    "c = np.array([10, 2, 5])\n",
    "\n",
    "print(\"{} * {} = {}\".format(a, c, a * c))\n",
    "print(\"{} + {} = {}\".format(a, c, a + c))\n",
    "print(\"{} - {} = {}\".format(a, c, a - c))\n",
    "print(\"{} / {} = {}\".format(a, c, a / c))\n",
    "print(\"{} % {} = {}\".format(a, c, a % c))\n",
    "print(\"{} ** {} = {}\".format(a, c, a ** c))"
   ]
  },
  {
   "cell_type": "markdown",
   "metadata": {},
   "source": [
    "<b>Funções elemento a elemento (element-wise)"
   ]
  },
  {
   "cell_type": "code",
   "execution_count": 100,
   "metadata": {},
   "outputs": [
    {
     "name": "stdout",
     "output_type": "stream",
     "text": [
      "np.log([10  2  5]) = [2.30258509 0.69314718 1.60943791]\n",
      "np.sqrt([10  2  5]) = [3.16227766 1.41421356 2.23606798]\n"
     ]
    }
   ],
   "source": [
    "print(\"np.log({}) = {}\".format(c, np.log(c)))\n",
    "print(\"np.sqrt({}) = {}\".format(c, np.sqrt(c)))"
   ]
  },
  {
   "cell_type": "code",
   "execution_count": 103,
   "metadata": {},
   "outputs": [
    {
     "data": {
      "image/png": "[encoded data removed]",
      "text/plain": [
       "<matplotlib.figure.Figure at 0x2bb405cb00>"
      ]
     },
     "metadata": {},
     "output_type": "display_data"
    }
   ],
   "source": [
    "import numpy as np\n",
    "import matplotlib.pyplot as plt\n",
    "\n",
    "# Build a vector of 10000 normal deviates with variance 0.5^2 and mean 2\n",
    "mu, sigma = 2, 0.5\n",
    "v = np.random.normal(mu,sigma,10000)\n",
    "# Plot a normalized histogram with 50 bins\n",
    "plt.hist(v, bins=50, normed=1)       # matplotlib version (plot)\n",
    "plt.show()"
   ]
  },
  {
   "cell_type": "code",
   "execution_count": 20,
   "metadata": {},
   "outputs": [
    {
     "data": {
      "image/png": "[encoded data removed]",
      "text/plain": [
       "<matplotlib.figure.Figure at 0x476289c940>"
      ]
     },
     "metadata": {},
     "output_type": "display_data"
    }
   ],
   "source": [
    "import numpy as np\n",
    "import matplotlib.pyplot as plt\n",
    "\n",
    "# Build a vector of 10000 normal deviates with variance 0.5^2 and mean 2\n",
    "mu, sigma = 2, 0.5\n",
    "v = np.random.normal(mu,sigma,100000000)\n",
    "# Plot a normalized histogram with 50 bins\n",
    "plt.hist(v, bins=100, normed=1)       # matplotlib version (plot)\n",
    "plt.show()"
   ]
  },
  {
   "cell_type": "markdown",
   "metadata": {},
   "source": [
    "https://docs.scipy.org/doc/numpy/user/quickstart.html"
   ]
  },
  {
   "cell_type": "markdown",
   "metadata": {},
   "source": [
    "https://docs.scipy.org/doc/numpy/reference/routines.html"
   ]
  },
  {
   "cell_type": "markdown",
   "metadata": {},
   "source": [
    "http://www.numpy.org/"
   ]
  },
  {
   "cell_type": "markdown",
   "metadata": {},
   "source": [
    "<b> Exercício"
   ]
  },
  {
   "cell_type": "markdown",
   "metadata": {},
   "source": [
    "Muitas vezes quando estamos criando nossos modelos é preciso definir uma métrica para nós os avaliarmos e escolher o melhor dentre eles. Algumas vezes, nós mesmo temos de implementá-las, portanto, nesse exercício você vai ter de implementar a métrica Erro Quadrático Médio, em inglês Mean Squared Error (MSE).\n",
    "\n",
    "A MSE é deifnida como:\n",
    "\n",
    "$\\epsilon = \\frac{1}{n}\\sum_{i=1}^{n}(\\hat{y}_i - y_i)^2$\n",
    "\n",
    "onde:\n",
    "\n",
    "- $\\epsilon$ é o valor do erro (score)\n",
    "- $n$ é o total de exemplos no conjunto de dados testado\n",
    "- $\\hat{y}_i$ é a predição do modelo\n",
    "- $y_i$ é o valor do real (rótulo)\n",
    "- $\\frac{1}{n}\\sum_{i=1}^{n}$ é a média\n",
    "- $(\\hat{y}_i - y_i)^2$ são os erros quadráticos"
   ]
  },
  {
   "cell_type": "code",
   "execution_count": 129,
   "metadata": {},
   "outputs": [
    {
     "name": "stdout",
     "output_type": "stream",
     "text": [
      "1 0.33348087107142566\n",
      "2 0.3334808710714239\n",
      "935 ms ± 31.7 ms per loop (mean ± std. dev. of 7 runs, 1 loop each)\n",
      "13.9 ms ± 159 µs per loop (mean ± std. dev. of 7 runs, 100 loops each)\n"
     ]
    }
   ],
   "source": [
    "import math\n",
    "\n",
    "def MSE(y_true, y_pred):\n",
    "    \"\"\" Mean Squared Error \n",
    "    Parâmetros\n",
    "    ----------\n",
    "    y_true : 1d array\n",
    "        Rótulos.\n",
    "    y_pred : 1d array\n",
    "        Predições, retornadas pelo modelo.\n",
    "    \"\"\"\n",
    "    n = len(y_true)\n",
    "    soma = 0\n",
    "    for i in range(n):\n",
    "        soma += (y_pred[i] - y_true[i])**2\n",
    "    return soma / n\n",
    "\n",
    "\n",
    "def vMSE(y_true, y_pred):\n",
    "    \"\"\"vectorized Mean Squared Error \n",
    "    Parâmetros\n",
    "    ----------\n",
    "    y_true : 1d array\n",
    "        Rótulos.\n",
    "    y_pred : 1d array\n",
    "        Predições, retornadas pelo modelo.\n",
    "    \"\"\"\n",
    "    # TODO: versão vetorizada do RMSLE\n",
    "    n = y_true.shape[0]   \n",
    "    return np.mean((y_pred - y_true)**2)   \n",
    "    \n",
    "\n",
    "y_true =  np.arange(1000000) + 1\n",
    "y_pred = y_true - np.random.rand(y_true.shape[0])\n",
    "\n",
    "print('1',MSE(y_true, y_pred))\n",
    "print('2',vMSE(y_true, y_pred))\n",
    "\n",
    "%timeit MSE(y_true, y_pred) #935 ms ± 31.7 ms per loop\n",
    "%timeit vMSE(y_true, y_pred) #13.9 ms ± 159 µs per loop"
   ]
  },
  {
   "cell_type": "code",
   "execution_count": 131,
   "metadata": {},
   "outputs": [
    {
     "data": {
      "text/plain": [
       "67.2661870503597"
      ]
     },
     "execution_count": 131,
     "metadata": {},
     "output_type": "execute_result"
    }
   ],
   "source": [
    "935/13.9"
   ]
  },
  {
   "cell_type": "markdown",
   "metadata": {},
   "source": [
    "<b> Aula - Indexação, Slicing e Iteração"
   ]
  },
  {
   "cell_type": "code",
   "execution_count": 22,
   "metadata": {},
   "outputs": [
    {
     "name": "stdout",
     "output_type": "stream",
     "text": [
      "[ 0  1  4  9 16 25 36 49 64 81]\n",
      "16\n",
      "[25 36 49 64 81]\n",
      "[ 0  4 16 36 64]\n",
      "[81 64 49 36 25 16  9  4  1  0]\n"
     ]
    }
   ],
   "source": [
    "import numpy as np\n",
    "\n",
    "a = np.arange(10)**2\n",
    "\n",
    "print(a)\n",
    "\n",
    "print(a[4])\n",
    "\n",
    "print(a[5:])\n",
    "\n",
    "print(a[::2]) # de 2 em dois\n",
    "\n",
    "print(a[::-1]) # invertendo"
   ]
  },
  {
   "cell_type": "code",
   "execution_count": 23,
   "metadata": {},
   "outputs": [
    {
     "name": "stdout",
     "output_type": "stream",
     "text": [
      "[[  0   1   4   9]\n",
      " [ 16  25  36  49]\n",
      " [ 64  81 100 121]\n",
      " [144 169 196 225]]\n",
      "1\n",
      "[ 0 16 64]\n",
      "[  0  16  64 144]\n",
      "[144 169 196 225]\n"
     ]
    }
   ],
   "source": [
    "a = (np.arange(16)**2).reshape((4, 4))\n",
    "\n",
    "print(a)\n",
    "\n",
    "# elemento da linha 0 e coluna 1\n",
    "print(a[0, 1])\n",
    "\n",
    "print(a[:3, 0]) # elementos da linha 0 a 2 da coluna 0\n",
    "\n",
    "print(a[:1, 0]) # todos elementos da coluna 0\n",
    "\n",
    "print(a[-1]) # equivalente a a[-1, :]"
   ]
  },
  {
   "cell_type": "code",
   "execution_count": 24,
   "metadata": {},
   "outputs": [
    {
     "name": "stdout",
     "output_type": "stream",
     "text": [
      "[0 1 4 9]\n",
      "[16 25 36 49]\n",
      "[ 64  81 100 121]\n",
      "[144 169 196 225]\n"
     ]
    }
   ],
   "source": [
    "for linha in a:\n",
    "    print(linha)"
   ]
  },
  {
   "cell_type": "code",
   "execution_count": 26,
   "metadata": {},
   "outputs": [
    {
     "name": "stdout",
     "output_type": "stream",
     "text": [
      "[  0  16  64 144]\n",
      "[  1  25  81 169]\n",
      "[  4  36 100 196]\n",
      "[  9  49 121 225]\n"
     ]
    }
   ],
   "source": [
    "for coluna in a.T:\n",
    "    print(coluna)"
   ]
  },
  {
   "cell_type": "markdown",
   "metadata": {},
   "source": [
    "<b> Manipulação do Shape"
   ]
  },
  {
   "cell_type": "code",
   "execution_count": 42,
   "metadata": {},
   "outputs": [
    {
     "name": "stdout",
     "output_type": "stream",
     "text": [
      "[[  0   1   4   9]\n",
      " [ 16  25  36  49]\n",
      " [ 64  81 100 121]\n",
      " [144 169 196 225]]\n",
      "[  0   1   4   9  16  25  36  49  64  81 100 121 144 169 196 225]\n",
      "[  0   1   4   9  16  25  36  49  64  81 100 121 144 169 196 225]\n",
      "[[  0   1   4   9  16  25  36  49]\n",
      " [ 64  81 100 121 144 169 196 225]]\n",
      "[[  0   1]\n",
      " [  4   9]\n",
      " [ 16  25]\n",
      " [ 36  49]\n",
      " [ 64  81]\n",
      " [100 121]\n",
      " [144 169]\n",
      " [196 225]]\n",
      "[[  0   1]\n",
      " [  4   9]\n",
      " [ 16  25]\n",
      " [ 36  49]\n",
      " [ 64  81]\n",
      " [100 121]\n",
      " [144 169]\n",
      " [196 225]]\n",
      "[[  0   1]\n",
      " [  4   9]\n",
      " [ 16  25]\n",
      " [ 36  49]\n",
      " [ 64  81]\n",
      " [100 121]\n",
      " [144 169]\n",
      " [196 225]]\n",
      "[[  0   4  16  36  64 100 144 196]\n",
      " [  1   9  25  49  81 121 169 225]]\n",
      "[  0   1   4   9  16  25  36  49  64  81 100 121 144 169 196 225]\n"
     ]
    },
    {
     "data": {
      "text/plain": [
       "array([[  0,   1],\n",
       "       [  4,   9],\n",
       "       [ 16,  25],\n",
       "       [ 36,  49],\n",
       "       [ 64,  81],\n",
       "       [100, 121],\n",
       "       [144, 169],\n",
       "       [196, 225]], dtype=int32)"
      ]
     },
     "execution_count": 42,
     "metadata": {},
     "output_type": "execute_result"
    }
   ],
   "source": [
    "a = (np.arange(16)**2).reshape((4, 4)) # Matrix com até 4 colunas\n",
    "\n",
    "print(a)\n",
    "\n",
    "# flattened array\n",
    "print(a.ravel())\n",
    "print(a.reshape(-1))\n",
    "print(a.reshape(2,8))\n",
    "print(a.reshape(8,2))\n",
    "\n",
    "# Gera erro se não tratar todos os elementos do array\n",
    "# retorna array com novo formato\n",
    "print(a.reshape(8,2))\n",
    "a.shape = (8,2)\n",
    "\n",
    "print(a)\n",
    "\n",
    "# transposta\n",
    "print(a.T)\n",
    "\n",
    "#Indexação realizada por linha\n",
    "print(a.ravel())\n",
    "a.ravel().reshape(8,2)"
   ]
  },
  {
   "cell_type": "code",
   "execution_count": 48,
   "metadata": {},
   "outputs": [
    {
     "data": {
      "text/plain": [
       "4"
      ]
     },
     "execution_count": 48,
     "metadata": {},
     "output_type": "execute_result"
    }
   ],
   "source": [
    "n_rows = 8\n",
    "n_cols = 2\n",
    "\n",
    "row = 5\n",
    "col = 0\n",
    "a.ravel()[n_cols*row + col]"
   ]
  },
  {
   "cell_type": "markdown",
   "metadata": {},
   "source": [
    "<b>Truques de Indexação"
   ]
  },
  {
   "cell_type": "markdown",
   "metadata": {},
   "source": [
    "NumPy oferece mais opções de indexação do que Python. Além da indexação por inteiros e slices, como vimos anteriormente, arrays podem ser indexados por outros arrays de inteiros e booleanos."
   ]
  },
  {
   "cell_type": "code",
   "execution_count": 49,
   "metadata": {},
   "outputs": [
    {
     "name": "stdout",
     "output_type": "stream",
     "text": [
      "[ 1  1 36  9 25]\n",
      "[[1 6]\n",
      " [3 5]]\n",
      "[[ 1 36]\n",
      " [ 9 25]]\n"
     ]
    }
   ],
   "source": [
    "a = np.arange(12)**2                      \n",
    "indices = np.array([1, 1, 6, 3, 5])\n",
    "\n",
    "print(a[indices])\n",
    "\n",
    "bidim_indices = np.array([[1, 6], [3, 5]])\n",
    "\n",
    "print(bidim_indices)\n",
    "print(a[bidim_indices])"
   ]
  },
  {
   "cell_type": "markdown",
   "metadata": {},
   "source": [
    "Quando estamos indexando um array multimensional, um único array de indices refere-se a primeira dimensão de a."
   ]
  },
  {
   "cell_type": "code",
   "execution_count": 50,
   "metadata": {},
   "outputs": [
    {
     "name": "stdout",
     "output_type": "stream",
     "text": [
      "[[  0   1   4]\n",
      " [  9  16  25]\n",
      " [ 36  49  64]\n",
      " [ 81 100 121]\n",
      " [144 169 196]\n",
      " [225 256 289]\n",
      " [324 361 400]]\n"
     ]
    },
    {
     "data": {
      "text/plain": [
       "array([[[  9,  16,  25],\n",
       "        [  0,   1,   4]],\n",
       "\n",
       "       [[ 36,  49,  64],\n",
       "        [324, 361, 400]]], dtype=int32)"
      ]
     },
     "execution_count": 50,
     "metadata": {},
     "output_type": "execute_result"
    }
   ],
   "source": [
    "a = (np.arange(21)**2).reshape((7, 3))\n",
    "\n",
    "print(a)\n",
    "\n",
    "bidim_indices = np.array([[1, 0], [2, 6]])\n",
    "\n",
    "a[bidim_indices]"
   ]
  },
  {
   "cell_type": "code",
   "execution_count": 56,
   "metadata": {},
   "outputs": [
    {
     "name": "stdout",
     "output_type": "stream",
     "text": [
      "[  4  16 256]\n",
      "[[  0   4]\n",
      " [  9  25]\n",
      " [ 36  64]\n",
      " [ 81 121]\n",
      " [144 196]\n",
      " [225 289]\n",
      " [324 400]]\n"
     ]
    }
   ],
   "source": [
    "# tem de ter o mesmo tamanho\n",
    "id_linhas = np.array([0, 1, 5])\n",
    "id_colunas = np.array([2, 1, 1])\n",
    "\n",
    "#print(a)\n",
    "\n",
    "print(a[id_linhas, id_colunas])\n",
    "print(a[:, [0,2]]) #Apenas o Numpy prove essa facilidade de considear colunas ou linhas para um novo obj"
   ]
  },
  {
   "cell_type": "markdown",
   "metadata": {},
   "source": [
    "<b>Indexando com booleanos"
   ]
  },
  {
   "cell_type": "code",
   "execution_count": 57,
   "metadata": {},
   "outputs": [
    {
     "name": "stdout",
     "output_type": "stream",
     "text": [
      "[[False False False]\n",
      " [False False False]\n",
      " [False False False]\n",
      " [False False False]\n",
      " [False False False]\n",
      " [ True  True  True]\n",
      " [ True  True  True]]\n"
     ]
    },
    {
     "data": {
      "text/plain": [
       "array([225, 256, 289, 324, 361, 400], dtype=int32)"
      ]
     },
     "execution_count": 57,
     "metadata": {},
     "output_type": "execute_result"
    }
   ],
   "source": [
    "b = a > 200 #filtro no vetor\n",
    "\n",
    "print(b)\n",
    "\n",
    "a[b] #Desta forma acessa os valores"
   ]
  },
  {
   "cell_type": "code",
   "execution_count": 58,
   "metadata": {},
   "outputs": [
    {
     "data": {
      "text/plain": [
       "array([[  0,   1,   4],\n",
       "       [  9,  16,  25],\n",
       "       [ 36,  49,  64],\n",
       "       [ 81, 100, 121],\n",
       "       [144, 169, 196],\n",
       "       [  0,   0,   0],\n",
       "       [  0,   0,   0]], dtype=int32)"
      ]
     },
     "execution_count": 58,
     "metadata": {},
     "output_type": "execute_result"
    }
   ],
   "source": [
    "# pode ser util para atribuição de valores\n",
    "a[b] = 0 #Atribui 0 para os indices na condição acima de 200 (celula acima)\n",
    "a"
   ]
  },
  {
   "cell_type": "markdown",
   "metadata": {},
   "source": [
    "<b> Concatenação"
   ]
  },
  {
   "cell_type": "code",
   "execution_count": 59,
   "metadata": {},
   "outputs": [
    {
     "name": "stdout",
     "output_type": "stream",
     "text": [
      "a :  [1 2 3]\n",
      "b :  [4 5 6]\n",
      "c : [7 8 9]\n"
     ]
    }
   ],
   "source": [
    "import numpy as np\n",
    "\n",
    "a = np.array([1, 2, 3])\n",
    "b = np.array([4, 5, 6])\n",
    "c = np.arange(7, 10)\n",
    "\n",
    "print(\"a : \", a)\n",
    "print(\"b : \", b)\n",
    "print(\"c :\", c)"
   ]
  },
  {
   "cell_type": "code",
   "execution_count": 66,
   "metadata": {},
   "outputs": [
    {
     "name": "stdout",
     "output_type": "stream",
     "text": [
      "[1 2 3 4 5 6]\n",
      "[4 5 6 1 2 3]\n",
      "[1 2 3 4 5 6 7 8 9]\n",
      "[4 5 6 1 2 3 1 2 3 4 5 6 1 2 3 1 2 3 4 5 6 4 5 6]\n"
     ]
    }
   ],
   "source": [
    "print(np.concatenate((a,b)))\n",
    "print(np.concatenate((b,a)))\n",
    "\n",
    "print(np.concatenate((a, b, c)))\n",
    "\n",
    "print(np.concatenate((b, a, a, b, a, a, b, b))) #Recebe uma lista/tupla de arrays e não pode ser passado como argumentos\n",
    "#print(np.concatenate(b, a, a, b, a, a, b, b)) # Erro"
   ]
  },
  {
   "cell_type": "markdown",
   "metadata": {},
   "source": [
    "<b> Concatenando matrizes"
   ]
  },
  {
   "cell_type": "code",
   "execution_count": 68,
   "metadata": {},
   "outputs": [
    {
     "name": "stdout",
     "output_type": "stream",
     "text": [
      "[[0. 0.]\n",
      " [4. 8.]]\n",
      "[[0. 6.]\n",
      " [0. 3.]]\n"
     ]
    }
   ],
   "source": [
    "a = np.floor(10*np.random.random((2,2)))\n",
    "\n",
    "print(a)\n",
    "\n",
    "b = np.floor(10*np.random.random((2,2)))\n",
    "\n",
    "print(b)"
   ]
  },
  {
   "cell_type": "code",
   "execution_count": 71,
   "metadata": {},
   "outputs": [
    {
     "name": "stdout",
     "output_type": "stream",
     "text": [
      "[[0. 0.]\n",
      " [4. 8.]\n",
      " [0. 6.]\n",
      " [0. 3.]]\n",
      "[[0. 0. 0. 6.]\n",
      " [4. 8. 0. 3.]]\n"
     ]
    }
   ],
   "source": [
    "# Equivalente a np.vstack((a,b))\n",
    "print(np.concatenate((a,b), axis=0)) # Se não ter o mesmo tamanho dos eixos devem ser iguais\n",
    "\n",
    "# Equivalente a np.hstack((a,b))\n",
    "print(np.concatenate((a,b), axis=1)) # Para horizontal não necessário mesmo tamanho dos eixos"
   ]
  },
  {
   "cell_type": "code",
   "execution_count": 72,
   "metadata": {},
   "outputs": [
    {
     "name": "stdout",
     "output_type": "stream",
     "text": [
      "[[0. 0.]\n",
      " [4. 8.]\n",
      " [0. 6.]\n",
      " [0. 3.]]\n",
      "[[0. 0. 0. 6.]\n",
      " [4. 8. 0. 3.]]\n"
     ]
    }
   ],
   "source": [
    "print(np.vstack((a,b)))\n",
    "print(np.hstack((a,b)))"
   ]
  },
  {
   "cell_type": "code",
   "execution_count": 74,
   "metadata": {},
   "outputs": [
    {
     "name": "stdout",
     "output_type": "stream",
     "text": [
      "4.04 µs ± 519 ns per loop (mean ± std. dev. of 7 runs, 100000 loops each)\n",
      "1.73 µs ± 58.4 ns per loop (mean ± std. dev. of 7 runs, 100000 loops each)\n"
     ]
    }
   ],
   "source": [
    "%timeit np.vstack((a,b)) #4.04 µs ± 519 ns per loop\n",
    "%timeit np.concatenate((a,b), axis=0) #1.73 µs ± 58.4 ns per loop"
   ]
  },
  {
   "cell_type": "markdown",
   "metadata": {},
   "source": [
    "<b> Cópias"
   ]
  },
  {
   "cell_type": "markdown",
   "metadata": {},
   "source": [
    "Nunca é criado uma cópia do array implicitamente. - São passadas por <b> referencia"
   ]
  },
  {
   "cell_type": "code",
   "execution_count": 78,
   "metadata": {},
   "outputs": [
    {
     "name": "stdout",
     "output_type": "stream",
     "text": [
      "True 306615244080 306615244080\n"
     ]
    },
    {
     "data": {
      "text/plain": [
       "(3, 4)"
      ]
     },
     "execution_count": 78,
     "metadata": {},
     "output_type": "execute_result"
    }
   ],
   "source": [
    "#Exemplo\n",
    "\n",
    "a = np.arange(12)\n",
    "\n",
    "b = a\n",
    "\n",
    "print(a is b, id(b), id (a))\n",
    "\n",
    "b.shape = 3,4 #Altera nos dois elementos\n",
    "a.shape"
   ]
  },
  {
   "cell_type": "markdown",
   "metadata": {},
   "source": [
    "Python passa objetos mutaveis como referência, portanto a chamada de uma função não faz cópia."
   ]
  },
  {
   "cell_type": "code",
   "execution_count": 80,
   "metadata": {},
   "outputs": [
    {
     "name": "stdout",
     "output_type": "stream",
     "text": [
      "306615244080\n",
      "306615489808\n"
     ]
    }
   ],
   "source": [
    "def f(x):\n",
    "    print(id(x.copy)) #Cópia explicita\n",
    "    \n",
    "print(id(a))\n",
    "f(a)"
   ]
  },
  {
   "cell_type": "markdown",
   "metadata": {},
   "source": [
    "Sclicing retorna uma view do array. Views são novos objetos do tipo ndarray que apontam para o mesmo dado"
   ]
  },
  {
   "cell_type": "code",
   "execution_count": 84,
   "metadata": {},
   "outputs": [
    {
     "name": "stdout",
     "output_type": "stream",
     "text": [
      "[[ 0  1  2  3]\n",
      " [ 4  5  6  7]\n",
      " [ 8  9 10 11]] [[10 10]\n",
      " [10 10]\n",
      " [10 10]]\n"
     ]
    }
   ],
   "source": [
    "s = a[:, 1:3].copy() #Só realiza a cópia quando de fato é necessário\n",
    "s[:] = 10      \n",
    "print(a,s)"
   ]
  },
  {
   "cell_type": "markdown",
   "metadata": {},
   "source": [
    "Portanto, é necessário fazer cópias explicitamente (quando desejado) através do método copy."
   ]
  },
  {
   "cell_type": "code",
   "execution_count": 86,
   "metadata": {},
   "outputs": [
    {
     "name": "stdout",
     "output_type": "stream",
     "text": [
      "False\n",
      "False\n",
      "[[9999    1    2    3]\n",
      " [   4    5    6    7]\n",
      " [   8    9   10   11]]\n"
     ]
    },
    {
     "data": {
      "text/plain": [
       "array([[ 0,  1,  2,  3],\n",
       "       [ 4,  5,  6,  7],\n",
       "       [ 8,  9, 10, 11]])"
      ]
     },
     "execution_count": 86,
     "metadata": {},
     "output_type": "execute_result"
    }
   ],
   "source": [
    "# um novo objeto com um novo data é criado\n",
    "d = a.copy()       \n",
    "\n",
    "print(d is a)\n",
    "# não compartilha nada com a\n",
    "print(d.base is a) #comparação da base, se compartilham a mesma\n",
    "\n",
    "d[0,0] = 9999\n",
    "print(d)\n",
    "a"
   ]
  },
  {
   "cell_type": "markdown",
   "metadata": {},
   "source": [
    "<b> Algebra Linear </b>"
   ]
  },
  {
   "cell_type": "markdown",
   "metadata": {},
   "source": [
    "Links: https://docs.scipy.org/doc/numpy-1.14.0/reference/routines.linalg.html e https://docs.scipy.org/doc/scipy/reference/linalg.html"
   ]
  },
  {
   "cell_type": "code",
   "execution_count": 1,
   "metadata": {},
   "outputs": [
    {
     "data": {
      "text/plain": [
       "array([[1., 2.],\n",
       "       [3., 4.]])"
      ]
     },
     "execution_count": 1,
     "metadata": {},
     "output_type": "execute_result"
    }
   ],
   "source": [
    "import numpy as np\n",
    "\n",
    "a = np.array([[1.0, 2.0], [3.0, 4.0]])\n",
    "a"
   ]
  },
  {
   "cell_type": "code",
   "execution_count": 8,
   "metadata": {},
   "outputs": [
    {
     "data": {
      "text/plain": [
       "array([[1., 3.],\n",
       "       [2., 4.]])"
      ]
     },
     "execution_count": 8,
     "metadata": {},
     "output_type": "execute_result"
    }
   ],
   "source": [
    "a.transpose()\n",
    "\n",
    "a.T #Tammbém pode ser utilizado"
   ]
  },
  {
   "cell_type": "code",
   "execution_count": 4,
   "metadata": {},
   "outputs": [
    {
     "name": "stdout",
     "output_type": "stream",
     "text": [
      "7.84 µs ± 459 ns per loop (mean ± std. dev. of 7 runs, 100000 loops each)\n"
     ]
    }
   ],
   "source": [
    "# matriz inversa\n",
    "np.linalg.inv(a)\n",
    "\n",
    "%timeit np.linalg.inv(a) #7.84 µs ± 459 ns per loop "
   ]
  },
  {
   "cell_type": "code",
   "execution_count": 14,
   "metadata": {},
   "outputs": [
    {
     "name": "stdout",
     "output_type": "stream",
     "text": [
      "1.98 µs ± 60.4 ns per loop (mean ± std. dev. of 7 runs, 100000 loops each)\n",
      "3.29 µs ± 395 ns per loop (mean ± std. dev. of 7 runs, 100000 loops each)\n"
     ]
    },
    {
     "data": {
      "text/plain": [
       "array([[1., 0., 0., 0., 0., 0., 0., 0., 0., 0.],\n",
       "       [0., 1., 0., 0., 0., 0., 0., 0., 0., 0.],\n",
       "       [0., 0., 1., 0., 0., 0., 0., 0., 0., 0.],\n",
       "       [0., 0., 0., 1., 0., 0., 0., 0., 0., 0.],\n",
       "       [0., 0., 0., 0., 1., 0., 0., 0., 0., 0.],\n",
       "       [0., 0., 0., 0., 0., 1., 0., 0., 0., 0.],\n",
       "       [0., 0., 0., 0., 0., 0., 1., 0., 0., 0.],\n",
       "       [0., 0., 0., 0., 0., 0., 0., 1., 0., 0.],\n",
       "       [0., 0., 0., 0., 0., 0., 0., 0., 1., 0.],\n",
       "       [0., 0., 0., 0., 0., 0., 0., 0., 0., 1.]])"
      ]
     },
     "execution_count": 14,
     "metadata": {},
     "output_type": "execute_result"
    }
   ],
   "source": [
    "# matriz identidade nxn\n",
    "n = 10\n",
    "\n",
    "%timeit np.eye(n)      #1.98 µs ± 60.4 ns per loop\n",
    "%timeit np.identity(n) #3.29 µs ± 395 ns per loop\n",
    "\n",
    "np.eye(n)\n",
    "np.identity(n)"
   ]
  },
  {
   "cell_type": "code",
   "execution_count": 23,
   "metadata": {},
   "outputs": [
    {
     "name": "stdout",
     "output_type": "stream",
     "text": [
      "[[1 0]\n",
      " [0 1]]\n",
      "\n",
      "[[0. 0. 0. 0. 0. 0. 0. 0. 0. 0.]\n",
      " [1. 0. 0. 0. 0. 0. 0. 0. 0. 0.]\n",
      " [0. 1. 0. 0. 0. 0. 0. 0. 0. 0.]\n",
      " [0. 0. 1. 0. 0. 0. 0. 0. 0. 0.]\n",
      " [0. 0. 0. 1. 0. 0. 0. 0. 0. 0.]\n",
      " [0. 0. 0. 0. 1. 0. 0. 0. 0. 0.]\n",
      " [0. 0. 0. 0. 0. 1. 0. 0. 0. 0.]\n",
      " [0. 0. 0. 0. 0. 0. 1. 0. 0. 0.]\n",
      " [0. 0. 0. 0. 0. 0. 0. 1. 0. 0.]\n",
      " [0. 0. 0. 0. 0. 0. 0. 0. 1. 0.]]\n"
     ]
    }
   ],
   "source": [
    "print(np.eye(2, dtype=int))\n",
    "print(\"\")\n",
    "print(np.eye(10, k=-1))"
   ]
  },
  {
   "cell_type": "markdown",
   "metadata": {},
   "source": [
    "Lembre-se que $A.A^{-1} = I$ Matriz vezes Matriz inversa é igual a identidade da MATRIZ"
   ]
  },
  {
   "cell_type": "code",
   "execution_count": 32,
   "metadata": {},
   "outputs": [
    {
     "data": {
      "text/plain": [
       "array([[1., 0.],\n",
       "       [0., 1.]])"
      ]
     },
     "execution_count": 32,
     "metadata": {},
     "output_type": "execute_result"
    }
   ],
   "source": [
    "# multiplicaco de matriz\n",
    "b = np.array([[2, 0], [0, 1]])\n",
    "\n",
    "np.dot(b, np.linalg.inv(b)) # ~I (É aproximado, pois não é exato, ou arredando os valores, mas pode ser considerado como correto)"
   ]
  },
  {
   "cell_type": "code",
   "execution_count": 33,
   "metadata": {},
   "outputs": [
    {
     "data": {
      "text/plain": [
       "(array([-0.37228132,  5.37228132]), array([[-0.82456484, -0.41597356],\n",
       "        [ 0.56576746, -0.90937671]]))"
      ]
     },
     "execution_count": 33,
     "metadata": {},
     "output_type": "execute_result"
    }
   ],
   "source": [
    "# autovalores e autovetores, respectivamente\n",
    "np.linalg.eig(a)"
   ]
  },
  {
   "cell_type": "markdown",
   "metadata": {},
   "source": [
    "<b> Exercício"
   ]
  },
  {
   "cell_type": "markdown",
   "metadata": {},
   "source": [
    "Agora que demos uma boa pincelada sobre o numpy, vou propor um desafio para você.\n",
    "\n",
    "Vamos supor que estamos querendo predizer o valor do aluguel de um imóveis e temos 1 atributo do mesmo (i.e., área construída). Utilizando as funções do numpy faça uma função que encontre os coeficientes da reta que melhor se ajuste aos dados, isso nada mais é do que a regressão linear. Um método clássico utilzado para isso é o método dos mínimos quadrados, esse método possui uma fórmula analítica para encontrar o coeficiente da reta, e que é definida do seguinte modo:"
   ]
  },
  {
   "cell_type": "markdown",
   "metadata": {},
   "source": [
    "$w = (X^TX)^{-1}X^Ty$"
   ]
  },
  {
   "cell_type": "markdown",
   "metadata": {},
   "source": [
    "onde:\n",
    "\n",
    "- $X$ é a matriz que representa nosso conjuntos de pontos (cada linha é um vetor multidimensional que representa um ponto no espaço n-D)\n",
    "- $y$ é o valor desse ponto\n",
    "\n",
    "Portanto, o objetivo é implementar uma função que retorne o vetor de coefientes $w$."
   ]
  },
  {
   "cell_type": "code",
   "execution_count": 39,
   "metadata": {},
   "outputs": [],
   "source": [
    "X = np.abs(np.random.normal(60, 500, 100))[:, np.newaxis]\n",
    "w = 2000\n",
    "y = X * (w - np.random.normal(0, 100, X.shape[0]))[:, np.newaxis]"
   ]
  },
  {
   "cell_type": "code",
   "execution_count": 45,
   "metadata": {},
   "outputs": [],
   "source": [
    "def ajustar(X, y):\n",
    "    # TODO: seu código\n",
    "    return np.linalg.inv(X.T.dot(X)).dot(X.T).dot(y)\n",
    "    #Tentativa return (np.dot(X, np.linalg.inv(X.T)))+np.dot(X.T, np.linalg.inv(y))"
   ]
  },
  {
   "cell_type": "code",
   "execution_count": 48,
   "metadata": {},
   "outputs": [
    {
     "data": {
      "text/plain": [
       "array([[1994.287902]])"
      ]
     },
     "execution_count": 48,
     "metadata": {},
     "output_type": "execute_result"
    }
   ],
   "source": [
    "r = ajustar(X,y) \n",
    "r"
   ]
  },
  {
   "cell_type": "code",
   "execution_count": 49,
   "metadata": {},
   "outputs": [
    {
     "name": "stdout",
     "output_type": "stream",
     "text": [
      "2\n",
      "(2, 4)\n"
     ]
    }
   ],
   "source": [
    "import numpy as np\n",
    "series = [[23,45,12,679], [14,48,69,38]]\n",
    "new_series = np.array(series)\n",
    "print(new_series.ndim)\n",
    "print(new_series.shape)"
   ]
  },
  {
   "cell_type": "code",
   "execution_count": 52,
   "metadata": {},
   "outputs": [
    {
     "name": "stdout",
     "output_type": "stream",
     "text": [
      "[ True False False  True False False False]\n"
     ]
    }
   ],
   "source": [
    "import numpy as np\n",
    "dataset = np.array(['paul', 'jacob', 'vince', 'paul', 'miky', 'larence', 'warren'])\n",
    "print(dataset == 'paul')"
   ]
  },
  {
   "cell_type": "code",
   "execution_count": 111,
   "metadata": {},
   "outputs": [
    {
     "data": {
      "text/plain": [
       "array([-1,  1, -1,  3, -1,  5, -1,  7, -1,  9])"
      ]
     },
     "execution_count": 111,
     "metadata": {},
     "output_type": "execute_result"
    }
   ],
   "source": [
    "arr = np.array([0, 1, 2, 3, 4, 5, 6, 7, 8, 9])\n",
    "#arr[(arr % 2).astype(bool)] = -1 #Impares\n",
    "#arr[1::2] = -1 #Impares\n",
    "\n",
    "\n",
    "arr[arr % 2 == 0] = -1 #escolhida 1º vez        array([-1,  1, -1,  3, -1,  5, -1,  7, -1,  9])\n",
    "#arr[::2] = -1 #OK                              array([-1,  1, -1,  3, -1,  5, -1,  7, -1,  9])\n",
    "#arr[np.arange(0, arr.shape[0], 2)] = -1 # OK - array([-1,  1, -1,  3, -1,  5, -1,  7, -1,  9])\n",
    "arr"
   ]
  },
  {
   "cell_type": "code",
   "execution_count": 115,
   "metadata": {},
   "outputs": [
    {
     "name": "stdout",
     "output_type": "stream",
     "text": [
      "[1.    0.125 0.625 0.375]\n"
     ]
    }
   ],
   "source": [
    "arr = np.array([80, 10, 50, 30])\n",
    "\n",
    "def normaliza(arr):\n",
    "    #return arr /arr.min() #[8. 1. 5. 3.]\n",
    "    \n",
    "    #return arr /arr.max() # [1.    0.125 0.625 0.375]\n",
    "    #return (arr - arr.min()) / (arr.max() - arr.min()) #[1.         0.         0.57142857 0.28571429]\n",
    "    #return arr /arr.sum() #[0.47058824 0.05882353 0.29411765 0.17647059]\n",
    "\n",
    "    # o que deve ser retornado\n",
    "    # para que os valores de arr\n",
    "    # fiquem compreendido entre 0 e 1\n",
    "\n",
    "print(normaliza(arr)) # saída esperada: array([0.47, 0.06, 0.29, 0.18])\n",
    "\n",
    "#return arr /arr.max() # [1.    0.125 0.625 0.375]\n",
    "#return (arr - arr.min()) / (arr.max() - arr.min()) #[1.         0.         0.57142857 0.28571429]\n",
    "#return arr /arr.sum() #[0.47058824 0.05882353 0.29411765 0.17647059]"
   ]
  },
  {
   "cell_type": "code",
   "execution_count": 118,
   "metadata": {},
   "outputs": [
    {
     "name": "stdout",
     "output_type": "stream",
     "text": [
      "32.22222222222222\n",
      "32.22222222222222\n",
      "72.5\n",
      "72.5\n",
      "72.5\n"
     ]
    }
   ],
   "source": [
    "import numpy as np\n",
    "valores = np.array([80, 10, 50, 30])\n",
    "pesos = np.array([2, 5, 1, 1])\n",
    "\n",
    "print(np.average(valores, weights=pesos)) #Escolher este\n",
    "print(np.sum(valores*pesos) / np.sum(pesos)) #Escolher este\n",
    "\n",
    "print(np.mean(valores*pesos))\n",
    "print(np.average(valores*pesos))\n",
    "print(np.sum(valores*pesos)/valores.shape[0])"
   ]
  },
  {
   "cell_type": "code",
   "execution_count": 119,
   "metadata": {},
   "outputs": [
    {
     "name": "stdout",
     "output_type": "stream",
     "text": [
      "[4. 4. 4. 4. 4. 4. 4. 4. 4. 4.] [4. 4. 4. 4. 4. 4. 4. 4. 4. 4.]\n"
     ]
    }
   ],
   "source": [
    "a = np.zeros(10)+4\n",
    "b = np.ones(10)*4\n",
    "print(a,b)"
   ]
  },
  {
   "cell_type": "code",
   "execution_count": null,
   "metadata": {},
   "outputs": [],
   "source": []
  }
 ],
 "metadata": {
  "kernelspec": {
   "display_name": "Python 2",
   "language": "python",
   "name": "python2"
  },
  "language_info": {
   "codemirror_mode": {
    "name": "ipython",
    "version": 2
   },
   "file_extension": ".py",
   "mimetype": "text/x-python",
   "name": "python",
   "nbconvert_exporter": "python",
   "pygments_lexer": "ipython2",
   "version": "2.7.16"
  }
 },
 "nbformat": 4,
 "nbformat_minor": 2
}
