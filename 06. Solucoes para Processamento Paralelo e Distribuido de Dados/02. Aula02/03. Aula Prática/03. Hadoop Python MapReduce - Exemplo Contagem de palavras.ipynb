{
 "cells": [
  {
   "cell_type": "markdown",
   "metadata": {},
   "source": [
    "## Hadoop Python MapReduce - Exemplo Contagem de palavras"
   ]
  },
  {
   "cell_type": "code",
   "execution_count": null,
   "metadata": {},
   "outputs": [],
   "source": [
    "import mincemeat\n",
    "import glob\n",
    "import csv"
   ]
  },
  {
   "cell_type": "code",
   "execution_count": null,
   "metadata": {},
   "outputs": [],
   "source": [
    "#Carrega os arquivos\n",
    "text_files = glob.glob('\\\\textos\\\\*')\n",
    "\n",
    "def file_contents(file_name):\n",
    "    f = open(file_name)\n",
    "    try:\n",
    "        return f.read()\n",
    "    finally:\n",
    "        f.close()"
   ]
  },
  {
   "cell_type": "code",
   "execution_count": null,
   "metadata": {},
   "outputs": [],
   "source": [
    "#Carrega a estrutura nome_arquivo e estrutura\n",
    "source = dict((file_name, file_contents(file_name))for file_name in text_files)"
   ]
  },
  {
   "cell_type": "code",
   "execution_count": null,
   "metadata": {},
   "outputs": [],
   "source": [
    "#Recebe a estrutura chave valor\n",
    "def mapfn(k,v):\n",
    "    print 'map' + k\n",
    "    from stopwords import allStopWords\n",
    "    for line in v.splitlines():\n",
    "        for word in line.split():\n",
    "            if (word not in allStopWords):\n",
    "                yield word, 1"
   ]
  },
  {
   "cell_type": "code",
   "execution_count": null,
   "metadata": {},
   "outputs": [],
   "source": [
    "#Soma a qtd de vezes que a palavra ocorre\n",
    "def reducefn(k,v):\n",
    "    print 'reduce' + k\n",
    "    return sum(v)"
   ]
  },
  {
   "cell_type": "code",
   "execution_count": null,
   "metadata": {},
   "outputs": [],
   "source": [
    "#Inicia o nameNode\n",
    "s = mincemeat.Server()"
   ]
  },
  {
   "cell_type": "code",
   "execution_count": null,
   "metadata": {},
   "outputs": [],
   "source": [
    "#A fonte de dados pode ser qq objeto do tipo dict\n",
    "s.datasource = source\n",
    "s.mapfn = mapfn\n",
    "s.reducefn = reducefn\n",
    "\n",
    "#Executa o MapReduce\n",
    "results = s.run_server(password='changeme')"
   ]
  },
  {
   "cell_type": "code",
   "execution_count": null,
   "metadata": {},
   "outputs": [],
   "source": [
    "#Resultado em CSV\n",
    "w = csv.writer(open('\\\\exerc\\\\RESULT.csv', w))\n",
    "for k, v in results.items():\n",
    "    w.writerow([k,v])"
   ]
  }
 ],
 "metadata": {
  "kernelspec": {
   "display_name": "Python 3",
   "language": "python",
   "name": "python3"
  },
  "language_info": {
   "codemirror_mode": {
    "name": "ipython",
    "version": 3
   },
   "file_extension": ".py",
   "mimetype": "text/x-python",
   "name": "python",
   "nbconvert_exporter": "python",
   "pygments_lexer": "ipython3",
   "version": "3.6.4"
  }
 },
 "nbformat": 4,
 "nbformat_minor": 2
}
