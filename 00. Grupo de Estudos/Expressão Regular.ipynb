{
 "cells": [
  {
   "cell_type": "markdown",
   "metadata": {},
   "source": [
    "## Revisão - Expressão regular (Python)"
   ]
  },
  {
   "attachments": {},
   "cell_type": "markdown",
   "metadata": {},
   "source": [
    "![image.png](img/01.png)"
   ]
  },
  {
   "attachments": {},
   "cell_type": "markdown",
   "metadata": {},
   "source": [
    "### Introdução\n",
    "\n",
    "- Expressão Regular: Um método formal de se especificar um padrão de texto.\n",
    "\n",
    "\n",
    "- Expressão Regular: Como o brinquedo LEGO, várias pecinhas diferentes, cada uma com sua característica, que juntas compõem estruturas completas e podem ser arranjadas com infinitas combinações diferentes.\n",
    "\n",
    "\n",
    "- Expressão Regular: Uma composição de símbolos, caracteres com funções especiais, que, agrupados entre si e com caracteres literais, formam uma seqüência, uma expressão. Essa expressão é interpretada como uma regra, que indicará sucesso se uma entrada de dados qualquer casar com essa regra, ou seja, obedecer exatamente a todas as suas condições.\n",
    "\n",
    "###### Fonte: Aurelio\n",
    "\n",
    "#### Anatomia básica de uma expressão regular\n",
    "\n",
    "![image.png](img/02.png)"
   ]
  },
  {
   "cell_type": "markdown",
   "metadata": {},
   "source": [
    "### Tabela de caracteres/estruturas especiais\n",
    "\n",
    "##### Notas\n",
    "- Comumente letras em maiúsculo tem o significado contrário de seus respectivos caracteres minúsculos;\n",
    "- String é um texto qualquer;\n",
    "- Fronteira são caracteres não alfanuméricos;\n",
    "- Coincidência ou match é o ato de um conjunto de texto ser válido para uma determinada expressão regular.\n"
   ]
  },
  {
   "cell_type": "markdown",
   "metadata": {},
   "source": [
    "|Caractere |\tSignificado                                                                       |\n",
    "|----------|---------------------------------------------------------------------------------------\n",
    "|\\b\t| Fronteira de palavra (início ou fim de uma palavra). |\n",
    "|\\B\t| Não é uma fronteira de palavra (não início ou não fim de uma palavra). |\n",
    "|^\t| Início de uma palavra ou linha ou negação quando em uma expressão agrupada (entre []).|\n",
    "|$\t| Fim de uma linha.|\n",
    "|\\w\t| Caracteres alfanuméricos e underline ([A-Za-z0-9_]).|\n",
    "|\\W\t| Caracteres não alfanuméricos e underline ([^A-Za-z0-9_]).|\n",
    "|\\d\t| Coincide apenas dígitos ([0-9]).|\n",
    "|\\D\t| Coincide apenas não dígitos ([^0-9]).|\n",
    "|\\s\t| Coincide qualquer caracter de espaço em branco.|\n",
    "|\\S\t| Coincide qualquer caracter que não seja de espaço em branco.|\n",
    "|\\A\t| A coincidência ocorre no primeiro caractere.|\n",
    "|\\Z\t| A coincidência ocorre no final do último caractere de uma string ou linha (antes de \\n).|\n",
    "|\\z\t| A coincidência ocorre no final do último caractere de uma string, ignorando linhas.|\n",
    "|\\G\t| A coincidência ocorre a partir do ponto no qual a última coincidência terminou.|\n",
    "|\\t\t| TAB.|\n",
    "|\\n\t| Nova linha.|\n",
    "|[\\b] |\tBackspace.|\n",
    "|\\r\t| Retorno de carro.|\n",
    "|\\\t| Quando seguido de um caractere especial das expressões regulares, realiza coincidência daquele caractere.|\n",
    "|*\t| Coincidência dos caracteres precedidos ZERO ou mais vezes.|\n",
    "|+\t| Coincidência dos caracteres precedidos UMA ou mais vezes.|\n",
    "|{n}\t| Coincidência dos caracteres precedidos exatamente n vezes.|\n",
    "|{n,m} | Coincidência dos caracteres precedidos entre n (número mínimo de repetições) e m (número máximo de repetições) vezes. Pode-se deixar vazios tanto n ({,m}) quanto m ({n,}), o que causa coincidência apenas com o valor indicado.|\n",
    "|?\t| Caracteres precedentes são opcionais. Equivale a {0,1}.|\n",
    "|.\t| Coincide qualquer caracter.|\n",
    "|[ ]\t| Utilizado para agrupamento de expressões.|\n",
    "|[caracteres] |\tCoincidência de quaisquer caracteres presentes entre os colchetes.|\n",
    "|[c1-c2]\t| Coincidência de quaisquer caracteres alfanuméricos entre c1 e c2 (em order alfabética/numérica).|\n",
    "|x\"pip\"y\t| Coincide os caracteres x ou y.|\n",
    "|( )\t| Utilizado para agrupamento de caracteres. Cria um grupo não nomeado.|"
   ]
  },
  {
   "cell_type": "markdown",
   "metadata": {},
   "source": [
    "#### Ferramentas de apoio: \n",
    "- Regex101 (https://regex101.com/ )\n",
    "        ★ Atualiza enquanto digita, destaca texto casado, mostra o conteúdo dos grupos, faz substituição de textos, referência rápida, sintaxes JavaScript, Python e Perl.\n",
    "        \n",
    "- Regexper (http://regexper.com/)\n",
    "        ★ Cria diagramas que descrevem o funcionamento de uma expressão regular.\n",
    "\n",
    "- My Regex Tester (https://www.myregextester.com/index.php)\n",
    "        ★ Destaca texto casado, explica a expressão, otimiza a expressão, mostra código pronto da linguagem, sintaxe JavaScript, Java, VB.NET, C#.NET, PHP e ASP."
   ]
  },
  {
   "cell_type": "markdown",
   "metadata": {},
   "source": [
    "#### Lição de casa\n",
    "\n",
    "RegexOne (https://regexone.com/)\n",
    "\n",
    "  ★ Tutorial com exemplos interativos que a cada lição vai te ensinando um pouco sobre as expressões."
   ]
  },
  {
   "cell_type": "markdown",
   "metadata": {},
   "source": [
    "### Testadores online\n",
    "\n",
    "- RegexPal (http://regexpal.com/)\n",
    "        ★ Atualiza enquanto digita, destaca texto casado, referência rápida, sintaxe JavaScript.\n",
    "\n",
    "- Regex101 (https://regex101.com/)\n",
    "        ★ Atualiza enquanto digita, destaca texto casado, mostra o conteúdo dos grupos, faz substituição de textos, referência rápida, sintaxes JavaScript, Python e Perl.\n",
    "\n",
    "- Debuggex (https://www.debuggex.com/)\n",
    "        ★ Cria um gráfico de sua expressão regular. Bom para entender como sua expressão é interpretada pelo computador. Sintaxe JavaScript, Python e PCRE.\n",
    "\n",
    "- Rubular (http://www.rubular.com/)\n",
    "        ★ Atualiza enquanto digita, destaca texto casado, referência rápida, sintaxe Ruby.\n",
    "\n",
    "- RegExr (https://regexr.com/)\n",
    "        ★ Atualiza enquanto digita, destaca texto casado, referência rápida, precisa do Flash Player 9, sintaxe ActionScript.\n",
    "\n",
    "- regex (http://regex.larsolavtorvik.com/)\n",
    "        ★ Atualiza enquanto digita, destaca texto casado, referência rápida, mostra código pronto da linguagem, sintaxe JavaScript, Perl, Python e PHP.\n",
    "\n",
    "- HiFi RegExp Tool (http://www.gethifi.com/tools/regex)\n",
    "        ★ Atualiza enquanto digita, destaca texto casado, referência rápida, exemplo de código em JavaScript, sintaxe JavaScript.\n",
    "\n",
    "- JRX (http://cuneytyilmaz.com/prog/jrx/)\n",
    "        ★ Atualiza enquanto digita, destaca texto casado, referência rápida, sintaxe JavaScript.\n",
    "\n",
    "- Regexper (http://regexper.com/)\n",
    "        ★ Cria diagramas que descrevem o funcionamento de uma expressão regular.\n",
    "\n",
    "- Regular Expression Generator (http://www.txt2re.com/)\n",
    "        ★ Gerador de Expressões Regulares. Você digita o texto que quer casar e ele gera um programa pronto para extrair este texto, em várias linguagens, entre elas Python, Perl, PHP, Ruby, Java e javaScript.\n",
    "\n",
    "- RegexOne (https://regexone.com/)\n",
    "        ★ Tutorial com exemplos interativos que a cada lição vai te ensinando um pouco sobre as expressões."
   ]
  },
  {
   "cell_type": "markdown",
   "metadata": {},
   "source": [
    "Referências/recursos:\n",
    "\n",
    "- http://www.rexegg.com/regex-quickstart.html#chars\n",
    "- http://aurelio.net/regex/"
   ]
  },
  {
   "attachments": {},
   "cell_type": "markdown",
   "metadata": {},
   "source": [
    "#### Livros\n",
    "\n",
    "![image.png](img/03.png)"
   ]
  }
 ],
 "metadata": {
  "kernelspec": {
   "display_name": "Python 3",
   "language": "python",
   "name": "python3"
  },
  "language_info": {
   "codemirror_mode": {
    "name": "ipython",
    "version": 3
   },
   "file_extension": ".py",
   "mimetype": "text/x-python",
   "name": "python",
   "nbconvert_exporter": "python",
   "pygments_lexer": "ipython3",
   "version": "3.6.4"
  }
 },
 "nbformat": 4,
 "nbformat_minor": 2
}
